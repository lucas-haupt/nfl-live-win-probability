{
 "cells": [
  {
   "cell_type": "markdown",
   "metadata": {},
   "source": [
    "# Model 1.0\n",
    "This notebook will act as an interactive tutorial for our Live Win Probability Model. This \"model\" is actual comprised of 3 separate models that \"stack\" on each other.\n",
    "1. Play and drive outcome models\n",
    "    * technically this is two separate models:\n",
    "        * Play outcome (first down, field goal made, field goal missed, touchdown, turnover, and none/other)\n",
    "            * only using the first down prediction from the output of this model\n",
    "        * Drive outcome (Clock, field goal made, field goal missed, punt, safety, touch down, turnover, turnover on downs)\n",
    "    * outputs for both models will be a series of probabilities for each class that all add up to 1\n",
    "2. End of regulation score differential model\n",
    "    * Dealing with overtime later, we want to predict how the score differential will change by the end of regulation.\n",
    "        * i.e., if the current score differential (home score - away score) is -3 and the end of regulation score differential is -10, the target value will be -7\n",
    "    * Output of this will be a series of probabilities from for all score differential possibilities from -35 to 35 (outputs <-35 or >35 will be set to -35/35 respectively)\n",
    "3. End of regulation score total model\n",
    "    * Similar concept to the score differential model\n",
    "    * Again, we're using the change in end of regulation score total as the target value\n",
    "    * Outputs will be a series of probabilites for classes from 0 to 83 (outputs will be capped at 83)"
   ]
  },
  {
   "cell_type": "markdown",
   "metadata": {},
   "source": [
    "## Data\n",
    "Let's take a look at the data that we are pulling from oracle"
   ]
  },
  {
   "cell_type": "code",
   "execution_count": null,
   "metadata": {},
   "outputs": [],
   "source": [
    "from utils import normalize_df, create_train_test_val_df"
   ]
  }
 ],
 "metadata": {
  "interpreter": {
   "hash": "f6c5c0c69c1e48657661a596cadc74240e1a54a645d9f5ac259274dfdfc1bdd8"
  },
  "kernelspec": {
   "display_name": "Python 3.9.5 ('venv': venv)",
   "language": "python",
   "name": "python3"
  },
  "language_info": {
   "name": "python",
   "version": "3.9.5"
  },
  "orig_nbformat": 4
 },
 "nbformat": 4,
 "nbformat_minor": 2
}
