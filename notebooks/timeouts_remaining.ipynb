{
 "cells": [
  {
   "cell_type": "code",
   "execution_count": 2,
   "metadata": {},
   "outputs": [],
   "source": [
    "import os\n",
    "notebook_dir = os.getcwd()\n",
    "root_dir = os.path.abspath(os.path.join(notebook_dir, '..'))\n",
    "data_dir = os.path.join(root_dir, 'data')\n",
    "\n",
    "import pandas as pd\n",
    "import numpy as np\n"
   ]
  },
  {
   "cell_type": "code",
   "execution_count": 3,
   "metadata": {},
   "outputs": [],
   "source": [
    "events_df = pd.read_parquet(os.path.join(data_dir, 'event_data.parquet'))\n",
    "events_df[\"half\"] = round((events_df[\"quarter\"] + 0.01) / 2)\n",
    "events_df[\"home_timeout\"] = np.where(((events_df[\"event_id\"]==57)&(events_df[\"home_team_has_ball\"]==1))|((events_df[\"event_id\"]==58)&(events_df[\"home_team_has_ball\"]==0)), 1, 0)\n",
    "events_df[\"away_timeout\"] = np.where(((events_df[\"event_id\"]==57)&(events_df[\"home_team_has_ball\"]==0))|((events_df[\"event_id\"]==58)&(events_df[\"home_team_has_ball\"]==1)), 1, 0)\n",
    "events_df = events_df.sort_values([\"game_code\", \"nevent\"])\n",
    "events_df[\"home_timeouts_remaining\"] = np.clip(3 - events_df.groupby([\"game_code\", \"half\"])[\"home_timeout\"].cumsum(), 0, 3)\n",
    "events_df[\"away_timeouts_remaining\"] = np.clip(3 - events_df.groupby([\"game_code\", \"half\"])[\"away_timeout\"].cumsum(), 0, 3)"
   ]
  },
  {
   "cell_type": "code",
   "execution_count": 21,
   "metadata": {},
   "outputs": [
    {
     "data": {
      "text/plain": [
       "'go_for_itxaway_winpuntxaway_winfield_goal_attempt'"
      ]
     },
     "execution_count": 21,
     "metadata": {},
     "output_type": "execute_result"
    }
   ],
   "source": [
    "play_example = events_df.loc[0]\n",
    "yes = 1\n",
    "np.where(play_example[\"home_team_has_ball\"], \"xhome_win_\", \"xaway_win\").tolist().join([\"go_for_it\", \"punt\", \"field_goal_attempt\"])"
   ]
  },
  {
   "cell_type": "code",
   "execution_count": 43,
   "metadata": {},
   "outputs": [
    {
     "name": "stdout",
     "output_type": "stream",
     "text": [
      "['home_score_0', 'home_score_1', 'home_score_2', 'home_score_3', 'home_score_4', 'home_score_5', 'home_score_6', 'home_score_7', 'home_score_8', 'home_score_9', 'home_score_10', 'home_score_11', 'home_score_12', 'home_score_13', 'home_score_14', 'home_score_15', 'home_score_16', 'home_score_17', 'home_score_18', 'home_score_19', 'home_score_20', 'home_score_21', 'home_score_22', 'home_score_23', 'home_score_24', 'home_score_25', 'home_score_26', 'home_score_27', 'home_score_28', 'home_score_29', 'home_score_30', 'home_score_31', 'home_score_32', 'home_score_33', 'home_score_34', 'home_score_35', 'home_score_36', 'home_score_37', 'home_score_38', 'home_score_39', 'home_score_40', 'home_score_41', 'home_score_42', 'home_score_43', 'home_score_44', 'home_score_45', 'home_score_46', 'home_score_47', 'home_score_48', 'home_score_49', 'home_score_50', 'home_score_51', 'home_score_52', 'home_score_53', 'home_score_54', 'home_score_55', 'home_score_56', 'home_score_57', 'home_score_58', 'home_score_59', 'home_score_60', 'home_score_61', 'home_score_62']\n",
      "['away_score_0', 'away_score_1', 'away_score_2', 'away_score_3', 'away_score_4', 'away_score_5', 'away_score_6', 'away_score_7', 'away_score_8', 'away_score_9', 'away_score_10', 'away_score_11', 'away_score_12', 'away_score_13', 'away_score_14', 'away_score_15', 'away_score_16', 'away_score_17', 'away_score_18', 'away_score_19', 'away_score_20', 'away_score_21', 'away_score_22', 'away_score_23', 'away_score_24', 'away_score_25', 'away_score_26', 'away_score_27', 'away_score_28', 'away_score_29', 'away_score_30', 'away_score_31', 'away_score_32', 'away_score_33', 'away_score_34', 'away_score_35', 'away_score_36', 'away_score_37', 'away_score_38', 'away_score_39', 'away_score_40', 'away_score_41', 'away_score_42', 'away_score_43', 'away_score_44', 'away_score_45', 'away_score_46', 'away_score_47', 'away_score_48', 'away_score_49', 'away_score_50', 'away_score_51', 'away_score_52', 'away_score_53', 'away_score_54', 'away_score_55', 'away_score_56', 'away_score_57', 'away_score_58', 'away_score_59']\n"
     ]
    }
   ],
   "source": []
  },
  {
   "cell_type": "code",
   "execution_count": 5,
   "metadata": {},
   "outputs": [],
   "source": [
    "events_df[[\"event_id\", \"event_name\"]].drop_duplicates().sort_values(\"event_id\").to_csv(os.path.join(data_dir, \"event_ids.csv\"), index=False)\n"
   ]
  },
  {
   "cell_type": "code",
   "execution_count": 3,
   "metadata": {},
   "outputs": [
    {
     "data": {
      "text/plain": [
       "array([ 0,  7, 14, 21, 28, 35, 42])"
      ]
     },
     "execution_count": 3,
     "metadata": {},
     "output_type": "execute_result"
    }
   ],
   "source": [
    "import numpy as np\n",
    "np.arange(0, 49, 7)"
   ]
  }
 ],
 "metadata": {
  "interpreter": {
   "hash": "f6c5c0c69c1e48657661a596cadc74240e1a54a645d9f5ac259274dfdfc1bdd8"
  },
  "kernelspec": {
   "display_name": "Python 3.9.5 ('venv': venv)",
   "language": "python",
   "name": "python3"
  },
  "language_info": {
   "codemirror_mode": {
    "name": "ipython",
    "version": 3
   },
   "file_extension": ".py",
   "mimetype": "text/x-python",
   "name": "python",
   "nbconvert_exporter": "python",
   "pygments_lexer": "ipython3",
   "version": "3.9.5"
  },
  "orig_nbformat": 4
 },
 "nbformat": 4,
 "nbformat_minor": 2
}
