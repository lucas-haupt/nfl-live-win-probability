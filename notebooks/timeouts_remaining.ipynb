{
 "cells": [
  {
   "cell_type": "code",
   "execution_count": 1,
   "metadata": {},
   "outputs": [],
   "source": [
    "import os\n",
    "notebook_dir = os.getcwd()\n",
    "root_dir = os.path.abspath(os.path.join(notebook_dir, '..'))\n",
    "data_dir = os.path.join(root_dir, 'data')\n",
    "\n",
    "import pandas as pd\n",
    "import numpy as np\n"
   ]
  },
  {
   "cell_type": "code",
   "execution_count": 29,
   "metadata": {},
   "outputs": [],
   "source": [
    "events_df = pd.read_parquet(os.path.join(data_dir, 'event_data.parquet'))\n",
    "events_df[\"half\"] = round((events_df[\"quarter\"] + 0.01) / 2)\n",
    "events_df[\"home_timeout\"] = np.where(((events_df[\"event_id\"]==57)&(events_df[\"home_team_has_ball\"]==1))|((events_df[\"event_id\"]==58)&(events_df[\"home_team_has_ball\"]==0)), 1, 0)\n",
    "events_df[\"away_timeout\"] = np.where(((events_df[\"event_id\"]==57)&(events_df[\"home_team_has_ball\"]==0))|((events_df[\"event_id\"]==58)&(events_df[\"home_team_has_ball\"]==1)), 1, 0)\n",
    "events_df = events_df.sort_values([\"game_code\", \"nevent\"])\n",
    "events_df[\"home_timeouts_remaining\"] = np.clip(3 - events_df.groupby([\"game_code\", \"half\"])[\"home_timeout\"].cumsum(), 0, 3)\n",
    "events_df[\"away_timeouts_remaining\"] = np.clip(3 - events_df.groupby([\"game_code\", \"half\"])[\"away_timeout\"].cumsum(), 0, 3)"
   ]
  },
  {
   "cell_type": "code",
   "execution_count": 13,
   "metadata": {},
   "outputs": [],
   "source": []
  },
  {
   "cell_type": "code",
   "execution_count": 19,
   "metadata": {},
   "outputs": [],
   "source": []
  },
  {
   "cell_type": "code",
   "execution_count": 23,
   "metadata": {},
   "outputs": [],
   "source": [
    "events_df[[\"event_id\", \"event_name\"]].drop_duplicates().sort_values(\"event_id\").to_csv(os.path.join(data_dir, \"event_ids.csv\"), index=False)\n"
   ]
  },
  {
   "cell_type": "code",
   "execution_count": 28,
   "metadata": {},
   "outputs": [],
   "source": []
  }
 ],
 "metadata": {
  "interpreter": {
   "hash": "f6c5c0c69c1e48657661a596cadc74240e1a54a645d9f5ac259274dfdfc1bdd8"
  },
  "kernelspec": {
   "display_name": "Python 3.9.5 ('venv': venv)",
   "language": "python",
   "name": "python3"
  },
  "language_info": {
   "codemirror_mode": {
    "name": "ipython",
    "version": 3
   },
   "file_extension": ".py",
   "mimetype": "text/x-python",
   "name": "python",
   "nbconvert_exporter": "python",
   "pygments_lexer": "ipython3",
   "version": "3.9.5"
  },
  "orig_nbformat": 4
 },
 "nbformat": 4,
 "nbformat_minor": 2
}
