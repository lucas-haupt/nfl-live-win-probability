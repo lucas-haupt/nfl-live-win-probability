{
 "cells": [
  {
   "cell_type": "markdown",
   "metadata": {},
   "source": [
    "## NFL live win-probability and season simulations tutorial"
   ]
  },
  {
   "cell_type": "markdown",
   "metadata": {},
   "source": [
    "The goal of these notebooks is to provide an interactive, standalone demonstration of how our NFL live predictions pipeline works, specifically around our match score and season simulation predictions.\n",
    "\n",
    "The tutorial is split into 3 sections contained in as many notebooks:\n",
    "#### [1. Description of data sets](./1_description_of_data_sets.ipynb)\n",
    "Description of the different data sets provided within the tutorial and that will be used in the following sections.\n",
    "#### [2. Match score predictions](./2_game_score_stored_model.ipynb)\n",
    "Building a model to predict the exact score of a game, both pre- and in-game.\n",
    "#### [3. Season simulations](./3_simulation.ipynb)\n",
    "Building a simulation to predict the probability distribution of team standings"
   ]
  }
 ],
 "metadata": {
  "interpreter": {
   "hash": "82b813180ef1ee6879da62fdeb54d7866ca4682aba366829f6442690b2a6780d"
  },
  "kernelspec": {
   "display_name": "Python 3.9.5 64-bit ('venv': venv)",
   "language": "python",
   "name": "python3"
  },
  "language_info": {
   "name": "python",
   "version": "3.9.5"
  },
  "orig_nbformat": 4
 },
 "nbformat": 4,
 "nbformat_minor": 2
}
