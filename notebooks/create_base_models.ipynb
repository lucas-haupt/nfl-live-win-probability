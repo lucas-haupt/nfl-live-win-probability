{
 "cells": [
  {
   "cell_type": "code",
   "execution_count": 1,
   "metadata": {},
   "outputs": [],
   "source": [
    "import os\n",
    "notebook_dir = os.getcwd()\n",
    "root_dir = os.path.abspath(os.path.join(notebook_dir, '..'))\n",
    "data_dir = os.path.join(root_dir, 'data')\n",
    "\n",
    "import json\n",
    "import datetime\n",
    "import numpy as np\n",
    "import pandas as pd\n",
    "import matplotlib.pyplot as plt\n",
    "from copy import deepcopy\n",
    "import ipywidgets as widgets\n",
    "from sklearn.linear_model import LogisticRegression\n",
    "from sklearn.neural_network import MLPClassifier\n",
    "from sklearn.ensemble import RandomForestClassifier, RandomForestRegressor\n",
    "from sklearn.metrics import brier_score_loss, make_scorer, log_loss, mean_squared_error\n",
    "from catboost import CatBoostClassifier, Pool, CatBoostRegressor\n",
    "from sklearn.metrics import log_loss\n",
    "from IPython.display import display, HTML\n",
    "import pickle\n",
    "from sklearn.model_selection import GroupKFold, RandomizedSearchCV, cross_val_predict\n",
    "import scipy\n",
    "def uniform_distribution(lo, hi):\n",
    "    return scipy.stats.uniform(lo, hi - lo)\n",
    "def ProbaScoreProxy(y_true, y_probs, proxied_func, **kwargs):\n",
    "    return proxied_func(y_true, y_probs, **kwargs)\n",
    "from sklearn import calibration\n",
    "\n"
   ]
  },
  {
   "cell_type": "code",
   "execution_count": 2,
   "metadata": {},
   "outputs": [],
   "source": [
    "event_df = pd.read_parquet(os.path.join(data_dir, \"event_data.parquet\"))\n",
    "event_df[\"time_left_in_game\"] = np.where(event_df[\"quarter\"] <= 4, event_df[\"play_start_time\"] + (4 - event_df[\"quarter\"]) * 900, event_df[\"play_start_time\"])\n",
    "event_df[\"time_elapsed\"] = 900 - event_df[\"play_start_time\"] + (event_df[\"quarter\"] - 1) * 900\n",
    "event_df[\"score_time_multiplied\"] = event_df[\"time_elapsed\"] * event_df[\"current_score_diff\"]\n"
   ]
  },
  {
   "cell_type": "code",
   "execution_count": 3,
   "metadata": {},
   "outputs": [],
   "source": [
    "def create_train_test_val_df(\n",
    "    df,\n",
    "    input_names,\n",
    "    output_name,\n",
    "    mask_train=(event_df.season <= 2019) & (event_df.continuation == 0),\n",
    "    mask_test=(event_df.season == 2021) & (event_df.continuation == 0),\n",
    "    mask_val=(event_df.season == 2020) & (event_df.continuation == 0),\n",
    "):\n",
    "    X_train = event_df.loc[mask_train, input_names]\n",
    "    y_train = event_df.loc[mask_train, output_name_base]\n",
    "    X_test = event_df.loc[mask_test, input_names]\n",
    "    y_test = event_df.loc[mask_test, output_name_base]\n",
    "    X_val = event_df.loc[mask_val, input_names]\n",
    "    y_val = event_df.loc[mask_val, output_name_base]\n",
    "    return X_train, y_train, X_test, y_test, X_val, y_val\n"
   ]
  },
  {
   "cell_type": "code",
   "execution_count": 4,
   "metadata": {},
   "outputs": [
    {
     "name": "stdout",
     "output_type": "stream",
     "text": [
      "Iteration 1, loss = 0.68724696\n",
      "Validation score: 0.713750\n"
     ]
    },
    {
     "name": "stderr",
     "output_type": "stream",
     "text": [
      "c:\\Users\\lucas\\OneDrive\\Documents\\GitHub\\nfl-live-win-probability\\venv\\lib\\site-packages\\sklearn\\base.py:450: UserWarning: X does not have valid feature names, but MLPClassifier was fitted with feature names\n",
      "  warnings.warn(\n"
     ]
    },
    {
     "name": "stdout",
     "output_type": "stream",
     "text": [
      "Iteration 2, loss = 0.64164480\n",
      "Validation score: 0.717045\n"
     ]
    },
    {
     "name": "stderr",
     "output_type": "stream",
     "text": [
      "c:\\Users\\lucas\\OneDrive\\Documents\\GitHub\\nfl-live-win-probability\\venv\\lib\\site-packages\\sklearn\\base.py:450: UserWarning: X does not have valid feature names, but MLPClassifier was fitted with feature names\n",
      "  warnings.warn(\n"
     ]
    },
    {
     "name": "stdout",
     "output_type": "stream",
     "text": [
      "Iteration 3, loss = 0.64017759\n",
      "Validation score: 0.743998\n"
     ]
    },
    {
     "name": "stderr",
     "output_type": "stream",
     "text": [
      "c:\\Users\\lucas\\OneDrive\\Documents\\GitHub\\nfl-live-win-probability\\venv\\lib\\site-packages\\sklearn\\base.py:450: UserWarning: X does not have valid feature names, but MLPClassifier was fitted with feature names\n",
      "  warnings.warn(\n"
     ]
    },
    {
     "name": "stdout",
     "output_type": "stream",
     "text": [
      "Iteration 4, loss = 0.63840083\n",
      "Validation score: 0.740337\n"
     ]
    },
    {
     "name": "stderr",
     "output_type": "stream",
     "text": [
      "c:\\Users\\lucas\\OneDrive\\Documents\\GitHub\\nfl-live-win-probability\\venv\\lib\\site-packages\\sklearn\\base.py:450: UserWarning: X does not have valid feature names, but MLPClassifier was fitted with feature names\n",
      "  warnings.warn(\n"
     ]
    },
    {
     "name": "stdout",
     "output_type": "stream",
     "text": [
      "Iteration 5, loss = 0.63107524\n",
      "Validation score: 0.745846\n"
     ]
    },
    {
     "name": "stderr",
     "output_type": "stream",
     "text": [
      "c:\\Users\\lucas\\OneDrive\\Documents\\GitHub\\nfl-live-win-probability\\venv\\lib\\site-packages\\sklearn\\base.py:450: UserWarning: X does not have valid feature names, but MLPClassifier was fitted with feature names\n",
      "  warnings.warn(\n"
     ]
    },
    {
     "name": "stdout",
     "output_type": "stream",
     "text": [
      "Iteration 6, loss = 0.61442403\n",
      "Validation score: 0.712042\n"
     ]
    },
    {
     "name": "stderr",
     "output_type": "stream",
     "text": [
      "c:\\Users\\lucas\\OneDrive\\Documents\\GitHub\\nfl-live-win-probability\\venv\\lib\\site-packages\\sklearn\\base.py:450: UserWarning: X does not have valid feature names, but MLPClassifier was fitted with feature names\n",
      "  warnings.warn(\n"
     ]
    },
    {
     "name": "stdout",
     "output_type": "stream",
     "text": [
      "Iteration 7, loss = 0.60967705\n",
      "Validation score: 0.641748\n"
     ]
    },
    {
     "name": "stderr",
     "output_type": "stream",
     "text": [
      "c:\\Users\\lucas\\OneDrive\\Documents\\GitHub\\nfl-live-win-probability\\venv\\lib\\site-packages\\sklearn\\base.py:450: UserWarning: X does not have valid feature names, but MLPClassifier was fitted with feature names\n",
      "  warnings.warn(\n"
     ]
    },
    {
     "name": "stdout",
     "output_type": "stream",
     "text": [
      "Iteration 8, loss = 0.60560441\n",
      "Validation score: 0.665876\n"
     ]
    },
    {
     "name": "stderr",
     "output_type": "stream",
     "text": [
      "c:\\Users\\lucas\\OneDrive\\Documents\\GitHub\\nfl-live-win-probability\\venv\\lib\\site-packages\\sklearn\\base.py:450: UserWarning: X does not have valid feature names, but MLPClassifier was fitted with feature names\n",
      "  warnings.warn(\n"
     ]
    },
    {
     "name": "stdout",
     "output_type": "stream",
     "text": [
      "Iteration 9, loss = 0.60371222\n",
      "Validation score: 0.696212\n"
     ]
    },
    {
     "name": "stderr",
     "output_type": "stream",
     "text": [
      "c:\\Users\\lucas\\OneDrive\\Documents\\GitHub\\nfl-live-win-probability\\venv\\lib\\site-packages\\sklearn\\base.py:450: UserWarning: X does not have valid feature names, but MLPClassifier was fitted with feature names\n",
      "  warnings.warn(\n"
     ]
    },
    {
     "name": "stdout",
     "output_type": "stream",
     "text": [
      "Iteration 10, loss = 0.60908355\n",
      "Validation score: 0.738419\n"
     ]
    },
    {
     "name": "stderr",
     "output_type": "stream",
     "text": [
      "c:\\Users\\lucas\\OneDrive\\Documents\\GitHub\\nfl-live-win-probability\\venv\\lib\\site-packages\\sklearn\\base.py:450: UserWarning: X does not have valid feature names, but MLPClassifier was fitted with feature names\n",
      "  warnings.warn(\n"
     ]
    },
    {
     "name": "stdout",
     "output_type": "stream",
     "text": [
      "Iteration 11, loss = 0.60165013\n",
      "Validation score: 0.728709\n",
      "Validation score did not improve more than tol=0.000100 for 5 consecutive epochs. Stopping.\n"
     ]
    },
    {
     "name": "stderr",
     "output_type": "stream",
     "text": [
      "c:\\Users\\lucas\\OneDrive\\Documents\\GitHub\\nfl-live-win-probability\\venv\\lib\\site-packages\\sklearn\\base.py:450: UserWarning: X does not have valid feature names, but MLPClassifier was fitted with feature names\n",
      "  warnings.warn(\n"
     ]
    },
    {
     "data": {
      "text/plain": [
       "MLPClassifier(early_stopping=True, hidden_layer_sizes=[100], n_iter_no_change=5,\n",
       "              verbose=True)"
      ]
     },
     "execution_count": 4,
     "metadata": {},
     "output_type": "execute_result"
    }
   ],
   "source": [
    "mask_train = (event_df.season<=2019)&(event_df.continuation==0)\n",
    "mask_test = (event_df.season==2021)&(event_df.continuation==0)\n",
    "mask_val = (event_df.season==2020)&(event_df.continuation==0)\n",
    "input_names_base = [\"time_left_in_game\", \"current_score_diff\"]\n",
    "output_name_base = \"home_team_win\"\n",
    "\n",
    "X_train, y_train, X_test, y_test, X_val, y_val = create_train_test_val_df(event_df, input_names_base, output_name_base)\n",
    "naive_prediction = np.mean(event_df.drop_duplicates(\"game_code\").loc[mask_train, output_name_base])\n",
    "base_model = LogisticRegression(solver='liblinear', random_state=0)\n",
    "base_model.fit(X_train, y_train)\n",
    "mlp = MLPClassifier(hidden_layer_sizes=[100], verbose=True, early_stopping=True, n_iter_no_change=5)\n",
    "mlp.fit(X_train, y_train)"
   ]
  },
  {
   "cell_type": "code",
   "execution_count": 18,
   "metadata": {},
   "outputs": [],
   "source": []
  },
  {
   "cell_type": "code",
   "execution_count": 12,
   "metadata": {},
   "outputs": [
    {
     "data": {
      "text/plain": [
       "array([[3.89892265e-05, 1.69898566e-01]])"
      ]
     },
     "execution_count": 12,
     "metadata": {},
     "output_type": "execute_result"
    }
   ],
   "source": [
    "base_model.coef_"
   ]
  },
  {
   "cell_type": "code",
   "execution_count": 26,
   "metadata": {},
   "outputs": [
    {
     "name": "stdout",
     "output_type": "stream",
     "text": [
      "0.2547880065690143\n"
     ]
    },
    {
     "data": {
      "text/plain": [
       "0.16987149660637668"
      ]
     },
     "execution_count": 26,
     "metadata": {},
     "output_type": "execute_result"
    }
   ],
   "source": [
    "eval_mlp_df = pd.concat([X_val, y_val, pd.DataFrame(mlp.predict_proba(X_val), index=X_val.index, columns=[\"xhome_team_no_win\", \"xhome_team_win\"])], axis=1)\n",
    "eval_mlp_df[\"naive_prediction\"] = naive_prediction\n",
    "eval_mlp_df[\"minute_bucket\"] = round((3600 - eval_mlp_df[\"time_left_in_game\"])/60)\n",
    "eval_mlp_df[\"naive_error\"] = (eval_mlp_df[\"naive_prediction\"] - eval_mlp_df[output_name_base]) ** 2\n",
    "eval_mlp_df[\"mlp_error\"] = (eval_mlp_df[\"x\"+output_name_base] - eval_mlp_df[output_name_base]) ** 2\n",
    "\n",
    "print(np.mean(eval_mlp_df[\"naive_error\"]))\n",
    "np.mean(eval_mlp_df[\"mlp_error\"])\n"
   ]
  },
  {
   "cell_type": "code",
   "execution_count": 28,
   "metadata": {},
   "outputs": [
    {
     "name": "stdout",
     "output_type": "stream",
     "text": [
      "0.253684254352153\n"
     ]
    },
    {
     "data": {
      "text/plain": [
       "0.2561134660575575"
      ]
     },
     "execution_count": 28,
     "metadata": {},
     "output_type": "execute_result"
    }
   ],
   "source": [
    "print(np.mean(eval_mlp_df[eval_mlp_df[\"time_left_in_game\"]==3600][\"naive_error\"]))\n",
    "np.mean(eval_mlp_df[eval_mlp_df[\"time_left_in_game\"]==3600][\"mlp_error\"])\n"
   ]
  },
  {
   "cell_type": "code",
   "execution_count": 30,
   "metadata": {},
   "outputs": [
    {
     "name": "stdout",
     "output_type": "stream",
     "text": [
      "0.2510386896195765\n"
     ]
    },
    {
     "data": {
      "text/plain": [
       "0.17016621548677044"
      ]
     },
     "execution_count": 30,
     "metadata": {},
     "output_type": "execute_result"
    }
   ],
   "source": [
    "eval_base_df = pd.concat([X_val, y_val, pd.DataFrame(base_model.predict_proba(X_val), index=X_val.index, columns=[\"xhome_team_no_win\", \"xhome_team_win\"])], axis=1)\n",
    "eval_base_df[\"naive_prediction\"] = naive_prediction\n",
    "eval_base_df[\"minute_bucket\"] = round((3600 - eval_base_df[\"time_left_in_game\"])/60)\n",
    "eval_base_df[\"naive_error\"] = (eval_base_df[\"naive_prediction\"] - eval_base_df[output_name_base]) ** 2\n",
    "eval_base_df[\"base_error\"] = (eval_base_df[\"x\"+output_name_base] - eval_base_df[output_name_base]) ** 2\n",
    "\n",
    "print(np.mean(eval_base_df[eval_base_df[\"time_left_in_game\"]==3600][\"base_error\"]))\n",
    "np.mean(eval_base_df[\"base_error\"])\n"
   ]
  },
  {
   "cell_type": "code",
   "execution_count": 7,
   "metadata": {},
   "outputs": [
    {
     "data": {
      "text/plain": [
       "0.1648023277125642"
      ]
     },
     "execution_count": 7,
     "metadata": {},
     "output_type": "execute_result"
    }
   ],
   "source": [
    "input_names_second = [\"score_time_multiplied\"]\n",
    "\n",
    "\n",
    "X_train, y_train, X_val, y_val, X_val, y_val = create_train_test_val_df(event_df, input_names_second, output_name_base)\n",
    "\n",
    "\n",
    "second_model = LogisticRegression(solver='liblinear', random_state=0)\n",
    "second_model.fit(X_train, y_train)\n",
    "\n",
    "eval_second_df = pd.concat([X_val, event_df.loc[mask_val, \"time_left_in_game\"], y_val, pd.DataFrame(second_model.predict_proba(X_val), index=X_val.index, columns=[\"xhome_team_no_win\", \"xhome_team_win\"])], axis=1)\n",
    "eval_second_df[\"naive_prediction\"] = naive_prediction\n",
    "eval_second_df[\"minute_bucket\"] = round((3600 - eval_second_df[\"time_left_in_game\"])/60)\n",
    "eval_second_df[\"naive_error\"] = (eval_second_df[\"naive_prediction\"] - eval_second_df[output_name_base]) ** 2\n",
    "eval_second_df[\"second_error\"] = (eval_second_df[\"x\"+output_name_base] - eval_second_df[output_name_base]) ** 2\n",
    "\n",
    "np.mean(eval_second_df[\"second_error\"])"
   ]
  },
  {
   "cell_type": "code",
   "execution_count": 37,
   "metadata": {},
   "outputs": [
    {
     "name": "stderr",
     "output_type": "stream",
     "text": [
      "No artists with labels found to put in legend.  Note that artists whose label start with an underscore are ignored when legend() is called with no argument.\n"
     ]
    },
    {
     "data": {
      "text/plain": [
       "[<matplotlib.lines.Line2D at 0x1b8a1c83b50>]"
      ]
     },
     "execution_count": 37,
     "metadata": {},
     "output_type": "execute_result"
    },
    {
     "data": {
      "image/png": "[encoded data removed]",
      "text/plain": [
       "<Figure size 432x288 with 1 Axes>"
      ]
     },
     "metadata": {
      "needs_background": "light"
     },
     "output_type": "display_data"
    }
   ],
   "source": [
    "calb_df = eval_base_df\n",
    "calb = calibration.calibration_curve(calb_df[output_name_base], calb_df[\"x\"+output_name_base], n_bins=10)\n",
    "plt.plot(calb[1], calb[0], marker = \"o\")\n",
    "\n",
    "\n",
    "plt.xlabel(\"predicted\")\n",
    "plt.ylabel(\"actual\")\n",
    "plt.title(\"LogReg Model Calibration\")\n",
    "plt.legend()\n",
    "plt.plot([0, 1], [0, 1])"
   ]
  },
  {
   "cell_type": "code",
   "execution_count": 33,
   "metadata": {},
   "outputs": [
    {
     "name": "stderr",
     "output_type": "stream",
     "text": [
      "No artists with labels found to put in legend.  Note that artists whose label start with an underscore are ignored when legend() is called with no argument.\n"
     ]
    },
    {
     "data": {
      "text/plain": [
       "[<matplotlib.lines.Line2D at 0x1b8a1950fd0>]"
      ]
     },
     "execution_count": 33,
     "metadata": {},
     "output_type": "execute_result"
    },
    {
     "data": {
      "image/png": "[encoded data removed]",
      "text/plain": [
       "<Figure size 432x288 with 1 Axes>"
      ]
     },
     "metadata": {
      "needs_background": "light"
     },
     "output_type": "display_data"
    }
   ],
   "source": [
    "calb_df = eval_mlp_df\n",
    "calb = calibration.calibration_curve(calb_df[output_name_base], calb_df[\"x\"+output_name_base], n_bins=10)\n",
    "plt.plot(calb[1], calb[0], marker = \"o\")\n",
    "\n",
    "plt.xlabel(\"predicted\")\n",
    "plt.ylabel(\"actual\")\n",
    "plt.title(\"MLP Model Calibration\")\n",
    "plt.legend()\n",
    "plt.plot([0, 1], [0, 1])"
   ]
  },
  {
   "cell_type": "code",
   "execution_count": 9,
   "metadata": {},
   "outputs": [
    {
     "data": {
      "text/plain": [
       "[<matplotlib.lines.Line2D at 0x1b896a7ea30>]"
      ]
     },
     "execution_count": 9,
     "metadata": {},
     "output_type": "execute_result"
    },
    {
     "data": {
      "image/png": "[encoded data removed]",
      "text/plain": [
       "<Figure size 432x288 with 1 Axes>"
      ]
     },
     "metadata": {
      "needs_background": "light"
     },
     "output_type": "display_data"
    }
   ],
   "source": [
    "calb_df = eval_mlp_df\n",
    "calb = calibration.calibration_curve(calb_df[output_name_base], calb_df[\"x\"+output_name_base], n_bins=10)\n",
    "plt.plot(calb[1], calb[0], marker = \"o\")\n",
    "plt.xlabel(\"predicted\")\n",
    "plt.ylabel(\"actual\")\n",
    "plt.title(\"Old Model Home Calibration\")\n",
    "\n",
    "plt.plot([0, 1], [0, 1])"
   ]
  },
  {
   "cell_type": "code",
   "execution_count": null,
   "metadata": {},
   "outputs": [],
   "source": []
  },
  {
   "cell_type": "code",
   "execution_count": 10,
   "metadata": {},
   "outputs": [
    {
     "data": {
      "text/plain": [
       "<matplotlib.legend.Legend at 0x1b896f7a310>"
      ]
     },
     "execution_count": 10,
     "metadata": {},
     "output_type": "execute_result"
    },
    {
     "data": {
      "image/png": "[encoded data removed]",
      "text/plain": [
       "<Figure size 432x288 with 1 Axes>"
      ]
     },
     "metadata": {
      "needs_background": "light"
     },
     "output_type": "display_data"
    }
   ],
   "source": [
    "plot_input_by_minute_base = eval_base_df.groupby(\"minute_bucket\", as_index=False).mean()#[[\"minute_bucket\", \"naive_error\", \"base_error\"]]\n",
    "plot_input_by_minute_second = eval_second_df.groupby(\"minute_bucket\", as_index=False).mean()#[[\"minute_bucket\", \"naive_error\", \"second_error\"]]\n",
    "plot_input_by_minute_mlp = eval_mlp_df.groupby(\"minute_bucket\", as_index=False).mean()#[[\"minute_bucket\", \"naive_error\", \"second_error\"]]\n",
    "plt.plot(plot_input_by_minute_base[\"minute_bucket\"], plot_input_by_minute_base[\"base_error\"], label=\"base\")\n",
    "plt.plot(plot_input_by_minute_second[\"minute_bucket\"], plot_input_by_minute_second[\"second_error\"], label=\"second\", color=\"pink\")\n",
    "plt.plot(plot_input_by_minute_mlp[\"minute_bucket\"], plot_input_by_minute_mlp[\"mlp_error\"], label=\"mlp\")\n",
    "plt.ylim([0, 0.3])\n",
    "plt.legend()\n",
    "# plt.plot(plot_input_by_minute[\"minute_bucket\"], plot_input_by_minute[\"naive_error\"])"
   ]
  },
  {
   "cell_type": "code",
   "execution_count": 11,
   "metadata": {},
   "outputs": [
    {
     "data": {
      "text/plain": [
       "(0.0, 0.3)"
      ]
     },
     "execution_count": 11,
     "metadata": {},
     "output_type": "execute_result"
    },
    {
     "data": {
      "image/png": "[encoded data removed]",
      "text/plain": [
       "<Figure size 432x288 with 1 Axes>"
      ]
     },
     "metadata": {
      "needs_background": "light"
     },
     "output_type": "display_data"
    }
   ],
   "source": [
    "plt.plot(plot_input_by_minute_second[\"minute_bucket\"], plot_input_by_minute_second[\"second_error\"])\n",
    "plt.ylim([0, 0.3])\n",
    "# plt.plot(plot_input_by_minute[\"minute_bucket\"], plot_input_by_minute[\"naive_error\"])"
   ]
  },
  {
   "cell_type": "code",
   "execution_count": null,
   "metadata": {},
   "outputs": [],
   "source": []
  }
 ],
 "metadata": {
  "interpreter": {
   "hash": "c210bdd9963c1aa1618116687e93168b57777aaa4e8daa5b14b88c49789f4e2c"
  },
  "kernelspec": {
   "display_name": "Python 3.8.10 ('venv': venv)",
   "language": "python",
   "name": "python3"
  },
  "language_info": {
   "codemirror_mode": {
    "name": "ipython",
    "version": 3
   },
   "file_extension": ".py",
   "mimetype": "text/x-python",
   "name": "python",
   "nbconvert_exporter": "python",
   "pygments_lexer": "ipython3",
   "version": "3.8.10"
  },
  "orig_nbformat": 4
 },
 "nbformat": 4,
 "nbformat_minor": 2
}
