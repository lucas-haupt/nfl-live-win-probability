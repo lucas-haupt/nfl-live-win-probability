{
 "cells": [
  {
   "cell_type": "code",
   "execution_count": 1,
   "metadata": {},
   "outputs": [],
   "source": [
    "import os\n",
    "notebook_dir = os.getcwd()\n",
    "root_dir = os.path.abspath(os.path.join(notebook_dir, '..'))\n",
    "data_dir = os.path.join(root_dir, 'data')\n",
    "\n",
    "import json\n",
    "import datetime\n",
    "import numpy as np\n",
    "import pandas as pd\n",
    "import matplotlib.pyplot as plt\n",
    "from copy import deepcopy\n",
    "import ipywidgets as widgets\n",
    "from sklearn.linear_model import LogisticRegression\n",
    "from sklearn.neural_network import MLPClassifier\n",
    "from sklearn.ensemble import RandomForestClassifier, RandomForestRegressor\n",
    "from sklearn.metrics import brier_score_loss, make_scorer, log_loss, mean_squared_error\n",
    "from catboost import CatBoostClassifier, Pool, CatBoostRegressor\n",
    "from sklearn.metrics import log_loss\n",
    "from IPython.display import display, HTML\n",
    "import pickle\n",
    "from sklearn.model_selection import GroupKFold, RandomizedSearchCV, cross_val_predict\n",
    "import scipy\n",
    "def uniform_distribution(lo, hi):\n",
    "    return scipy.stats.uniform(lo, hi - lo)\n",
    "def ProbaScoreProxy(y_true, y_probs, proxied_func, **kwargs):\n",
    "    return proxied_func(y_true, y_probs, **kwargs)\n",
    "from sklearn import calibration\n",
    "\n"
   ]
  },
  {
   "cell_type": "code",
   "execution_count": null,
   "metadata": {},
   "outputs": [],
   "source": []
  }
 ],
 "metadata": {
  "interpreter": {
   "hash": "c210bdd9963c1aa1618116687e93168b57777aaa4e8daa5b14b88c49789f4e2c"
  },
  "kernelspec": {
   "display_name": "Python 3.8.10 ('venv': venv)",
   "language": "python",
   "name": "python3"
  },
  "language_info": {
   "codemirror_mode": {
    "name": "ipython",
    "version": 3
   },
   "file_extension": ".py",
   "mimetype": "text/x-python",
   "name": "python",
   "nbconvert_exporter": "python",
   "pygments_lexer": "ipython3",
   "version": "3.8.10"
  },
  "orig_nbformat": 4
 },
 "nbformat": 4,
 "nbformat_minor": 2
}
