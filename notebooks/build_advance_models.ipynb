{
 "cells": [
  {
   "cell_type": "code",
   "execution_count": 1,
   "metadata": {},
   "outputs": [],
   "source": [
    "import os\n",
    "notebook_dir = os.getcwd()\n",
    "root_dir = os.path.abspath(os.path.join(notebook_dir, '..'))\n",
    "data_dir = os.path.join(root_dir, 'data')\n",
    "\n",
    "import json\n",
    "import datetime\n",
    "import numpy as np\n",
    "import pandas as pd\n",
    "import matplotlib.pyplot as plt\n",
    "from copy import deepcopy\n",
    "import ipywidgets as widgets\n",
    "from sklearn.linear_model import LogisticRegression\n",
    "from sklearn.neural_network import MLPClassifier\n",
    "from sklearn.ensemble import RandomForestClassifier, RandomForestRegressor\n",
    "from sklearn.metrics import brier_score_loss, make_scorer, log_loss, mean_squared_error\n",
    "from catboost import CatBoostClassifier, Pool, CatBoostRegressor\n",
    "from sklearn.metrics import log_loss\n",
    "from IPython.display import display, HTML\n",
    "import pickle\n",
    "from sklearn.model_selection import GroupKFold, RandomizedSearchCV, cross_val_predict\n",
    "import scipy\n",
    "from sklearn.preprocessing import OneHotEncoder\n",
    "\n",
    "def uniform_distribution(lo, hi):\n",
    "    return scipy.stats.uniform(lo, hi - lo)\n",
    "def ProbaScoreProxy(y_true, y_probs, proxied_func, **kwargs):\n",
    "    return proxied_func(y_true, y_probs, **kwargs)\n",
    "from sklearn import calibration\n",
    "from utils import get_model_outputs\n",
    "import functools\n",
    "import sys\n",
    "\n",
    "pd.DataFrame.groupby.__setattr__(\"as_index\",  False)"
   ]
  },
  {
   "cell_type": "code",
   "execution_count": 2,
   "metadata": {},
   "outputs": [],
   "source": [
    "def normalize_df(df, anchor_df=None):\n",
    "    for col in df.columns:\n",
    "        data = df[col]\n",
    "        if anchor_df is None:\n",
    "            df[col] = (data - np.min(data)) / (np.max(data) - np.min(data))\n",
    "        else:\n",
    "            df[col] = (data - np.min(anchor_df[col])) / (np.max(anchor_df[col]) - np.min(anchor_df[col]))\n",
    "    return df\n",
    "\n",
    "def create_train_test_val_df(\n",
    "    df,\n",
    "    input_names,\n",
    "    output_name,\n",
    "    group_col=\"game_code\",\n",
    "    mask_test_season=2021,\n",
    "    mask_val_season=2020,\n",
    "):\n",
    "    mask_train = ~(df.season.isin([mask_test_season, mask_val_season]))\n",
    "    mask_test = (df.season == mask_test_season)\n",
    "    mask_val = (df.season == mask_val_season)\n",
    "    X_train = normalize_df(df.loc[mask_train, input_names])\n",
    "    y_train = df.loc[mask_train, output_name]\n",
    "    group_train = df.loc[mask_train, group_col]\n",
    "    X_test = normalize_df(df.loc[mask_test, input_names], df.loc[mask_train, input_names])\n",
    "    y_test = df.loc[mask_test, output_name]\n",
    "    group_test = df.loc[mask_test, group_col]\n",
    "    X_val = normalize_df(df.loc[mask_val, input_names], df.loc[mask_train, input_names])\n",
    "    y_val = df.loc[mask_val, output_name]\n",
    "    group_val = df.loc[mask_val, group_col]\n",
    "    return X_train, y_train, group_train, X_test, y_test, group_test, X_val, y_val, group_val"
   ]
  },
  {
   "cell_type": "code",
   "execution_count": 3,
   "metadata": {},
   "outputs": [],
   "source": [
    "event_df = pd.read_parquet(os.path.join(data_dir, \"event_data.parquet\"))\n",
    "event_df = event_df.drop_duplicates([\"nevent\", \"game_code\"]).reset_index(drop=True)\n",
    "odds_df = pd.read_parquet(os.path.join(data_dir, \"odds_data.parquet\"))\n",
    "odds_df = odds_df.drop_duplicates(\"game_code\")\n",
    "event_ids = event_df[[\"event_id\", \"event_name\"]].drop_duplicates().sort_values(\"event_id\").reset_index(drop=True)\n",
    "event_ids.to_csv(os.path.join(data_dir, \"event_ids.csv\"))\n",
    "\n",
    "\n",
    "event_df[\"half\"] = round((event_df[\"quarter\"] + 0.01) / 2)\n",
    "event_df[\"home_timeout\"] = np.where(((event_df[\"event_id\"]==57)&(event_df[\"home_team_has_ball\"]==1))|((event_df[\"event_id\"]==58)&(event_df[\"home_team_has_ball\"]==0)), 1, 0)\n",
    "event_df[\"away_timeout\"] = np.where(((event_df[\"event_id\"]==57)&(event_df[\"home_team_has_ball\"]==0))|((event_df[\"event_id\"]==58)&(event_df[\"home_team_has_ball\"]==1)), 1, 0)\n",
    "event_df[\"home_timeouts_remaining\"] = np.clip(3 - event_df.groupby([\"game_code\", \"half\"])[\"home_timeout\"].cumsum(), 0, 3)\n",
    "event_df[\"away_timeouts_remaining\"] = np.clip(3 - event_df.groupby([\"game_code\", \"half\"])[\"away_timeout\"].cumsum(), 0, 3)\n",
    "event_df[\"time_left_in_game\"] = np.where(event_df[\"quarter\"] <= 4, event_df[\"play_start_time\"] + (4 - event_df[\"quarter\"]) * 900, event_df[\"play_start_time\"])\n",
    "event_df[\"time_elapsed\"] = 900 - event_df[\"play_start_time\"] + (event_df[\"quarter\"] - 1) * 900\n",
    "\n",
    "\n",
    "event_df[[\"cur_spread\", \"cur_over_under\"]] = event_df.merge(odds_df, how=\"left\", on=\"game_code\")[[\"cur_spread\", \"cur_over_under\"]].fillna({\"cur_spread\": np.mean(odds_df[\"cur_spread\"]), \"cur_over_under\": np.mean(odds_df[\"cur_over_under\"])})\n",
    "event_df[\"sequence\"] = event_df[\"continuation\"].groupby(event_df[\"continuation\"].eq(0).cumsum()).cumsum()\n",
    "event_df[\"play_start_id\"] = event_df[\"nevent\"] - event_df[\"sequence\"]\n",
    "\n",
    "turnover_ids = [9, 16]\n",
    "# mask_turnover_on_downs = (event_df[\"down\"]==4)&(event_df[\"field_goal_attempt\"]==0)&(event_df[\"punt\"]==0)&(event_df[\"yards_gained\"]<event_df[\"ytg\"])&(event_df[\"home_team_has_ball\"]!=event_df.shift(-1)[\"home_team_has_ball\"])\n",
    "event_df[\"turnover\"] = np.where(event_df[\"event_id\"].isin(turnover_ids), 1, 0)\n",
    "event_df[\"touchdown_scored\"] = np.where(event_df[\"home_score_added\"]+event_df[\"away_score_added\"]>=6, 1, 0)\n",
    "event_df[\"fieldgoal_made\"] = np.where(event_df[\"home_score_added\"]+event_df[\"away_score_added\"]==3, 1, 0)\n",
    "\n",
    "play_outcome_aggregate =event_df[[\"game_code\", \"play_start_id\", \"turnover\", \"touchdown_scored\", \"fieldgoal_made\", \"first_down\"]].groupby([\"game_code\", \"play_start_id\"], as_index=False).sum()\n",
    "# touchdown_key_df =event_df[[\"game_code\", \"play_start_id\", \"turnover\"]].groupby([\"game_code\", \"play_start_id\"], as_index=False).sum()\n",
    "event_df[\"touchdown_in_play\"] = np.clip(event_df.merge(play_outcome_aggregate,on=[\"game_code\", \"play_start_id\"], how=\"left\")[\"touchdown_scored_y\"], 0, 1)\n",
    "event_df[\"turnover_in_play\"] = np.clip(event_df.merge(play_outcome_aggregate,on=[\"game_code\", \"play_start_id\"], how=\"left\")[\"turnover_y\"], 0, 1)\n",
    "event_df[\"field_goal_in_play\"] = np.clip(event_df.merge(play_outcome_aggregate,on=[\"game_code\", \"play_start_id\"], how=\"left\")[\"fieldgoal_made_y\"], 0, 1)\n",
    "event_df[\"first_down_in_play\"] = np.clip(event_df.merge(play_outcome_aggregate,on=[\"game_code\", \"play_start_id\"], how=\"left\")[\"first_down_y\"], 0, 1)\n",
    "\n",
    "\n",
    "# drive_outcome_aggregate =event_df[[\"game_code\", \"off_team_id\", \"drive_id\", \"turnover\", \"touchdown_scored\", \"fieldgoal_made\"]].groupby([\"game_code\", \"off_team_id\", \"drive_id\"], as_index=False).sum()\n",
    "# event_df[\"touchdown_in_drive\"] = np.clip(event_df.merge(drive_outcome_aggregate,on=[\"game_code\", \"drive_id\", \"off_team_id\"], how=\"left\")[\"touchdown_scored_y\"], 0, 1)\n",
    "# event_df[\"turnover_in_drive\"] = np.clip(event_df.merge(drive_outcome_aggregate,on=[\"game_code\", \"drive_id\", \"off_team_id\"], how=\"left\")[\"turnover_y\"], 0, 1)\n",
    "# event_df[\"field_goal_in_drive\"] = np.clip(event_df.merge(drive_outcome_aggregate,on=[\"game_code\", \"drive_id\", \"off_team_id\"], how=\"left\")[\"fieldgoal_made_y\"], 0, 1)\n",
    "\n",
    "event_df[\"play_outcome\"] = np.where(\n",
    "    (event_df[\"touchdown_in_play\"]==1)&(event_df[\"turnover_in_play\"]==1), \"defensive_touchdown\", \n",
    "    np.where((event_df[\"touchdown_in_play\"]==1)&(event_df[\"turnover_in_play\"]==0), \"offensive_touchdown\",\n",
    "    np.where((event_df[\"field_goal_in_play\"]==1), \"field_goal_made\",\n",
    "    np.where((event_df[\"first_down_in_play\"]==1), \"first_down\",\n",
    "    np.where((event_df[\"touchdown_in_play\"]==0)&(event_df[\"turnover_in_play\"]==1), \"turnover\", \"none\"\n",
    ")))))\n",
    "drive_description_matrix = {\n",
    "    7: \"punt\",\n",
    "    9: \"turnover\",\n",
    "    14: \"turnover\",\n",
    "    17: \"field_goal_made\",\n",
    "    18: \"punt\",\n",
    "    20: \"safety\",\n",
    "    35: \"field_goal_missed\",\n",
    "    36: \"field_goal_missed\",\n",
    "    37: \"touch_down\",\n",
    "    38: \"clock\",\n",
    "    39: \"clock\",\n",
    "    40: \"turnover_on_downs\",\n",
    "    42: \"field_goal_made\",\n",
    "    51: \"clock\",\n",
    "}\n",
    "event_df[\"drive_outcome_desc_basic\"] = event_df[\"drive_outcome_id\"].map(drive_description_matrix)\n",
    "\n",
    "# event_df[\"drive_outcome\"] = np.where(\n",
    "#     (event_df[\"touchdown_in_drive\"]==1)&(event_df[\"turnover_in_drive\"]==1), \"defensive_touchdown\", \n",
    "#     np.where((event_df[\"touchdown_in_drive\"]==1)&(event_df[\"turnover_in_drive\"]==0), \"offensive_touchdown\",\n",
    "#     np.where((event_df[\"field_goal_in_drive\"]==1), \"field_goal_made\",\n",
    "#     np.where((event_df[\"touchdown_in_drive\"]==0)&(event_df[\"turnover_in_drive\"]==1), \"turnover\", \"none\"\n",
    "# ))))\n",
    "scrimmage_plays_we_want = [1, 2, 3, 4, 7, 9, 14, 17, 18, 35]"
   ]
  },
  {
   "cell_type": "code",
   "execution_count": 4,
   "metadata": {},
   "outputs": [
    {
     "name": "stdout",
     "output_type": "stream",
     "text": [
      "Iteration 1, loss = 0.70114336\n",
      "Validation score: 0.730224\n"
     ]
    },
    {
     "name": "stderr",
     "output_type": "stream",
     "text": [
      "/Users/lucashaupt/Documents/GitHub/nfl-live-win-probability/venv/lib/python3.9/site-packages/sklearn/base.py:445: UserWarning: X does not have valid feature names, but MLPClassifier was fitted with feature names\n",
      "  warnings.warn(\n"
     ]
    },
    {
     "name": "stdout",
     "output_type": "stream",
     "text": [
      "Iteration 2, loss = 0.66614828\n",
      "Validation score: 0.730739\n"
     ]
    },
    {
     "name": "stderr",
     "output_type": "stream",
     "text": [
      "/Users/lucashaupt/Documents/GitHub/nfl-live-win-probability/venv/lib/python3.9/site-packages/sklearn/base.py:445: UserWarning: X does not have valid feature names, but MLPClassifier was fitted with feature names\n",
      "  warnings.warn(\n"
     ]
    },
    {
     "name": "stdout",
     "output_type": "stream",
     "text": [
      "Iteration 3, loss = 0.66235366\n",
      "Validation score: 0.731859\n"
     ]
    },
    {
     "name": "stderr",
     "output_type": "stream",
     "text": [
      "/Users/lucashaupt/Documents/GitHub/nfl-live-win-probability/venv/lib/python3.9/site-packages/sklearn/base.py:445: UserWarning: X does not have valid feature names, but MLPClassifier was fitted with feature names\n",
      "  warnings.warn(\n"
     ]
    },
    {
     "name": "stdout",
     "output_type": "stream",
     "text": [
      "Iteration 4, loss = 0.66034181\n",
      "Validation score: 0.731791\n"
     ]
    },
    {
     "name": "stderr",
     "output_type": "stream",
     "text": [
      "/Users/lucashaupt/Documents/GitHub/nfl-live-win-probability/venv/lib/python3.9/site-packages/sklearn/base.py:445: UserWarning: X does not have valid feature names, but MLPClassifier was fitted with feature names\n",
      "  warnings.warn(\n"
     ]
    },
    {
     "name": "stdout",
     "output_type": "stream",
     "text": [
      "Iteration 5, loss = 0.65891457\n",
      "Validation score: 0.731836\n"
     ]
    },
    {
     "name": "stderr",
     "output_type": "stream",
     "text": [
      "/Users/lucashaupt/Documents/GitHub/nfl-live-win-probability/venv/lib/python3.9/site-packages/sklearn/base.py:445: UserWarning: X does not have valid feature names, but MLPClassifier was fitted with feature names\n",
      "  warnings.warn(\n"
     ]
    },
    {
     "name": "stdout",
     "output_type": "stream",
     "text": [
      "Iteration 6, loss = 0.65795752\n",
      "Validation score: 0.730538\n"
     ]
    },
    {
     "name": "stderr",
     "output_type": "stream",
     "text": [
      "/Users/lucashaupt/Documents/GitHub/nfl-live-win-probability/venv/lib/python3.9/site-packages/sklearn/base.py:445: UserWarning: X does not have valid feature names, but MLPClassifier was fitted with feature names\n",
      "  warnings.warn(\n"
     ]
    },
    {
     "name": "stdout",
     "output_type": "stream",
     "text": [
      "Iteration 7, loss = 0.65765964\n",
      "Validation score: 0.731747\n"
     ]
    },
    {
     "name": "stderr",
     "output_type": "stream",
     "text": [
      "/Users/lucashaupt/Documents/GitHub/nfl-live-win-probability/venv/lib/python3.9/site-packages/sklearn/base.py:445: UserWarning: X does not have valid feature names, but MLPClassifier was fitted with feature names\n",
      "  warnings.warn(\n"
     ]
    },
    {
     "name": "stdout",
     "output_type": "stream",
     "text": [
      "Iteration 8, loss = 0.65678991\n",
      "Validation score: 0.731635\n"
     ]
    },
    {
     "name": "stderr",
     "output_type": "stream",
     "text": [
      "/Users/lucashaupt/Documents/GitHub/nfl-live-win-probability/venv/lib/python3.9/site-packages/sklearn/base.py:445: UserWarning: X does not have valid feature names, but MLPClassifier was fitted with feature names\n",
      "  warnings.warn(\n"
     ]
    },
    {
     "name": "stdout",
     "output_type": "stream",
     "text": [
      "Iteration 9, loss = 0.65628045\n",
      "Validation score: 0.732687\n"
     ]
    },
    {
     "name": "stderr",
     "output_type": "stream",
     "text": [
      "/Users/lucashaupt/Documents/GitHub/nfl-live-win-probability/venv/lib/python3.9/site-packages/sklearn/base.py:445: UserWarning: X does not have valid feature names, but MLPClassifier was fitted with feature names\n",
      "  warnings.warn(\n"
     ]
    },
    {
     "name": "stdout",
     "output_type": "stream",
     "text": [
      "Iteration 10, loss = 0.65583885\n",
      "Validation score: 0.732821\n"
     ]
    },
    {
     "name": "stderr",
     "output_type": "stream",
     "text": [
      "/Users/lucashaupt/Documents/GitHub/nfl-live-win-probability/venv/lib/python3.9/site-packages/sklearn/base.py:445: UserWarning: X does not have valid feature names, but MLPClassifier was fitted with feature names\n",
      "  warnings.warn(\n"
     ]
    },
    {
     "name": "stdout",
     "output_type": "stream",
     "text": [
      "Iteration 11, loss = 0.65543774\n",
      "Validation score: 0.732597\n"
     ]
    },
    {
     "name": "stderr",
     "output_type": "stream",
     "text": [
      "/Users/lucashaupt/Documents/GitHub/nfl-live-win-probability/venv/lib/python3.9/site-packages/sklearn/base.py:445: UserWarning: X does not have valid feature names, but MLPClassifier was fitted with feature names\n",
      "  warnings.warn(\n"
     ]
    },
    {
     "name": "stdout",
     "output_type": "stream",
     "text": [
      "Iteration 12, loss = 0.65507241\n",
      "Validation score: 0.733135\n"
     ]
    },
    {
     "name": "stderr",
     "output_type": "stream",
     "text": [
      "/Users/lucashaupt/Documents/GitHub/nfl-live-win-probability/venv/lib/python3.9/site-packages/sklearn/base.py:445: UserWarning: X does not have valid feature names, but MLPClassifier was fitted with feature names\n",
      "  warnings.warn(\n"
     ]
    },
    {
     "name": "stdout",
     "output_type": "stream",
     "text": [
      "Iteration 13, loss = 0.65475281\n",
      "Validation score: 0.732441\n"
     ]
    },
    {
     "name": "stderr",
     "output_type": "stream",
     "text": [
      "/Users/lucashaupt/Documents/GitHub/nfl-live-win-probability/venv/lib/python3.9/site-packages/sklearn/base.py:445: UserWarning: X does not have valid feature names, but MLPClassifier was fitted with feature names\n",
      "  warnings.warn(\n"
     ]
    },
    {
     "name": "stdout",
     "output_type": "stream",
     "text": [
      "Iteration 14, loss = 0.65458241\n",
      "Validation score: 0.733448\n"
     ]
    },
    {
     "name": "stderr",
     "output_type": "stream",
     "text": [
      "/Users/lucashaupt/Documents/GitHub/nfl-live-win-probability/venv/lib/python3.9/site-packages/sklearn/base.py:445: UserWarning: X does not have valid feature names, but MLPClassifier was fitted with feature names\n",
      "  warnings.warn(\n"
     ]
    },
    {
     "name": "stdout",
     "output_type": "stream",
     "text": [
      "Iteration 15, loss = 0.65423871\n",
      "Validation score: 0.731903\n"
     ]
    },
    {
     "name": "stderr",
     "output_type": "stream",
     "text": [
      "/Users/lucashaupt/Documents/GitHub/nfl-live-win-probability/venv/lib/python3.9/site-packages/sklearn/base.py:445: UserWarning: X does not have valid feature names, but MLPClassifier was fitted with feature names\n",
      "  warnings.warn(\n"
     ]
    },
    {
     "name": "stdout",
     "output_type": "stream",
     "text": [
      "Iteration 16, loss = 0.65399698\n",
      "Validation score: 0.733045\n"
     ]
    },
    {
     "name": "stderr",
     "output_type": "stream",
     "text": [
      "/Users/lucashaupt/Documents/GitHub/nfl-live-win-probability/venv/lib/python3.9/site-packages/sklearn/base.py:445: UserWarning: X does not have valid feature names, but MLPClassifier was fitted with feature names\n",
      "  warnings.warn(\n"
     ]
    },
    {
     "name": "stdout",
     "output_type": "stream",
     "text": [
      "Iteration 17, loss = 0.65396958\n",
      "Validation score: 0.731366\n"
     ]
    },
    {
     "name": "stderr",
     "output_type": "stream",
     "text": [
      "/Users/lucashaupt/Documents/GitHub/nfl-live-win-probability/venv/lib/python3.9/site-packages/sklearn/base.py:445: UserWarning: X does not have valid feature names, but MLPClassifier was fitted with feature names\n",
      "  warnings.warn(\n"
     ]
    },
    {
     "name": "stdout",
     "output_type": "stream",
     "text": [
      "Iteration 18, loss = 0.65365224\n",
      "Validation score: 0.733045\n"
     ]
    },
    {
     "name": "stderr",
     "output_type": "stream",
     "text": [
      "/Users/lucashaupt/Documents/GitHub/nfl-live-win-probability/venv/lib/python3.9/site-packages/sklearn/base.py:445: UserWarning: X does not have valid feature names, but MLPClassifier was fitted with feature names\n",
      "  warnings.warn(\n"
     ]
    },
    {
     "name": "stdout",
     "output_type": "stream",
     "text": [
      "Iteration 19, loss = 0.65364869\n",
      "Validation score: 0.732172\n"
     ]
    },
    {
     "name": "stderr",
     "output_type": "stream",
     "text": [
      "/Users/lucashaupt/Documents/GitHub/nfl-live-win-probability/venv/lib/python3.9/site-packages/sklearn/base.py:445: UserWarning: X does not have valid feature names, but MLPClassifier was fitted with feature names\n",
      "  warnings.warn(\n"
     ]
    },
    {
     "name": "stdout",
     "output_type": "stream",
     "text": [
      "Iteration 20, loss = 0.65336739\n",
      "Validation score: 0.733135\n",
      "Validation score did not improve more than tol=0.000100 for 5 consecutive epochs. Stopping.\n"
     ]
    },
    {
     "name": "stderr",
     "output_type": "stream",
     "text": [
      "/Users/lucashaupt/Documents/GitHub/nfl-live-win-probability/venv/lib/python3.9/site-packages/sklearn/base.py:445: UserWarning: X does not have valid feature names, but MLPClassifier was fitted with feature names\n",
      "  warnings.warn(\n"
     ]
    },
    {
     "name": "stdout",
     "output_type": "stream",
     "text": [
      "[Parallel(n_jobs=-1)]: Using backend ThreadingBackend with 8 concurrent workers.\n",
      "building tree 1 of 200building tree 2 of 200\n",
      "building tree 3 of 200building tree 4 of 200\n",
      "building tree 5 of 200\n",
      "building tree 6 of 200\n",
      "\n",
      "\n",
      "building tree 7 of 200building tree 8 of 200\n",
      "\n",
      "building tree 9 of 200[Parallel(n_jobs=-1)]: Done   1 tasks      | elapsed:    1.1s\n",
      "\n",
      "building tree 10 of 200[Parallel(n_jobs=-1)]: Done   2 tasks      | elapsed:    1.1s\n",
      "\n",
      "building tree 11 of 200[Parallel(n_jobs=-1)]: Done   3 tasks      | elapsed:    1.1s\n",
      "building tree 12 of 200\n",
      "\n",
      "[Parallel(n_jobs=-1)]: Done   4 tasks      | elapsed:    1.1s\n",
      "building tree 13 of 200[Parallel(n_jobs=-1)]: Done   5 tasks      | elapsed:    1.1s\n",
      "\n",
      "building tree 14 of 200[Parallel(n_jobs=-1)]: Done   6 tasks      | elapsed:    1.1s\n",
      "\n",
      "building tree 15 of 200[Parallel(n_jobs=-1)]: Done   7 tasks      | elapsed:    1.1s\n",
      "\n",
      "building tree 16 of 200[Parallel(n_jobs=-1)]: Done   8 tasks      | elapsed:    1.3s\n",
      "\n",
      "building tree 17 of 200[Parallel(n_jobs=-1)]: Done   9 tasks      | elapsed:    2.1s\n",
      "\n",
      "building tree 18 of 200[Parallel(n_jobs=-1)]: Done  10 tasks      | elapsed:    2.1s\n",
      "\n",
      "building tree 19 of 200\n",
      "[Parallel(n_jobs=-1)]: Done  11 tasks      | elapsed:    2.1s\n",
      "building tree 20 of 200building tree 21 of 200[Parallel(n_jobs=-1)]: Done  12 tasks      | elapsed:    2.1s\n",
      "[Parallel(n_jobs=-1)]: Done  13 tasks      | elapsed:    2.1s\n",
      "\n",
      "\n",
      "building tree 22 of 200[Parallel(n_jobs=-1)]: Done  14 tasks      | elapsed:    2.1s\n",
      "building tree 23 of 200[Parallel(n_jobs=-1)]: Done  15 tasks      | elapsed:    2.1s\n",
      "\n",
      "\n",
      "building tree 24 of 200[Parallel(n_jobs=-1)]: Done  16 tasks      | elapsed:    2.2s\n",
      "\n",
      "building tree 25 of 200[Parallel(n_jobs=-1)]: Done  17 tasks      | elapsed:    3.1s\n",
      "\n",
      "building tree 26 of 200[Parallel(n_jobs=-1)]: Done  18 tasks      | elapsed:    3.1s\n",
      "\n",
      "building tree 27 of 200building tree 28 of 200[Parallel(n_jobs=-1)]: Done  19 tasks      | elapsed:    3.1s\n",
      "[Parallel(n_jobs=-1)]: Done  20 tasks      | elapsed:    3.1s\n",
      "\n",
      "\n",
      "building tree 29 of 200[Parallel(n_jobs=-1)]: Done  21 tasks      | elapsed:    3.1s\n",
      "\n",
      "building tree 30 of 200[Parallel(n_jobs=-1)]: Done  22 tasks      | elapsed:    3.2s\n",
      "\n",
      "building tree 31 of 200[Parallel(n_jobs=-1)]: Done  23 tasks      | elapsed:    3.2s\n",
      "\n",
      "building tree 32 of 200[Parallel(n_jobs=-1)]: Done  24 tasks      | elapsed:    3.2s\n",
      "\n",
      "building tree 33 of 200[Parallel(n_jobs=-1)]: Done  25 tasks      | elapsed:    4.0s\n",
      "building tree 34 of 200\n",
      "[Parallel(n_jobs=-1)]: Done  26 tasks      | elapsed:    4.0s\n",
      "\n",
      "building tree 35 of 200[Parallel(n_jobs=-1)]: Done  27 tasks      | elapsed:    4.1s\n",
      "\n",
      "building tree 36 of 200[Parallel(n_jobs=-1)]: Done  28 tasks      | elapsed:    4.1s\n",
      "\n",
      "building tree 37 of 200\n",
      "[Parallel(n_jobs=-1)]: Done  29 tasks      | elapsed:    4.1s\n",
      "building tree 38 of 200[Parallel(n_jobs=-1)]: Done  30 tasks      | elapsed:    4.1s\n",
      "building tree 39 of 200\n",
      "[Parallel(n_jobs=-1)]: Done  31 tasks      | elapsed:    4.2s\n",
      "\n",
      "building tree 40 of 200\n",
      "[Parallel(n_jobs=-1)]: Done  32 tasks      | elapsed:    4.2s\n",
      "building tree 41 of 200[Parallel(n_jobs=-1)]: Done  33 tasks      | elapsed:    4.9s\n",
      "\n",
      "building tree 42 of 200[Parallel(n_jobs=-1)]: Done  34 tasks      | elapsed:    4.9s\n",
      "\n",
      "building tree 43 of 200[Parallel(n_jobs=-1)]: Done  35 tasks      | elapsed:    5.0s\n",
      "\n",
      "building tree 44 of 200[Parallel(n_jobs=-1)]: Done  36 tasks      | elapsed:    5.1s\n",
      "\n",
      "building tree 45 of 200[Parallel(n_jobs=-1)]: Done  37 tasks      | elapsed:    5.1s\n",
      "\n",
      "building tree 46 of 200[Parallel(n_jobs=-1)]: Done  38 tasks      | elapsed:    5.2s\n",
      "\n",
      "building tree 47 of 200[Parallel(n_jobs=-1)]: Done  39 tasks      | elapsed:    5.2s\n",
      "\n",
      "building tree 48 of 200[Parallel(n_jobs=-1)]: Done  40 tasks      | elapsed:    5.2s\n",
      "\n",
      "building tree 49 of 200[Parallel(n_jobs=-1)]: Done  41 tasks      | elapsed:    5.8s\n",
      "\n",
      "building tree 50 of 200[Parallel(n_jobs=-1)]: Done  42 tasks      | elapsed:    5.9s\n",
      "\n",
      "building tree 51 of 200[Parallel(n_jobs=-1)]: Done  43 tasks      | elapsed:    5.9s\n",
      "\n",
      "building tree 52 of 200[Parallel(n_jobs=-1)]: Done  44 tasks      | elapsed:    6.0s\n",
      "\n",
      "building tree 53 of 200[Parallel(n_jobs=-1)]: Done  45 tasks      | elapsed:    6.1s\n",
      "\n",
      "building tree 54 of 200[Parallel(n_jobs=-1)]: Done  46 tasks      | elapsed:    6.1s\n",
      "\n",
      "building tree 55 of 200[Parallel(n_jobs=-1)]: Done  47 tasks      | elapsed:    6.2s\n",
      "\n",
      "building tree 56 of 200[Parallel(n_jobs=-1)]: Done  48 tasks      | elapsed:    6.3s\n",
      "\n",
      "building tree 57 of 200[Parallel(n_jobs=-1)]: Done  49 tasks      | elapsed:    6.8s\n",
      "\n",
      "building tree 58 of 200[Parallel(n_jobs=-1)]: Done  50 tasks      | elapsed:    6.9s\n",
      "building tree 59 of 200\n",
      "\n",
      "[Parallel(n_jobs=-1)]: Done  51 tasks      | elapsed:    6.9s\n",
      "building tree 60 of 200[Parallel(n_jobs=-1)]: Done  52 tasks      | elapsed:    6.9s\n",
      "\n",
      "building tree 61 of 200[Parallel(n_jobs=-1)]: Done  53 tasks      | elapsed:    7.0s\n",
      "\n",
      "building tree 62 of 200[Parallel(n_jobs=-1)]: Done  54 tasks      | elapsed:    7.1s\n",
      "\n",
      "building tree 63 of 200[Parallel(n_jobs=-1)]: Done  55 tasks      | elapsed:    7.2s\n",
      "\n",
      "[Parallel(n_jobs=-1)]: Done  56 tasks      | elapsed:    7.3s\n",
      "building tree 64 of 200\n",
      "building tree 65 of 200[Parallel(n_jobs=-1)]: Done  57 tasks      | elapsed:    7.8s\n",
      "\n",
      "building tree 66 of 200[Parallel(n_jobs=-1)]: Done  58 tasks      | elapsed:    7.8s\n",
      "\n",
      "building tree 67 of 200[Parallel(n_jobs=-1)]: Done  59 tasks      | elapsed:    7.8s\n",
      "\n",
      "building tree 68 of 200[Parallel(n_jobs=-1)]: Done  60 tasks      | elapsed:    7.9s\n",
      "\n",
      "building tree 69 of 200[Parallel(n_jobs=-1)]: Done  61 tasks      | elapsed:    8.0s\n",
      "\n",
      "building tree 70 of 200[Parallel(n_jobs=-1)]: Done  62 tasks      | elapsed:    8.0s\n",
      "\n",
      "building tree 71 of 200[Parallel(n_jobs=-1)]: Done  63 tasks      | elapsed:    8.2s\n",
      "\n",
      "building tree 72 of 200[Parallel(n_jobs=-1)]: Done  64 tasks      | elapsed:    8.3s\n",
      "\n",
      "building tree 73 of 200building tree 74 of 200\n",
      "\n",
      "[Parallel(n_jobs=-1)]: Done  65 tasks      | elapsed:    8.7s\n",
      "[Parallel(n_jobs=-1)]: Done  66 tasks      | elapsed:    8.7s\n",
      "building tree 75 of 200\n",
      "[Parallel(n_jobs=-1)]: Done  67 tasks      | elapsed:    8.8s\n",
      "building tree 76 of 200[Parallel(n_jobs=-1)]: Done  68 tasks      | elapsed:    8.8s\n",
      "\n",
      "building tree 77 of 200[Parallel(n_jobs=-1)]: Done  69 tasks      | elapsed:    8.9s\n",
      "\n",
      "building tree 78 of 200[Parallel(n_jobs=-1)]: Done  70 tasks      | elapsed:    8.9s\n",
      "\n",
      "building tree 79 of 200[Parallel(n_jobs=-1)]: Done  71 tasks      | elapsed:    9.1s\n",
      "\n",
      "building tree 80 of 200[Parallel(n_jobs=-1)]: Done  72 tasks      | elapsed:    9.2s\n",
      "\n",
      "building tree 81 of 200[Parallel(n_jobs=-1)]: Done  73 tasks      | elapsed:    9.6s\n",
      "\n",
      "building tree 82 of 200[Parallel(n_jobs=-1)]: Done  74 tasks      | elapsed:    9.7s\n",
      "\n",
      "building tree 83 of 200[Parallel(n_jobs=-1)]: Done  75 tasks      | elapsed:    9.7s\n",
      "\n",
      "building tree 84 of 200[Parallel(n_jobs=-1)]: Done  76 tasks      | elapsed:    9.8s\n",
      "\n",
      "building tree 85 of 200[Parallel(n_jobs=-1)]: Done  77 tasks      | elapsed:    9.9s\n",
      "\n",
      "building tree 86 of 200\n",
      "[Parallel(n_jobs=-1)]: Done  78 tasks      | elapsed:    9.9s\n",
      "building tree 87 of 200[Parallel(n_jobs=-1)]: Done  79 tasks      | elapsed:   10.0s\n",
      "\n",
      "building tree 88 of 200[Parallel(n_jobs=-1)]: Done  80 tasks      | elapsed:   10.2s\n",
      "\n",
      "building tree 89 of 200[Parallel(n_jobs=-1)]: Done  81 tasks      | elapsed:   10.6s\n",
      "\n",
      "building tree 90 of 200[Parallel(n_jobs=-1)]: Done  82 tasks      | elapsed:   10.6s\n",
      "\n",
      "building tree 91 of 200[Parallel(n_jobs=-1)]: Done  83 tasks      | elapsed:   10.6s\n",
      "\n",
      "building tree 92 of 200[Parallel(n_jobs=-1)]: Done  84 tasks      | elapsed:   10.6s\n",
      "\n",
      "building tree 93 of 200[Parallel(n_jobs=-1)]: Done  85 tasks      | elapsed:   10.9s\n",
      "\n",
      "building tree 94 of 200[Parallel(n_jobs=-1)]: Done  86 tasks      | elapsed:   10.9s\n",
      "\n",
      "building tree 95 of 200[Parallel(n_jobs=-1)]: Done  87 tasks      | elapsed:   11.0s\n",
      "\n",
      "building tree 96 of 200[Parallel(n_jobs=-1)]: Done  88 tasks      | elapsed:   11.0s\n",
      "\n",
      "building tree 97 of 200[Parallel(n_jobs=-1)]: Done  89 tasks      | elapsed:   11.6s\n",
      "\n",
      "building tree 98 of 200[Parallel(n_jobs=-1)]: Done  90 tasks      | elapsed:   11.6s\n",
      "\n",
      "building tree 99 of 200[Parallel(n_jobs=-1)]: Done  91 tasks      | elapsed:   11.6s\n",
      "\n",
      "building tree 100 of 200[Parallel(n_jobs=-1)]: Done  92 tasks      | elapsed:   11.6s\n",
      "\n",
      "building tree 101 of 200building tree 102 of 200[Parallel(n_jobs=-1)]: Done  93 tasks      | elapsed:   11.8s\n",
      "\n",
      "\n",
      "[Parallel(n_jobs=-1)]: Done  94 tasks      | elapsed:   11.8s\n",
      "building tree 103 of 200[Parallel(n_jobs=-1)]: Done  95 tasks      | elapsed:   11.9s\n",
      "\n",
      "building tree 104 of 200[Parallel(n_jobs=-1)]: Done  96 tasks      | elapsed:   12.0s\n",
      "\n",
      "building tree 105 of 200[Parallel(n_jobs=-1)]: Done  97 tasks      | elapsed:   12.6s\n",
      "\n",
      "building tree 106 of 200[Parallel(n_jobs=-1)]: Done  98 tasks      | elapsed:   12.6s\n",
      "\n",
      "building tree 107 of 200\n",
      "[Parallel(n_jobs=-1)]: Done  99 tasks      | elapsed:   12.6s\n",
      "building tree 108 of 200[Parallel(n_jobs=-1)]: Done 100 tasks      | elapsed:   12.7s\n",
      "\n",
      "building tree 109 of 200[Parallel(n_jobs=-1)]: Done 101 tasks      | elapsed:   12.8s\n",
      "\n",
      "building tree 110 of 200[Parallel(n_jobs=-1)]: Done 102 tasks      | elapsed:   12.9s\n",
      "\n",
      "building tree 111 of 200[Parallel(n_jobs=-1)]: Done 103 tasks      | elapsed:   12.9s\n",
      "\n",
      "building tree 112 of 200[Parallel(n_jobs=-1)]: Done 104 tasks      | elapsed:   13.0s\n",
      "\n",
      "building tree 113 of 200[Parallel(n_jobs=-1)]: Done 105 tasks      | elapsed:   13.5s\n",
      "\n",
      "building tree 114 of 200[Parallel(n_jobs=-1)]: Done 106 tasks      | elapsed:   13.6s\n",
      "\n",
      "building tree 115 of 200[Parallel(n_jobs=-1)]: Done 107 tasks      | elapsed:   13.6s\n",
      "\n",
      "[Parallel(n_jobs=-1)]: Done 108 tasks      | elapsed:   13.6s\n",
      "building tree 116 of 200\n",
      "building tree 117 of 200[Parallel(n_jobs=-1)]: Done 109 tasks      | elapsed:   13.7s\n",
      "\n",
      "building tree 118 of 200[Parallel(n_jobs=-1)]: Done 110 tasks      | elapsed:   13.9s\n",
      "\n",
      "building tree 119 of 200[Parallel(n_jobs=-1)]: Done 111 tasks      | elapsed:   13.9s\n",
      "\n",
      "building tree 120 of 200\n",
      "[Parallel(n_jobs=-1)]: Done 112 tasks      | elapsed:   14.0s\n",
      "building tree 121 of 200[Parallel(n_jobs=-1)]: Done 113 tasks      | elapsed:   14.5s\n",
      "\n",
      "building tree 122 of 200[Parallel(n_jobs=-1)]: Done 114 tasks      | elapsed:   14.5s\n",
      "\n",
      "building tree 123 of 200[Parallel(n_jobs=-1)]: Done 115 tasks      | elapsed:   14.6s\n",
      "\n",
      "building tree 124 of 200[Parallel(n_jobs=-1)]: Done 116 tasks      | elapsed:   14.6s\n",
      "\n",
      "building tree 125 of 200[Parallel(n_jobs=-1)]: Done 117 tasks      | elapsed:   14.6s\n",
      "\n",
      "building tree 126 of 200[Parallel(n_jobs=-1)]: Done 118 tasks      | elapsed:   14.9s\n",
      "\n",
      "building tree 127 of 200[Parallel(n_jobs=-1)]: Done 119 tasks      | elapsed:   14.9s\n",
      "\n",
      "building tree 128 of 200[Parallel(n_jobs=-1)]: Done 120 tasks      | elapsed:   15.0s\n",
      "\n",
      "building tree 129 of 200[Parallel(n_jobs=-1)]: Done 121 tasks      | elapsed:   15.4s\n",
      "\n",
      "building tree 130 of 200[Parallel(n_jobs=-1)]: Done 122 tasks      | elapsed:   15.4s\n",
      "\n",
      "building tree 131 of 200[Parallel(n_jobs=-1)]: Done 123 tasks      | elapsed:   15.5s\n",
      "\n",
      "building tree 132 of 200[Parallel(n_jobs=-1)]: Done 124 tasks      | elapsed:   15.5s\n",
      "\n",
      "building tree 133 of 200[Parallel(n_jobs=-1)]: Done 125 tasks      | elapsed:   15.6s\n",
      "\n",
      "building tree 134 of 200[Parallel(n_jobs=-1)]: Done 126 tasks      | elapsed:   15.8s\n",
      "\n",
      "building tree 135 of 200[Parallel(n_jobs=-1)]: Done 127 tasks      | elapsed:   15.9s\n",
      "\n",
      "building tree 136 of 200[Parallel(n_jobs=-1)]: Done 128 tasks      | elapsed:   15.9s\n",
      "\n",
      "building tree 137 of 200[Parallel(n_jobs=-1)]: Done 129 tasks      | elapsed:   16.4s\n",
      "\n",
      "building tree 138 of 200[Parallel(n_jobs=-1)]: Done 130 tasks      | elapsed:   16.4s\n",
      "\n",
      "building tree 139 of 200[Parallel(n_jobs=-1)]: Done 131 tasks      | elapsed:   16.4s\n",
      "\n",
      "building tree 140 of 200[Parallel(n_jobs=-1)]: Done 132 tasks      | elapsed:   16.5s\n",
      "\n",
      "building tree 141 of 200[Parallel(n_jobs=-1)]: Done 133 tasks      | elapsed:   16.7s\n",
      "\n",
      "building tree 142 of 200[Parallel(n_jobs=-1)]: Done 134 tasks      | elapsed:   16.7s\n",
      "\n",
      "building tree 143 of 200[Parallel(n_jobs=-1)]: Done 135 tasks      | elapsed:   16.8s\n",
      "\n",
      "building tree 144 of 200[Parallel(n_jobs=-1)]: Done 136 tasks      | elapsed:   16.9s\n",
      "\n",
      "building tree 145 of 200[Parallel(n_jobs=-1)]: Done 137 tasks      | elapsed:   17.4s\n",
      "\n",
      "building tree 146 of 200[Parallel(n_jobs=-1)]: Done 138 tasks      | elapsed:   17.4s\n",
      "\n",
      "building tree 147 of 200[Parallel(n_jobs=-1)]: Done 139 tasks      | elapsed:   17.4s\n",
      "\n",
      "building tree 148 of 200[Parallel(n_jobs=-1)]: Done 140 tasks      | elapsed:   17.5s\n",
      "\n",
      "building tree 149 of 200[Parallel(n_jobs=-1)]: Done 141 tasks      | elapsed:   17.7s\n",
      "\n",
      "building tree 150 of 200[Parallel(n_jobs=-1)]: Done 142 tasks      | elapsed:   17.7s\n",
      "\n",
      "building tree 151 of 200[Parallel(n_jobs=-1)]: Done 143 tasks      | elapsed:   17.8s\n",
      "\n",
      "building tree 152 of 200[Parallel(n_jobs=-1)]: Done 144 tasks      | elapsed:   17.9s\n",
      "\n",
      "building tree 153 of 200[Parallel(n_jobs=-1)]: Done 145 tasks      | elapsed:   18.3s\n",
      "\n",
      "building tree 154 of 200[Parallel(n_jobs=-1)]: Done 146 tasks      | elapsed:   18.3s\n",
      "\n",
      "building tree 155 of 200[Parallel(n_jobs=-1)]: Done 147 tasks      | elapsed:   18.4s\n",
      "\n",
      "building tree 156 of 200[Parallel(n_jobs=-1)]: Done 148 tasks      | elapsed:   18.4s\n",
      "\n",
      "building tree 157 of 200[Parallel(n_jobs=-1)]: Done 149 tasks      | elapsed:   18.6s\n",
      "\n",
      "building tree 158 of 200[Parallel(n_jobs=-1)]: Done 150 tasks      | elapsed:   18.6s\n",
      "\n",
      "building tree 159 of 200[Parallel(n_jobs=-1)]: Done 151 tasks      | elapsed:   18.7s\n",
      "\n",
      "building tree 160 of 200[Parallel(n_jobs=-1)]: Done 152 tasks      | elapsed:   18.9s\n",
      "\n",
      "building tree 161 of 200[Parallel(n_jobs=-1)]: Done 153 tasks      | elapsed:   19.3s\n",
      "\n",
      "building tree 162 of 200[Parallel(n_jobs=-1)]: Done 154 tasks      | elapsed:   19.3s\n",
      "\n",
      "building tree 163 of 200[Parallel(n_jobs=-1)]: Done 155 tasks      | elapsed:   19.3s\n",
      "\n",
      "building tree 164 of 200[Parallel(n_jobs=-1)]: Done 156 tasks      | elapsed:   19.4s\n",
      "\n",
      "building tree 165 of 200[Parallel(n_jobs=-1)]: Done 157 tasks      | elapsed:   19.5s\n",
      "\n",
      "building tree 166 of 200\n",
      "[Parallel(n_jobs=-1)]: Done 158 tasks      | elapsed:   19.6s\n",
      "building tree 167 of 200[Parallel(n_jobs=-1)]: Done 159 tasks      | elapsed:   19.7s\n",
      "\n",
      "building tree 168 of 200[Parallel(n_jobs=-1)]: Done 160 tasks      | elapsed:   19.8s\n",
      "\n",
      "building tree 169 of 200[Parallel(n_jobs=-1)]: Done 161 tasks      | elapsed:   20.1s\n",
      "\n",
      "building tree 170 of 200[Parallel(n_jobs=-1)]: Done 162 tasks      | elapsed:   20.2s\n",
      "\n",
      "building tree 171 of 200[Parallel(n_jobs=-1)]: Done 163 tasks      | elapsed:   20.3s\n",
      "\n",
      "building tree 172 of 200[Parallel(n_jobs=-1)]: Done 164 tasks      | elapsed:   20.3s\n",
      "\n",
      "building tree 173 of 200[Parallel(n_jobs=-1)]: Done 165 tasks      | elapsed:   20.4s\n",
      "\n",
      "building tree 174 of 200[Parallel(n_jobs=-1)]: Done 166 tasks      | elapsed:   20.5s\n",
      "\n",
      "building tree 175 of 200[Parallel(n_jobs=-1)]: Done 167 tasks      | elapsed:   20.7s\n",
      "\n",
      "building tree 176 of 200[Parallel(n_jobs=-1)]: Done 168 tasks      | elapsed:   20.8s\n",
      "\n",
      "building tree 177 of 200[Parallel(n_jobs=-1)]: Done 169 tasks      | elapsed:   21.1s\n",
      "\n",
      "building tree 178 of 200[Parallel(n_jobs=-1)]: Done 170 tasks      | elapsed:   21.1s\n",
      "\n",
      "building tree 179 of 200[Parallel(n_jobs=-1)]: Done 171 tasks      | elapsed:   21.3s\n",
      "\n",
      "building tree 180 of 200[Parallel(n_jobs=-1)]: Done 172 tasks      | elapsed:   21.3s\n",
      "\n",
      "building tree 181 of 200[Parallel(n_jobs=-1)]: Done 173 tasks      | elapsed:   21.5s\n",
      "\n",
      "building tree 182 of 200[Parallel(n_jobs=-1)]: Done 174 tasks      | elapsed:   21.6s\n",
      "\n",
      "building tree 183 of 200[Parallel(n_jobs=-1)]: Done 175 tasks      | elapsed:   21.6s\n",
      "\n",
      "building tree 184 of 200[Parallel(n_jobs=-1)]: Done 176 tasks      | elapsed:   21.7s\n",
      "\n",
      "building tree 185 of 200[Parallel(n_jobs=-1)]: Done 177 tasks      | elapsed:   22.1s\n",
      "\n",
      "building tree 186 of 200[Parallel(n_jobs=-1)]: Done 178 tasks      | elapsed:   22.1s\n",
      "\n",
      "building tree 187 of 200[Parallel(n_jobs=-1)]: Done 179 tasks      | elapsed:   22.3s\n",
      "\n",
      "building tree 188 of 200[Parallel(n_jobs=-1)]: Done 180 tasks      | elapsed:   22.3s\n",
      "\n",
      "building tree 189 of 200[Parallel(n_jobs=-1)]: Done 181 tasks      | elapsed:   22.5s\n",
      "\n",
      "building tree 190 of 200[Parallel(n_jobs=-1)]: Done 182 tasks      | elapsed:   22.6s\n",
      "\n",
      "building tree 191 of 200[Parallel(n_jobs=-1)]: Done 183 tasks      | elapsed:   22.7s\n",
      "\n",
      "building tree 192 of 200[Parallel(n_jobs=-1)]: Done 184 tasks      | elapsed:   22.8s\n",
      "\n",
      "building tree 193 of 200[Parallel(n_jobs=-1)]: Done 185 tasks      | elapsed:   23.1s\n",
      "\n",
      "building tree 194 of 200\n",
      "building tree 195 of 200\n",
      "building tree 196 of 200[Parallel(n_jobs=-1)]: Done 188 out of 200 | elapsed:   23.3s remaining:    1.5s\n",
      "\n",
      "building tree 197 of 200\n",
      "building tree 198 of 200\n",
      "building tree 199 of 200[Parallel(n_jobs=-1)]: Done 191 out of 200 | elapsed:   23.6s remaining:    1.1s\n",
      "\n",
      "building tree 200 of 200\n",
      "[Parallel(n_jobs=-1)]: Done 194 out of 200 | elapsed:   24.1s remaining:    0.7s\n",
      "[Parallel(n_jobs=-1)]: Done 197 out of 200 | elapsed:   24.4s remaining:    0.4s\n",
      "[Parallel(n_jobs=-1)]: Done 200 out of 200 | elapsed:   24.5s remaining:    0.0s\n",
      "[Parallel(n_jobs=-1)]: Done 200 out of 200 | elapsed:   24.5s finished\n"
     ]
    },
    {
     "data": {
      "text/plain": [
       "0"
      ]
     },
     "execution_count": 4,
     "metadata": {},
     "output_type": "execute_result"
    }
   ],
   "source": [
    "output_name = \"play_outcome\"\n",
    "\n",
    "model_df = deepcopy(event_df)\n",
    "model_df[\"time_left_in_half\"] = event_df[\"time_left_in_game\"] - ((2 - event_df[\"half\"]) * 1800)\n",
    "model_df[\"from_scrimmage\"] = np.where(event_df[\"event_id\"].isin([22, 52, 53, 55, 47, 54, 56]), 0, event_df[\"from_scrimmage\"])\n",
    "model_df[\"ytg\"] = np.where(model_df[\"from_scrimmage\"] == 0, -1, event_df[\"ytg\"])\n",
    "model_df[\"down\"] = np.where(model_df[\"from_scrimmage\"] == 0, 0, event_df[\"down\"])\n",
    "model_df[\"home_team_has_ball\"] = np.where(event_df[\"event_id\"].isin([5]), 1 - event_df[\"home_team_has_ball\"], event_df[\"home_team_has_ball\"])\n",
    "model_df[\"yd_from_goal\"] = np.where(model_df[\"from_scrimmage\"] == 0, -1, event_df[\"yd_from_goal\"])\n",
    "\n",
    "\n",
    "input_names = [\n",
    "    # 'time_left_in_game',\n",
    "    'time_left_in_half',\n",
    "    'half',\n",
    "    'current_score_diff',\n",
    "    'current_score_total',\n",
    "    'cur_spread',\n",
    "    'cur_over_under',\n",
    "    'home_timeouts_remaining',\n",
    "    'away_timeouts_remaining',\n",
    "    # 'kick_off',\n",
    "    'punt',\n",
    "    # 'point_after_kick',\n",
    "    # 'two_point_attempt',\n",
    "    'field_goal_attempt',\n",
    "    # 'from_scrimmage',\n",
    "    'ytg',\n",
    "    'yd_from_goal',\n",
    "    'down',\n",
    "    'home_team_has_ball',\n",
    "\n",
    "]\n",
    "mask_model = (\n",
    "    (model_df.continuation==0)&\n",
    "    (model_df.down!=0)&\n",
    "    (model_df.play_counts==1)&\n",
    "    (model_df.event_id.isin(scrimmage_plays_we_want))&\n",
    "    (model_df[input_names+[output_name]].notna().all(axis=1))&\n",
    "    (model_df[\"from_scrimmage\"]==1)&\n",
    "    (model_df[\"overtime\"]==0)\n",
    ")\n",
    "X_train, y_train, group_train, X_test, y_test, group_test, X_val, y_val, group_val = create_train_test_val_df(model_df[mask_model], input_names, output_name)\n",
    "\n",
    "# mlp_play_outcome = MLPClassifier(hidden_layer_sizes=[100], verbose=True, early_stopping=True, n_iter_no_change=5, random_state=1)\n",
    "# mlp_play_outcome.fit(X_train, y_train)\n",
    "# rf_play_outcome = RandomForestClassifier(n_estimators=200, max_depth=15, verbose=100, n_jobs=-1, random_state=1)\n",
    "# rf_play_outcome.fit(X_train, y_train)\n",
    "# pickle.dump(mlp_play_outcome, open(os.path.join(root_dir, 'models/mlp_play_outcome.p'), 'wb'))\n",
    "# pickle.dump(rf_play_outcome, open(os.path.join(root_dir, 'models/rf_play_outcome.p'), 'wb'))\n",
    "\n",
    "\n",
    "\n",
    "# logit_play_outcome_basic = LogisticRegression(solver='liblinear', random_state=0)\n",
    "# logit_play_outcome_basic.fit(X_train, y_train)\n",
    "# pickle.dump(logit_play_outcome_basic, open(os.path.join(root_dir, 'models/logit_play_outcome_basic.p'), 'wb'))\n",
    "\n",
    "\n",
    "mlp_play_outcome = pickle.load(open(os.path.join(root_dir, \"models/mlp_play_outcome.p\"), 'rb'))\n",
    "rf_play_outcome = pickle.load(open(os.path.join(root_dir, \"models/rf_play_outcome.p\"), 'rb'))\n",
    "logit_play_outcome_basic = pickle.load(open(os.path.join(root_dir, \"models/logit_play_outcome_basic.p\"), 'rb'))\n",
    "os.system('say \"done\"')\n"
   ]
  },
  {
   "cell_type": "code",
   "execution_count": 54,
   "metadata": {},
   "outputs": [],
   "source": []
  },
  {
   "cell_type": "code",
   "execution_count": 7,
   "metadata": {},
   "outputs": [],
   "source": [
    "def ProbaScoreProxy(y_true, y_probs, proxied_func, **kwargs):\n",
    "    return proxied_func(y_true, y_probs, **kwargs)\n",
    "\n",
    "\n",
    "log_loss_scorer = make_scorer(\n",
    "    ProbaScoreProxy,\n",
    "    greater_is_better=False,  # True\n",
    "    needs_proba=True,\n",
    "    proxied_func=log_loss,\n",
    ")"
   ]
  },
  {
   "cell_type": "code",
   "execution_count": 10,
   "metadata": {},
   "outputs": [
    {
     "data": {
      "text/plain": [
       "2               none\n",
       "3               none\n",
       "4         first_down\n",
       "5               none\n",
       "6         first_down\n",
       "             ...    \n",
       "698479      turnover\n",
       "698481          none\n",
       "698483          none\n",
       "698485          none\n",
       "698487          none\n",
       "Name: play_outcome, Length: 446629, dtype: object"
      ]
     },
     "execution_count": 10,
     "metadata": {},
     "output_type": "execute_result"
    }
   ],
   "source": [
    "y_train"
   ]
  },
  {
   "cell_type": "code",
   "execution_count": 18,
   "metadata": {},
   "outputs": [
    {
     "name": "stdout",
     "output_type": "stream",
     "text": [
      "Fitting 3 folds for each of 30 candidates, totalling 90 fits\n",
      "[CV 1/3; 1/30] START bootstrap=False, max_depth=11, max_features=sqrt, min_samples_leaf=1, min_samples_split=10, n_estimators=250\n"
     ]
    },
    {
     "name": "stderr",
     "output_type": "stream",
     "text": [
      "[Parallel(n_jobs=-1)]: Using backend LokyBackend with 8 concurrent workers.\n",
      "[Parallel(n_jobs=-1)]: Done  34 tasks      | elapsed:    3.1s\n",
      "[Parallel(n_jobs=-1)]: Done 184 tasks      | elapsed:   14.0s\n",
      "[Parallel(n_jobs=-1)]: Done 250 out of 250 | elapsed:   18.6s finished\n",
      "[Parallel(n_jobs=8)]: Using backend ThreadingBackend with 8 concurrent workers.\n",
      "[Parallel(n_jobs=8)]: Done  34 tasks      | elapsed:    0.1s\n",
      "[Parallel(n_jobs=8)]: Done 184 tasks      | elapsed:    0.6s\n",
      "[Parallel(n_jobs=8)]: Done 250 out of 250 | elapsed:    0.8s finished\n"
     ]
    },
    {
     "name": "stdout",
     "output_type": "stream",
     "text": [
      "[CV 1/3; 1/30] END bootstrap=False, max_depth=11, max_features=sqrt, min_samples_leaf=1, min_samples_split=10, n_estimators=250;, score=-0.664 total time=  21.1s\n",
      "[CV 2/3; 1/30] START bootstrap=False, max_depth=11, max_features=sqrt, min_samples_leaf=1, min_samples_split=10, n_estimators=250\n"
     ]
    },
    {
     "name": "stderr",
     "output_type": "stream",
     "text": [
      "[Parallel(n_jobs=-1)]: Using backend LokyBackend with 8 concurrent workers.\n",
      "[Parallel(n_jobs=-1)]: Done  34 tasks      | elapsed:    2.9s\n",
      "[Parallel(n_jobs=-1)]: Done 184 tasks      | elapsed:   13.8s\n",
      "[Parallel(n_jobs=-1)]: Done 250 out of 250 | elapsed:   18.5s finished\n",
      "[Parallel(n_jobs=8)]: Using backend ThreadingBackend with 8 concurrent workers.\n",
      "[Parallel(n_jobs=8)]: Done  34 tasks      | elapsed:    0.1s\n",
      "[Parallel(n_jobs=8)]: Done 184 tasks      | elapsed:    0.7s\n",
      "[Parallel(n_jobs=8)]: Done 250 out of 250 | elapsed:    0.9s finished\n"
     ]
    },
    {
     "name": "stdout",
     "output_type": "stream",
     "text": [
      "[CV 2/3; 1/30] END bootstrap=False, max_depth=11, max_features=sqrt, min_samples_leaf=1, min_samples_split=10, n_estimators=250;, score=-0.666 total time=  21.0s\n",
      "[CV 3/3; 1/30] START bootstrap=False, max_depth=11, max_features=sqrt, min_samples_leaf=1, min_samples_split=10, n_estimators=250\n"
     ]
    },
    {
     "name": "stderr",
     "output_type": "stream",
     "text": [
      "[Parallel(n_jobs=-1)]: Using backend LokyBackend with 8 concurrent workers.\n",
      "[Parallel(n_jobs=-1)]: Done  34 tasks      | elapsed:    2.9s\n",
      "[Parallel(n_jobs=-1)]: Done 184 tasks      | elapsed:   13.5s\n",
      "[Parallel(n_jobs=-1)]: Done 250 out of 250 | elapsed:   18.1s finished\n",
      "[Parallel(n_jobs=8)]: Using backend ThreadingBackend with 8 concurrent workers.\n",
      "[Parallel(n_jobs=8)]: Done  34 tasks      | elapsed:    0.1s\n",
      "[Parallel(n_jobs=8)]: Done 184 tasks      | elapsed:    0.6s\n",
      "[Parallel(n_jobs=8)]: Done 250 out of 250 | elapsed:    0.8s finished\n"
     ]
    },
    {
     "name": "stdout",
     "output_type": "stream",
     "text": [
      "[CV 3/3; 1/30] END bootstrap=False, max_depth=11, max_features=sqrt, min_samples_leaf=1, min_samples_split=10, n_estimators=250;, score=-0.662 total time=  20.6s\n",
      "[CV 1/3; 2/30] START bootstrap=False, max_depth=13, max_features=auto, min_samples_leaf=4, min_samples_split=10, n_estimators=400\n"
     ]
    },
    {
     "name": "stderr",
     "output_type": "stream",
     "text": [
      "[Parallel(n_jobs=-1)]: Using backend LokyBackend with 8 concurrent workers.\n",
      "[Parallel(n_jobs=-1)]: Done  34 tasks      | elapsed:    3.4s\n",
      "[Parallel(n_jobs=-1)]: Done 184 tasks      | elapsed:   15.8s\n",
      "[Parallel(n_jobs=-1)]: Done 400 out of 400 | elapsed:   33.3s finished\n",
      "[Parallel(n_jobs=8)]: Using backend ThreadingBackend with 8 concurrent workers.\n",
      "[Parallel(n_jobs=8)]: Done  34 tasks      | elapsed:    0.2s\n",
      "[Parallel(n_jobs=8)]: Done 184 tasks      | elapsed:    0.7s\n",
      "[Parallel(n_jobs=8)]: Done 400 out of 400 | elapsed:    1.4s finished\n"
     ]
    },
    {
     "name": "stdout",
     "output_type": "stream",
     "text": [
      "[CV 1/3; 2/30] END bootstrap=False, max_depth=13, max_features=auto, min_samples_leaf=4, min_samples_split=10, n_estimators=400;, score=-0.660 total time=  36.4s\n",
      "[CV 2/3; 2/30] START bootstrap=False, max_depth=13, max_features=auto, min_samples_leaf=4, min_samples_split=10, n_estimators=400\n"
     ]
    },
    {
     "name": "stderr",
     "output_type": "stream",
     "text": [
      "[Parallel(n_jobs=-1)]: Using backend LokyBackend with 8 concurrent workers.\n",
      "[Parallel(n_jobs=-1)]: Done  34 tasks      | elapsed:    3.3s\n",
      "[Parallel(n_jobs=-1)]: Done 184 tasks      | elapsed:   15.9s\n",
      "[Parallel(n_jobs=-1)]: Done 400 out of 400 | elapsed:   33.3s finished\n",
      "[Parallel(n_jobs=8)]: Using backend ThreadingBackend with 8 concurrent workers.\n",
      "[Parallel(n_jobs=8)]: Done  34 tasks      | elapsed:    0.2s\n",
      "[Parallel(n_jobs=8)]: Done 184 tasks      | elapsed:    0.8s\n",
      "[Parallel(n_jobs=8)]: Done 400 out of 400 | elapsed:    1.5s finished\n"
     ]
    },
    {
     "name": "stdout",
     "output_type": "stream",
     "text": [
      "[CV 2/3; 2/30] END bootstrap=False, max_depth=13, max_features=auto, min_samples_leaf=4, min_samples_split=10, n_estimators=400;, score=-0.663 total time=  36.4s\n",
      "[CV 3/3; 2/30] START bootstrap=False, max_depth=13, max_features=auto, min_samples_leaf=4, min_samples_split=10, n_estimators=400\n"
     ]
    },
    {
     "name": "stderr",
     "output_type": "stream",
     "text": [
      "[Parallel(n_jobs=-1)]: Using backend LokyBackend with 8 concurrent workers.\n",
      "[Parallel(n_jobs=-1)]: Done  34 tasks      | elapsed:    3.3s\n",
      "[Parallel(n_jobs=-1)]: Done 184 tasks      | elapsed:   16.1s\n",
      "[Parallel(n_jobs=-1)]: Done 400 out of 400 | elapsed:   34.0s finished\n",
      "[Parallel(n_jobs=8)]: Using backend ThreadingBackend with 8 concurrent workers.\n",
      "[Parallel(n_jobs=8)]: Done  34 tasks      | elapsed:    0.2s\n",
      "[Parallel(n_jobs=8)]: Done 184 tasks      | elapsed:    0.7s\n",
      "[Parallel(n_jobs=8)]: Done 400 out of 400 | elapsed:    1.4s finished\n"
     ]
    },
    {
     "name": "stdout",
     "output_type": "stream",
     "text": [
      "[CV 3/3; 2/30] END bootstrap=False, max_depth=13, max_features=auto, min_samples_leaf=4, min_samples_split=10, n_estimators=400;, score=-0.658 total time=  37.0s\n",
      "[CV 1/3; 3/30] START bootstrap=True, max_depth=9, max_features=sqrt, min_samples_leaf=2, min_samples_split=10, n_estimators=50\n"
     ]
    },
    {
     "name": "stderr",
     "output_type": "stream",
     "text": [
      "[Parallel(n_jobs=-1)]: Using backend LokyBackend with 8 concurrent workers.\n",
      "[Parallel(n_jobs=-1)]: Done  34 tasks      | elapsed:    2.2s\n",
      "[Parallel(n_jobs=-1)]: Done  50 out of  50 | elapsed:    3.0s finished\n",
      "[Parallel(n_jobs=8)]: Using backend ThreadingBackend with 8 concurrent workers.\n",
      "[Parallel(n_jobs=8)]: Done  34 tasks      | elapsed:    0.1s\n",
      "[Parallel(n_jobs=8)]: Done  50 out of  50 | elapsed:    0.2s finished\n"
     ]
    },
    {
     "name": "stdout",
     "output_type": "stream",
     "text": [
      "[CV 1/3; 3/30] END bootstrap=True, max_depth=9, max_features=sqrt, min_samples_leaf=2, min_samples_split=10, n_estimators=50;, score=-0.670 total time=   4.7s\n",
      "[CV 2/3; 3/30] START bootstrap=True, max_depth=9, max_features=sqrt, min_samples_leaf=2, min_samples_split=10, n_estimators=50\n"
     ]
    },
    {
     "name": "stderr",
     "output_type": "stream",
     "text": [
      "[Parallel(n_jobs=-1)]: Using backend LokyBackend with 8 concurrent workers.\n",
      "[Parallel(n_jobs=-1)]: Done  34 tasks      | elapsed:    2.2s\n",
      "[Parallel(n_jobs=-1)]: Done  50 out of  50 | elapsed:    2.9s finished\n",
      "[Parallel(n_jobs=8)]: Using backend ThreadingBackend with 8 concurrent workers.\n",
      "[Parallel(n_jobs=8)]: Done  34 tasks      | elapsed:    0.1s\n",
      "[Parallel(n_jobs=8)]: Done  50 out of  50 | elapsed:    0.2s finished\n"
     ]
    },
    {
     "name": "stdout",
     "output_type": "stream",
     "text": [
      "[CV 2/3; 3/30] END bootstrap=True, max_depth=9, max_features=sqrt, min_samples_leaf=2, min_samples_split=10, n_estimators=50;, score=-0.673 total time=   4.7s\n",
      "[CV 3/3; 3/30] START bootstrap=True, max_depth=9, max_features=sqrt, min_samples_leaf=2, min_samples_split=10, n_estimators=50\n"
     ]
    },
    {
     "name": "stderr",
     "output_type": "stream",
     "text": [
      "[Parallel(n_jobs=-1)]: Using backend LokyBackend with 8 concurrent workers.\n",
      "[Parallel(n_jobs=-1)]: Done  34 tasks      | elapsed:    2.3s\n",
      "[Parallel(n_jobs=-1)]: Done  50 out of  50 | elapsed:    3.0s finished\n",
      "[Parallel(n_jobs=8)]: Using backend ThreadingBackend with 8 concurrent workers.\n",
      "[Parallel(n_jobs=8)]: Done  34 tasks      | elapsed:    0.1s\n",
      "[Parallel(n_jobs=8)]: Done  50 out of  50 | elapsed:    0.2s finished\n"
     ]
    },
    {
     "name": "stdout",
     "output_type": "stream",
     "text": [
      "[CV 3/3; 3/30] END bootstrap=True, max_depth=9, max_features=sqrt, min_samples_leaf=2, min_samples_split=10, n_estimators=50;, score=-0.669 total time=   4.7s\n",
      "[CV 1/3; 4/30] START bootstrap=True, max_depth=12, max_features=auto, min_samples_leaf=2, min_samples_split=2, n_estimators=250\n"
     ]
    },
    {
     "name": "stderr",
     "output_type": "stream",
     "text": [
      "[Parallel(n_jobs=-1)]: Using backend LokyBackend with 8 concurrent workers.\n",
      "[Parallel(n_jobs=-1)]: Done  34 tasks      | elapsed:    2.7s\n",
      "[Parallel(n_jobs=-1)]: Done 184 tasks      | elapsed:   12.7s\n",
      "[Parallel(n_jobs=-1)]: Done 250 out of 250 | elapsed:   17.0s finished\n",
      "[Parallel(n_jobs=8)]: Using backend ThreadingBackend with 8 concurrent workers.\n",
      "[Parallel(n_jobs=8)]: Done  34 tasks      | elapsed:    0.1s\n",
      "[Parallel(n_jobs=8)]: Done 184 tasks      | elapsed:    0.6s\n",
      "[Parallel(n_jobs=8)]: Done 250 out of 250 | elapsed:    0.8s finished\n"
     ]
    },
    {
     "name": "stdout",
     "output_type": "stream",
     "text": [
      "[CV 1/3; 4/30] END bootstrap=True, max_depth=12, max_features=auto, min_samples_leaf=2, min_samples_split=2, n_estimators=250;, score=-0.661 total time=  19.4s\n",
      "[CV 2/3; 4/30] START bootstrap=True, max_depth=12, max_features=auto, min_samples_leaf=2, min_samples_split=2, n_estimators=250\n"
     ]
    },
    {
     "name": "stderr",
     "output_type": "stream",
     "text": [
      "[Parallel(n_jobs=-1)]: Using backend LokyBackend with 8 concurrent workers.\n",
      "[Parallel(n_jobs=-1)]: Done  34 tasks      | elapsed:    2.7s\n",
      "[Parallel(n_jobs=-1)]: Done 184 tasks      | elapsed:   13.5s\n",
      "[Parallel(n_jobs=-1)]: Done 250 out of 250 | elapsed:   18.0s finished\n",
      "[Parallel(n_jobs=8)]: Using backend ThreadingBackend with 8 concurrent workers.\n",
      "[Parallel(n_jobs=8)]: Done  34 tasks      | elapsed:    0.1s\n",
      "[Parallel(n_jobs=8)]: Done 184 tasks      | elapsed:    0.7s\n",
      "[Parallel(n_jobs=8)]: Done 250 out of 250 | elapsed:    0.9s finished\n"
     ]
    },
    {
     "name": "stdout",
     "output_type": "stream",
     "text": [
      "[CV 2/3; 4/30] END bootstrap=True, max_depth=12, max_features=auto, min_samples_leaf=2, min_samples_split=2, n_estimators=250;, score=-0.665 total time=  20.5s\n",
      "[CV 3/3; 4/30] START bootstrap=True, max_depth=12, max_features=auto, min_samples_leaf=2, min_samples_split=2, n_estimators=250\n"
     ]
    },
    {
     "name": "stderr",
     "output_type": "stream",
     "text": [
      "[Parallel(n_jobs=-1)]: Using backend LokyBackend with 8 concurrent workers.\n",
      "[Parallel(n_jobs=-1)]: Done  34 tasks      | elapsed:    3.0s\n",
      "[Parallel(n_jobs=-1)]: Done 184 tasks      | elapsed:   13.2s\n",
      "[Parallel(n_jobs=-1)]: Done 250 out of 250 | elapsed:   17.6s finished\n",
      "[Parallel(n_jobs=8)]: Using backend ThreadingBackend with 8 concurrent workers.\n",
      "[Parallel(n_jobs=8)]: Done  34 tasks      | elapsed:    0.1s\n",
      "[Parallel(n_jobs=8)]: Done 184 tasks      | elapsed:    0.6s\n",
      "[Parallel(n_jobs=8)]: Done 250 out of 250 | elapsed:    0.8s finished\n"
     ]
    },
    {
     "name": "stdout",
     "output_type": "stream",
     "text": [
      "[CV 3/3; 4/30] END bootstrap=True, max_depth=12, max_features=auto, min_samples_leaf=2, min_samples_split=2, n_estimators=250;, score=-0.660 total time=  20.1s\n",
      "[CV 1/3; 5/30] START bootstrap=True, max_depth=11, max_features=auto, min_samples_leaf=2, min_samples_split=10, n_estimators=50\n"
     ]
    },
    {
     "name": "stderr",
     "output_type": "stream",
     "text": [
      "[Parallel(n_jobs=-1)]: Using backend LokyBackend with 8 concurrent workers.\n",
      "[Parallel(n_jobs=-1)]: Done  34 tasks      | elapsed:    2.6s\n",
      "[Parallel(n_jobs=-1)]: Done  50 out of  50 | elapsed:    3.4s finished\n",
      "[Parallel(n_jobs=8)]: Using backend ThreadingBackend with 8 concurrent workers.\n",
      "[Parallel(n_jobs=8)]: Done  34 tasks      | elapsed:    0.1s\n",
      "[Parallel(n_jobs=8)]: Done  50 out of  50 | elapsed:    0.2s finished\n"
     ]
    },
    {
     "name": "stdout",
     "output_type": "stream",
     "text": [
      "[CV 1/3; 5/30] END bootstrap=True, max_depth=11, max_features=auto, min_samples_leaf=2, min_samples_split=10, n_estimators=50;, score=-0.664 total time=   5.2s\n",
      "[CV 2/3; 5/30] START bootstrap=True, max_depth=11, max_features=auto, min_samples_leaf=2, min_samples_split=10, n_estimators=50\n"
     ]
    },
    {
     "name": "stderr",
     "output_type": "stream",
     "text": [
      "[Parallel(n_jobs=-1)]: Using backend LokyBackend with 8 concurrent workers.\n",
      "[Parallel(n_jobs=-1)]: Done  34 tasks      | elapsed:    2.5s\n",
      "[Parallel(n_jobs=-1)]: Done  50 out of  50 | elapsed:    3.4s finished\n",
      "[Parallel(n_jobs=8)]: Using backend ThreadingBackend with 8 concurrent workers.\n",
      "[Parallel(n_jobs=8)]: Done  34 tasks      | elapsed:    0.2s\n",
      "[Parallel(n_jobs=8)]: Done  50 out of  50 | elapsed:    0.2s finished\n"
     ]
    },
    {
     "name": "stdout",
     "output_type": "stream",
     "text": [
      "[CV 2/3; 5/30] END bootstrap=True, max_depth=11, max_features=auto, min_samples_leaf=2, min_samples_split=10, n_estimators=50;, score=-0.667 total time=   5.2s\n",
      "[CV 3/3; 5/30] START bootstrap=True, max_depth=11, max_features=auto, min_samples_leaf=2, min_samples_split=10, n_estimators=50\n"
     ]
    },
    {
     "name": "stderr",
     "output_type": "stream",
     "text": [
      "[Parallel(n_jobs=-1)]: Using backend LokyBackend with 8 concurrent workers.\n",
      "[Parallel(n_jobs=-1)]: Done  34 tasks      | elapsed:    2.6s\n",
      "[Parallel(n_jobs=-1)]: Done  50 out of  50 | elapsed:    3.4s finished\n",
      "[Parallel(n_jobs=8)]: Using backend ThreadingBackend with 8 concurrent workers.\n",
      "[Parallel(n_jobs=8)]: Done  34 tasks      | elapsed:    0.1s\n",
      "[Parallel(n_jobs=8)]: Done  50 out of  50 | elapsed:    0.2s finished\n"
     ]
    },
    {
     "name": "stdout",
     "output_type": "stream",
     "text": [
      "[CV 3/3; 5/30] END bootstrap=True, max_depth=11, max_features=auto, min_samples_leaf=2, min_samples_split=10, n_estimators=50;, score=-0.662 total time=   5.2s\n",
      "[CV 1/3; 6/30] START bootstrap=True, max_depth=11, max_features=auto, min_samples_leaf=1, min_samples_split=5, n_estimators=300\n"
     ]
    },
    {
     "name": "stderr",
     "output_type": "stream",
     "text": [
      "[Parallel(n_jobs=-1)]: Using backend LokyBackend with 8 concurrent workers.\n",
      "[Parallel(n_jobs=-1)]: Done  34 tasks      | elapsed:    2.5s\n",
      "[Parallel(n_jobs=-1)]: Done 184 tasks      | elapsed:   12.3s\n",
      "[Parallel(n_jobs=-1)]: Done 300 out of 300 | elapsed:   19.4s finished\n",
      "[Parallel(n_jobs=8)]: Using backend ThreadingBackend with 8 concurrent workers.\n",
      "[Parallel(n_jobs=8)]: Done  34 tasks      | elapsed:    0.1s\n",
      "[Parallel(n_jobs=8)]: Done 184 tasks      | elapsed:    0.6s\n",
      "[Parallel(n_jobs=8)]: Done 300 out of 300 | elapsed:    0.9s finished\n"
     ]
    },
    {
     "name": "stdout",
     "output_type": "stream",
     "text": [
      "[CV 1/3; 6/30] END bootstrap=True, max_depth=11, max_features=auto, min_samples_leaf=1, min_samples_split=5, n_estimators=300;, score=-0.664 total time=  21.9s\n",
      "[CV 2/3; 6/30] START bootstrap=True, max_depth=11, max_features=auto, min_samples_leaf=1, min_samples_split=5, n_estimators=300\n"
     ]
    },
    {
     "name": "stderr",
     "output_type": "stream",
     "text": [
      "[Parallel(n_jobs=-1)]: Using backend LokyBackend with 8 concurrent workers.\n",
      "[Parallel(n_jobs=-1)]: Done  34 tasks      | elapsed:    2.7s\n",
      "[Parallel(n_jobs=-1)]: Done 184 tasks      | elapsed:   12.2s\n",
      "[Parallel(n_jobs=-1)]: Done 300 out of 300 | elapsed:   19.6s finished\n",
      "[Parallel(n_jobs=8)]: Using backend ThreadingBackend with 8 concurrent workers.\n",
      "[Parallel(n_jobs=8)]: Done  34 tasks      | elapsed:    0.1s\n",
      "[Parallel(n_jobs=8)]: Done 184 tasks      | elapsed:    0.6s\n",
      "[Parallel(n_jobs=8)]: Done 300 out of 300 | elapsed:    0.9s finished\n"
     ]
    },
    {
     "name": "stdout",
     "output_type": "stream",
     "text": [
      "[CV 2/3; 6/30] END bootstrap=True, max_depth=11, max_features=auto, min_samples_leaf=1, min_samples_split=5, n_estimators=300;, score=-0.667 total time=  22.2s\n",
      "[CV 3/3; 6/30] START bootstrap=True, max_depth=11, max_features=auto, min_samples_leaf=1, min_samples_split=5, n_estimators=300\n"
     ]
    },
    {
     "name": "stderr",
     "output_type": "stream",
     "text": [
      "[Parallel(n_jobs=-1)]: Using backend LokyBackend with 8 concurrent workers.\n",
      "[Parallel(n_jobs=-1)]: Done  34 tasks      | elapsed:    2.5s\n",
      "[Parallel(n_jobs=-1)]: Done 184 tasks      | elapsed:   12.0s\n",
      "[Parallel(n_jobs=-1)]: Done 300 out of 300 | elapsed:   19.2s finished\n",
      "[Parallel(n_jobs=8)]: Using backend ThreadingBackend with 8 concurrent workers.\n",
      "[Parallel(n_jobs=8)]: Done  34 tasks      | elapsed:    0.1s\n",
      "[Parallel(n_jobs=8)]: Done 184 tasks      | elapsed:    0.6s\n",
      "[Parallel(n_jobs=8)]: Done 300 out of 300 | elapsed:    0.9s finished\n"
     ]
    },
    {
     "name": "stdout",
     "output_type": "stream",
     "text": [
      "[CV 3/3; 6/30] END bootstrap=True, max_depth=11, max_features=auto, min_samples_leaf=1, min_samples_split=5, n_estimators=300;, score=-0.662 total time=  21.8s\n",
      "[CV 1/3; 7/30] START bootstrap=False, max_depth=14, max_features=sqrt, min_samples_leaf=4, min_samples_split=10, n_estimators=150\n"
     ]
    },
    {
     "name": "stderr",
     "output_type": "stream",
     "text": [
      "[Parallel(n_jobs=-1)]: Using backend LokyBackend with 8 concurrent workers.\n",
      "[Parallel(n_jobs=-1)]: Done  34 tasks      | elapsed:    3.5s\n",
      "[Parallel(n_jobs=-1)]: Done 150 out of 150 | elapsed:   13.4s finished\n",
      "[Parallel(n_jobs=8)]: Using backend ThreadingBackend with 8 concurrent workers.\n",
      "[Parallel(n_jobs=8)]: Done  34 tasks      | elapsed:    0.2s\n",
      "[Parallel(n_jobs=8)]: Done 150 out of 150 | elapsed:    0.6s finished\n"
     ]
    },
    {
     "name": "stdout",
     "output_type": "stream",
     "text": [
      "[CV 1/3; 7/30] END bootstrap=False, max_depth=14, max_features=sqrt, min_samples_leaf=4, min_samples_split=10, n_estimators=150;, score=-0.659 total time=  15.6s\n",
      "[CV 2/3; 7/30] START bootstrap=False, max_depth=14, max_features=sqrt, min_samples_leaf=4, min_samples_split=10, n_estimators=150\n"
     ]
    },
    {
     "name": "stderr",
     "output_type": "stream",
     "text": [
      "[Parallel(n_jobs=-1)]: Using backend LokyBackend with 8 concurrent workers.\n",
      "[Parallel(n_jobs=-1)]: Done  34 tasks      | elapsed:    3.6s\n",
      "[Parallel(n_jobs=-1)]: Done 150 out of 150 | elapsed:   13.6s finished\n",
      "[Parallel(n_jobs=8)]: Using backend ThreadingBackend with 8 concurrent workers.\n",
      "[Parallel(n_jobs=8)]: Done  34 tasks      | elapsed:    0.2s\n",
      "[Parallel(n_jobs=8)]: Done 150 out of 150 | elapsed:    0.6s finished\n"
     ]
    },
    {
     "name": "stdout",
     "output_type": "stream",
     "text": [
      "[CV 2/3; 7/30] END bootstrap=False, max_depth=14, max_features=sqrt, min_samples_leaf=4, min_samples_split=10, n_estimators=150;, score=-0.662 total time=  15.7s\n",
      "[CV 3/3; 7/30] START bootstrap=False, max_depth=14, max_features=sqrt, min_samples_leaf=4, min_samples_split=10, n_estimators=150\n"
     ]
    },
    {
     "name": "stderr",
     "output_type": "stream",
     "text": [
      "[Parallel(n_jobs=-1)]: Using backend LokyBackend with 8 concurrent workers.\n",
      "[Parallel(n_jobs=-1)]: Done  34 tasks      | elapsed:    3.5s\n",
      "[Parallel(n_jobs=-1)]: Done 150 out of 150 | elapsed:   13.4s finished\n",
      "[Parallel(n_jobs=8)]: Using backend ThreadingBackend with 8 concurrent workers.\n",
      "[Parallel(n_jobs=8)]: Done  34 tasks      | elapsed:    0.2s\n",
      "[Parallel(n_jobs=8)]: Done 150 out of 150 | elapsed:    0.6s finished\n"
     ]
    },
    {
     "name": "stdout",
     "output_type": "stream",
     "text": [
      "[CV 3/3; 7/30] END bootstrap=False, max_depth=14, max_features=sqrt, min_samples_leaf=4, min_samples_split=10, n_estimators=150;, score=-0.657 total time=  15.6s\n",
      "[CV 1/3; 8/30] START bootstrap=False, max_depth=11, max_features=auto, min_samples_leaf=2, min_samples_split=2, n_estimators=150\n"
     ]
    },
    {
     "name": "stderr",
     "output_type": "stream",
     "text": [
      "[Parallel(n_jobs=-1)]: Using backend LokyBackend with 8 concurrent workers.\n",
      "[Parallel(n_jobs=-1)]: Done  34 tasks      | elapsed:    2.9s\n",
      "[Parallel(n_jobs=-1)]: Done 150 out of 150 | elapsed:   11.2s finished\n",
      "[Parallel(n_jobs=8)]: Using backend ThreadingBackend with 8 concurrent workers.\n",
      "[Parallel(n_jobs=8)]: Done  34 tasks      | elapsed:    0.1s\n",
      "[Parallel(n_jobs=8)]: Done 150 out of 150 | elapsed:    0.5s finished\n"
     ]
    },
    {
     "name": "stdout",
     "output_type": "stream",
     "text": [
      "[CV 1/3; 8/30] END bootstrap=False, max_depth=11, max_features=auto, min_samples_leaf=2, min_samples_split=2, n_estimators=150;, score=-0.664 total time=  13.3s\n",
      "[CV 2/3; 8/30] START bootstrap=False, max_depth=11, max_features=auto, min_samples_leaf=2, min_samples_split=2, n_estimators=150\n"
     ]
    },
    {
     "name": "stderr",
     "output_type": "stream",
     "text": [
      "[Parallel(n_jobs=-1)]: Using backend LokyBackend with 8 concurrent workers.\n",
      "[Parallel(n_jobs=-1)]: Done  34 tasks      | elapsed:    2.8s\n",
      "[Parallel(n_jobs=-1)]: Done 150 out of 150 | elapsed:   11.0s finished\n",
      "[Parallel(n_jobs=8)]: Using backend ThreadingBackend with 8 concurrent workers.\n",
      "[Parallel(n_jobs=8)]: Done  34 tasks      | elapsed:    0.1s\n",
      "[Parallel(n_jobs=8)]: Done 150 out of 150 | elapsed:    0.5s finished\n"
     ]
    },
    {
     "name": "stdout",
     "output_type": "stream",
     "text": [
      "[CV 2/3; 8/30] END bootstrap=False, max_depth=11, max_features=auto, min_samples_leaf=2, min_samples_split=2, n_estimators=150;, score=-0.667 total time=  13.1s\n",
      "[CV 3/3; 8/30] START bootstrap=False, max_depth=11, max_features=auto, min_samples_leaf=2, min_samples_split=2, n_estimators=150\n"
     ]
    },
    {
     "name": "stderr",
     "output_type": "stream",
     "text": [
      "[Parallel(n_jobs=-1)]: Using backend LokyBackend with 8 concurrent workers.\n",
      "[Parallel(n_jobs=-1)]: Done  34 tasks      | elapsed:    2.9s\n",
      "[Parallel(n_jobs=-1)]: Done 150 out of 150 | elapsed:   12.9s finished\n",
      "[Parallel(n_jobs=8)]: Using backend ThreadingBackend with 8 concurrent workers.\n",
      "[Parallel(n_jobs=8)]: Done  34 tasks      | elapsed:    0.2s\n",
      "[Parallel(n_jobs=8)]: Done 150 out of 150 | elapsed:    0.7s finished\n"
     ]
    },
    {
     "name": "stdout",
     "output_type": "stream",
     "text": [
      "[CV 3/3; 8/30] END bootstrap=False, max_depth=11, max_features=auto, min_samples_leaf=2, min_samples_split=2, n_estimators=150;, score=-0.662 total time=  15.3s\n",
      "[CV 1/3; 9/30] START bootstrap=True, max_depth=14, max_features=auto, min_samples_leaf=1, min_samples_split=5, n_estimators=450\n"
     ]
    },
    {
     "name": "stderr",
     "output_type": "stream",
     "text": [
      "[Parallel(n_jobs=-1)]: Using backend LokyBackend with 8 concurrent workers.\n",
      "[Parallel(n_jobs=-1)]: Done  34 tasks      | elapsed:    3.7s\n",
      "[Parallel(n_jobs=-1)]: Done 184 tasks      | elapsed:   17.5s\n",
      "[Parallel(n_jobs=-1)]: Done 434 tasks      | elapsed:   39.4s\n",
      "[Parallel(n_jobs=-1)]: Done 450 out of 450 | elapsed:   40.6s finished\n",
      "[Parallel(n_jobs=8)]: Using backend ThreadingBackend with 8 concurrent workers.\n",
      "[Parallel(n_jobs=8)]: Done  34 tasks      | elapsed:    0.2s\n",
      "[Parallel(n_jobs=8)]: Done 184 tasks      | elapsed:    0.8s\n",
      "[Parallel(n_jobs=8)]: Done 434 tasks      | elapsed:    1.8s\n",
      "[Parallel(n_jobs=8)]: Done 450 out of 450 | elapsed:    1.8s finished\n"
     ]
    },
    {
     "name": "stdout",
     "output_type": "stream",
     "text": [
      "[CV 1/3; 9/30] END bootstrap=True, max_depth=14, max_features=auto, min_samples_leaf=1, min_samples_split=5, n_estimators=450;, score=-0.659 total time=  44.3s\n",
      "[CV 2/3; 9/30] START bootstrap=True, max_depth=14, max_features=auto, min_samples_leaf=1, min_samples_split=5, n_estimators=450\n"
     ]
    },
    {
     "name": "stderr",
     "output_type": "stream",
     "text": [
      "[Parallel(n_jobs=-1)]: Using backend LokyBackend with 8 concurrent workers.\n",
      "[Parallel(n_jobs=-1)]: Done  34 tasks      | elapsed:    3.3s\n",
      "[Parallel(n_jobs=-1)]: Done 184 tasks      | elapsed:   16.9s\n",
      "[Parallel(n_jobs=-1)]: Done 434 tasks      | elapsed:   38.9s\n",
      "[Parallel(n_jobs=-1)]: Done 450 out of 450 | elapsed:   40.1s finished\n",
      "[Parallel(n_jobs=8)]: Using backend ThreadingBackend with 8 concurrent workers.\n",
      "[Parallel(n_jobs=8)]: Done  34 tasks      | elapsed:    0.2s\n",
      "[Parallel(n_jobs=8)]: Done 184 tasks      | elapsed:    0.8s\n",
      "[Parallel(n_jobs=8)]: Done 434 tasks      | elapsed:    1.8s\n",
      "[Parallel(n_jobs=8)]: Done 450 out of 450 | elapsed:    1.8s finished\n"
     ]
    },
    {
     "name": "stdout",
     "output_type": "stream",
     "text": [
      "[CV 2/3; 9/30] END bootstrap=True, max_depth=14, max_features=auto, min_samples_leaf=1, min_samples_split=5, n_estimators=450;, score=-0.662 total time=  43.7s\n",
      "[CV 3/3; 9/30] START bootstrap=True, max_depth=14, max_features=auto, min_samples_leaf=1, min_samples_split=5, n_estimators=450\n"
     ]
    },
    {
     "name": "stderr",
     "output_type": "stream",
     "text": [
      "[Parallel(n_jobs=-1)]: Using backend LokyBackend with 8 concurrent workers.\n",
      "[Parallel(n_jobs=-1)]: Done  34 tasks      | elapsed:    3.7s\n",
      "[Parallel(n_jobs=-1)]: Done 184 tasks      | elapsed:   16.8s\n",
      "[Parallel(n_jobs=-1)]: Done 434 tasks      | elapsed:   43.1s\n",
      "[Parallel(n_jobs=-1)]: Done 450 out of 450 | elapsed:   44.8s finished\n",
      "[Parallel(n_jobs=8)]: Using backend ThreadingBackend with 8 concurrent workers.\n",
      "[Parallel(n_jobs=8)]: Done  34 tasks      | elapsed:    0.2s\n",
      "[Parallel(n_jobs=8)]: Done 184 tasks      | elapsed:    1.0s\n",
      "[Parallel(n_jobs=8)]: Done 434 tasks      | elapsed:    1.9s\n",
      "[Parallel(n_jobs=8)]: Done 450 out of 450 | elapsed:    2.0s finished\n"
     ]
    },
    {
     "name": "stdout",
     "output_type": "stream",
     "text": [
      "[CV 3/3; 9/30] END bootstrap=True, max_depth=14, max_features=auto, min_samples_leaf=1, min_samples_split=5, n_estimators=450;, score=-0.657 total time=  48.6s\n",
      "[CV 1/3; 10/30] START bootstrap=False, max_depth=6, max_features=auto, min_samples_leaf=1, min_samples_split=2, n_estimators=500\n"
     ]
    },
    {
     "name": "stderr",
     "output_type": "stream",
     "text": [
      "[Parallel(n_jobs=-1)]: Using backend LokyBackend with 8 concurrent workers.\n",
      "[Parallel(n_jobs=-1)]: Done  34 tasks      | elapsed:    2.4s\n",
      "[Parallel(n_jobs=-1)]: Done 184 tasks      | elapsed:   11.5s\n",
      "[Parallel(n_jobs=-1)]: Done 434 tasks      | elapsed:   26.6s\n",
      "[Parallel(n_jobs=-1)]: Done 500 out of 500 | elapsed:   30.1s finished\n",
      "[Parallel(n_jobs=8)]: Using backend ThreadingBackend with 8 concurrent workers.\n",
      "[Parallel(n_jobs=8)]: Done  34 tasks      | elapsed:    0.2s\n",
      "[Parallel(n_jobs=8)]: Done 184 tasks      | elapsed:    0.7s\n",
      "[Parallel(n_jobs=8)]: Done 434 tasks      | elapsed:    1.5s\n",
      "[Parallel(n_jobs=8)]: Done 500 out of 500 | elapsed:    1.8s finished\n"
     ]
    },
    {
     "name": "stdout",
     "output_type": "stream",
     "text": [
      "[CV 1/3; 10/30] END bootstrap=False, max_depth=6, max_features=auto, min_samples_leaf=1, min_samples_split=2, n_estimators=500;, score=-0.690 total time=  33.7s\n",
      "[CV 2/3; 10/30] START bootstrap=False, max_depth=6, max_features=auto, min_samples_leaf=1, min_samples_split=2, n_estimators=500\n"
     ]
    },
    {
     "name": "stderr",
     "output_type": "stream",
     "text": [
      "[Parallel(n_jobs=-1)]: Using backend LokyBackend with 8 concurrent workers.\n",
      "[Parallel(n_jobs=-1)]: Done  34 tasks      | elapsed:    2.3s\n",
      "[Parallel(n_jobs=-1)]: Done 184 tasks      | elapsed:   10.6s\n",
      "[Parallel(n_jobs=-1)]: Done 434 tasks      | elapsed:   24.6s\n",
      "[Parallel(n_jobs=-1)]: Done 500 out of 500 | elapsed:   27.8s finished\n",
      "[Parallel(n_jobs=8)]: Using backend ThreadingBackend with 8 concurrent workers.\n",
      "[Parallel(n_jobs=8)]: Done  34 tasks      | elapsed:    0.1s\n",
      "[Parallel(n_jobs=8)]: Done 184 tasks      | elapsed:    0.6s\n",
      "[Parallel(n_jobs=8)]: Done 434 tasks      | elapsed:    1.2s\n",
      "[Parallel(n_jobs=8)]: Done 500 out of 500 | elapsed:    1.4s finished\n"
     ]
    },
    {
     "name": "stdout",
     "output_type": "stream",
     "text": [
      "[CV 2/3; 10/30] END bootstrap=False, max_depth=6, max_features=auto, min_samples_leaf=1, min_samples_split=2, n_estimators=500;, score=-0.692 total time=  30.9s\n",
      "[CV 3/3; 10/30] START bootstrap=False, max_depth=6, max_features=auto, min_samples_leaf=1, min_samples_split=2, n_estimators=500\n"
     ]
    },
    {
     "name": "stderr",
     "output_type": "stream",
     "text": [
      "[Parallel(n_jobs=-1)]: Using backend LokyBackend with 8 concurrent workers.\n",
      "[Parallel(n_jobs=-1)]: Done  34 tasks      | elapsed:    1.7s\n",
      "[Parallel(n_jobs=-1)]: Done 184 tasks      | elapsed:   10.2s\n",
      "[Parallel(n_jobs=-1)]: Done 434 tasks      | elapsed:   28.8s\n",
      "[Parallel(n_jobs=-1)]: Done 500 out of 500 | elapsed:   33.0s finished\n",
      "[Parallel(n_jobs=8)]: Using backend ThreadingBackend with 8 concurrent workers.\n",
      "[Parallel(n_jobs=8)]: Done  34 tasks      | elapsed:    0.3s\n",
      "[Parallel(n_jobs=8)]: Done 184 tasks      | elapsed:    0.8s\n",
      "[Parallel(n_jobs=8)]: Done 434 tasks      | elapsed:    1.7s\n",
      "[Parallel(n_jobs=8)]: Done 500 out of 500 | elapsed:    1.9s finished\n"
     ]
    },
    {
     "name": "stdout",
     "output_type": "stream",
     "text": [
      "[CV 3/3; 10/30] END bootstrap=False, max_depth=6, max_features=auto, min_samples_leaf=1, min_samples_split=2, n_estimators=500;, score=-0.686 total time=  36.8s\n",
      "[CV 1/3; 11/30] START bootstrap=True, max_depth=7, max_features=sqrt, min_samples_leaf=1, min_samples_split=5, n_estimators=350\n"
     ]
    },
    {
     "name": "stderr",
     "output_type": "stream",
     "text": [
      "[Parallel(n_jobs=-1)]: Using backend LokyBackend with 8 concurrent workers.\n",
      "[Parallel(n_jobs=-1)]: Done  34 tasks      | elapsed:    3.6s\n",
      "[Parallel(n_jobs=-1)]: Done 184 tasks      | elapsed:   17.7s\n",
      "[Parallel(n_jobs=-1)]: Done 350 out of 350 | elapsed:   31.1s finished\n",
      "[Parallel(n_jobs=8)]: Using backend ThreadingBackend with 8 concurrent workers.\n",
      "[Parallel(n_jobs=8)]: Done  34 tasks      | elapsed:    0.1s\n",
      "[Parallel(n_jobs=8)]: Done 184 tasks      | elapsed:    0.7s\n",
      "[Parallel(n_jobs=8)]: Done 350 out of 350 | elapsed:    1.5s finished\n"
     ]
    },
    {
     "name": "stdout",
     "output_type": "stream",
     "text": [
      "[CV 1/3; 11/30] END bootstrap=True, max_depth=7, max_features=sqrt, min_samples_leaf=1, min_samples_split=5, n_estimators=350;, score=-0.681 total time=  35.0s\n",
      "[CV 2/3; 11/30] START bootstrap=True, max_depth=7, max_features=sqrt, min_samples_leaf=1, min_samples_split=5, n_estimators=350\n"
     ]
    },
    {
     "name": "stderr",
     "output_type": "stream",
     "text": [
      "[Parallel(n_jobs=-1)]: Using backend LokyBackend with 8 concurrent workers.\n",
      "[Parallel(n_jobs=-1)]: Done  34 tasks      | elapsed:    3.0s\n",
      "[Parallel(n_jobs=-1)]: Done 184 tasks      | elapsed:   12.3s\n",
      "[Parallel(n_jobs=-1)]: Done 350 out of 350 | elapsed:   21.4s finished\n",
      "[Parallel(n_jobs=8)]: Using backend ThreadingBackend with 8 concurrent workers.\n",
      "[Parallel(n_jobs=8)]: Done  34 tasks      | elapsed:    0.2s\n",
      "[Parallel(n_jobs=8)]: Done 184 tasks      | elapsed:    0.6s\n",
      "[Parallel(n_jobs=8)]: Done 350 out of 350 | elapsed:    1.1s finished\n"
     ]
    },
    {
     "name": "stdout",
     "output_type": "stream",
     "text": [
      "[CV 2/3; 11/30] END bootstrap=True, max_depth=7, max_features=sqrt, min_samples_leaf=1, min_samples_split=5, n_estimators=350;, score=-0.684 total time=  24.2s\n",
      "[CV 3/3; 11/30] START bootstrap=True, max_depth=7, max_features=sqrt, min_samples_leaf=1, min_samples_split=5, n_estimators=350\n"
     ]
    },
    {
     "name": "stderr",
     "output_type": "stream",
     "text": [
      "[Parallel(n_jobs=-1)]: Using backend LokyBackend with 8 concurrent workers.\n",
      "[Parallel(n_jobs=-1)]: Done  34 tasks      | elapsed:    2.4s\n",
      "[Parallel(n_jobs=-1)]: Done 184 tasks      | elapsed:   15.0s\n",
      "[Parallel(n_jobs=-1)]: Done 350 out of 350 | elapsed:   25.6s finished\n",
      "[Parallel(n_jobs=8)]: Using backend ThreadingBackend with 8 concurrent workers.\n",
      "[Parallel(n_jobs=8)]: Done  34 tasks      | elapsed:    0.2s\n",
      "[Parallel(n_jobs=8)]: Done 184 tasks      | elapsed:    0.6s\n",
      "[Parallel(n_jobs=8)]: Done 350 out of 350 | elapsed:    1.3s finished\n"
     ]
    },
    {
     "name": "stdout",
     "output_type": "stream",
     "text": [
      "[CV 3/3; 11/30] END bootstrap=True, max_depth=7, max_features=sqrt, min_samples_leaf=1, min_samples_split=5, n_estimators=350;, score=-0.678 total time=  29.6s\n",
      "[CV 1/3; 12/30] START bootstrap=True, max_depth=11, max_features=sqrt, min_samples_leaf=4, min_samples_split=2, n_estimators=450\n"
     ]
    },
    {
     "name": "stderr",
     "output_type": "stream",
     "text": [
      "[Parallel(n_jobs=-1)]: Using backend LokyBackend with 8 concurrent workers.\n",
      "[Parallel(n_jobs=-1)]: Done  34 tasks      | elapsed:    3.3s\n",
      "[Parallel(n_jobs=-1)]: Done 184 tasks      | elapsed:   15.6s\n",
      "[Parallel(n_jobs=-1)]: Done 434 tasks      | elapsed:   31.9s\n",
      "[Parallel(n_jobs=-1)]: Done 450 out of 450 | elapsed:   33.0s finished\n",
      "[Parallel(n_jobs=8)]: Using backend ThreadingBackend with 8 concurrent workers.\n",
      "[Parallel(n_jobs=8)]: Done  34 tasks      | elapsed:    0.1s\n",
      "[Parallel(n_jobs=8)]: Done 184 tasks      | elapsed:    0.6s\n",
      "[Parallel(n_jobs=8)]: Done 434 tasks      | elapsed:    1.6s\n",
      "[Parallel(n_jobs=8)]: Done 450 out of 450 | elapsed:    1.6s finished\n"
     ]
    },
    {
     "name": "stdout",
     "output_type": "stream",
     "text": [
      "[CV 1/3; 12/30] END bootstrap=True, max_depth=11, max_features=sqrt, min_samples_leaf=4, min_samples_split=2, n_estimators=450;, score=-0.664 total time=  36.8s\n",
      "[CV 2/3; 12/30] START bootstrap=True, max_depth=11, max_features=sqrt, min_samples_leaf=4, min_samples_split=2, n_estimators=450\n"
     ]
    },
    {
     "name": "stderr",
     "output_type": "stream",
     "text": [
      "[Parallel(n_jobs=-1)]: Using backend LokyBackend with 8 concurrent workers.\n",
      "[Parallel(n_jobs=-1)]: Done  34 tasks      | elapsed:    2.7s\n",
      "[Parallel(n_jobs=-1)]: Done 184 tasks      | elapsed:   12.6s\n",
      "[Parallel(n_jobs=-1)]: Done 434 tasks      | elapsed:   29.2s\n",
      "[Parallel(n_jobs=-1)]: Done 450 out of 450 | elapsed:   30.1s finished\n",
      "[Parallel(n_jobs=8)]: Using backend ThreadingBackend with 8 concurrent workers.\n",
      "[Parallel(n_jobs=8)]: Done  34 tasks      | elapsed:    0.1s\n",
      "[Parallel(n_jobs=8)]: Done 184 tasks      | elapsed:    0.7s\n",
      "[Parallel(n_jobs=8)]: Done 434 tasks      | elapsed:    1.6s\n",
      "[Parallel(n_jobs=8)]: Done 450 out of 450 | elapsed:    1.6s finished\n"
     ]
    },
    {
     "name": "stdout",
     "output_type": "stream",
     "text": [
      "[CV 2/3; 12/30] END bootstrap=True, max_depth=11, max_features=sqrt, min_samples_leaf=4, min_samples_split=2, n_estimators=450;, score=-0.667 total time=  33.4s\n",
      "[CV 3/3; 12/30] START bootstrap=True, max_depth=11, max_features=sqrt, min_samples_leaf=4, min_samples_split=2, n_estimators=450\n"
     ]
    },
    {
     "name": "stderr",
     "output_type": "stream",
     "text": [
      "[Parallel(n_jobs=-1)]: Using backend LokyBackend with 8 concurrent workers.\n",
      "[Parallel(n_jobs=-1)]: Done  34 tasks      | elapsed:    2.7s\n",
      "[Parallel(n_jobs=-1)]: Done 184 tasks      | elapsed:   12.7s\n",
      "[Parallel(n_jobs=-1)]: Done 434 tasks      | elapsed:   29.4s\n",
      "[Parallel(n_jobs=-1)]: Done 450 out of 450 | elapsed:   30.3s finished\n",
      "[Parallel(n_jobs=8)]: Using backend ThreadingBackend with 8 concurrent workers.\n",
      "[Parallel(n_jobs=8)]: Done  34 tasks      | elapsed:    0.1s\n",
      "[Parallel(n_jobs=8)]: Done 184 tasks      | elapsed:    0.6s\n",
      "[Parallel(n_jobs=8)]: Done 434 tasks      | elapsed:    1.4s\n",
      "[Parallel(n_jobs=8)]: Done 450 out of 450 | elapsed:    1.4s finished\n"
     ]
    },
    {
     "name": "stdout",
     "output_type": "stream",
     "text": [
      "[CV 3/3; 12/30] END bootstrap=True, max_depth=11, max_features=sqrt, min_samples_leaf=4, min_samples_split=2, n_estimators=450;, score=-0.662 total time=  33.4s\n",
      "[CV 1/3; 13/30] START bootstrap=True, max_depth=6, max_features=sqrt, min_samples_leaf=4, min_samples_split=2, n_estimators=50\n"
     ]
    },
    {
     "name": "stderr",
     "output_type": "stream",
     "text": [
      "[Parallel(n_jobs=-1)]: Using backend LokyBackend with 8 concurrent workers.\n",
      "[Parallel(n_jobs=-1)]: Done  34 tasks      | elapsed:    1.6s\n",
      "[Parallel(n_jobs=-1)]: Done  50 out of  50 | elapsed:    2.5s finished\n",
      "[Parallel(n_jobs=8)]: Using backend ThreadingBackend with 8 concurrent workers.\n",
      "[Parallel(n_jobs=8)]: Done  34 tasks      | elapsed:    0.1s\n",
      "[Parallel(n_jobs=8)]: Done  50 out of  50 | elapsed:    0.2s finished\n"
     ]
    },
    {
     "name": "stdout",
     "output_type": "stream",
     "text": [
      "[CV 1/3; 13/30] END bootstrap=True, max_depth=6, max_features=sqrt, min_samples_leaf=4, min_samples_split=2, n_estimators=50;, score=-0.689 total time=   4.5s\n",
      "[CV 2/3; 13/30] START bootstrap=True, max_depth=6, max_features=sqrt, min_samples_leaf=4, min_samples_split=2, n_estimators=50\n"
     ]
    },
    {
     "name": "stderr",
     "output_type": "stream",
     "text": [
      "[Parallel(n_jobs=-1)]: Using backend LokyBackend with 8 concurrent workers.\n",
      "[Parallel(n_jobs=-1)]: Done  34 tasks      | elapsed:    1.8s\n",
      "[Parallel(n_jobs=-1)]: Done  50 out of  50 | elapsed:    2.6s finished\n",
      "[Parallel(n_jobs=8)]: Using backend ThreadingBackend with 8 concurrent workers.\n",
      "[Parallel(n_jobs=8)]: Done  34 tasks      | elapsed:    0.1s\n",
      "[Parallel(n_jobs=8)]: Done  50 out of  50 | elapsed:    0.2s finished\n"
     ]
    },
    {
     "name": "stdout",
     "output_type": "stream",
     "text": [
      "[CV 2/3; 13/30] END bootstrap=True, max_depth=6, max_features=sqrt, min_samples_leaf=4, min_samples_split=2, n_estimators=50;, score=-0.693 total time=   4.4s\n",
      "[CV 3/3; 13/30] START bootstrap=True, max_depth=6, max_features=sqrt, min_samples_leaf=4, min_samples_split=2, n_estimators=50\n"
     ]
    },
    {
     "name": "stderr",
     "output_type": "stream",
     "text": [
      "[Parallel(n_jobs=-1)]: Using backend LokyBackend with 8 concurrent workers.\n",
      "[Parallel(n_jobs=-1)]: Done  34 tasks      | elapsed:    1.8s\n",
      "[Parallel(n_jobs=-1)]: Done  50 out of  50 | elapsed:    2.4s finished\n",
      "[Parallel(n_jobs=8)]: Using backend ThreadingBackend with 8 concurrent workers.\n",
      "[Parallel(n_jobs=8)]: Done  34 tasks      | elapsed:    0.1s\n",
      "[Parallel(n_jobs=8)]: Done  50 out of  50 | elapsed:    0.2s finished\n"
     ]
    },
    {
     "name": "stdout",
     "output_type": "stream",
     "text": [
      "[CV 3/3; 13/30] END bootstrap=True, max_depth=6, max_features=sqrt, min_samples_leaf=4, min_samples_split=2, n_estimators=50;, score=-0.688 total time=   4.2s\n",
      "[CV 1/3; 14/30] START bootstrap=True, max_depth=13, max_features=auto, min_samples_leaf=2, min_samples_split=5, n_estimators=150\n"
     ]
    },
    {
     "name": "stderr",
     "output_type": "stream",
     "text": [
      "[Parallel(n_jobs=-1)]: Using backend LokyBackend with 8 concurrent workers.\n",
      "[Parallel(n_jobs=-1)]: Done  34 tasks      | elapsed:    3.1s\n",
      "[Parallel(n_jobs=-1)]: Done 150 out of 150 | elapsed:   12.4s finished\n",
      "[Parallel(n_jobs=8)]: Using backend ThreadingBackend with 8 concurrent workers.\n",
      "[Parallel(n_jobs=8)]: Done  34 tasks      | elapsed:    0.2s\n",
      "[Parallel(n_jobs=8)]: Done 150 out of 150 | elapsed:    0.6s finished\n"
     ]
    },
    {
     "name": "stdout",
     "output_type": "stream",
     "text": [
      "[CV 1/3; 14/30] END bootstrap=True, max_depth=13, max_features=auto, min_samples_leaf=2, min_samples_split=5, n_estimators=150;, score=-0.660 total time=  14.6s\n",
      "[CV 2/3; 14/30] START bootstrap=True, max_depth=13, max_features=auto, min_samples_leaf=2, min_samples_split=5, n_estimators=150\n"
     ]
    },
    {
     "name": "stderr",
     "output_type": "stream",
     "text": [
      "[Parallel(n_jobs=-1)]: Using backend LokyBackend with 8 concurrent workers.\n",
      "[Parallel(n_jobs=-1)]: Done  34 tasks      | elapsed:    3.1s\n",
      "[Parallel(n_jobs=-1)]: Done 150 out of 150 | elapsed:   11.7s finished\n",
      "[Parallel(n_jobs=8)]: Using backend ThreadingBackend with 8 concurrent workers.\n",
      "[Parallel(n_jobs=8)]: Done  34 tasks      | elapsed:    0.2s\n",
      "[Parallel(n_jobs=8)]: Done 150 out of 150 | elapsed:    0.6s finished\n"
     ]
    },
    {
     "name": "stdout",
     "output_type": "stream",
     "text": [
      "[CV 2/3; 14/30] END bootstrap=True, max_depth=13, max_features=auto, min_samples_leaf=2, min_samples_split=5, n_estimators=150;, score=-0.664 total time=  13.9s\n",
      "[CV 3/3; 14/30] START bootstrap=True, max_depth=13, max_features=auto, min_samples_leaf=2, min_samples_split=5, n_estimators=150\n"
     ]
    },
    {
     "name": "stderr",
     "output_type": "stream",
     "text": [
      "[Parallel(n_jobs=-1)]: Using backend LokyBackend with 8 concurrent workers.\n",
      "[Parallel(n_jobs=-1)]: Done  34 tasks      | elapsed:    3.2s\n",
      "[Parallel(n_jobs=-1)]: Done 150 out of 150 | elapsed:   11.8s finished\n",
      "[Parallel(n_jobs=8)]: Using backend ThreadingBackend with 8 concurrent workers.\n",
      "[Parallel(n_jobs=8)]: Done  34 tasks      | elapsed:    0.2s\n",
      "[Parallel(n_jobs=8)]: Done 150 out of 150 | elapsed:    0.8s finished\n"
     ]
    },
    {
     "name": "stdout",
     "output_type": "stream",
     "text": [
      "[CV 3/3; 14/30] END bootstrap=True, max_depth=13, max_features=auto, min_samples_leaf=2, min_samples_split=5, n_estimators=150;, score=-0.659 total time=  14.4s\n",
      "[CV 1/3; 15/30] START bootstrap=False, max_depth=5, max_features=sqrt, min_samples_leaf=4, min_samples_split=2, n_estimators=300\n"
     ]
    },
    {
     "name": "stderr",
     "output_type": "stream",
     "text": [
      "[Parallel(n_jobs=-1)]: Using backend LokyBackend with 8 concurrent workers.\n",
      "[Parallel(n_jobs=-1)]: Done  34 tasks      | elapsed:    2.3s\n",
      "[Parallel(n_jobs=-1)]: Done 184 tasks      | elapsed:    8.5s\n",
      "[Parallel(n_jobs=-1)]: Done 300 out of 300 | elapsed:   13.4s finished\n",
      "[Parallel(n_jobs=8)]: Using backend ThreadingBackend with 8 concurrent workers.\n",
      "[Parallel(n_jobs=8)]: Done  34 tasks      | elapsed:    0.1s\n",
      "[Parallel(n_jobs=8)]: Done 184 tasks      | elapsed:    0.5s\n",
      "[Parallel(n_jobs=8)]: Done 300 out of 300 | elapsed:    0.9s finished\n"
     ]
    },
    {
     "name": "stdout",
     "output_type": "stream",
     "text": [
      "[CV 1/3; 15/30] END bootstrap=False, max_depth=5, max_features=sqrt, min_samples_leaf=4, min_samples_split=2, n_estimators=300;, score=-0.699 total time=  16.1s\n",
      "[CV 2/3; 15/30] START bootstrap=False, max_depth=5, max_features=sqrt, min_samples_leaf=4, min_samples_split=2, n_estimators=300\n"
     ]
    },
    {
     "name": "stderr",
     "output_type": "stream",
     "text": [
      "[Parallel(n_jobs=-1)]: Using backend LokyBackend with 8 concurrent workers.\n",
      "[Parallel(n_jobs=-1)]: Done  34 tasks      | elapsed:    2.3s\n",
      "[Parallel(n_jobs=-1)]: Done 184 tasks      | elapsed:   12.0s\n",
      "[Parallel(n_jobs=-1)]: Done 300 out of 300 | elapsed:   21.6s finished\n",
      "[Parallel(n_jobs=8)]: Using backend ThreadingBackend with 8 concurrent workers.\n",
      "[Parallel(n_jobs=8)]: Done  34 tasks      | elapsed:    0.2s\n",
      "[Parallel(n_jobs=8)]: Done 184 tasks      | elapsed:    0.8s\n",
      "[Parallel(n_jobs=8)]: Done 300 out of 300 | elapsed:    1.4s finished\n"
     ]
    },
    {
     "name": "stdout",
     "output_type": "stream",
     "text": [
      "[CV 2/3; 15/30] END bootstrap=False, max_depth=5, max_features=sqrt, min_samples_leaf=4, min_samples_split=2, n_estimators=300;, score=-0.702 total time=  26.6s\n",
      "[CV 3/3; 15/30] START bootstrap=False, max_depth=5, max_features=sqrt, min_samples_leaf=4, min_samples_split=2, n_estimators=300\n"
     ]
    },
    {
     "name": "stderr",
     "output_type": "stream",
     "text": [
      "[Parallel(n_jobs=-1)]: Using backend LokyBackend with 8 concurrent workers.\n",
      "[Parallel(n_jobs=-1)]: Done  34 tasks      | elapsed:    3.4s\n",
      "[Parallel(n_jobs=-1)]: Done 184 tasks      | elapsed:   16.2s\n",
      "[Parallel(n_jobs=-1)]: Done 300 out of 300 | elapsed:   21.4s finished\n",
      "[Parallel(n_jobs=8)]: Using backend ThreadingBackend with 8 concurrent workers.\n",
      "[Parallel(n_jobs=8)]: Done  34 tasks      | elapsed:    0.2s\n",
      "[Parallel(n_jobs=8)]: Done 184 tasks      | elapsed:    0.9s\n",
      "[Parallel(n_jobs=8)]: Done 300 out of 300 | elapsed:    1.2s finished\n"
     ]
    },
    {
     "name": "stdout",
     "output_type": "stream",
     "text": [
      "[CV 3/3; 15/30] END bootstrap=False, max_depth=5, max_features=sqrt, min_samples_leaf=4, min_samples_split=2, n_estimators=300;, score=-0.696 total time=  25.4s\n",
      "[CV 1/3; 16/30] START bootstrap=False, max_depth=13, max_features=auto, min_samples_leaf=1, min_samples_split=10, n_estimators=250\n"
     ]
    },
    {
     "name": "stderr",
     "output_type": "stream",
     "text": [
      "[Parallel(n_jobs=-1)]: Using backend LokyBackend with 8 concurrent workers.\n",
      "[Parallel(n_jobs=-1)]: Done  34 tasks      | elapsed:    3.7s\n",
      "[Parallel(n_jobs=-1)]: Done 184 tasks      | elapsed:   18.5s\n",
      "[Parallel(n_jobs=-1)]: Done 250 out of 250 | elapsed:   26.0s finished\n",
      "[Parallel(n_jobs=8)]: Using backend ThreadingBackend with 8 concurrent workers.\n",
      "[Parallel(n_jobs=8)]: Done  34 tasks      | elapsed:    0.2s\n",
      "[Parallel(n_jobs=8)]: Done 184 tasks      | elapsed:    1.2s\n",
      "[Parallel(n_jobs=8)]: Done 250 out of 250 | elapsed:    1.5s finished\n"
     ]
    },
    {
     "name": "stdout",
     "output_type": "stream",
     "text": [
      "[CV 1/3; 16/30] END bootstrap=False, max_depth=13, max_features=auto, min_samples_leaf=1, min_samples_split=10, n_estimators=250;, score=-0.660 total time=  29.6s\n",
      "[CV 2/3; 16/30] START bootstrap=False, max_depth=13, max_features=auto, min_samples_leaf=1, min_samples_split=10, n_estimators=250\n"
     ]
    },
    {
     "name": "stderr",
     "output_type": "stream",
     "text": [
      "[Parallel(n_jobs=-1)]: Using backend LokyBackend with 8 concurrent workers.\n",
      "[Parallel(n_jobs=-1)]: Done  34 tasks      | elapsed:    6.3s\n",
      "[Parallel(n_jobs=-1)]: Done 184 tasks      | elapsed:   24.4s\n",
      "[Parallel(n_jobs=-1)]: Done 250 out of 250 | elapsed:   30.8s finished\n",
      "[Parallel(n_jobs=8)]: Using backend ThreadingBackend with 8 concurrent workers.\n",
      "[Parallel(n_jobs=8)]: Done  34 tasks      | elapsed:    0.2s\n",
      "[Parallel(n_jobs=8)]: Done 184 tasks      | elapsed:    0.9s\n",
      "[Parallel(n_jobs=8)]: Done 250 out of 250 | elapsed:    1.1s finished\n"
     ]
    },
    {
     "name": "stdout",
     "output_type": "stream",
     "text": [
      "[CV 2/3; 16/30] END bootstrap=False, max_depth=13, max_features=auto, min_samples_leaf=1, min_samples_split=10, n_estimators=250;, score=-0.663 total time=  33.8s\n",
      "[CV 3/3; 16/30] START bootstrap=False, max_depth=13, max_features=auto, min_samples_leaf=1, min_samples_split=10, n_estimators=250\n"
     ]
    },
    {
     "name": "stderr",
     "output_type": "stream",
     "text": [
      "[Parallel(n_jobs=-1)]: Using backend LokyBackend with 8 concurrent workers.\n",
      "[Parallel(n_jobs=-1)]: Done  34 tasks      | elapsed:    3.9s\n",
      "[Parallel(n_jobs=-1)]: Done 184 tasks      | elapsed:   18.3s\n",
      "[Parallel(n_jobs=-1)]: Done 250 out of 250 | elapsed:   24.2s finished\n",
      "[Parallel(n_jobs=8)]: Using backend ThreadingBackend with 8 concurrent workers.\n",
      "[Parallel(n_jobs=8)]: Done  34 tasks      | elapsed:    0.2s\n",
      "[Parallel(n_jobs=8)]: Done 184 tasks      | elapsed:    0.7s\n",
      "[Parallel(n_jobs=8)]: Done 250 out of 250 | elapsed:    0.9s finished\n"
     ]
    },
    {
     "name": "stdout",
     "output_type": "stream",
     "text": [
      "[CV 3/3; 16/30] END bootstrap=False, max_depth=13, max_features=auto, min_samples_leaf=1, min_samples_split=10, n_estimators=250;, score=-0.658 total time=  26.9s\n",
      "[CV 1/3; 17/30] START bootstrap=False, max_depth=11, max_features=sqrt, min_samples_leaf=1, min_samples_split=10, n_estimators=100\n"
     ]
    },
    {
     "name": "stderr",
     "output_type": "stream",
     "text": [
      "[Parallel(n_jobs=-1)]: Using backend LokyBackend with 8 concurrent workers.\n",
      "[Parallel(n_jobs=-1)]: Done  34 tasks      | elapsed:    3.0s\n",
      "[Parallel(n_jobs=-1)]: Done 100 out of 100 | elapsed:    7.9s finished\n",
      "[Parallel(n_jobs=8)]: Using backend ThreadingBackend with 8 concurrent workers.\n",
      "[Parallel(n_jobs=8)]: Done  34 tasks      | elapsed:    0.1s\n",
      "[Parallel(n_jobs=8)]: Done 100 out of 100 | elapsed:    0.3s finished\n"
     ]
    },
    {
     "name": "stdout",
     "output_type": "stream",
     "text": [
      "[CV 1/3; 17/30] END bootstrap=False, max_depth=11, max_features=sqrt, min_samples_leaf=1, min_samples_split=10, n_estimators=100;, score=-0.664 total time=  10.0s\n",
      "[CV 2/3; 17/30] START bootstrap=False, max_depth=11, max_features=sqrt, min_samples_leaf=1, min_samples_split=10, n_estimators=100\n"
     ]
    },
    {
     "name": "stderr",
     "output_type": "stream",
     "text": [
      "[Parallel(n_jobs=-1)]: Using backend LokyBackend with 8 concurrent workers.\n",
      "[Parallel(n_jobs=-1)]: Done  34 tasks      | elapsed:    3.0s\n",
      "[Parallel(n_jobs=-1)]: Done 100 out of 100 | elapsed:    8.1s finished\n",
      "[Parallel(n_jobs=8)]: Using backend ThreadingBackend with 8 concurrent workers.\n",
      "[Parallel(n_jobs=8)]: Done  34 tasks      | elapsed:    0.1s\n",
      "[Parallel(n_jobs=8)]: Done 100 out of 100 | elapsed:    0.6s finished\n"
     ]
    },
    {
     "name": "stdout",
     "output_type": "stream",
     "text": [
      "[CV 2/3; 17/30] END bootstrap=False, max_depth=11, max_features=sqrt, min_samples_leaf=1, min_samples_split=10, n_estimators=100;, score=-0.666 total time=  10.3s\n",
      "[CV 3/3; 17/30] START bootstrap=False, max_depth=11, max_features=sqrt, min_samples_leaf=1, min_samples_split=10, n_estimators=100\n"
     ]
    },
    {
     "name": "stderr",
     "output_type": "stream",
     "text": [
      "[Parallel(n_jobs=-1)]: Using backend LokyBackend with 8 concurrent workers.\n",
      "[Parallel(n_jobs=-1)]: Done  34 tasks      | elapsed:    3.6s\n",
      "[Parallel(n_jobs=-1)]: Done 100 out of 100 | elapsed:    8.6s finished\n",
      "[Parallel(n_jobs=8)]: Using backend ThreadingBackend with 8 concurrent workers.\n",
      "[Parallel(n_jobs=8)]: Done  34 tasks      | elapsed:    0.1s\n",
      "[Parallel(n_jobs=8)]: Done 100 out of 100 | elapsed:    0.4s finished\n"
     ]
    },
    {
     "name": "stdout",
     "output_type": "stream",
     "text": [
      "[CV 3/3; 17/30] END bootstrap=False, max_depth=11, max_features=sqrt, min_samples_leaf=1, min_samples_split=10, n_estimators=100;, score=-0.663 total time=  10.6s\n",
      "[CV 1/3; 18/30] START bootstrap=False, max_depth=10, max_features=auto, min_samples_leaf=2, min_samples_split=2, n_estimators=500\n"
     ]
    },
    {
     "name": "stderr",
     "output_type": "stream",
     "text": [
      "[Parallel(n_jobs=-1)]: Using backend LokyBackend with 8 concurrent workers.\n",
      "[Parallel(n_jobs=-1)]: Done  34 tasks      | elapsed:    2.8s\n",
      "[Parallel(n_jobs=-1)]: Done 184 tasks      | elapsed:   14.4s\n",
      "[Parallel(n_jobs=-1)]: Done 434 tasks      | elapsed:   35.8s\n",
      "[Parallel(n_jobs=-1)]: Done 500 out of 500 | elapsed:   40.8s finished\n",
      "[Parallel(n_jobs=8)]: Using backend ThreadingBackend with 8 concurrent workers.\n",
      "[Parallel(n_jobs=8)]: Done  34 tasks      | elapsed:    0.1s\n",
      "[Parallel(n_jobs=8)]: Done 184 tasks      | elapsed:    0.6s\n",
      "[Parallel(n_jobs=8)]: Done 434 tasks      | elapsed:    1.4s\n",
      "[Parallel(n_jobs=8)]: Done 500 out of 500 | elapsed:    1.6s finished\n"
     ]
    },
    {
     "name": "stdout",
     "output_type": "stream",
     "text": [
      "[CV 1/3; 18/30] END bootstrap=False, max_depth=10, max_features=auto, min_samples_leaf=2, min_samples_split=2, n_estimators=500;, score=-0.667 total time=  44.5s\n",
      "[CV 2/3; 18/30] START bootstrap=False, max_depth=10, max_features=auto, min_samples_leaf=2, min_samples_split=2, n_estimators=500\n"
     ]
    },
    {
     "name": "stderr",
     "output_type": "stream",
     "text": [
      "[Parallel(n_jobs=-1)]: Using backend LokyBackend with 8 concurrent workers.\n",
      "[Parallel(n_jobs=-1)]: Done  34 tasks      | elapsed:    3.1s\n",
      "[Parallel(n_jobs=-1)]: Done 184 tasks      | elapsed:   15.8s\n",
      "[Parallel(n_jobs=-1)]: Done 434 tasks      | elapsed:   38.0s\n",
      "[Parallel(n_jobs=-1)]: Done 500 out of 500 | elapsed:   43.1s finished\n",
      "[Parallel(n_jobs=8)]: Using backend ThreadingBackend with 8 concurrent workers.\n",
      "[Parallel(n_jobs=8)]: Done  34 tasks      | elapsed:    0.1s\n",
      "[Parallel(n_jobs=8)]: Done 184 tasks      | elapsed:    0.7s\n",
      "[Parallel(n_jobs=8)]: Done 434 tasks      | elapsed:    1.5s\n",
      "[Parallel(n_jobs=8)]: Done 500 out of 500 | elapsed:    1.7s finished\n"
     ]
    },
    {
     "name": "stdout",
     "output_type": "stream",
     "text": [
      "[CV 2/3; 18/30] END bootstrap=False, max_depth=10, max_features=auto, min_samples_leaf=2, min_samples_split=2, n_estimators=500;, score=-0.670 total time=  46.7s\n",
      "[CV 3/3; 18/30] START bootstrap=False, max_depth=10, max_features=auto, min_samples_leaf=2, min_samples_split=2, n_estimators=500\n"
     ]
    },
    {
     "name": "stderr",
     "output_type": "stream",
     "text": [
      "[Parallel(n_jobs=-1)]: Using backend LokyBackend with 8 concurrent workers.\n",
      "[Parallel(n_jobs=-1)]: Done  34 tasks      | elapsed:    3.4s\n",
      "[Parallel(n_jobs=-1)]: Done 184 tasks      | elapsed:   15.5s\n",
      "[Parallel(n_jobs=-1)]: Done 434 tasks      | elapsed:   38.2s\n",
      "[Parallel(n_jobs=-1)]: Done 500 out of 500 | elapsed:   44.0s finished\n",
      "[Parallel(n_jobs=8)]: Using backend ThreadingBackend with 8 concurrent workers.\n",
      "[Parallel(n_jobs=8)]: Done  34 tasks      | elapsed:    0.2s\n",
      "[Parallel(n_jobs=8)]: Done 184 tasks      | elapsed:    0.7s\n",
      "[Parallel(n_jobs=8)]: Done 434 tasks      | elapsed:    1.4s\n",
      "[Parallel(n_jobs=8)]: Done 500 out of 500 | elapsed:    1.6s finished\n"
     ]
    },
    {
     "name": "stdout",
     "output_type": "stream",
     "text": [
      "[CV 3/3; 18/30] END bootstrap=False, max_depth=10, max_features=auto, min_samples_leaf=2, min_samples_split=2, n_estimators=500;, score=-0.664 total time=  47.4s\n",
      "[CV 1/3; 19/30] START bootstrap=False, max_depth=14, max_features=sqrt, min_samples_leaf=2, min_samples_split=5, n_estimators=300\n"
     ]
    },
    {
     "name": "stderr",
     "output_type": "stream",
     "text": [
      "[Parallel(n_jobs=-1)]: Using backend LokyBackend with 8 concurrent workers.\n",
      "[Parallel(n_jobs=-1)]: Done  34 tasks      | elapsed:    4.4s\n",
      "[Parallel(n_jobs=-1)]: Done 184 tasks      | elapsed:   21.7s\n",
      "[Parallel(n_jobs=-1)]: Done 300 out of 300 | elapsed:   35.0s finished\n",
      "[Parallel(n_jobs=8)]: Using backend ThreadingBackend with 8 concurrent workers.\n",
      "[Parallel(n_jobs=8)]: Done  34 tasks      | elapsed:    0.2s\n",
      "[Parallel(n_jobs=8)]: Done 184 tasks      | elapsed:    0.9s\n",
      "[Parallel(n_jobs=8)]: Done 300 out of 300 | elapsed:    1.4s finished\n"
     ]
    },
    {
     "name": "stdout",
     "output_type": "stream",
     "text": [
      "[CV 1/3; 19/30] END bootstrap=False, max_depth=14, max_features=sqrt, min_samples_leaf=2, min_samples_split=5, n_estimators=300;, score=-0.659 total time=  38.1s\n",
      "[CV 2/3; 19/30] START bootstrap=False, max_depth=14, max_features=sqrt, min_samples_leaf=2, min_samples_split=5, n_estimators=300\n"
     ]
    },
    {
     "name": "stderr",
     "output_type": "stream",
     "text": [
      "[Parallel(n_jobs=-1)]: Using backend LokyBackend with 8 concurrent workers.\n",
      "[Parallel(n_jobs=-1)]: Done  34 tasks      | elapsed:    4.7s\n",
      "[Parallel(n_jobs=-1)]: Done 184 tasks      | elapsed:   22.9s\n",
      "[Parallel(n_jobs=-1)]: Done 300 out of 300 | elapsed:   38.3s finished\n",
      "[Parallel(n_jobs=8)]: Using backend ThreadingBackend with 8 concurrent workers.\n",
      "[Parallel(n_jobs=8)]: Done  34 tasks      | elapsed:    0.2s\n",
      "[Parallel(n_jobs=8)]: Done 184 tasks      | elapsed:    1.5s\n",
      "[Parallel(n_jobs=8)]: Done 300 out of 300 | elapsed:    2.1s finished\n"
     ]
    },
    {
     "name": "stdout",
     "output_type": "stream",
     "text": [
      "[CV 2/3; 19/30] END bootstrap=False, max_depth=14, max_features=sqrt, min_samples_leaf=2, min_samples_split=5, n_estimators=300;, score=-0.662 total time=  42.3s\n",
      "[CV 3/3; 19/30] START bootstrap=False, max_depth=14, max_features=sqrt, min_samples_leaf=2, min_samples_split=5, n_estimators=300\n"
     ]
    },
    {
     "name": "stderr",
     "output_type": "stream",
     "text": [
      "[Parallel(n_jobs=-1)]: Using backend LokyBackend with 8 concurrent workers.\n",
      "[Parallel(n_jobs=-1)]: Done  34 tasks      | elapsed:    4.6s\n",
      "[Parallel(n_jobs=-1)]: Done 184 tasks      | elapsed:   23.2s\n",
      "[Parallel(n_jobs=-1)]: Done 300 out of 300 | elapsed:   35.2s finished\n",
      "[Parallel(n_jobs=8)]: Using backend ThreadingBackend with 8 concurrent workers.\n",
      "[Parallel(n_jobs=8)]: Done  34 tasks      | elapsed:    0.2s\n",
      "[Parallel(n_jobs=8)]: Done 184 tasks      | elapsed:    0.9s\n",
      "[Parallel(n_jobs=8)]: Done 300 out of 300 | elapsed:    1.5s finished\n"
     ]
    },
    {
     "name": "stdout",
     "output_type": "stream",
     "text": [
      "[CV 3/3; 19/30] END bootstrap=False, max_depth=14, max_features=sqrt, min_samples_leaf=2, min_samples_split=5, n_estimators=300;, score=-0.657 total time=  38.7s\n",
      "[CV 1/3; 20/30] START bootstrap=True, max_depth=5, max_features=sqrt, min_samples_leaf=2, min_samples_split=5, n_estimators=50\n"
     ]
    },
    {
     "name": "stderr",
     "output_type": "stream",
     "text": [
      "[Parallel(n_jobs=-1)]: Using backend LokyBackend with 8 concurrent workers.\n",
      "[Parallel(n_jobs=-1)]: Done  34 tasks      | elapsed:    1.6s\n",
      "[Parallel(n_jobs=-1)]: Done  50 out of  50 | elapsed:    2.2s finished\n",
      "[Parallel(n_jobs=8)]: Using backend ThreadingBackend with 8 concurrent workers.\n",
      "[Parallel(n_jobs=8)]: Done  34 tasks      | elapsed:    0.1s\n",
      "[Parallel(n_jobs=8)]: Done  50 out of  50 | elapsed:    0.2s finished\n"
     ]
    },
    {
     "name": "stdout",
     "output_type": "stream",
     "text": [
      "[CV 1/3; 20/30] END bootstrap=True, max_depth=5, max_features=sqrt, min_samples_leaf=2, min_samples_split=5, n_estimators=50;, score=-0.699 total time=   4.3s\n",
      "[CV 2/3; 20/30] START bootstrap=True, max_depth=5, max_features=sqrt, min_samples_leaf=2, min_samples_split=5, n_estimators=50\n"
     ]
    },
    {
     "name": "stderr",
     "output_type": "stream",
     "text": [
      "[Parallel(n_jobs=-1)]: Using backend LokyBackend with 8 concurrent workers.\n",
      "[Parallel(n_jobs=-1)]: Done  34 tasks      | elapsed:    1.6s\n",
      "[Parallel(n_jobs=-1)]: Done  50 out of  50 | elapsed:    2.2s finished\n",
      "[Parallel(n_jobs=8)]: Using backend ThreadingBackend with 8 concurrent workers.\n",
      "[Parallel(n_jobs=8)]: Done  34 tasks      | elapsed:    0.1s\n",
      "[Parallel(n_jobs=8)]: Done  50 out of  50 | elapsed:    0.1s finished\n"
     ]
    },
    {
     "name": "stdout",
     "output_type": "stream",
     "text": [
      "[CV 2/3; 20/30] END bootstrap=True, max_depth=5, max_features=sqrt, min_samples_leaf=2, min_samples_split=5, n_estimators=50;, score=-0.702 total time=   4.0s\n",
      "[CV 3/3; 20/30] START bootstrap=True, max_depth=5, max_features=sqrt, min_samples_leaf=2, min_samples_split=5, n_estimators=50\n"
     ]
    },
    {
     "name": "stderr",
     "output_type": "stream",
     "text": [
      "[Parallel(n_jobs=-1)]: Using backend LokyBackend with 8 concurrent workers.\n",
      "[Parallel(n_jobs=-1)]: Done  34 tasks      | elapsed:    1.5s\n",
      "[Parallel(n_jobs=-1)]: Done  50 out of  50 | elapsed:    2.3s finished\n",
      "[Parallel(n_jobs=8)]: Using backend ThreadingBackend with 8 concurrent workers.\n",
      "[Parallel(n_jobs=8)]: Done  34 tasks      | elapsed:    0.2s\n",
      "[Parallel(n_jobs=8)]: Done  50 out of  50 | elapsed:    0.3s finished\n"
     ]
    },
    {
     "name": "stdout",
     "output_type": "stream",
     "text": [
      "[CV 3/3; 20/30] END bootstrap=True, max_depth=5, max_features=sqrt, min_samples_leaf=2, min_samples_split=5, n_estimators=50;, score=-0.699 total time=   4.5s\n",
      "[CV 1/3; 21/30] START bootstrap=True, max_depth=14, max_features=auto, min_samples_leaf=4, min_samples_split=2, n_estimators=300\n"
     ]
    },
    {
     "name": "stderr",
     "output_type": "stream",
     "text": [
      "[Parallel(n_jobs=-1)]: Using backend LokyBackend with 8 concurrent workers.\n",
      "[Parallel(n_jobs=-1)]: Done  34 tasks      | elapsed:    3.9s\n",
      "[Parallel(n_jobs=-1)]: Done 184 tasks      | elapsed:   17.6s\n",
      "[Parallel(n_jobs=-1)]: Done 300 out of 300 | elapsed:   29.1s finished\n",
      "[Parallel(n_jobs=8)]: Using backend ThreadingBackend with 8 concurrent workers.\n",
      "[Parallel(n_jobs=8)]: Done  34 tasks      | elapsed:    0.2s\n",
      "[Parallel(n_jobs=8)]: Done 184 tasks      | elapsed:    0.9s\n",
      "[Parallel(n_jobs=8)]: Done 300 out of 300 | elapsed:    1.4s finished\n"
     ]
    },
    {
     "name": "stdout",
     "output_type": "stream",
     "text": [
      "[CV 1/3; 21/30] END bootstrap=True, max_depth=14, max_features=auto, min_samples_leaf=4, min_samples_split=2, n_estimators=300;, score=-0.659 total time=  32.3s\n",
      "[CV 2/3; 21/30] START bootstrap=True, max_depth=14, max_features=auto, min_samples_leaf=4, min_samples_split=2, n_estimators=300\n"
     ]
    },
    {
     "name": "stderr",
     "output_type": "stream",
     "text": [
      "[Parallel(n_jobs=-1)]: Using backend LokyBackend with 8 concurrent workers.\n",
      "[Parallel(n_jobs=-1)]: Done  34 tasks      | elapsed:    4.0s\n",
      "[Parallel(n_jobs=-1)]: Done 184 tasks      | elapsed:   16.9s\n",
      "[Parallel(n_jobs=-1)]: Done 300 out of 300 | elapsed:   26.5s finished\n",
      "[Parallel(n_jobs=8)]: Using backend ThreadingBackend with 8 concurrent workers.\n",
      "[Parallel(n_jobs=8)]: Done  34 tasks      | elapsed:    0.2s\n",
      "[Parallel(n_jobs=8)]: Done 184 tasks      | elapsed:    0.8s\n",
      "[Parallel(n_jobs=8)]: Done 300 out of 300 | elapsed:    1.3s finished\n"
     ]
    },
    {
     "name": "stdout",
     "output_type": "stream",
     "text": [
      "[CV 2/3; 21/30] END bootstrap=True, max_depth=14, max_features=auto, min_samples_leaf=4, min_samples_split=2, n_estimators=300;, score=-0.662 total time=  29.6s\n",
      "[CV 3/3; 21/30] START bootstrap=True, max_depth=14, max_features=auto, min_samples_leaf=4, min_samples_split=2, n_estimators=300\n"
     ]
    },
    {
     "name": "stderr",
     "output_type": "stream",
     "text": [
      "[Parallel(n_jobs=-1)]: Using backend LokyBackend with 8 concurrent workers.\n",
      "[Parallel(n_jobs=-1)]: Done  34 tasks      | elapsed:    3.3s\n",
      "[Parallel(n_jobs=-1)]: Done 184 tasks      | elapsed:   15.2s\n",
      "[Parallel(n_jobs=-1)]: Done 300 out of 300 | elapsed:   24.0s finished\n",
      "[Parallel(n_jobs=8)]: Using backend ThreadingBackend with 8 concurrent workers.\n",
      "[Parallel(n_jobs=8)]: Done  34 tasks      | elapsed:    0.2s\n",
      "[Parallel(n_jobs=8)]: Done 184 tasks      | elapsed:    0.7s\n",
      "[Parallel(n_jobs=8)]: Done 300 out of 300 | elapsed:    1.1s finished\n"
     ]
    },
    {
     "name": "stdout",
     "output_type": "stream",
     "text": [
      "[CV 3/3; 21/30] END bootstrap=True, max_depth=14, max_features=auto, min_samples_leaf=4, min_samples_split=2, n_estimators=300;, score=-0.657 total time=  26.7s\n",
      "[CV 1/3; 22/30] START bootstrap=False, max_depth=12, max_features=sqrt, min_samples_leaf=2, min_samples_split=10, n_estimators=50\n"
     ]
    },
    {
     "name": "stderr",
     "output_type": "stream",
     "text": [
      "[Parallel(n_jobs=-1)]: Using backend LokyBackend with 8 concurrent workers.\n",
      "[Parallel(n_jobs=-1)]: Done  34 tasks      | elapsed:    3.2s\n",
      "[Parallel(n_jobs=-1)]: Done  50 out of  50 | elapsed:    4.2s finished\n",
      "[Parallel(n_jobs=8)]: Using backend ThreadingBackend with 8 concurrent workers.\n",
      "[Parallel(n_jobs=8)]: Done  34 tasks      | elapsed:    0.1s\n",
      "[Parallel(n_jobs=8)]: Done  50 out of  50 | elapsed:    0.2s finished\n"
     ]
    },
    {
     "name": "stdout",
     "output_type": "stream",
     "text": [
      "[CV 1/3; 22/30] END bootstrap=False, max_depth=12, max_features=sqrt, min_samples_leaf=2, min_samples_split=10, n_estimators=50;, score=-0.662 total time=   6.0s\n",
      "[CV 2/3; 22/30] START bootstrap=False, max_depth=12, max_features=sqrt, min_samples_leaf=2, min_samples_split=10, n_estimators=50\n"
     ]
    },
    {
     "name": "stderr",
     "output_type": "stream",
     "text": [
      "[Parallel(n_jobs=-1)]: Using backend LokyBackend with 8 concurrent workers.\n",
      "[Parallel(n_jobs=-1)]: Done  34 tasks      | elapsed:    3.1s\n",
      "[Parallel(n_jobs=-1)]: Done  50 out of  50 | elapsed:    4.1s finished\n",
      "[Parallel(n_jobs=8)]: Using backend ThreadingBackend with 8 concurrent workers.\n",
      "[Parallel(n_jobs=8)]: Done  34 tasks      | elapsed:    0.1s\n",
      "[Parallel(n_jobs=8)]: Done  50 out of  50 | elapsed:    0.2s finished\n"
     ]
    },
    {
     "name": "stdout",
     "output_type": "stream",
     "text": [
      "[CV 2/3; 22/30] END bootstrap=False, max_depth=12, max_features=sqrt, min_samples_leaf=2, min_samples_split=10, n_estimators=50;, score=-0.664 total time=   5.8s\n",
      "[CV 3/3; 22/30] START bootstrap=False, max_depth=12, max_features=sqrt, min_samples_leaf=2, min_samples_split=10, n_estimators=50\n"
     ]
    },
    {
     "name": "stderr",
     "output_type": "stream",
     "text": [
      "[Parallel(n_jobs=-1)]: Using backend LokyBackend with 8 concurrent workers.\n",
      "[Parallel(n_jobs=-1)]: Done  34 tasks      | elapsed:    3.0s\n",
      "[Parallel(n_jobs=-1)]: Done  50 out of  50 | elapsed:    3.9s finished\n",
      "[Parallel(n_jobs=8)]: Using backend ThreadingBackend with 8 concurrent workers.\n",
      "[Parallel(n_jobs=8)]: Done  34 tasks      | elapsed:    0.2s\n",
      "[Parallel(n_jobs=8)]: Done  50 out of  50 | elapsed:    0.2s finished\n"
     ]
    },
    {
     "name": "stdout",
     "output_type": "stream",
     "text": [
      "[CV 3/3; 22/30] END bootstrap=False, max_depth=12, max_features=sqrt, min_samples_leaf=2, min_samples_split=10, n_estimators=50;, score=-0.661 total time=   5.7s\n",
      "[CV 1/3; 23/30] START bootstrap=True, max_depth=9, max_features=auto, min_samples_leaf=2, min_samples_split=5, n_estimators=500\n"
     ]
    },
    {
     "name": "stderr",
     "output_type": "stream",
     "text": [
      "[Parallel(n_jobs=-1)]: Using backend LokyBackend with 8 concurrent workers.\n",
      "[Parallel(n_jobs=-1)]: Done  34 tasks      | elapsed:    2.1s\n",
      "[Parallel(n_jobs=-1)]: Done 184 tasks      | elapsed:   12.7s\n",
      "[Parallel(n_jobs=-1)]: Done 434 tasks      | elapsed:   28.3s\n",
      "[Parallel(n_jobs=-1)]: Done 500 out of 500 | elapsed:   31.6s finished\n",
      "[Parallel(n_jobs=8)]: Using backend ThreadingBackend with 8 concurrent workers.\n",
      "[Parallel(n_jobs=8)]: Done  34 tasks      | elapsed:    0.1s\n",
      "[Parallel(n_jobs=8)]: Done 184 tasks      | elapsed:    0.5s\n",
      "[Parallel(n_jobs=8)]: Done 434 tasks      | elapsed:    1.2s\n",
      "[Parallel(n_jobs=8)]: Done 500 out of 500 | elapsed:    1.3s finished\n"
     ]
    },
    {
     "name": "stdout",
     "output_type": "stream",
     "text": [
      "[CV 1/3; 23/30] END bootstrap=True, max_depth=9, max_features=auto, min_samples_leaf=2, min_samples_split=5, n_estimators=500;, score=-0.670 total time=  34.6s\n",
      "[CV 2/3; 23/30] START bootstrap=True, max_depth=9, max_features=auto, min_samples_leaf=2, min_samples_split=5, n_estimators=500\n"
     ]
    },
    {
     "name": "stderr",
     "output_type": "stream",
     "text": [
      "[Parallel(n_jobs=-1)]: Using backend LokyBackend with 8 concurrent workers.\n",
      "[Parallel(n_jobs=-1)]: Done  34 tasks      | elapsed:    2.4s\n",
      "[Parallel(n_jobs=-1)]: Done 184 tasks      | elapsed:   10.9s\n",
      "[Parallel(n_jobs=-1)]: Done 434 tasks      | elapsed:   25.4s\n",
      "[Parallel(n_jobs=-1)]: Done 500 out of 500 | elapsed:   28.7s finished\n",
      "[Parallel(n_jobs=8)]: Using backend ThreadingBackend with 8 concurrent workers.\n",
      "[Parallel(n_jobs=8)]: Done  34 tasks      | elapsed:    0.1s\n",
      "[Parallel(n_jobs=8)]: Done 184 tasks      | elapsed:    0.6s\n",
      "[Parallel(n_jobs=8)]: Done 434 tasks      | elapsed:    1.3s\n",
      "[Parallel(n_jobs=8)]: Done 500 out of 500 | elapsed:    1.5s finished\n"
     ]
    },
    {
     "name": "stdout",
     "output_type": "stream",
     "text": [
      "[CV 2/3; 23/30] END bootstrap=True, max_depth=9, max_features=auto, min_samples_leaf=2, min_samples_split=5, n_estimators=500;, score=-0.673 total time=  32.0s\n",
      "[CV 3/3; 23/30] START bootstrap=True, max_depth=9, max_features=auto, min_samples_leaf=2, min_samples_split=5, n_estimators=500\n"
     ]
    },
    {
     "name": "stderr",
     "output_type": "stream",
     "text": [
      "[Parallel(n_jobs=-1)]: Using backend LokyBackend with 8 concurrent workers.\n",
      "[Parallel(n_jobs=-1)]: Done  34 tasks      | elapsed:    2.2s\n",
      "[Parallel(n_jobs=-1)]: Done 184 tasks      | elapsed:   10.3s\n",
      "[Parallel(n_jobs=-1)]: Done 434 tasks      | elapsed:   25.7s\n",
      "[Parallel(n_jobs=-1)]: Done 500 out of 500 | elapsed:   29.5s finished\n",
      "[Parallel(n_jobs=8)]: Using backend ThreadingBackend with 8 concurrent workers.\n",
      "[Parallel(n_jobs=8)]: Done  34 tasks      | elapsed:    0.1s\n",
      "[Parallel(n_jobs=8)]: Done 184 tasks      | elapsed:    0.6s\n",
      "[Parallel(n_jobs=8)]: Done 434 tasks      | elapsed:    1.3s\n",
      "[Parallel(n_jobs=8)]: Done 500 out of 500 | elapsed:    1.6s finished\n"
     ]
    },
    {
     "name": "stdout",
     "output_type": "stream",
     "text": [
      "[CV 3/3; 23/30] END bootstrap=True, max_depth=9, max_features=auto, min_samples_leaf=2, min_samples_split=5, n_estimators=500;, score=-0.668 total time=  32.8s\n",
      "[CV 1/3; 24/30] START bootstrap=False, max_depth=7, max_features=auto, min_samples_leaf=2, min_samples_split=10, n_estimators=100\n"
     ]
    },
    {
     "name": "stderr",
     "output_type": "stream",
     "text": [
      "[Parallel(n_jobs=-1)]: Using backend LokyBackend with 8 concurrent workers.\n",
      "[Parallel(n_jobs=-1)]: Done  34 tasks      | elapsed:    2.6s\n",
      "[Parallel(n_jobs=-1)]: Done 100 out of 100 | elapsed:    6.0s finished\n",
      "[Parallel(n_jobs=8)]: Using backend ThreadingBackend with 8 concurrent workers.\n",
      "[Parallel(n_jobs=8)]: Done  34 tasks      | elapsed:    0.1s\n",
      "[Parallel(n_jobs=8)]: Done 100 out of 100 | elapsed:    0.4s finished\n"
     ]
    },
    {
     "name": "stdout",
     "output_type": "stream",
     "text": [
      "[CV 1/3; 24/30] END bootstrap=False, max_depth=7, max_features=auto, min_samples_leaf=2, min_samples_split=10, n_estimators=100;, score=-0.681 total time=   8.0s\n",
      "[CV 2/3; 24/30] START bootstrap=False, max_depth=7, max_features=auto, min_samples_leaf=2, min_samples_split=10, n_estimators=100\n"
     ]
    },
    {
     "name": "stderr",
     "output_type": "stream",
     "text": [
      "[Parallel(n_jobs=-1)]: Using backend LokyBackend with 8 concurrent workers.\n",
      "[Parallel(n_jobs=-1)]: Done  34 tasks      | elapsed:    2.9s\n",
      "[Parallel(n_jobs=-1)]: Done 100 out of 100 | elapsed:    6.1s finished\n",
      "[Parallel(n_jobs=8)]: Using backend ThreadingBackend with 8 concurrent workers.\n",
      "[Parallel(n_jobs=8)]: Done  34 tasks      | elapsed:    0.1s\n",
      "[Parallel(n_jobs=8)]: Done 100 out of 100 | elapsed:    0.3s finished\n"
     ]
    },
    {
     "name": "stdout",
     "output_type": "stream",
     "text": [
      "[CV 2/3; 24/30] END bootstrap=False, max_depth=7, max_features=auto, min_samples_leaf=2, min_samples_split=10, n_estimators=100;, score=-0.683 total time=   8.1s\n",
      "[CV 3/3; 24/30] START bootstrap=False, max_depth=7, max_features=auto, min_samples_leaf=2, min_samples_split=10, n_estimators=100\n"
     ]
    },
    {
     "name": "stderr",
     "output_type": "stream",
     "text": [
      "[Parallel(n_jobs=-1)]: Using backend LokyBackend with 8 concurrent workers.\n",
      "[Parallel(n_jobs=-1)]: Done  34 tasks      | elapsed:    2.3s\n",
      "[Parallel(n_jobs=-1)]: Done 100 out of 100 | elapsed:    6.0s finished\n",
      "[Parallel(n_jobs=8)]: Using backend ThreadingBackend with 8 concurrent workers.\n",
      "[Parallel(n_jobs=8)]: Done  34 tasks      | elapsed:    0.1s\n",
      "[Parallel(n_jobs=8)]: Done 100 out of 100 | elapsed:    0.4s finished\n"
     ]
    },
    {
     "name": "stdout",
     "output_type": "stream",
     "text": [
      "[CV 3/3; 24/30] END bootstrap=False, max_depth=7, max_features=auto, min_samples_leaf=2, min_samples_split=10, n_estimators=100;, score=-0.677 total time=   8.0s\n",
      "[CV 1/3; 25/30] START bootstrap=True, max_depth=13, max_features=auto, min_samples_leaf=4, min_samples_split=5, n_estimators=300\n"
     ]
    },
    {
     "name": "stderr",
     "output_type": "stream",
     "text": [
      "[Parallel(n_jobs=-1)]: Using backend LokyBackend with 8 concurrent workers.\n",
      "[Parallel(n_jobs=-1)]: Done  34 tasks      | elapsed:    3.2s\n",
      "[Parallel(n_jobs=-1)]: Done 184 tasks      | elapsed:   16.0s\n",
      "[Parallel(n_jobs=-1)]: Done 300 out of 300 | elapsed:   25.3s finished\n",
      "[Parallel(n_jobs=8)]: Using backend ThreadingBackend with 8 concurrent workers.\n",
      "[Parallel(n_jobs=8)]: Done  34 tasks      | elapsed:    0.2s\n",
      "[Parallel(n_jobs=8)]: Done 184 tasks      | elapsed:    0.7s\n",
      "[Parallel(n_jobs=8)]: Done 300 out of 300 | elapsed:    1.2s finished\n"
     ]
    },
    {
     "name": "stdout",
     "output_type": "stream",
     "text": [
      "[CV 1/3; 25/30] END bootstrap=True, max_depth=13, max_features=auto, min_samples_leaf=4, min_samples_split=5, n_estimators=300;, score=-0.661 total time=  28.1s\n",
      "[CV 2/3; 25/30] START bootstrap=True, max_depth=13, max_features=auto, min_samples_leaf=4, min_samples_split=5, n_estimators=300\n"
     ]
    },
    {
     "name": "stderr",
     "output_type": "stream",
     "text": [
      "[Parallel(n_jobs=-1)]: Using backend LokyBackend with 8 concurrent workers.\n",
      "[Parallel(n_jobs=-1)]: Done  34 tasks      | elapsed:    3.9s\n",
      "[Parallel(n_jobs=-1)]: Done 184 tasks      | elapsed:   17.3s\n",
      "[Parallel(n_jobs=-1)]: Done 300 out of 300 | elapsed:   29.4s finished\n",
      "[Parallel(n_jobs=8)]: Using backend ThreadingBackend with 8 concurrent workers.\n",
      "[Parallel(n_jobs=8)]: Done  34 tasks      | elapsed:    0.2s\n",
      "[Parallel(n_jobs=8)]: Done 184 tasks      | elapsed:    0.8s\n",
      "[Parallel(n_jobs=8)]: Done 300 out of 300 | elapsed:    1.5s finished\n"
     ]
    },
    {
     "name": "stdout",
     "output_type": "stream",
     "text": [
      "[CV 2/3; 25/30] END bootstrap=True, max_depth=13, max_features=auto, min_samples_leaf=4, min_samples_split=5, n_estimators=300;, score=-0.663 total time=  32.6s\n",
      "[CV 3/3; 25/30] START bootstrap=True, max_depth=13, max_features=auto, min_samples_leaf=4, min_samples_split=5, n_estimators=300\n"
     ]
    },
    {
     "name": "stderr",
     "output_type": "stream",
     "text": [
      "[Parallel(n_jobs=-1)]: Using backend LokyBackend with 8 concurrent workers.\n",
      "[Parallel(n_jobs=-1)]: Done  34 tasks      | elapsed:    3.3s\n",
      "[Parallel(n_jobs=-1)]: Done 184 tasks      | elapsed:   15.2s\n",
      "[Parallel(n_jobs=-1)]: Done 300 out of 300 | elapsed:   23.6s finished\n",
      "[Parallel(n_jobs=8)]: Using backend ThreadingBackend with 8 concurrent workers.\n",
      "[Parallel(n_jobs=8)]: Done  34 tasks      | elapsed:    0.1s\n",
      "[Parallel(n_jobs=8)]: Done 184 tasks      | elapsed:    0.7s\n",
      "[Parallel(n_jobs=8)]: Done 300 out of 300 | elapsed:    1.1s finished\n"
     ]
    },
    {
     "name": "stdout",
     "output_type": "stream",
     "text": [
      "[CV 3/3; 25/30] END bootstrap=True, max_depth=13, max_features=auto, min_samples_leaf=4, min_samples_split=5, n_estimators=300;, score=-0.658 total time=  26.3s\n",
      "[CV 1/3; 26/30] START bootstrap=False, max_depth=13, max_features=auto, min_samples_leaf=4, min_samples_split=2, n_estimators=300\n"
     ]
    },
    {
     "name": "stderr",
     "output_type": "stream",
     "text": [
      "[Parallel(n_jobs=-1)]: Using backend LokyBackend with 8 concurrent workers.\n",
      "[Parallel(n_jobs=-1)]: Done  34 tasks      | elapsed:    3.3s\n",
      "[Parallel(n_jobs=-1)]: Done 184 tasks      | elapsed:   15.9s\n",
      "[Parallel(n_jobs=-1)]: Done 300 out of 300 | elapsed:   25.4s finished\n",
      "[Parallel(n_jobs=8)]: Using backend ThreadingBackend with 8 concurrent workers.\n",
      "[Parallel(n_jobs=8)]: Done  34 tasks      | elapsed:    0.1s\n",
      "[Parallel(n_jobs=8)]: Done 184 tasks      | elapsed:    0.7s\n",
      "[Parallel(n_jobs=8)]: Done 300 out of 300 | elapsed:    1.1s finished\n"
     ]
    },
    {
     "name": "stdout",
     "output_type": "stream",
     "text": [
      "[CV 1/3; 26/30] END bootstrap=False, max_depth=13, max_features=auto, min_samples_leaf=4, min_samples_split=2, n_estimators=300;, score=-0.660 total time=  28.2s\n",
      "[CV 2/3; 26/30] START bootstrap=False, max_depth=13, max_features=auto, min_samples_leaf=4, min_samples_split=2, n_estimators=300\n"
     ]
    },
    {
     "name": "stderr",
     "output_type": "stream",
     "text": [
      "[Parallel(n_jobs=-1)]: Using backend LokyBackend with 8 concurrent workers.\n",
      "[Parallel(n_jobs=-1)]: Done  34 tasks      | elapsed:    3.2s\n",
      "[Parallel(n_jobs=-1)]: Done 184 tasks      | elapsed:   16.2s\n",
      "[Parallel(n_jobs=-1)]: Done 300 out of 300 | elapsed:   26.0s finished\n",
      "[Parallel(n_jobs=8)]: Using backend ThreadingBackend with 8 concurrent workers.\n",
      "[Parallel(n_jobs=8)]: Done  34 tasks      | elapsed:    0.2s\n",
      "[Parallel(n_jobs=8)]: Done 184 tasks      | elapsed:    0.7s\n",
      "[Parallel(n_jobs=8)]: Done 300 out of 300 | elapsed:    1.1s finished\n"
     ]
    },
    {
     "name": "stdout",
     "output_type": "stream",
     "text": [
      "[CV 2/3; 26/30] END bootstrap=False, max_depth=13, max_features=auto, min_samples_leaf=4, min_samples_split=2, n_estimators=300;, score=-0.663 total time=  28.7s\n",
      "[CV 3/3; 26/30] START bootstrap=False, max_depth=13, max_features=auto, min_samples_leaf=4, min_samples_split=2, n_estimators=300\n"
     ]
    },
    {
     "name": "stderr",
     "output_type": "stream",
     "text": [
      "[Parallel(n_jobs=-1)]: Using backend LokyBackend with 8 concurrent workers.\n",
      "[Parallel(n_jobs=-1)]: Done  34 tasks      | elapsed:    3.2s\n",
      "[Parallel(n_jobs=-1)]: Done 184 tasks      | elapsed:   16.3s\n",
      "[Parallel(n_jobs=-1)]: Done 300 out of 300 | elapsed:   25.8s finished\n",
      "[Parallel(n_jobs=8)]: Using backend ThreadingBackend with 8 concurrent workers.\n",
      "[Parallel(n_jobs=8)]: Done  34 tasks      | elapsed:    0.2s\n",
      "[Parallel(n_jobs=8)]: Done 184 tasks      | elapsed:    0.7s\n",
      "[Parallel(n_jobs=8)]: Done 300 out of 300 | elapsed:    1.1s finished\n"
     ]
    },
    {
     "name": "stdout",
     "output_type": "stream",
     "text": [
      "[CV 3/3; 26/30] END bootstrap=False, max_depth=13, max_features=auto, min_samples_leaf=4, min_samples_split=2, n_estimators=300;, score=-0.658 total time=  28.6s\n",
      "[CV 1/3; 27/30] START bootstrap=False, max_depth=9, max_features=sqrt, min_samples_leaf=4, min_samples_split=2, n_estimators=200\n"
     ]
    },
    {
     "name": "stderr",
     "output_type": "stream",
     "text": [
      "[Parallel(n_jobs=-1)]: Using backend LokyBackend with 8 concurrent workers.\n",
      "[Parallel(n_jobs=-1)]: Done  34 tasks      | elapsed:    2.4s\n",
      "[Parallel(n_jobs=-1)]: Done 184 tasks      | elapsed:   11.6s\n",
      "[Parallel(n_jobs=-1)]: Done 200 out of 200 | elapsed:   12.4s finished\n",
      "[Parallel(n_jobs=8)]: Using backend ThreadingBackend with 8 concurrent workers.\n",
      "[Parallel(n_jobs=8)]: Done  34 tasks      | elapsed:    0.1s\n",
      "[Parallel(n_jobs=8)]: Done 184 tasks      | elapsed:    0.6s\n",
      "[Parallel(n_jobs=8)]: Done 200 out of 200 | elapsed:    0.6s finished\n"
     ]
    },
    {
     "name": "stdout",
     "output_type": "stream",
     "text": [
      "[CV 1/3; 27/30] END bootstrap=False, max_depth=9, max_features=sqrt, min_samples_leaf=4, min_samples_split=2, n_estimators=200;, score=-0.670 total time=  14.6s\n",
      "[CV 2/3; 27/30] START bootstrap=False, max_depth=9, max_features=sqrt, min_samples_leaf=4, min_samples_split=2, n_estimators=200\n"
     ]
    },
    {
     "name": "stderr",
     "output_type": "stream",
     "text": [
      "[Parallel(n_jobs=-1)]: Using backend LokyBackend with 8 concurrent workers.\n",
      "[Parallel(n_jobs=-1)]: Done  34 tasks      | elapsed:    2.5s\n",
      "[Parallel(n_jobs=-1)]: Done 184 tasks      | elapsed:   11.9s\n",
      "[Parallel(n_jobs=-1)]: Done 200 out of 200 | elapsed:   12.8s finished\n",
      "[Parallel(n_jobs=8)]: Using backend ThreadingBackend with 8 concurrent workers.\n",
      "[Parallel(n_jobs=8)]: Done  34 tasks      | elapsed:    0.1s\n",
      "[Parallel(n_jobs=8)]: Done 184 tasks      | elapsed:    0.6s\n",
      "[Parallel(n_jobs=8)]: Done 200 out of 200 | elapsed:    0.6s finished\n"
     ]
    },
    {
     "name": "stdout",
     "output_type": "stream",
     "text": [
      "[CV 2/3; 27/30] END bootstrap=False, max_depth=9, max_features=sqrt, min_samples_leaf=4, min_samples_split=2, n_estimators=200;, score=-0.673 total time=  15.0s\n",
      "[CV 3/3; 27/30] START bootstrap=False, max_depth=9, max_features=sqrt, min_samples_leaf=4, min_samples_split=2, n_estimators=200\n"
     ]
    },
    {
     "name": "stderr",
     "output_type": "stream",
     "text": [
      "[Parallel(n_jobs=-1)]: Using backend LokyBackend with 8 concurrent workers.\n",
      "[Parallel(n_jobs=-1)]: Done  34 tasks      | elapsed:    2.5s\n",
      "[Parallel(n_jobs=-1)]: Done 184 tasks      | elapsed:   11.8s\n",
      "[Parallel(n_jobs=-1)]: Done 200 out of 200 | elapsed:   12.6s finished\n",
      "[Parallel(n_jobs=8)]: Using backend ThreadingBackend with 8 concurrent workers.\n",
      "[Parallel(n_jobs=8)]: Done  34 tasks      | elapsed:    0.1s\n",
      "[Parallel(n_jobs=8)]: Done 184 tasks      | elapsed:    0.5s\n",
      "[Parallel(n_jobs=8)]: Done 200 out of 200 | elapsed:    0.6s finished\n"
     ]
    },
    {
     "name": "stdout",
     "output_type": "stream",
     "text": [
      "[CV 3/3; 27/30] END bootstrap=False, max_depth=9, max_features=sqrt, min_samples_leaf=4, min_samples_split=2, n_estimators=200;, score=-0.669 total time=  14.8s\n",
      "[CV 1/3; 28/30] START bootstrap=False, max_depth=7, max_features=sqrt, min_samples_leaf=1, min_samples_split=2, n_estimators=200\n"
     ]
    },
    {
     "name": "stderr",
     "output_type": "stream",
     "text": [
      "[Parallel(n_jobs=-1)]: Using backend LokyBackend with 8 concurrent workers.\n",
      "[Parallel(n_jobs=-1)]: Done  34 tasks      | elapsed:    2.0s\n",
      "[Parallel(n_jobs=-1)]: Done 184 tasks      | elapsed:    9.7s\n",
      "[Parallel(n_jobs=-1)]: Done 200 out of 200 | elapsed:   10.4s finished\n",
      "[Parallel(n_jobs=8)]: Using backend ThreadingBackend with 8 concurrent workers.\n",
      "[Parallel(n_jobs=8)]: Done  34 tasks      | elapsed:    0.1s\n",
      "[Parallel(n_jobs=8)]: Done 184 tasks      | elapsed:    0.6s\n",
      "[Parallel(n_jobs=8)]: Done 200 out of 200 | elapsed:    0.6s finished\n"
     ]
    },
    {
     "name": "stdout",
     "output_type": "stream",
     "text": [
      "[CV 1/3; 28/30] END bootstrap=False, max_depth=7, max_features=sqrt, min_samples_leaf=1, min_samples_split=2, n_estimators=200;, score=-0.681 total time=  12.6s\n",
      "[CV 2/3; 28/30] START bootstrap=False, max_depth=7, max_features=sqrt, min_samples_leaf=1, min_samples_split=2, n_estimators=200\n"
     ]
    },
    {
     "name": "stderr",
     "output_type": "stream",
     "text": [
      "[Parallel(n_jobs=-1)]: Using backend LokyBackend with 8 concurrent workers.\n",
      "[Parallel(n_jobs=-1)]: Done  34 tasks      | elapsed:    2.0s\n",
      "[Parallel(n_jobs=-1)]: Done 184 tasks      | elapsed:    9.5s\n",
      "[Parallel(n_jobs=-1)]: Done 200 out of 200 | elapsed:   10.2s finished\n",
      "[Parallel(n_jobs=8)]: Using backend ThreadingBackend with 8 concurrent workers.\n",
      "[Parallel(n_jobs=8)]: Done  34 tasks      | elapsed:    0.1s\n",
      "[Parallel(n_jobs=8)]: Done 184 tasks      | elapsed:    0.5s\n",
      "[Parallel(n_jobs=8)]: Done 200 out of 200 | elapsed:    0.6s finished\n"
     ]
    },
    {
     "name": "stdout",
     "output_type": "stream",
     "text": [
      "[CV 2/3; 28/30] END bootstrap=False, max_depth=7, max_features=sqrt, min_samples_leaf=1, min_samples_split=2, n_estimators=200;, score=-0.684 total time=  12.4s\n",
      "[CV 3/3; 28/30] START bootstrap=False, max_depth=7, max_features=sqrt, min_samples_leaf=1, min_samples_split=2, n_estimators=200\n"
     ]
    },
    {
     "name": "stderr",
     "output_type": "stream",
     "text": [
      "[Parallel(n_jobs=-1)]: Using backend LokyBackend with 8 concurrent workers.\n",
      "[Parallel(n_jobs=-1)]: Done  34 tasks      | elapsed:    2.1s\n",
      "[Parallel(n_jobs=-1)]: Done 184 tasks      | elapsed:    9.2s\n",
      "[Parallel(n_jobs=-1)]: Done 200 out of 200 | elapsed:    9.8s finished\n",
      "[Parallel(n_jobs=8)]: Using backend ThreadingBackend with 8 concurrent workers.\n",
      "[Parallel(n_jobs=8)]: Done  34 tasks      | elapsed:    0.1s\n",
      "[Parallel(n_jobs=8)]: Done 184 tasks      | elapsed:    0.5s\n",
      "[Parallel(n_jobs=8)]: Done 200 out of 200 | elapsed:    0.6s finished\n"
     ]
    },
    {
     "name": "stdout",
     "output_type": "stream",
     "text": [
      "[CV 3/3; 28/30] END bootstrap=False, max_depth=7, max_features=sqrt, min_samples_leaf=1, min_samples_split=2, n_estimators=200;, score=-0.679 total time=  12.0s\n",
      "[CV 1/3; 29/30] START bootstrap=True, max_depth=11, max_features=sqrt, min_samples_leaf=2, min_samples_split=5, n_estimators=300\n"
     ]
    },
    {
     "name": "stderr",
     "output_type": "stream",
     "text": [
      "[Parallel(n_jobs=-1)]: Using backend LokyBackend with 8 concurrent workers.\n",
      "[Parallel(n_jobs=-1)]: Done  34 tasks      | elapsed:    3.0s\n",
      "[Parallel(n_jobs=-1)]: Done 184 tasks      | elapsed:   12.6s\n",
      "[Parallel(n_jobs=-1)]: Done 300 out of 300 | elapsed:   20.0s finished\n",
      "[Parallel(n_jobs=8)]: Using backend ThreadingBackend with 8 concurrent workers.\n",
      "[Parallel(n_jobs=8)]: Done  34 tasks      | elapsed:    0.1s\n",
      "[Parallel(n_jobs=8)]: Done 184 tasks      | elapsed:    0.6s\n",
      "[Parallel(n_jobs=8)]: Done 300 out of 300 | elapsed:    0.9s finished\n"
     ]
    },
    {
     "name": "stdout",
     "output_type": "stream",
     "text": [
      "[CV 1/3; 29/30] END bootstrap=True, max_depth=11, max_features=sqrt, min_samples_leaf=2, min_samples_split=5, n_estimators=300;, score=-0.664 total time=  22.6s\n",
      "[CV 2/3; 29/30] START bootstrap=True, max_depth=11, max_features=sqrt, min_samples_leaf=2, min_samples_split=5, n_estimators=300\n"
     ]
    },
    {
     "name": "stderr",
     "output_type": "stream",
     "text": [
      "[Parallel(n_jobs=-1)]: Using backend LokyBackend with 8 concurrent workers.\n",
      "[Parallel(n_jobs=-1)]: Done  34 tasks      | elapsed:    2.6s\n",
      "[Parallel(n_jobs=-1)]: Done 184 tasks      | elapsed:   12.3s\n",
      "[Parallel(n_jobs=-1)]: Done 300 out of 300 | elapsed:   19.9s finished\n",
      "[Parallel(n_jobs=8)]: Using backend ThreadingBackend with 8 concurrent workers.\n",
      "[Parallel(n_jobs=8)]: Done  34 tasks      | elapsed:    0.1s\n",
      "[Parallel(n_jobs=8)]: Done 184 tasks      | elapsed:    0.6s\n",
      "[Parallel(n_jobs=8)]: Done 300 out of 300 | elapsed:    0.9s finished\n"
     ]
    },
    {
     "name": "stdout",
     "output_type": "stream",
     "text": [
      "[CV 2/3; 29/30] END bootstrap=True, max_depth=11, max_features=sqrt, min_samples_leaf=2, min_samples_split=5, n_estimators=300;, score=-0.667 total time=  22.4s\n",
      "[CV 3/3; 29/30] START bootstrap=True, max_depth=11, max_features=sqrt, min_samples_leaf=2, min_samples_split=5, n_estimators=300\n"
     ]
    },
    {
     "name": "stderr",
     "output_type": "stream",
     "text": [
      "[Parallel(n_jobs=-1)]: Using backend LokyBackend with 8 concurrent workers.\n",
      "[Parallel(n_jobs=-1)]: Done  34 tasks      | elapsed:    2.7s\n",
      "[Parallel(n_jobs=-1)]: Done 184 tasks      | elapsed:   12.9s\n",
      "[Parallel(n_jobs=-1)]: Done 300 out of 300 | elapsed:   20.9s finished\n",
      "[Parallel(n_jobs=8)]: Using backend ThreadingBackend with 8 concurrent workers.\n",
      "[Parallel(n_jobs=8)]: Done  34 tasks      | elapsed:    0.1s\n",
      "[Parallel(n_jobs=8)]: Done 184 tasks      | elapsed:    0.6s\n",
      "[Parallel(n_jobs=8)]: Done 300 out of 300 | elapsed:    1.0s finished\n"
     ]
    },
    {
     "name": "stdout",
     "output_type": "stream",
     "text": [
      "[CV 3/3; 29/30] END bootstrap=True, max_depth=11, max_features=sqrt, min_samples_leaf=2, min_samples_split=5, n_estimators=300;, score=-0.662 total time=  23.6s\n",
      "[CV 1/3; 30/30] START bootstrap=True, max_depth=10, max_features=auto, min_samples_leaf=2, min_samples_split=10, n_estimators=300\n"
     ]
    },
    {
     "name": "stderr",
     "output_type": "stream",
     "text": [
      "[Parallel(n_jobs=-1)]: Using backend LokyBackend with 8 concurrent workers.\n",
      "[Parallel(n_jobs=-1)]: Done  34 tasks      | elapsed:    2.8s\n",
      "[Parallel(n_jobs=-1)]: Done 184 tasks      | elapsed:   14.4s\n",
      "[Parallel(n_jobs=-1)]: Done 300 out of 300 | elapsed:   22.8s finished\n",
      "[Parallel(n_jobs=8)]: Using backend ThreadingBackend with 8 concurrent workers.\n",
      "[Parallel(n_jobs=8)]: Done  34 tasks      | elapsed:    0.2s\n",
      "[Parallel(n_jobs=8)]: Done 184 tasks      | elapsed:    1.2s\n",
      "[Parallel(n_jobs=8)]: Done 300 out of 300 | elapsed:    1.9s finished\n"
     ]
    },
    {
     "name": "stdout",
     "output_type": "stream",
     "text": [
      "[CV 1/3; 30/30] END bootstrap=True, max_depth=10, max_features=auto, min_samples_leaf=2, min_samples_split=10, n_estimators=300;, score=-0.667 total time=  26.7s\n",
      "[CV 2/3; 30/30] START bootstrap=True, max_depth=10, max_features=auto, min_samples_leaf=2, min_samples_split=10, n_estimators=300\n"
     ]
    },
    {
     "name": "stderr",
     "output_type": "stream",
     "text": [
      "[Parallel(n_jobs=-1)]: Using backend LokyBackend with 8 concurrent workers.\n",
      "[Parallel(n_jobs=-1)]: Done  34 tasks      | elapsed:    2.8s\n",
      "[Parallel(n_jobs=-1)]: Done 184 tasks      | elapsed:   13.0s\n",
      "[Parallel(n_jobs=-1)]: Done 300 out of 300 | elapsed:   20.7s finished\n",
      "[Parallel(n_jobs=8)]: Using backend ThreadingBackend with 8 concurrent workers.\n",
      "[Parallel(n_jobs=8)]: Done  34 tasks      | elapsed:    0.1s\n",
      "[Parallel(n_jobs=8)]: Done 184 tasks      | elapsed:    0.6s\n",
      "[Parallel(n_jobs=8)]: Done 300 out of 300 | elapsed:    1.0s finished\n"
     ]
    },
    {
     "name": "stdout",
     "output_type": "stream",
     "text": [
      "[CV 2/3; 30/30] END bootstrap=True, max_depth=10, max_features=auto, min_samples_leaf=2, min_samples_split=10, n_estimators=300;, score=-0.670 total time=  23.4s\n",
      "[CV 3/3; 30/30] START bootstrap=True, max_depth=10, max_features=auto, min_samples_leaf=2, min_samples_split=10, n_estimators=300\n"
     ]
    },
    {
     "name": "stderr",
     "output_type": "stream",
     "text": [
      "[Parallel(n_jobs=-1)]: Using backend LokyBackend with 8 concurrent workers.\n",
      "[Parallel(n_jobs=-1)]: Done  34 tasks      | elapsed:    2.7s\n",
      "[Parallel(n_jobs=-1)]: Done 184 tasks      | elapsed:   12.5s\n",
      "[Parallel(n_jobs=-1)]: Done 300 out of 300 | elapsed:   20.6s finished\n",
      "[Parallel(n_jobs=8)]: Using backend ThreadingBackend with 8 concurrent workers.\n",
      "[Parallel(n_jobs=8)]: Done  34 tasks      | elapsed:    0.1s\n",
      "[Parallel(n_jobs=8)]: Done 184 tasks      | elapsed:    0.7s\n",
      "[Parallel(n_jobs=8)]: Done 300 out of 300 | elapsed:    1.4s finished\n"
     ]
    },
    {
     "name": "stdout",
     "output_type": "stream",
     "text": [
      "[CV 3/3; 30/30] END bootstrap=True, max_depth=10, max_features=auto, min_samples_leaf=2, min_samples_split=10, n_estimators=300;, score=-0.665 total time=  24.4s\n"
     ]
    },
    {
     "name": "stderr",
     "output_type": "stream",
     "text": [
      "[Parallel(n_jobs=-1)]: Using backend ThreadingBackend with 8 concurrent workers.\n",
      "[Parallel(n_jobs=-1)]: Done  34 tasks      | elapsed:    7.9s\n",
      "[Parallel(n_jobs=-1)]: Done 184 tasks      | elapsed:   36.7s\n",
      "[Parallel(n_jobs=-1)]: Done 300 out of 300 | elapsed:   54.4s finished\n"
     ]
    },
    {
     "data": {
      "text/plain": [
       "RandomizedSearchCV(cv=GroupKFold(n_splits=3),\n",
       "                   estimator=RandomForestClassifier(n_jobs=-1, random_state=1,\n",
       "                                                    verbose=1),\n",
       "                   n_iter=30, n_jobs=1,\n",
       "                   param_distributions={'bootstrap': [True, False],\n",
       "                                        'max_depth': array([ 5,  6,  7,  8,  9, 10, 11, 12, 13, 14, 15]),\n",
       "                                        'max_features': ['auto', 'sqrt'],\n",
       "                                        'min_samples_leaf': [1, 2, 4],\n",
       "                                        'min_samples_split': [2, 5, 10],\n",
       "                                        'n_estimators': array([ 50, 100, 150, 200, 250, 300, 350, 400, 450, 500])},\n",
       "                   random_state=42,\n",
       "                   scoring=make_scorer(ProbaScoreProxy, greater_is_better=False, needs_proba=True, proxied_func=<function log_loss at 0x7fdd6f0a0790>),\n",
       "                   verbose=100)"
      ]
     },
     "execution_count": 18,
     "metadata": {},
     "output_type": "execute_result"
    }
   ],
   "source": [
    "cv=GroupKFold(n_splits=3)\n",
    "rf_grid = {\n",
    "    \"n_estimators\": np.linspace(start=50, stop=500, num=10, dtype=int),\n",
    "    \"max_features\": [\"auto\", \"sqrt\"],\n",
    "    \"max_depth\": np.linspace(5, 15, num=11, dtype=int),\n",
    "    \"min_samples_split\": [2, 5, 10],\n",
    "    \"min_samples_leaf\": [1, 2, 4],\n",
    "    \"bootstrap\": [True, False],\n",
    "}\n",
    "rf_play_outcome_search_model = RandomForestClassifier(verbose=1, n_jobs=-1, random_state=1)\n",
    "# search_rf_play_outcome = RandomizedSearchCV(rf_play_outcome_search_model, rf_grid, scoring=log_loss_scorer,cv=cv,random_state=42,n_iter=30,n_jobs=1,verbose=100)\n",
    "# search_rf_play_outcome.fit(X_train,y_train,groups=group_train)\n",
    "# pickle.dump(search_rf_play_outcome, open(os.path.join(root_dir, 'models/search_rf_play_outcome.p'), 'wb'))\n",
    "search_rf_play_outcome = pickle.load(open(os.path.join(root_dir, \"models/search_rf_play_outcome.p\"), 'rb'))\n",
    "os.system('say \"done\"')\n",
    "search_rf_play_outcome"
   ]
  },
  {
   "cell_type": "code",
   "execution_count": null,
   "metadata": {},
   "outputs": [],
   "source": [
    "import catboost as cb\n",
    "curr_val_pool_score_change =cb.Pool(\n",
    "        data=X_val,\n",
    "        label=y_val,\n",
    "        feature_names=input_names,\n",
    ")\n",
    "\n",
    "CLASSIFIER_PARAMS = {\n",
    "    # \"n_estimators\": 10,\n",
    "    \"num_trees\": 1000,\n",
    "    \"auto_class_weights\": \"Balanced\",\n",
    "\n",
    "    # \"loss_function\": JITRmseObjective(),\n",
    "    # \"eval_metric\": JITRmseMetric(),\n",
    "    **COMPUTE_PARAMS,\n",
    "}\n",
    "HPO_PARAMS = {\"n_jobs\": 1}\n",
    "\n",
    "cv=GroupKFold(n_splits=3)\n",
    "cb_play_outcome_search_model = cb.CatBoostClassifier()\n"
   ]
  },
  {
   "cell_type": "code",
   "execution_count": 53,
   "metadata": {},
   "outputs": [
    {
     "data": {
      "text/html": [
       "<div>\n",
       "<style scoped>\n",
       "    .dataframe tbody tr th:only-of-type {\n",
       "        vertical-align: middle;\n",
       "    }\n",
       "\n",
       "    .dataframe tbody tr th {\n",
       "        vertical-align: top;\n",
       "    }\n",
       "\n",
       "    .dataframe thead th {\n",
       "        text-align: right;\n",
       "    }\n",
       "</style>\n",
       "<table border=\"1\" class=\"dataframe\">\n",
       "  <thead>\n",
       "    <tr style=\"text-align: right;\">\n",
       "      <th></th>\n",
       "      <th>time_left_in_half</th>\n",
       "      <th>time_left_in_half_sq</th>\n",
       "      <th>half</th>\n",
       "      <th>current_score_diff</th>\n",
       "      <th>current_score_total</th>\n",
       "      <th>cur_spread</th>\n",
       "      <th>cur_over_under</th>\n",
       "      <th>home_timeouts_remaining</th>\n",
       "      <th>away_timeouts_remaining</th>\n",
       "      <th>punt</th>\n",
       "      <th>...</th>\n",
       "      <th>down_yd_from_goal_3</th>\n",
       "      <th>down_yd_from_goal_4</th>\n",
       "      <th>down_ytg_1_sq</th>\n",
       "      <th>down_ytg_2_sq</th>\n",
       "      <th>down_ytg_3_sq</th>\n",
       "      <th>down_ytg_4_sq</th>\n",
       "      <th>down_yd_from_goal_1_sq</th>\n",
       "      <th>down_yd_from_goal_2_sq</th>\n",
       "      <th>down_yd_from_goal_3_sq</th>\n",
       "      <th>down_yd_from_goal_4_sq</th>\n",
       "    </tr>\n",
       "  </thead>\n",
       "  <tbody>\n",
       "    <tr>\n",
       "      <th>2</th>\n",
       "      <td>0.997222</td>\n",
       "      <td>0.994452</td>\n",
       "      <td>0.0</td>\n",
       "      <td>0.453704</td>\n",
       "      <td>0.000000</td>\n",
       "      <td>0.500000</td>\n",
       "      <td>0.630252</td>\n",
       "      <td>1.000000</td>\n",
       "      <td>1.000000</td>\n",
       "      <td>0.0</td>\n",
       "      <td>...</td>\n",
       "      <td>0.000000</td>\n",
       "      <td>0.000000</td>\n",
       "      <td>0.0625</td>\n",
       "      <td>0.000000</td>\n",
       "      <td>0.0000</td>\n",
       "      <td>0.000000</td>\n",
       "      <td>0.719927</td>\n",
       "      <td>0.000000</td>\n",
       "      <td>0.000000</td>\n",
       "      <td>0.000000</td>\n",
       "    </tr>\n",
       "    <tr>\n",
       "      <th>3</th>\n",
       "      <td>0.977778</td>\n",
       "      <td>0.956049</td>\n",
       "      <td>0.0</td>\n",
       "      <td>0.453704</td>\n",
       "      <td>0.000000</td>\n",
       "      <td>0.500000</td>\n",
       "      <td>0.630252</td>\n",
       "      <td>1.000000</td>\n",
       "      <td>1.000000</td>\n",
       "      <td>0.0</td>\n",
       "      <td>...</td>\n",
       "      <td>0.000000</td>\n",
       "      <td>0.000000</td>\n",
       "      <td>0.0000</td>\n",
       "      <td>0.025310</td>\n",
       "      <td>0.0000</td>\n",
       "      <td>0.000000</td>\n",
       "      <td>0.000000</td>\n",
       "      <td>0.669421</td>\n",
       "      <td>0.000000</td>\n",
       "      <td>0.000000</td>\n",
       "    </tr>\n",
       "    <tr>\n",
       "      <th>4</th>\n",
       "      <td>0.974444</td>\n",
       "      <td>0.949542</td>\n",
       "      <td>0.0</td>\n",
       "      <td>0.453704</td>\n",
       "      <td>0.000000</td>\n",
       "      <td>0.500000</td>\n",
       "      <td>0.630252</td>\n",
       "      <td>1.000000</td>\n",
       "      <td>1.000000</td>\n",
       "      <td>0.0</td>\n",
       "      <td>...</td>\n",
       "      <td>0.818182</td>\n",
       "      <td>0.000000</td>\n",
       "      <td>0.0000</td>\n",
       "      <td>0.000000</td>\n",
       "      <td>0.0196</td>\n",
       "      <td>0.000000</td>\n",
       "      <td>0.000000</td>\n",
       "      <td>0.000000</td>\n",
       "      <td>0.669421</td>\n",
       "      <td>0.000000</td>\n",
       "    </tr>\n",
       "    <tr>\n",
       "      <th>5</th>\n",
       "      <td>0.957222</td>\n",
       "      <td>0.916274</td>\n",
       "      <td>0.0</td>\n",
       "      <td>0.453704</td>\n",
       "      <td>0.000000</td>\n",
       "      <td>0.500000</td>\n",
       "      <td>0.630252</td>\n",
       "      <td>1.000000</td>\n",
       "      <td>1.000000</td>\n",
       "      <td>0.0</td>\n",
       "      <td>...</td>\n",
       "      <td>0.000000</td>\n",
       "      <td>0.000000</td>\n",
       "      <td>0.0625</td>\n",
       "      <td>0.000000</td>\n",
       "      <td>0.0000</td>\n",
       "      <td>0.000000</td>\n",
       "      <td>0.543720</td>\n",
       "      <td>0.000000</td>\n",
       "      <td>0.000000</td>\n",
       "      <td>0.000000</td>\n",
       "    </tr>\n",
       "    <tr>\n",
       "      <th>6</th>\n",
       "      <td>0.931111</td>\n",
       "      <td>0.866968</td>\n",
       "      <td>0.0</td>\n",
       "      <td>0.453704</td>\n",
       "      <td>0.000000</td>\n",
       "      <td>0.500000</td>\n",
       "      <td>0.630252</td>\n",
       "      <td>1.000000</td>\n",
       "      <td>1.000000</td>\n",
       "      <td>0.0</td>\n",
       "      <td>...</td>\n",
       "      <td>0.000000</td>\n",
       "      <td>0.000000</td>\n",
       "      <td>0.0000</td>\n",
       "      <td>0.025310</td>\n",
       "      <td>0.0000</td>\n",
       "      <td>0.000000</td>\n",
       "      <td>0.000000</td>\n",
       "      <td>0.499949</td>\n",
       "      <td>0.000000</td>\n",
       "      <td>0.000000</td>\n",
       "    </tr>\n",
       "    <tr>\n",
       "      <th>...</th>\n",
       "      <td>...</td>\n",
       "      <td>...</td>\n",
       "      <td>...</td>\n",
       "      <td>...</td>\n",
       "      <td>...</td>\n",
       "      <td>...</td>\n",
       "      <td>...</td>\n",
       "      <td>...</td>\n",
       "      <td>...</td>\n",
       "      <td>...</td>\n",
       "      <td>...</td>\n",
       "      <td>...</td>\n",
       "      <td>...</td>\n",
       "      <td>...</td>\n",
       "      <td>...</td>\n",
       "      <td>...</td>\n",
       "      <td>...</td>\n",
       "      <td>...</td>\n",
       "      <td>...</td>\n",
       "      <td>...</td>\n",
       "      <td>...</td>\n",
       "    </tr>\n",
       "    <tr>\n",
       "      <th>698479</th>\n",
       "      <td>0.037778</td>\n",
       "      <td>0.001427</td>\n",
       "      <td>1.0</td>\n",
       "      <td>0.555556</td>\n",
       "      <td>0.485714</td>\n",
       "      <td>0.566667</td>\n",
       "      <td>0.823529</td>\n",
       "      <td>1.000000</td>\n",
       "      <td>0.666667</td>\n",
       "      <td>0.0</td>\n",
       "      <td>...</td>\n",
       "      <td>0.000000</td>\n",
       "      <td>0.000000</td>\n",
       "      <td>0.0000</td>\n",
       "      <td>0.051653</td>\n",
       "      <td>0.0000</td>\n",
       "      <td>0.000000</td>\n",
       "      <td>0.000000</td>\n",
       "      <td>0.573921</td>\n",
       "      <td>0.000000</td>\n",
       "      <td>0.000000</td>\n",
       "    </tr>\n",
       "    <tr>\n",
       "      <th>698481</th>\n",
       "      <td>0.031667</td>\n",
       "      <td>0.001003</td>\n",
       "      <td>1.0</td>\n",
       "      <td>0.555556</td>\n",
       "      <td>0.485714</td>\n",
       "      <td>0.566667</td>\n",
       "      <td>0.823529</td>\n",
       "      <td>1.000000</td>\n",
       "      <td>0.666667</td>\n",
       "      <td>0.0</td>\n",
       "      <td>...</td>\n",
       "      <td>0.000000</td>\n",
       "      <td>0.000000</td>\n",
       "      <td>0.0625</td>\n",
       "      <td>0.000000</td>\n",
       "      <td>0.0000</td>\n",
       "      <td>0.000000</td>\n",
       "      <td>0.355168</td>\n",
       "      <td>0.000000</td>\n",
       "      <td>0.000000</td>\n",
       "      <td>0.000000</td>\n",
       "    </tr>\n",
       "    <tr>\n",
       "      <th>698483</th>\n",
       "      <td>0.029444</td>\n",
       "      <td>0.000867</td>\n",
       "      <td>1.0</td>\n",
       "      <td>0.555556</td>\n",
       "      <td>0.485714</td>\n",
       "      <td>0.566667</td>\n",
       "      <td>0.823529</td>\n",
       "      <td>1.000000</td>\n",
       "      <td>0.333333</td>\n",
       "      <td>0.0</td>\n",
       "      <td>...</td>\n",
       "      <td>0.000000</td>\n",
       "      <td>0.000000</td>\n",
       "      <td>0.0000</td>\n",
       "      <td>0.116219</td>\n",
       "      <td>0.0000</td>\n",
       "      <td>0.000000</td>\n",
       "      <td>0.000000</td>\n",
       "      <td>0.417917</td>\n",
       "      <td>0.000000</td>\n",
       "      <td>0.000000</td>\n",
       "    </tr>\n",
       "    <tr>\n",
       "      <th>698485</th>\n",
       "      <td>0.028333</td>\n",
       "      <td>0.000803</td>\n",
       "      <td>1.0</td>\n",
       "      <td>0.555556</td>\n",
       "      <td>0.485714</td>\n",
       "      <td>0.566667</td>\n",
       "      <td>0.823529</td>\n",
       "      <td>1.000000</td>\n",
       "      <td>0.000000</td>\n",
       "      <td>0.0</td>\n",
       "      <td>...</td>\n",
       "      <td>0.676768</td>\n",
       "      <td>0.000000</td>\n",
       "      <td>0.0000</td>\n",
       "      <td>0.000000</td>\n",
       "      <td>0.1296</td>\n",
       "      <td>0.000000</td>\n",
       "      <td>0.000000</td>\n",
       "      <td>0.000000</td>\n",
       "      <td>0.458014</td>\n",
       "      <td>0.000000</td>\n",
       "    </tr>\n",
       "    <tr>\n",
       "      <th>698487</th>\n",
       "      <td>0.002778</td>\n",
       "      <td>0.000008</td>\n",
       "      <td>1.0</td>\n",
       "      <td>0.555556</td>\n",
       "      <td>0.485714</td>\n",
       "      <td>0.566667</td>\n",
       "      <td>0.823529</td>\n",
       "      <td>0.666667</td>\n",
       "      <td>0.000000</td>\n",
       "      <td>0.0</td>\n",
       "      <td>...</td>\n",
       "      <td>0.000000</td>\n",
       "      <td>0.747475</td>\n",
       "      <td>0.0000</td>\n",
       "      <td>0.000000</td>\n",
       "      <td>0.0000</td>\n",
       "      <td>0.271267</td>\n",
       "      <td>0.000000</td>\n",
       "      <td>0.000000</td>\n",
       "      <td>0.000000</td>\n",
       "      <td>0.558718</td>\n",
       "    </tr>\n",
       "  </tbody>\n",
       "</table>\n",
       "<p>446615 rows × 31 columns</p>\n",
       "</div>"
      ],
      "text/plain": [
       "        time_left_in_half  time_left_in_half_sq  half  current_score_diff  \\\n",
       "2                0.997222              0.994452   0.0            0.453704   \n",
       "3                0.977778              0.956049   0.0            0.453704   \n",
       "4                0.974444              0.949542   0.0            0.453704   \n",
       "5                0.957222              0.916274   0.0            0.453704   \n",
       "6                0.931111              0.866968   0.0            0.453704   \n",
       "...                   ...                   ...   ...                 ...   \n",
       "698479           0.037778              0.001427   1.0            0.555556   \n",
       "698481           0.031667              0.001003   1.0            0.555556   \n",
       "698483           0.029444              0.000867   1.0            0.555556   \n",
       "698485           0.028333              0.000803   1.0            0.555556   \n",
       "698487           0.002778              0.000008   1.0            0.555556   \n",
       "\n",
       "        current_score_total  cur_spread  cur_over_under  \\\n",
       "2                  0.000000    0.500000        0.630252   \n",
       "3                  0.000000    0.500000        0.630252   \n",
       "4                  0.000000    0.500000        0.630252   \n",
       "5                  0.000000    0.500000        0.630252   \n",
       "6                  0.000000    0.500000        0.630252   \n",
       "...                     ...         ...             ...   \n",
       "698479             0.485714    0.566667        0.823529   \n",
       "698481             0.485714    0.566667        0.823529   \n",
       "698483             0.485714    0.566667        0.823529   \n",
       "698485             0.485714    0.566667        0.823529   \n",
       "698487             0.485714    0.566667        0.823529   \n",
       "\n",
       "        home_timeouts_remaining  away_timeouts_remaining  punt  ...  \\\n",
       "2                      1.000000                 1.000000   0.0  ...   \n",
       "3                      1.000000                 1.000000   0.0  ...   \n",
       "4                      1.000000                 1.000000   0.0  ...   \n",
       "5                      1.000000                 1.000000   0.0  ...   \n",
       "6                      1.000000                 1.000000   0.0  ...   \n",
       "...                         ...                      ...   ...  ...   \n",
       "698479                 1.000000                 0.666667   0.0  ...   \n",
       "698481                 1.000000                 0.666667   0.0  ...   \n",
       "698483                 1.000000                 0.333333   0.0  ...   \n",
       "698485                 1.000000                 0.000000   0.0  ...   \n",
       "698487                 0.666667                 0.000000   0.0  ...   \n",
       "\n",
       "        down_yd_from_goal_3  down_yd_from_goal_4  down_ytg_1_sq  \\\n",
       "2                  0.000000             0.000000         0.0625   \n",
       "3                  0.000000             0.000000         0.0000   \n",
       "4                  0.818182             0.000000         0.0000   \n",
       "5                  0.000000             0.000000         0.0625   \n",
       "6                  0.000000             0.000000         0.0000   \n",
       "...                     ...                  ...            ...   \n",
       "698479             0.000000             0.000000         0.0000   \n",
       "698481             0.000000             0.000000         0.0625   \n",
       "698483             0.000000             0.000000         0.0000   \n",
       "698485             0.676768             0.000000         0.0000   \n",
       "698487             0.000000             0.747475         0.0000   \n",
       "\n",
       "        down_ytg_2_sq  down_ytg_3_sq  down_ytg_4_sq  down_yd_from_goal_1_sq  \\\n",
       "2            0.000000         0.0000       0.000000                0.719927   \n",
       "3            0.025310         0.0000       0.000000                0.000000   \n",
       "4            0.000000         0.0196       0.000000                0.000000   \n",
       "5            0.000000         0.0000       0.000000                0.543720   \n",
       "6            0.025310         0.0000       0.000000                0.000000   \n",
       "...               ...            ...            ...                     ...   \n",
       "698479       0.051653         0.0000       0.000000                0.000000   \n",
       "698481       0.000000         0.0000       0.000000                0.355168   \n",
       "698483       0.116219         0.0000       0.000000                0.000000   \n",
       "698485       0.000000         0.1296       0.000000                0.000000   \n",
       "698487       0.000000         0.0000       0.271267                0.000000   \n",
       "\n",
       "        down_yd_from_goal_2_sq  down_yd_from_goal_3_sq  down_yd_from_goal_4_sq  \n",
       "2                     0.000000                0.000000                0.000000  \n",
       "3                     0.669421                0.000000                0.000000  \n",
       "4                     0.000000                0.669421                0.000000  \n",
       "5                     0.000000                0.000000                0.000000  \n",
       "6                     0.499949                0.000000                0.000000  \n",
       "...                        ...                     ...                     ...  \n",
       "698479                0.573921                0.000000                0.000000  \n",
       "698481                0.000000                0.000000                0.000000  \n",
       "698483                0.417917                0.000000                0.000000  \n",
       "698485                0.000000                0.458014                0.000000  \n",
       "698487                0.000000                0.000000                0.558718  \n",
       "\n",
       "[446615 rows x 31 columns]"
      ]
     },
     "execution_count": 53,
     "metadata": {},
     "output_type": "execute_result"
    }
   ],
   "source": [
    "logit_play_outcome_basic"
   ]
  },
  {
   "cell_type": "code",
   "execution_count": 20,
   "metadata": {},
   "outputs": [
    {
     "data": {
      "text/plain": [
       "RandomizedSearchCV(cv=GroupKFold(n_splits=3),\n",
       "                   estimator=RandomForestClassifier(n_jobs=-1, random_state=1,\n",
       "                                                    verbose=1),\n",
       "                   n_iter=30, n_jobs=1,\n",
       "                   param_distributions={'bootstrap': [True, False],\n",
       "                                        'max_depth': array([ 5,  6,  7,  8,  9, 10, 11, 12, 13, 14, 15]),\n",
       "                                        'max_features': ['auto', 'sqrt'],\n",
       "                                        'min_samples_leaf': [1, 2, 4],\n",
       "                                        'min_samples_split': [2, 5, 10],\n",
       "                                        'n_estimators': array([ 50, 100, 150, 200, 250, 300, 350, 400, 450, 500])},\n",
       "                   random_state=42,\n",
       "                   scoring=make_scorer(ProbaScoreProxy, greater_is_better=False, needs_proba=True, proxied_func=<function log_loss at 0x7fdd6f0a0790>),\n",
       "                   verbose=100)"
      ]
     },
     "execution_count": 20,
     "metadata": {},
     "output_type": "execute_result"
    }
   ],
   "source": []
  },
  {
   "cell_type": "code",
   "execution_count": 26,
   "metadata": {},
   "outputs": [
    {
     "data": {
      "text/plain": [
       "-0.6592814212251309"
      ]
     },
     "execution_count": 26,
     "metadata": {},
     "output_type": "execute_result"
    }
   ],
   "source": [
    "search_rf_play_outcome.best_score_"
   ]
  },
  {
   "cell_type": "code",
   "execution_count": 30,
   "metadata": {},
   "outputs": [],
   "source": [
    "\n",
    "\n",
    "\n",
    "output_name = \"drive_outcome_desc_basic\"\n",
    "mask_model = (\n",
    "    (model_df.continuation==0)&\n",
    "    (model_df.down!=0)&\n",
    "    (model_df.play_counts==1)&\n",
    "    (model_df.event_id.isin(scrimmage_plays_we_want))&\n",
    "    (model_df[input_names+[output_name]].notna().all(axis=1))&\n",
    "    (model_df[\"from_scrimmage\"]==1)&\n",
    "    (model_df[\"overtime\"]==0)\n",
    ")\n",
    "X_train, y_train, group_train, X_test, y_test, group_test, X_val, y_val, group_val = create_train_test_val_df(model_df[mask_model], input_names, output_name)\n",
    "# pd.concat([X_train, model_df[model_df[\"season\"]<=2019][[\"event_name\"]], y_train], axis=1)\n",
    "\n",
    "# mlp_drive_outcome = MLPClassifier(hidden_layer_sizes=[100], verbose=True, early_stopping=True, n_iter_no_change=5, random_state=1)\n",
    "# mlp_drive_outcome.fit(X_train, y_train)\n",
    "# rf_drive_outcome = RandomForestClassifier(n_estimators=200, max_depth=15, verbose=100, n_jobs=-1, random_state=1)\n",
    "# rf_drive_outcome.fit(X_train, y_train)\n",
    "# pickle.dump(mlp_drive_outcome, open(os.path.join(root_dir, 'models/mlp_drive_outcome.p'), 'wb'))\n",
    "# pickle.dump(rf_drive_outcome, open(os.path.join(root_dir, 'models/rf_drive_outcome.p'), 'wb'))\n",
    "# logit_drive_outcome_basic = LogisticRegression(solver='liblinear', random_state=0)\n",
    "# logit_drive_outcome_basic.fit(X_train, y_train)\n",
    "# pickle.dump(logit_drive_outcome_basic, open(os.path.join(root_dir, 'models/logit_drive_outcome_basic.p'), 'wb'))\n",
    "\n",
    "os.system('say \"done\"')\n",
    "\n",
    "mlp_drive_outcome = pickle.load(open(os.path.join(root_dir, \"models/mlp_drive_outcome.p\"), 'rb'))\n",
    "rf_drive_outcome = pickle.load(open(os.path.join(root_dir, \"models/rf_drive_outcome.p\"), 'rb'))\n",
    "logit_drive_outcome_basic = pickle.load(open(os.path.join(root_dir, \"models/logit_drive_outcome_basic.p\"), 'rb'))"
   ]
  },
  {
   "cell_type": "code",
   "execution_count": 31,
   "metadata": {},
   "outputs": [
    {
     "data": {
      "text/plain": [
       "LogisticRegression(random_state=0, solver='liblinear')"
      ]
     },
     "execution_count": 31,
     "metadata": {},
     "output_type": "execute_result"
    }
   ],
   "source": [
    "output_name = \"play_outcome\"\n",
    "\n",
    "from sklearn.preprocessing import OneHotEncoder\n",
    "enc = OneHotEncoder()\n",
    "enc.fit(model_df[[\"down\"]])\n",
    "down_one_hot_cols = [\"down_\" + str(x) for x in enc.categories_[0]]\n",
    "model_df[down_one_hot_cols] = pd.DataFrame(enc.transform(model_df[[\"down\"]]).toarray(), columns=enc.categories_)\n",
    "\n",
    "def square_value(df, cols):\n",
    "    for col in cols:\n",
    "        df[col + \"_sq\"] = df[col] ** 2\n",
    "    return df\n",
    "\n",
    "down_ytg_one_hot_cols = [\"down_ytg_\" + str(x) for x in enc.categories_[0]]\n",
    "model_df[down_ytg_one_hot_cols] = model_df[down_one_hot_cols].T.mul(model_df[\"ytg\"]).T\n",
    "\n",
    "down_yd_from_goal_cols = [\"down_yd_from_goal_\" + str(x) for x in enc.categories_[0]]\n",
    "model_df[down_yd_from_goal_cols] = model_df[down_one_hot_cols].T.mul(model_df[\"yd_from_goal\"]).T\n",
    "model_df = model_df.pipe(square_value, [\"time_left_in_half\"] + down_ytg_one_hot_cols + down_yd_from_goal_cols)\n",
    "down_ytg_sq_one_hot_cols = [\"down_ytg_\" + str(x) + \"_sq\" for x in enc.categories_[0]]\n",
    "down_yd_from_goal_sq_cols = [\"down_yd_from_goal_\" + str(x) + \"_sq\" for x in enc.categories_[0]]\n",
    "\n",
    "input_names_advanced = [\n",
    "    # 'time_left_in_game',\n",
    "    'time_left_in_half',\n",
    "    'time_left_in_half_sq',\n",
    "    'half',\n",
    "    'current_score_diff',\n",
    "    'current_score_total',\n",
    "    'cur_spread',\n",
    "    'cur_over_under',\n",
    "    'home_timeouts_remaining',\n",
    "    'away_timeouts_remaining',\n",
    "    # 'kick_off',\n",
    "    'punt',\n",
    "    # 'point_after_kick',\n",
    "    # 'two_point_attempt',\n",
    "    'field_goal_attempt',\n",
    "    # 'from_scrimmage',\n",
    "    # 'ytg',\n",
    "    # 'yd_from_goal',\n",
    "    # 'down',\n",
    "    'home_team_has_ball',\n",
    "] + down_one_hot_cols[2:] + down_ytg_one_hot_cols[1:] + down_yd_from_goal_cols[1:] + down_ytg_sq_one_hot_cols[1:] + down_yd_from_goal_sq_cols[1:]\n",
    "\n",
    "mask_model = (\n",
    "    (model_df.continuation==0)&\n",
    "    (model_df.down!=0)&\n",
    "    (model_df.play_counts==1)&\n",
    "    (model_df.event_id.isin(scrimmage_plays_we_want))&\n",
    "    (model_df[input_names_advanced+[output_name]].notna().all(axis=1))&\n",
    "    (model_df[\"from_scrimmage\"]==1)&\n",
    "    (model_df[\"overtime\"]==0)\n",
    ")\n",
    "X_train, y_train, group_train, X_test, y_test, group_test, X_val, y_val, group_val = create_train_test_val_df(model_df[mask_model], input_names_advanced, output_name)\n",
    "\n",
    "# logit_play_outcome_advanced = LogisticRegression(solver='liblinear', random_state=0)\n",
    "# logit_play_outcome_advanced.fit(X_train, y_train)\n",
    "# pickle.dump(logit_play_outcome_advanced, open(os.path.join(root_dir, 'models/logit_play_outcome_advanced.p'), 'wb'))\n",
    "\n",
    "logit_play_outcome_advanced = pickle.load(open(os.path.join(root_dir, \"models/logit_play_outcome_advanced.p\"), 'rb'))\n",
    "\n",
    "# import statsmodels.api as sm\n",
    "# logit_play_outcome_advanced = sm.MNLogit(pd.get_dummies(y_train)[:5000], sm.add_constant(X_train[:5000])).fit()\n",
    "# X = sm.add_constant(X_train, prepend=False)\n",
    "# logit_play_outcome_advanced = {}\n",
    "# for col in pd.get_dummies(y_train).columns:\n",
    "#     y = pd.get_dummies(y_train)[col]\n",
    "#     logit_play_outcome_advanced[col] = sm.Logit(y, X)\n",
    "#     logit_play_outcome_advanced[col+\"_fit\"] = logit_play_outcome_advanced[col].fit()\n",
    "#     # logit_play_outcome_advanced[col] = sm.Logit(y[:50000], X[:50000]).fit()\n",
    "#     print(logit_play_outcome_advanced[col+\"_fit\"].summary())\n",
    "# logit_play_outcome_advanced = sm.MNLogit(y_train, X).fit(method='bfgs')\n",
    "# logit_play_outcome_advanced = sm.MNLogit(y_train[:50000], X[:50000]).fit()\n"
   ]
  },
  {
   "cell_type": "code",
   "execution_count": 7,
   "metadata": {},
   "outputs": [
    {
     "name": "stderr",
     "output_type": "stream",
     "text": [
      "/Users/lucashaupt/Documents/GitHub/nfl-live-win-probability/venv/lib/python3.9/site-packages/statsmodels/discrete/discrete_model.py:1819: RuntimeWarning: overflow encountered in exp\n",
      "  return 1/(1+np.exp(-X))\n",
      "/Users/lucashaupt/Documents/GitHub/nfl-live-win-probability/venv/lib/python3.9/site-packages/statsmodels/discrete/discrete_model.py:1872: RuntimeWarning: divide by zero encountered in log\n",
      "  return np.sum(np.log(self.cdf(q*np.dot(X,params))))\n",
      "/Users/lucashaupt/Documents/GitHub/nfl-live-win-probability/venv/lib/python3.9/site-packages/statsmodels/base/model.py:604: ConvergenceWarning: Maximum Likelihood optimization failed to converge. Check mle_retvals\n",
      "  warnings.warn(\"Maximum Likelihood optimization failed to \"\n"
     ]
    },
    {
     "name": "stdout",
     "output_type": "stream",
     "text": [
      "Warning: Maximum number of iterations has been exceeded.\n",
      "         Current function value: inf\n",
      "         Iterations: 35\n"
     ]
    },
    {
     "name": "stderr",
     "output_type": "stream",
     "text": [
      "/Users/lucashaupt/Documents/GitHub/nfl-live-win-probability/venv/lib/python3.9/site-packages/statsmodels/base/model.py:592: HessianInversionWarning: Inverting hessian failed, no bse or cov_params available\n",
      "  warnings.warn('Inverting hessian failed, no bse or cov_params '\n",
      "/Users/lucashaupt/Documents/GitHub/nfl-live-win-probability/venv/lib/python3.9/site-packages/statsmodels/base/model.py:592: HessianInversionWarning: Inverting hessian failed, no bse or cov_params available\n",
      "  warnings.warn('Inverting hessian failed, no bse or cov_params '\n"
     ]
    },
    {
     "name": "stdout",
     "output_type": "stream",
     "text": [
      "                            Logit Regression Results                           \n",
      "===============================================================================\n",
      "Dep. Variable:     defensive_touchdown   No. Observations:               446629\n",
      "Model:                           Logit   Df Residuals:                   446597\n",
      "Method:                            MLE   Df Model:                           31\n",
      "Date:                 Thu, 14 Apr 2022   Pseudo R-squ.:                     inf\n",
      "Time:                         11:48:09   Log-Likelihood:                   -inf\n",
      "converged:                       False   LL-Null:                        0.0000\n",
      "Covariance Type:             nonrobust   LLR p-value:                     1.000\n",
      "===========================================================================================\n",
      "                              coef    std err          z      P>|z|      [0.025      0.975]\n",
      "-------------------------------------------------------------------------------------------\n",
      "time_left_in_half          -0.4341      0.474     -0.916      0.360      -1.363       0.495\n",
      "time_left_in_half_sq        0.1382      0.442      0.313      0.754      -0.728       1.004\n",
      "half                        0.0231      0.104      0.221      0.825      -0.181       0.228\n",
      "current_score_diff          0.2538      0.326      0.779      0.436      -0.385       0.892\n",
      "current_score_total         0.6197      0.357      1.736      0.082      -0.080       1.319\n",
      "cur_spread                  0.0545      0.262      0.208      0.835      -0.458       0.567\n",
      "cur_over_under             -0.4307      0.451     -0.956      0.339      -1.314       0.453\n",
      "home_timeouts_remaining    -0.0632      0.152     -0.417      0.676      -0.360       0.234\n",
      "away_timeouts_remaining     0.2192      0.152      1.445      0.148      -0.078       0.516\n",
      "punt                       -2.5259      0.404     -6.247      0.000      -3.318      -1.733\n",
      "field_goal_attempt        -22.0512   9149.131     -0.002      0.998    -1.8e+04    1.79e+04\n",
      "home_team_has_ball          0.0268      0.066      0.405      0.685      -0.103       0.157\n",
      "down_2                     -0.2316      0.695     -0.333      0.739      -1.593       1.130\n",
      "down_3                      0.9211      0.652      1.413      0.158      -0.356       2.198\n",
      "down_4                      1.4654      0.831      1.763      0.078      -0.164       3.095\n",
      "down_ytg_1                  3.2668      3.658      0.893      0.372      -3.903      10.437\n",
      "down_ytg_2                  5.1179      1.910      2.679      0.007       1.373       8.862\n",
      "down_ytg_3                  6.1300      1.951      3.142      0.002       2.306       9.953\n",
      "down_ytg_4                  3.6914      3.598      1.026      0.305      -3.361      10.744\n",
      "down_yd_from_goal_1        -1.6526      1.183     -1.397      0.162      -3.971       0.666\n",
      "down_yd_from_goal_2         0.4185      1.185      0.353      0.724      -1.904       2.741\n",
      "down_yd_from_goal_3        -0.4328      1.023     -0.423      0.672      -2.438       1.572\n",
      "down_yd_from_goal_4         0.1737      2.486      0.070      0.944      -4.698       5.046\n",
      "down_ytg_1_sq              -0.1899      4.646     -0.041      0.967      -9.296       8.916\n",
      "down_ytg_2_sq              -7.3944      3.662     -2.019      0.043     -14.572      -0.216\n",
      "down_ytg_3_sq             -15.6633      4.947     -3.166      0.002     -25.359      -5.968\n",
      "down_ytg_4_sq              -3.7061      7.124     -0.520      0.603     -17.668      10.256\n",
      "down_yd_from_goal_1_sq      3.0828      1.032      2.988      0.003       1.060       5.105\n",
      "down_yd_from_goal_2_sq      1.8205      1.035      1.759      0.079      -0.208       3.849\n",
      "down_yd_from_goal_3_sq      2.1235      0.950      2.236      0.025       0.262       3.985\n",
      "down_yd_from_goal_4_sq      0.4772      2.480      0.192      0.847      -4.383       5.337\n",
      "const                      -7.5144      0.713    -10.538      0.000      -8.912      -6.117\n",
      "===========================================================================================\n"
     ]
    },
    {
     "name": "stderr",
     "output_type": "stream",
     "text": [
      "/Users/lucashaupt/Documents/GitHub/nfl-live-win-probability/venv/lib/python3.9/site-packages/statsmodels/discrete/discrete_model.py:1819: RuntimeWarning: overflow encountered in exp\n",
      "  return 1/(1+np.exp(-X))\n",
      "/Users/lucashaupt/Documents/GitHub/nfl-live-win-probability/venv/lib/python3.9/site-packages/statsmodels/discrete/discrete_model.py:1872: RuntimeWarning: divide by zero encountered in log\n",
      "  return np.sum(np.log(self.cdf(q*np.dot(X,params))))\n",
      "/Users/lucashaupt/Documents/GitHub/nfl-live-win-probability/venv/lib/python3.9/site-packages/statsmodels/base/model.py:604: ConvergenceWarning: Maximum Likelihood optimization failed to converge. Check mle_retvals\n",
      "  warnings.warn(\"Maximum Likelihood optimization failed to \"\n"
     ]
    },
    {
     "name": "stdout",
     "output_type": "stream",
     "text": [
      "Warning: Maximum number of iterations has been exceeded.\n",
      "         Current function value: inf\n",
      "         Iterations: 35\n"
     ]
    },
    {
     "name": "stderr",
     "output_type": "stream",
     "text": [
      "/Users/lucashaupt/Documents/GitHub/nfl-live-win-probability/venv/lib/python3.9/site-packages/statsmodels/base/model.py:592: HessianInversionWarning: Inverting hessian failed, no bse or cov_params available\n",
      "  warnings.warn('Inverting hessian failed, no bse or cov_params '\n",
      "/Users/lucashaupt/Documents/GitHub/nfl-live-win-probability/venv/lib/python3.9/site-packages/statsmodels/base/model.py:592: HessianInversionWarning: Inverting hessian failed, no bse or cov_params available\n",
      "  warnings.warn('Inverting hessian failed, no bse or cov_params '\n"
     ]
    },
    {
     "name": "stdout",
     "output_type": "stream",
     "text": [
      "                           Logit Regression Results                           \n",
      "==============================================================================\n",
      "Dep. Variable:        field_goal_made   No. Observations:               446629\n",
      "Model:                          Logit   Df Residuals:                   446597\n",
      "Method:                           MLE   Df Model:                           31\n",
      "Date:                Thu, 14 Apr 2022   Pseudo R-squ.:                     inf\n",
      "Time:                        11:48:15   Log-Likelihood:                   -inf\n",
      "converged:                      False   LL-Null:                        0.0000\n",
      "Covariance Type:            nonrobust   LLR p-value:                     1.000\n",
      "===========================================================================================\n",
      "                              coef    std err          z      P>|z|      [0.025      0.975]\n",
      "-------------------------------------------------------------------------------------------\n",
      "time_left_in_half          -0.0880      0.436     -0.202      0.840      -0.942       0.766\n",
      "time_left_in_half_sq       -0.0180      0.440     -0.041      0.967      -0.879       0.843\n",
      "half                        0.1093      0.086      1.278      0.201      -0.058       0.277\n",
      "current_score_diff          0.1620      0.311      0.521      0.602      -0.447       0.771\n",
      "current_score_total        -0.2863      0.305     -0.937      0.349      -0.885       0.312\n",
      "cur_spread                 -0.1208      0.209     -0.578      0.563      -0.530       0.289\n",
      "cur_over_under              1.0256      0.363      2.826      0.005       0.314       1.737\n",
      "home_timeouts_remaining     0.0889      0.112      0.796      0.426      -0.130       0.308\n",
      "away_timeouts_remaining     0.0927      0.109      0.849      0.396      -0.121       0.307\n",
      "punt                        0.5577   6522.977   8.55e-05      1.000   -1.28e+04    1.28e+04\n",
      "field_goal_attempt         28.8710   1033.243      0.028      0.978   -1996.248    2053.990\n",
      "home_team_has_ball          0.0426      0.054      0.796      0.426      -0.062       0.148\n",
      "down_2                      2.1351      2.205      0.968      0.333      -2.186       6.456\n",
      "down_3                     -0.8060      1.798     -0.448      0.654      -4.330       2.718\n",
      "down_4                      0.7411      1.587      0.467      0.640      -2.369       3.851\n",
      "down_ytg_1                 -7.5627     12.207     -0.620      0.536     -31.489      16.363\n",
      "down_ytg_2                 -0.4100      4.487     -0.091      0.927      -9.205       8.385\n",
      "down_ytg_3                 -0.6516      3.825     -0.170      0.865      -8.149       6.846\n",
      "down_ytg_4                 -0.6524      0.818     -0.798      0.425      -2.255       0.951\n",
      "down_yd_from_goal_1        -2.1263      7.622     -0.279      0.780     -17.065      12.812\n",
      "down_yd_from_goal_2       -24.9270     10.048     -2.481      0.013     -44.621      -5.233\n",
      "down_yd_from_goal_3        -5.4415      6.473     -0.841      0.401     -18.128       7.245\n",
      "down_yd_from_goal_4       -16.8070      1.647    -10.206      0.000     -20.034     -13.579\n",
      "down_ytg_1_sq              14.3402     23.596      0.608      0.543     -31.908      60.588\n",
      "down_ytg_2_sq              -2.3419      8.765     -0.267      0.789     -19.522      14.838\n",
      "down_ytg_3_sq               0.5728      8.252      0.069      0.945     -15.602      16.747\n",
      "down_ytg_4_sq               1.0636      1.752      0.607      0.544      -2.371       4.498\n",
      "down_yd_from_goal_1_sq    -17.2535     13.737     -1.256      0.209     -44.177       9.670\n",
      "down_yd_from_goal_2_sq     24.9612     16.917      1.476      0.140      -8.195      58.117\n",
      "down_yd_from_goal_3_sq     -8.1601     12.123     -0.673      0.501     -31.920      15.600\n",
      "down_yd_from_goal_4_sq     14.6963      3.442      4.269      0.000       7.950      21.443\n",
      "const                     -25.7151   1033.244     -0.025      0.980   -2050.836    1999.406\n",
      "===========================================================================================\n",
      "\n",
      "Possibly complete quasi-separation: A fraction 0.97 of observations can be\n",
      "perfectly predicted. This might indicate that there is complete\n",
      "quasi-separation. In this case some parameters will not be identified.\n"
     ]
    },
    {
     "name": "stderr",
     "output_type": "stream",
     "text": [
      "/Users/lucashaupt/Documents/GitHub/nfl-live-win-probability/venv/lib/python3.9/site-packages/statsmodels/discrete/discrete_model.py:1819: RuntimeWarning: overflow encountered in exp\n",
      "  return 1/(1+np.exp(-X))\n",
      "/Users/lucashaupt/Documents/GitHub/nfl-live-win-probability/venv/lib/python3.9/site-packages/statsmodels/discrete/discrete_model.py:1872: RuntimeWarning: divide by zero encountered in log\n",
      "  return np.sum(np.log(self.cdf(q*np.dot(X,params))))\n"
     ]
    },
    {
     "name": "stdout",
     "output_type": "stream",
     "text": [
      "Optimization terminated successfully.\n",
      "         Current function value: inf\n",
      "         Iterations 12\n"
     ]
    },
    {
     "name": "stderr",
     "output_type": "stream",
     "text": [
      "/Users/lucashaupt/Documents/GitHub/nfl-live-win-probability/venv/lib/python3.9/site-packages/statsmodels/base/model.py:592: HessianInversionWarning: Inverting hessian failed, no bse or cov_params available\n",
      "  warnings.warn('Inverting hessian failed, no bse or cov_params '\n",
      "/Users/lucashaupt/Documents/GitHub/nfl-live-win-probability/venv/lib/python3.9/site-packages/statsmodels/base/model.py:592: HessianInversionWarning: Inverting hessian failed, no bse or cov_params available\n",
      "  warnings.warn('Inverting hessian failed, no bse or cov_params '\n"
     ]
    },
    {
     "name": "stdout",
     "output_type": "stream",
     "text": [
      "                           Logit Regression Results                           \n",
      "==============================================================================\n",
      "Dep. Variable:             first_down   No. Observations:               446629\n",
      "Model:                          Logit   Df Residuals:                   446597\n",
      "Method:                           MLE   Df Model:                           31\n",
      "Date:                Thu, 14 Apr 2022   Pseudo R-squ.:                     inf\n",
      "Time:                        11:48:18   Log-Likelihood:                   -inf\n",
      "converged:                       True   LL-Null:                        0.0000\n",
      "Covariance Type:            nonrobust   LLR p-value:                     1.000\n",
      "===========================================================================================\n",
      "                              coef    std err          z      P>|z|      [0.025      0.975]\n",
      "-------------------------------------------------------------------------------------------\n",
      "time_left_in_half           0.0572      0.056      1.014      0.311      -0.053       0.168\n",
      "time_left_in_half_sq       -0.1681      0.052     -3.257      0.001      -0.269      -0.067\n",
      "half                       -0.0229      0.013     -1.830      0.067      -0.047       0.002\n",
      "current_score_diff         -0.0577      0.040     -1.439      0.150      -0.136       0.021\n",
      "current_score_total         0.0051      0.044      0.116      0.908      -0.082       0.092\n",
      "cur_spread                 -0.0068      0.031     -0.222      0.825      -0.067       0.053\n",
      "cur_over_under              1.2538      0.053     23.680      0.000       1.150       1.358\n",
      "home_timeouts_remaining     0.0706      0.019      3.722      0.000       0.033       0.108\n",
      "away_timeouts_remaining     0.1155      0.018      6.248      0.000       0.079       0.152\n",
      "punt                       -5.5836      0.116    -48.175      0.000      -5.811      -5.356\n",
      "field_goal_attempt         -6.8731      0.501    -13.706      0.000      -7.856      -5.890\n",
      "home_team_has_ball          0.0455      0.008      5.822      0.000       0.030       0.061\n",
      "down_2                      2.7995      0.108     25.820      0.000       2.587       3.012\n",
      "down_3                      2.6810      0.109     24.488      0.000       2.466       2.896\n",
      "down_4                      2.7750      0.135     20.564      0.000       2.511       3.039\n",
      "down_ytg_1                  5.8889      0.719      8.185      0.000       4.479       7.299\n",
      "down_ytg_2                -11.8529      0.206    -57.644      0.000     -12.256     -11.450\n",
      "down_ytg_3                 -9.2254      0.264    -34.976      0.000      -9.742      -8.708\n",
      "down_ytg_4                -10.5783      0.689    -15.345      0.000     -11.929      -9.227\n",
      "down_yd_from_goal_1         7.3821      0.153     48.328      0.000       7.083       7.681\n",
      "down_yd_from_goal_2         8.0087      0.121     66.446      0.000       7.772       8.245\n",
      "down_yd_from_goal_3         7.5796      0.139     54.352      0.000       7.306       7.853\n",
      "down_yd_from_goal_4         7.5820      0.421     18.030      0.000       6.758       8.406\n",
      "down_ytg_1_sq             -14.9662      1.154    -12.973      0.000     -17.227     -12.705\n",
      "down_ytg_2_sq               9.6834      0.501     19.328      0.000       8.701      10.665\n",
      "down_ytg_3_sq               3.3236      0.753      4.414      0.000       1.848       4.799\n",
      "down_ytg_4_sq              11.1596      1.632      6.836      0.000       7.960      14.359\n",
      "down_yd_from_goal_1_sq     -5.8266      0.136    -42.760      0.000      -6.094      -5.560\n",
      "down_yd_from_goal_2_sq     -6.7052      0.119    -56.575      0.000      -6.937      -6.473\n",
      "down_yd_from_goal_3_sq     -6.2015      0.140    -44.437      0.000      -6.475      -5.928\n",
      "down_yd_from_goal_4_sq     -6.0568      0.490    -12.361      0.000      -7.017      -5.096\n",
      "const                      -5.0592      0.115    -43.954      0.000      -5.285      -4.834\n",
      "===========================================================================================\n"
     ]
    },
    {
     "name": "stderr",
     "output_type": "stream",
     "text": [
      "/Users/lucashaupt/Documents/GitHub/nfl-live-win-probability/venv/lib/python3.9/site-packages/statsmodels/discrete/discrete_model.py:1819: RuntimeWarning: overflow encountered in exp\n",
      "  return 1/(1+np.exp(-X))\n",
      "/Users/lucashaupt/Documents/GitHub/nfl-live-win-probability/venv/lib/python3.9/site-packages/statsmodels/discrete/discrete_model.py:1872: RuntimeWarning: divide by zero encountered in log\n",
      "  return np.sum(np.log(self.cdf(q*np.dot(X,params))))\n"
     ]
    },
    {
     "name": "stdout",
     "output_type": "stream",
     "text": [
      "Optimization terminated successfully.\n",
      "         Current function value: inf\n",
      "         Iterations 8\n"
     ]
    },
    {
     "name": "stderr",
     "output_type": "stream",
     "text": [
      "/Users/lucashaupt/Documents/GitHub/nfl-live-win-probability/venv/lib/python3.9/site-packages/statsmodels/base/model.py:592: HessianInversionWarning: Inverting hessian failed, no bse or cov_params available\n",
      "  warnings.warn('Inverting hessian failed, no bse or cov_params '\n",
      "/Users/lucashaupt/Documents/GitHub/nfl-live-win-probability/venv/lib/python3.9/site-packages/statsmodels/base/model.py:592: HessianInversionWarning: Inverting hessian failed, no bse or cov_params available\n",
      "  warnings.warn('Inverting hessian failed, no bse or cov_params '\n"
     ]
    },
    {
     "name": "stdout",
     "output_type": "stream",
     "text": [
      "                           Logit Regression Results                           \n",
      "==============================================================================\n",
      "Dep. Variable:                   none   No. Observations:               446629\n",
      "Model:                          Logit   Df Residuals:                   446597\n",
      "Method:                           MLE   Df Model:                           31\n",
      "Date:                Thu, 14 Apr 2022   Pseudo R-squ.:                     inf\n",
      "Time:                        11:48:21   Log-Likelihood:                   -inf\n",
      "converged:                       True   LL-Null:                        0.0000\n",
      "Covariance Type:            nonrobust   LLR p-value:                     1.000\n",
      "===========================================================================================\n",
      "                              coef    std err          z      P>|z|      [0.025      0.975]\n",
      "-------------------------------------------------------------------------------------------\n",
      "time_left_in_half          -0.0349      0.051     -0.677      0.498      -0.136       0.066\n",
      "time_left_in_half_sq        0.1129      0.047      2.378      0.017       0.020       0.206\n",
      "half                        0.0290      0.011      2.539      0.011       0.007       0.051\n",
      "current_score_diff          0.0320      0.037      0.874      0.382      -0.040       0.104\n",
      "current_score_total        -0.0705      0.040     -1.751      0.080      -0.149       0.008\n",
      "cur_spread                  0.0317      0.028      1.134      0.257      -0.023       0.087\n",
      "cur_over_under             -1.1692      0.048    -24.190      0.000      -1.264      -1.074\n",
      "home_timeouts_remaining    -0.0368      0.017     -2.161      0.031      -0.070      -0.003\n",
      "away_timeouts_remaining    -0.0892      0.017     -5.363      0.000      -0.122      -0.057\n",
      "punt                        3.8845      0.062     62.686      0.000       3.763       4.006\n",
      "field_goal_attempt         -1.7721      0.039    -45.783      0.000      -1.848      -1.696\n",
      "home_team_has_ball         -0.0420      0.007     -5.898      0.000      -0.056      -0.028\n",
      "down_2                     -0.2464      0.047     -5.294      0.000      -0.338      -0.155\n",
      "down_3                     -0.1067      0.048     -2.203      0.028      -0.202      -0.012\n",
      "down_4                     -1.0285      0.072    -14.223      0.000      -1.170      -0.887\n",
      "down_ytg_1                 10.7961      0.329     32.822      0.000      10.151      11.441\n",
      "down_ytg_2                 12.0063      0.180     66.557      0.000      11.653      12.360\n",
      "down_ytg_3                  8.6858      0.233     37.328      0.000       8.230       9.142\n",
      "down_ytg_4                  4.5252      0.427     10.599      0.000       3.688       5.362\n",
      "down_yd_from_goal_1        -2.5075      0.118    -21.340      0.000      -2.738      -2.277\n",
      "down_yd_from_goal_2        -2.1872      0.099    -22.059      0.000      -2.382      -1.993\n",
      "down_yd_from_goal_3        -1.7691      0.117    -15.075      0.000      -1.999      -1.539\n",
      "down_yd_from_goal_4         4.7533      0.266     17.863      0.000       4.232       5.275\n",
      "down_ytg_1_sq              -9.2270      0.558    -16.548      0.000     -10.320      -8.134\n",
      "down_ytg_2_sq             -11.5739      0.411    -28.127      0.000     -12.380     -10.767\n",
      "down_ytg_3_sq              -4.2569      0.625     -6.808      0.000      -5.482      -3.031\n",
      "down_ytg_4_sq              -4.7348      0.931     -5.086      0.000      -6.559      -2.910\n",
      "down_yd_from_goal_1_sq      2.1454      0.110     19.497      0.000       1.930       2.361\n",
      "down_yd_from_goal_2_sq      2.0052      0.101     19.791      0.000       1.807       2.204\n",
      "down_yd_from_goal_3_sq      1.4795      0.121     12.178      0.000       1.241       1.718\n",
      "down_yd_from_goal_4_sq     -5.3072      0.297    -17.850      0.000      -5.890      -4.725\n",
      "const                       0.6463      0.059     10.873      0.000       0.530       0.763\n",
      "===========================================================================================\n"
     ]
    },
    {
     "name": "stderr",
     "output_type": "stream",
     "text": [
      "/Users/lucashaupt/Documents/GitHub/nfl-live-win-probability/venv/lib/python3.9/site-packages/statsmodels/discrete/discrete_model.py:1819: RuntimeWarning: overflow encountered in exp\n",
      "  return 1/(1+np.exp(-X))\n",
      "/Users/lucashaupt/Documents/GitHub/nfl-live-win-probability/venv/lib/python3.9/site-packages/statsmodels/discrete/discrete_model.py:1872: RuntimeWarning: divide by zero encountered in log\n",
      "  return np.sum(np.log(self.cdf(q*np.dot(X,params))))\n"
     ]
    },
    {
     "name": "stdout",
     "output_type": "stream",
     "text": [
      "Optimization terminated successfully.\n",
      "         Current function value: inf\n",
      "         Iterations 11\n"
     ]
    },
    {
     "name": "stderr",
     "output_type": "stream",
     "text": [
      "/Users/lucashaupt/Documents/GitHub/nfl-live-win-probability/venv/lib/python3.9/site-packages/statsmodels/base/model.py:592: HessianInversionWarning: Inverting hessian failed, no bse or cov_params available\n",
      "  warnings.warn('Inverting hessian failed, no bse or cov_params '\n",
      "/Users/lucashaupt/Documents/GitHub/nfl-live-win-probability/venv/lib/python3.9/site-packages/statsmodels/base/model.py:592: HessianInversionWarning: Inverting hessian failed, no bse or cov_params available\n",
      "  warnings.warn('Inverting hessian failed, no bse or cov_params '\n"
     ]
    },
    {
     "name": "stdout",
     "output_type": "stream",
     "text": [
      "                            Logit Regression Results                           \n",
      "===============================================================================\n",
      "Dep. Variable:     offensive_touchdown   No. Observations:               446629\n",
      "Model:                           Logit   Df Residuals:                   446597\n",
      "Method:                            MLE   Df Model:                           31\n",
      "Date:                 Thu, 14 Apr 2022   Pseudo R-squ.:                     inf\n",
      "Time:                         11:48:24   Log-Likelihood:                   -inf\n",
      "converged:                        True   LL-Null:                        0.0000\n",
      "Covariance Type:             nonrobust   LLR p-value:                     1.000\n",
      "===========================================================================================\n",
      "                              coef    std err          z      P>|z|      [0.025      0.975]\n",
      "-------------------------------------------------------------------------------------------\n",
      "time_left_in_half           0.3925      0.139      2.831      0.005       0.121       0.664\n",
      "time_left_in_half_sq       -0.2803      0.136     -2.063      0.039      -0.547      -0.014\n",
      "half                       -0.0928      0.030     -3.089      0.002      -0.152      -0.034\n",
      "current_score_diff          0.0742      0.095      0.781      0.435      -0.112       0.260\n",
      "current_score_total         0.2171      0.105      2.072      0.038       0.012       0.422\n",
      "cur_spread                 -0.1114      0.073     -1.524      0.127      -0.255       0.032\n",
      "cur_over_under              1.0440      0.124      8.386      0.000       0.800       1.288\n",
      "home_timeouts_remaining     0.0250      0.043      0.583      0.560      -0.059       0.109\n",
      "away_timeouts_remaining     0.0334      0.042      0.800      0.424      -0.048       0.115\n",
      "punt                       -1.1118      0.151     -7.371      0.000      -1.407      -0.816\n",
      "field_goal_attempt         -4.9233      0.258    -19.097      0.000      -5.429      -4.418\n",
      "home_team_has_ball          0.0549      0.019      2.937      0.003       0.018       0.091\n",
      "down_2                     -0.3363      0.059     -5.660      0.000      -0.453      -0.220\n",
      "down_3                     -0.4173      0.063     -6.619      0.000      -0.541      -0.294\n",
      "down_4                     -0.5159      0.095     -5.417      0.000      -0.703      -0.329\n",
      "down_ytg_1                 -8.3348      0.499    -16.707      0.000      -9.313      -7.357\n",
      "down_ytg_2                 -1.7292      0.478     -3.614      0.000      -2.667      -0.791\n",
      "down_ytg_3                  1.6370      0.635      2.578      0.010       0.392       2.882\n",
      "down_ytg_4                  3.6320      1.166      3.114      0.002       1.346       5.918\n",
      "down_yd_from_goal_1        -9.2946      0.337    -27.569      0.000      -9.955      -8.634\n",
      "down_yd_from_goal_2       -14.5319      0.292    -49.820      0.000     -15.104     -13.960\n",
      "down_yd_from_goal_3       -14.3259      0.306    -46.752      0.000     -14.926     -13.725\n",
      "down_yd_from_goal_4       -14.7579      0.549    -26.862      0.000     -15.835     -13.681\n",
      "down_ytg_1_sq              10.9309      1.008     10.846      0.000       8.956      12.906\n",
      "down_ytg_2_sq               4.1614      1.125      3.698      0.000       1.956       6.367\n",
      "down_ytg_3_sq              -4.5121      1.828     -2.468      0.014      -8.095      -0.929\n",
      "down_ytg_4_sq              -7.2233      2.632     -2.745      0.006     -12.381      -2.066\n",
      "down_yd_from_goal_1_sq      4.4536      0.394     11.310      0.000       3.682       5.225\n",
      "down_yd_from_goal_2_sq      9.4413      0.370     25.491      0.000       8.715      10.167\n",
      "down_yd_from_goal_3_sq      9.7558      0.385     25.326      0.000       9.001      10.511\n",
      "down_yd_from_goal_4_sq     12.4650      0.562     22.197      0.000      11.364      13.566\n",
      "const                      -0.5479      0.124     -4.423      0.000      -0.791      -0.305\n",
      "===========================================================================================\n"
     ]
    },
    {
     "name": "stderr",
     "output_type": "stream",
     "text": [
      "/Users/lucashaupt/Documents/GitHub/nfl-live-win-probability/venv/lib/python3.9/site-packages/statsmodels/discrete/discrete_model.py:1819: RuntimeWarning: overflow encountered in exp\n",
      "  return 1/(1+np.exp(-X))\n",
      "/Users/lucashaupt/Documents/GitHub/nfl-live-win-probability/venv/lib/python3.9/site-packages/statsmodels/discrete/discrete_model.py:1872: RuntimeWarning: divide by zero encountered in log\n",
      "  return np.sum(np.log(self.cdf(q*np.dot(X,params))))\n",
      "/Users/lucashaupt/Documents/GitHub/nfl-live-win-probability/venv/lib/python3.9/site-packages/statsmodels/base/model.py:604: ConvergenceWarning: Maximum Likelihood optimization failed to converge. Check mle_retvals\n",
      "  warnings.warn(\"Maximum Likelihood optimization failed to \"\n"
     ]
    },
    {
     "name": "stdout",
     "output_type": "stream",
     "text": [
      "Warning: Maximum number of iterations has been exceeded.\n",
      "         Current function value: inf\n",
      "         Iterations: 35\n"
     ]
    },
    {
     "name": "stderr",
     "output_type": "stream",
     "text": [
      "/Users/lucashaupt/Documents/GitHub/nfl-live-win-probability/venv/lib/python3.9/site-packages/statsmodels/base/model.py:592: HessianInversionWarning: Inverting hessian failed, no bse or cov_params available\n",
      "  warnings.warn('Inverting hessian failed, no bse or cov_params '\n"
     ]
    },
    {
     "name": "stdout",
     "output_type": "stream",
     "text": [
      "                           Logit Regression Results                           \n",
      "==============================================================================\n",
      "Dep. Variable:               turnover   No. Observations:               446629\n",
      "Model:                          Logit   Df Residuals:                   446597\n",
      "Method:                           MLE   Df Model:                           31\n",
      "Date:                Thu, 14 Apr 2022   Pseudo R-squ.:                     inf\n",
      "Time:                        11:48:29   Log-Likelihood:                   -inf\n",
      "converged:                      False   LL-Null:                        0.0000\n",
      "Covariance Type:            nonrobust   LLR p-value:                     1.000\n",
      "===========================================================================================\n",
      "                              coef    std err          z      P>|z|      [0.025      0.975]\n",
      "-------------------------------------------------------------------------------------------\n",
      "time_left_in_half          -0.7241      0.160     -4.531      0.000      -1.037      -0.411\n",
      "time_left_in_half_sq        0.5519      0.150      3.687      0.000       0.259       0.845\n",
      "half                        0.0960      0.035      2.737      0.006       0.027       0.165\n",
      "current_score_diff          0.0084      0.112      0.075      0.940      -0.211       0.228\n",
      "current_score_total         0.0166      0.122      0.135      0.892      -0.223       0.256\n",
      "cur_spread                 -0.0581      0.088     -0.660      0.509      -0.231       0.114\n",
      "cur_over_under             -0.3923      0.152     -2.586      0.010      -0.690      -0.095\n",
      "home_timeouts_remaining    -0.1825      0.050     -3.661      0.000      -0.280      -0.085\n",
      "away_timeouts_remaining    -0.0800      0.049     -1.632      0.103      -0.176       0.016\n",
      "punt                       -1.7854      0.105    -16.969      0.000      -1.992      -1.579\n",
      "field_goal_attempt        -20.4669   1211.175     -0.017      0.987   -2394.325    2353.392\n",
      "home_team_has_ball         -0.0507      0.022     -2.271      0.023      -0.095      -0.007\n",
      "down_2                      0.2747      0.195      1.410      0.159      -0.107       0.657\n",
      "down_3                      0.3697      0.195      1.898      0.058      -0.012       0.751\n",
      "down_4                      0.9459      0.246      3.842      0.000       0.463       1.428\n",
      "down_ytg_1                  1.2626      1.222      1.033      0.301      -1.132       3.657\n",
      "down_ytg_2                  2.3661      0.569      4.159      0.000       1.251       3.481\n",
      "down_ytg_3                  6.8189      0.660     10.325      0.000       5.524       8.113\n",
      "down_ytg_4                  5.2724      1.083      4.870      0.000       3.151       7.394\n",
      "down_yd_from_goal_1         1.5682      0.384      4.083      0.000       0.815       2.321\n",
      "down_yd_from_goal_2         0.4246      0.343      1.236      0.216      -0.248       1.098\n",
      "down_yd_from_goal_3         0.3645      0.353      1.032      0.302      -0.328       1.057\n",
      "down_yd_from_goal_4        -0.1763      0.706     -0.250      0.803      -1.560       1.208\n",
      "down_ytg_1_sq              -0.7397      1.772     -0.417      0.676      -4.214       2.734\n",
      "down_ytg_2_sq              -1.5952      1.086     -1.468      0.142      -3.724       0.534\n",
      "down_ytg_3_sq             -12.4583      1.568     -7.947      0.000     -15.531      -9.386\n",
      "down_ytg_4_sq              -8.5655      2.291     -3.739      0.000     -13.055      -4.076\n",
      "down_yd_from_goal_1_sq     -1.7047      0.363     -4.701      0.000      -2.416      -0.994\n",
      "down_yd_from_goal_2_sq     -0.6622      0.344     -1.928      0.054      -1.336       0.011\n",
      "down_yd_from_goal_3_sq     -0.4083      0.354     -1.152      0.249      -1.103       0.286\n",
      "down_yd_from_goal_4_sq      0.9482      0.660      1.438      0.151      -0.344       2.241\n",
      "const                      -3.9608      0.220    -17.992      0.000      -4.392      -3.529\n",
      "===========================================================================================\n"
     ]
    },
    {
     "name": "stderr",
     "output_type": "stream",
     "text": [
      "/Users/lucashaupt/Documents/GitHub/nfl-live-win-probability/venv/lib/python3.9/site-packages/statsmodels/base/model.py:592: HessianInversionWarning: Inverting hessian failed, no bse or cov_params available\n",
      "  warnings.warn('Inverting hessian failed, no bse or cov_params '\n"
     ]
    }
   ],
   "source": [
    "# import statsmodels.api as sm\n",
    "# X = sm.add_constant(X_train, prepend=False)\n",
    "# logit_play_outcome_advanced_dict = {}\n",
    "# for col in pd.get_dummies(y_train).columns:\n",
    "#     y = pd.get_dummies(y_train)[col]\n",
    "#     logit_play_outcome_advanced_dict[col] = sm.Logit(y, X)\n",
    "#     logit_play_outcome_advanced_dict[col+\"_fit\"] = logit_play_outcome_advanced_dict[col].fit()\n",
    "#     # logit_play_outcome_advanced[col] = sm.Logit(y[:50000], X[:50000]).fit()\n",
    "#     print(logit_play_outcome_advanced_dict[col+\"_fit\"].summary())\n",
    "# # logit_play_outcome_advanced_dict = sm.MNLogit(y_train, X).fit(method='bfgs')\n",
    "# # logit_play_outcome_advanced_dict = sm.MNLogit(y_train[:50000], X[:50000]).fit()\n"
   ]
  },
  {
   "cell_type": "code",
   "execution_count": null,
   "metadata": {},
   "outputs": [],
   "source": []
  },
  {
   "cell_type": "code",
   "execution_count": 32,
   "metadata": {},
   "outputs": [
    {
     "data": {
      "text/plain": [
       "LogisticRegression(random_state=0, solver='liblinear')"
      ]
     },
     "execution_count": 32,
     "metadata": {},
     "output_type": "execute_result"
    }
   ],
   "source": [
    "output_name = \"drive_outcome_desc_basic\"\n",
    "mask_model = (\n",
    "    (model_df.continuation==0)&\n",
    "    (model_df.down!=0)&\n",
    "    (model_df.play_counts==1)&\n",
    "    (model_df.event_id.isin(scrimmage_plays_we_want))&\n",
    "    (model_df[input_names_advanced+[output_name]].notna().all(axis=1))&\n",
    "    (model_df[\"from_scrimmage\"]==1)&\n",
    "    (model_df[\"overtime\"]==0)\n",
    ")\n",
    "\n",
    "X_train, y_train, group_train, X_test, y_test, group_test, X_val, y_val, group_val = create_train_test_val_df(model_df[mask_model], input_names_advanced, output_name)\n",
    "\n",
    "# logit_drive_outcome_advanced = LogisticRegression(solver='liblinear', random_state=0)\n",
    "# logit_drive_outcome_advanced.fit(X_train, y_train)\n",
    "# pickle.dump(logit_drive_outcome_advanced, open(os.path.join(root_dir, 'models/logit_drive_outcome_advanced.p'), 'wb'))\n",
    "\n",
    "\n",
    "logit_drive_outcome_advanced = pickle.load(open(os.path.join(root_dir, \"models/logit_drive_outcome_advanced.p\"), 'rb'))\n"
   ]
  },
  {
   "cell_type": "code",
   "execution_count": 54,
   "metadata": {},
   "outputs": [
    {
     "name": "stderr",
     "output_type": "stream",
     "text": [
      "/Users/lucashaupt/Documents/GitHub/nfl-live-win-probability/venv/lib/python3.9/site-packages/statsmodels/discrete/discrete_model.py:1819: RuntimeWarning: overflow encountered in exp\n",
      "  return 1/(1+np.exp(-X))\n",
      "/Users/lucashaupt/Documents/GitHub/nfl-live-win-probability/venv/lib/python3.9/site-packages/statsmodels/discrete/discrete_model.py:1872: RuntimeWarning: divide by zero encountered in log\n",
      "  return np.sum(np.log(self.cdf(q*np.dot(X,params))))\n",
      "/Users/lucashaupt/Documents/GitHub/nfl-live-win-probability/venv/lib/python3.9/site-packages/statsmodels/base/model.py:604: ConvergenceWarning: Maximum Likelihood optimization failed to converge. Check mle_retvals\n",
      "  warnings.warn(\"Maximum Likelihood optimization failed to \"\n"
     ]
    },
    {
     "name": "stdout",
     "output_type": "stream",
     "text": [
      "Warning: Maximum number of iterations has been exceeded.\n",
      "         Current function value: inf\n",
      "         Iterations: 35\n"
     ]
    },
    {
     "name": "stderr",
     "output_type": "stream",
     "text": [
      "/Users/lucashaupt/Documents/GitHub/nfl-live-win-probability/venv/lib/python3.9/site-packages/statsmodels/base/model.py:592: HessianInversionWarning: Inverting hessian failed, no bse or cov_params available\n",
      "  warnings.warn('Inverting hessian failed, no bse or cov_params '\n",
      "/Users/lucashaupt/Documents/GitHub/nfl-live-win-probability/venv/lib/python3.9/site-packages/statsmodels/base/model.py:592: HessianInversionWarning: Inverting hessian failed, no bse or cov_params available\n",
      "  warnings.warn('Inverting hessian failed, no bse or cov_params '\n"
     ]
    },
    {
     "name": "stdout",
     "output_type": "stream",
     "text": [
      "                           Logit Regression Results                           \n",
      "==============================================================================\n",
      "Dep. Variable:                  clock   No. Observations:               446615\n",
      "Model:                          Logit   Df Residuals:                   446583\n",
      "Method:                           MLE   Df Model:                           31\n",
      "Date:                Thu, 14 Apr 2022   Pseudo R-squ.:                     inf\n",
      "Time:                        12:47:15   Log-Likelihood:                   -inf\n",
      "converged:                      False   LL-Null:                        0.0000\n",
      "Covariance Type:            nonrobust   LLR p-value:                     1.000\n",
      "===========================================================================================\n",
      "                              coef    std err          z      P>|z|      [0.025      0.975]\n",
      "-------------------------------------------------------------------------------------------\n",
      "time_left_in_half         -36.2086      0.398    -90.944      0.000     -36.989     -35.428\n",
      "time_left_in_half_sq       27.8958      0.583     47.868      0.000      26.754      29.038\n",
      "half                        1.4462      0.033     44.243      0.000       1.382       1.510\n",
      "current_score_diff          0.9495      0.102      9.310      0.000       0.750       1.149\n",
      "current_score_total         0.8402      0.097      8.702      0.000       0.651       1.029\n",
      "cur_spread                  0.0479      0.088      0.543      0.587      -0.125       0.221\n",
      "cur_over_under             -0.6371      0.150     -4.234      0.000      -0.932      -0.342\n",
      "home_timeouts_remaining    -0.4358      0.033    -13.143      0.000      -0.501      -0.371\n",
      "away_timeouts_remaining    -0.5096      0.033    -15.658      0.000      -0.573      -0.446\n",
      "punt                      -17.5496    433.049     -0.041      0.968    -866.309     831.210\n",
      "field_goal_attempt         -6.3582      1.001     -6.350      0.000      -8.321      -4.396\n",
      "home_team_has_ball          0.1394      0.022      6.320      0.000       0.096       0.183\n",
      "down_2                     -0.2633      0.193     -1.366      0.172      -0.641       0.114\n",
      "down_3                     -0.2435      0.205     -1.190      0.234      -0.644       0.157\n",
      "down_4                     -0.6483      0.350     -1.852      0.064      -1.335       0.038\n",
      "down_ytg_1                  1.9219      1.193      1.611      0.107      -0.417       4.261\n",
      "down_ytg_2                  3.9760      0.594      6.698      0.000       2.813       5.139\n",
      "down_ytg_3                 -1.2799      0.682     -1.876      0.061      -2.617       0.057\n",
      "down_ytg_4                 -8.9866      2.454     -3.662      0.000     -13.796      -4.177\n",
      "down_yd_from_goal_1         3.4638      0.334     10.376      0.000       2.810       4.118\n",
      "down_yd_from_goal_2         4.1291      0.349     11.824      0.000       3.445       4.814\n",
      "down_yd_from_goal_3         5.3777      0.469     11.477      0.000       4.459       6.296\n",
      "down_yd_from_goal_4         6.4290      1.355      4.744      0.000       3.773       9.085\n",
      "down_ytg_1_sq              -5.0815      1.841     -2.761      0.006      -8.689      -1.474\n",
      "down_ytg_2_sq             -10.5440      1.338     -7.881      0.000     -13.166      -7.922\n",
      "down_ytg_3_sq              -1.4472      1.606     -0.901      0.368      -4.595       1.701\n",
      "down_ytg_4_sq               3.7708      6.817      0.553      0.580      -9.590      17.132\n",
      "down_yd_from_goal_1_sq     -0.1043      0.297     -0.351      0.726      -0.687       0.478\n",
      "down_yd_from_goal_2_sq     -1.4829      0.334     -4.445      0.000      -2.137      -0.829\n",
      "down_yd_from_goal_3_sq     -3.1900      0.457     -6.974      0.000      -4.086      -2.293\n",
      "down_yd_from_goal_4_sq     -5.1899      1.504     -3.450      0.001      -8.138      -2.241\n",
      "const                      -2.2980      0.210    -10.949      0.000      -2.709      -1.887\n",
      "===========================================================================================\n",
      "\n",
      "Possibly complete quasi-separation: A fraction 0.61 of observations can be\n",
      "perfectly predicted. This might indicate that there is complete\n",
      "quasi-separation. In this case some parameters will not be identified.\n"
     ]
    },
    {
     "name": "stderr",
     "output_type": "stream",
     "text": [
      "/Users/lucashaupt/Documents/GitHub/nfl-live-win-probability/venv/lib/python3.9/site-packages/statsmodels/discrete/discrete_model.py:1819: RuntimeWarning: overflow encountered in exp\n",
      "  return 1/(1+np.exp(-X))\n",
      "/Users/lucashaupt/Documents/GitHub/nfl-live-win-probability/venv/lib/python3.9/site-packages/statsmodels/discrete/discrete_model.py:1872: RuntimeWarning: divide by zero encountered in log\n",
      "  return np.sum(np.log(self.cdf(q*np.dot(X,params))))\n"
     ]
    },
    {
     "name": "stdout",
     "output_type": "stream",
     "text": [
      "Optimization terminated successfully.\n",
      "         Current function value: inf\n",
      "         Iterations 14\n"
     ]
    },
    {
     "name": "stderr",
     "output_type": "stream",
     "text": [
      "/Users/lucashaupt/Documents/GitHub/nfl-live-win-probability/venv/lib/python3.9/site-packages/statsmodels/base/model.py:592: HessianInversionWarning: Inverting hessian failed, no bse or cov_params available\n",
      "  warnings.warn('Inverting hessian failed, no bse or cov_params '\n",
      "/Users/lucashaupt/Documents/GitHub/nfl-live-win-probability/venv/lib/python3.9/site-packages/statsmodels/base/model.py:592: HessianInversionWarning: Inverting hessian failed, no bse or cov_params available\n",
      "  warnings.warn('Inverting hessian failed, no bse or cov_params '\n"
     ]
    },
    {
     "name": "stdout",
     "output_type": "stream",
     "text": [
      "                           Logit Regression Results                           \n",
      "==============================================================================\n",
      "Dep. Variable:        field_goal_made   No. Observations:               446615\n",
      "Model:                          Logit   Df Residuals:                   446583\n",
      "Method:                           MLE   Df Model:                           31\n",
      "Date:                Thu, 14 Apr 2022   Pseudo R-squ.:                     inf\n",
      "Time:                        12:47:18   Log-Likelihood:                   -inf\n",
      "converged:                       True   LL-Null:                        0.0000\n",
      "Covariance Type:            nonrobust   LLR p-value:                     1.000\n",
      "===========================================================================================\n",
      "                              coef    std err          z      P>|z|      [0.025      0.975]\n",
      "-------------------------------------------------------------------------------------------\n",
      "time_left_in_half           0.3484      0.060      5.832      0.000       0.231       0.465\n",
      "time_left_in_half_sq       -0.2966      0.056     -5.340      0.000      -0.405      -0.188\n",
      "half                       -0.1528      0.013    -11.471      0.000      -0.179      -0.127\n",
      "current_score_diff         -0.2299      0.043     -5.295      0.000      -0.315      -0.145\n",
      "current_score_total        -0.6238      0.048    -13.003      0.000      -0.718      -0.530\n",
      "cur_spread                 -0.0054      0.032     -0.168      0.867      -0.068       0.058\n",
      "cur_over_under              0.0993      0.056      1.787      0.074      -0.010       0.208\n",
      "home_timeouts_remaining     0.0957      0.020      4.799      0.000       0.057       0.135\n",
      "away_timeouts_remaining     0.1300      0.019      6.674      0.000       0.092       0.168\n",
      "punt                       -7.6093      1.005     -7.570      0.000      -9.580      -5.639\n",
      "field_goal_attempt          3.3638      0.053     63.815      0.000       3.260       3.467\n",
      "home_team_has_ball         -0.0062      0.008     -0.758      0.448      -0.022       0.010\n",
      "down_2                      1.7875      0.066     26.981      0.000       1.658       1.917\n",
      "down_3                      2.5895      0.068     38.245      0.000       2.457       2.722\n",
      "down_4                      1.8744      0.090     20.814      0.000       1.698       2.051\n",
      "down_ytg_1                 12.3355      0.439     28.100      0.000      11.475      13.196\n",
      "down_ytg_2                  2.1841      0.210     10.393      0.000       1.772       2.596\n",
      "down_ytg_3                  3.0890      0.272     11.350      0.000       2.556       3.622\n",
      "down_ytg_4                 -0.1580      0.624     -0.253      0.800      -1.381       1.065\n",
      "down_yd_from_goal_1        -0.2090      0.123     -1.694      0.090      -0.451       0.033\n",
      "down_yd_from_goal_2         0.5520      0.118      4.687      0.000       0.321       0.783\n",
      "down_yd_from_goal_3        -2.0241      0.153    -13.264      0.000      -2.323      -1.725\n",
      "down_yd_from_goal_4        -5.0977      0.414    -12.306      0.000      -5.910      -4.286\n",
      "down_ytg_1_sq             -16.0692      0.685    -23.467      0.000     -17.411     -14.727\n",
      "down_ytg_2_sq              -3.4279      0.454     -7.552      0.000      -4.318      -2.538\n",
      "down_ytg_3_sq              -5.3195      0.669     -7.956      0.000      -6.630      -4.009\n",
      "down_ytg_4_sq              -1.6500      1.410     -1.170      0.242      -4.414       1.114\n",
      "down_yd_from_goal_1_sq     -2.1454      0.123    -17.373      0.000      -2.387      -1.903\n",
      "down_yd_from_goal_2_sq     -3.5836      0.131    -27.391      0.000      -3.840      -3.327\n",
      "down_yd_from_goal_3_sq     -2.6966      0.182    -14.809      0.000      -3.054      -2.340\n",
      "down_yd_from_goal_4_sq      3.3640      0.653      5.149      0.000       2.084       4.644\n",
      "const                      -2.6918      0.079    -33.887      0.000      -2.847      -2.536\n",
      "===========================================================================================\n"
     ]
    },
    {
     "name": "stderr",
     "output_type": "stream",
     "text": [
      "/Users/lucashaupt/Documents/GitHub/nfl-live-win-probability/venv/lib/python3.9/site-packages/statsmodels/discrete/discrete_model.py:1819: RuntimeWarning: overflow encountered in exp\n",
      "  return 1/(1+np.exp(-X))\n",
      "/Users/lucashaupt/Documents/GitHub/nfl-live-win-probability/venv/lib/python3.9/site-packages/statsmodels/discrete/discrete_model.py:1872: RuntimeWarning: divide by zero encountered in log\n",
      "  return np.sum(np.log(self.cdf(q*np.dot(X,params))))\n",
      "/Users/lucashaupt/Documents/GitHub/nfl-live-win-probability/venv/lib/python3.9/site-packages/statsmodels/base/model.py:604: ConvergenceWarning: Maximum Likelihood optimization failed to converge. Check mle_retvals\n",
      "  warnings.warn(\"Maximum Likelihood optimization failed to \"\n"
     ]
    },
    {
     "name": "stdout",
     "output_type": "stream",
     "text": [
      "Warning: Maximum number of iterations has been exceeded.\n",
      "         Current function value: inf\n",
      "         Iterations: 35\n"
     ]
    },
    {
     "name": "stderr",
     "output_type": "stream",
     "text": [
      "/Users/lucashaupt/Documents/GitHub/nfl-live-win-probability/venv/lib/python3.9/site-packages/statsmodels/base/model.py:592: HessianInversionWarning: Inverting hessian failed, no bse or cov_params available\n",
      "  warnings.warn('Inverting hessian failed, no bse or cov_params '\n",
      "/Users/lucashaupt/Documents/GitHub/nfl-live-win-probability/venv/lib/python3.9/site-packages/statsmodels/base/model.py:592: HessianInversionWarning: Inverting hessian failed, no bse or cov_params available\n",
      "  warnings.warn('Inverting hessian failed, no bse or cov_params '\n"
     ]
    },
    {
     "name": "stdout",
     "output_type": "stream",
     "text": [
      "                           Logit Regression Results                           \n",
      "==============================================================================\n",
      "Dep. Variable:      field_goal_missed   No. Observations:               446615\n",
      "Model:                          Logit   Df Residuals:                   446583\n",
      "Method:                           MLE   Df Model:                           31\n",
      "Date:                Thu, 14 Apr 2022   Pseudo R-squ.:                     inf\n",
      "Time:                        12:47:23   Log-Likelihood:                   -inf\n",
      "converged:                      False   LL-Null:                        0.0000\n",
      "Covariance Type:            nonrobust   LLR p-value:                     1.000\n",
      "===========================================================================================\n",
      "                              coef    std err          z      P>|z|      [0.025      0.975]\n",
      "-------------------------------------------------------------------------------------------\n",
      "time_left_in_half          -1.0900      0.120     -9.077      0.000      -1.325      -0.855\n",
      "time_left_in_half_sq        0.9572      0.113      8.464      0.000       0.736       1.179\n",
      "half                       -0.2257      0.027     -8.335      0.000      -0.279      -0.173\n",
      "current_score_diff         -0.4406      0.089     -4.924      0.000      -0.616      -0.265\n",
      "current_score_total        -0.2691      0.097     -2.770      0.006      -0.460      -0.079\n",
      "cur_spread                  0.2487      0.066      3.796      0.000       0.120       0.377\n",
      "cur_over_under             -0.7334      0.113     -6.472      0.000      -0.955      -0.511\n",
      "home_timeouts_remaining    -0.1843      0.038     -4.903      0.000      -0.258      -0.111\n",
      "away_timeouts_remaining     0.0567      0.037      1.514      0.130      -0.017       0.130\n",
      "punt                      -19.8047    770.121     -0.026      0.979   -1529.214    1489.604\n",
      "field_goal_attempt          2.1837      0.061     35.861      0.000       2.064       2.303\n",
      "home_team_has_ball         -0.0448      0.017     -2.674      0.008      -0.078      -0.012\n",
      "down_2                      1.6537      0.224      7.391      0.000       1.215       2.092\n",
      "down_3                      1.9446      0.225      8.632      0.000       1.503       2.386\n",
      "down_4                     -1.3983      0.262     -5.344      0.000      -1.911      -0.885\n",
      "down_ytg_1                 10.1866      1.373      7.419      0.000       7.495      12.878\n",
      "down_ytg_2                  0.3906      0.413      0.945      0.345      -0.419       1.201\n",
      "down_ytg_3                  1.3653      0.500      2.733      0.006       0.386       2.344\n",
      "down_ytg_4                  1.3419      0.750      1.789      0.074      -0.128       2.812\n",
      "down_yd_from_goal_1         5.4829      0.297     18.490      0.000       4.902       6.064\n",
      "down_yd_from_goal_2         6.5079      0.300     21.665      0.000       5.919       7.097\n",
      "down_yd_from_goal_3         6.8570      0.376     18.260      0.000       6.121       7.593\n",
      "down_yd_from_goal_4        20.0115      0.910     21.980      0.000      18.227      21.796\n",
      "down_ytg_1_sq             -12.6810      1.967     -6.447      0.000     -16.536      -8.826\n",
      "down_ytg_2_sq               0.6195      0.831      0.745      0.456      -1.009       2.248\n",
      "down_ytg_3_sq              -0.4870      1.125     -0.433      0.665      -2.693       1.719\n",
      "down_ytg_4_sq              -2.0029      1.637     -1.223      0.221      -5.212       1.206\n",
      "down_yd_from_goal_1_sq     -6.4576      0.290    -22.256      0.000      -7.026      -5.889\n",
      "down_yd_from_goal_2_sq     -8.3278      0.322    -25.882      0.000      -8.958      -7.697\n",
      "down_yd_from_goal_3_sq    -10.7369      0.448    -23.988      0.000     -11.614      -9.860\n",
      "down_yd_from_goal_4_sq    -23.3656      1.499    -15.591      0.000     -26.303     -20.428\n",
      "const                      -4.7955      0.235    -20.374      0.000      -5.257      -4.334\n",
      "===========================================================================================\n"
     ]
    },
    {
     "name": "stderr",
     "output_type": "stream",
     "text": [
      "/Users/lucashaupt/Documents/GitHub/nfl-live-win-probability/venv/lib/python3.9/site-packages/statsmodels/discrete/discrete_model.py:1819: RuntimeWarning: overflow encountered in exp\n",
      "  return 1/(1+np.exp(-X))\n",
      "/Users/lucashaupt/Documents/GitHub/nfl-live-win-probability/venv/lib/python3.9/site-packages/statsmodels/discrete/discrete_model.py:1872: RuntimeWarning: divide by zero encountered in log\n",
      "  return np.sum(np.log(self.cdf(q*np.dot(X,params))))\n"
     ]
    },
    {
     "name": "stdout",
     "output_type": "stream",
     "text": [
      "Optimization terminated successfully.\n",
      "         Current function value: inf\n",
      "         Iterations 22\n"
     ]
    },
    {
     "name": "stderr",
     "output_type": "stream",
     "text": [
      "/Users/lucashaupt/Documents/GitHub/nfl-live-win-probability/venv/lib/python3.9/site-packages/statsmodels/base/model.py:592: HessianInversionWarning: Inverting hessian failed, no bse or cov_params available\n",
      "  warnings.warn('Inverting hessian failed, no bse or cov_params '\n",
      "/Users/lucashaupt/Documents/GitHub/nfl-live-win-probability/venv/lib/python3.9/site-packages/statsmodels/base/model.py:592: HessianInversionWarning: Inverting hessian failed, no bse or cov_params available\n",
      "  warnings.warn('Inverting hessian failed, no bse or cov_params '\n"
     ]
    },
    {
     "name": "stdout",
     "output_type": "stream",
     "text": [
      "                           Logit Regression Results                           \n",
      "==============================================================================\n",
      "Dep. Variable:                   punt   No. Observations:               446615\n",
      "Model:                          Logit   Df Residuals:                   446583\n",
      "Method:                           MLE   Df Model:                           31\n",
      "Date:                Thu, 14 Apr 2022   Pseudo R-squ.:                     inf\n",
      "Time:                        12:47:28   Log-Likelihood:                   -inf\n",
      "converged:                       True   LL-Null:                        0.0000\n",
      "Covariance Type:            nonrobust   LLR p-value:                     1.000\n",
      "===========================================================================================\n",
      "                              coef    std err          z      P>|z|      [0.025      0.975]\n",
      "-------------------------------------------------------------------------------------------\n",
      "time_left_in_half           3.0336      0.059     51.622      0.000       2.918       3.149\n",
      "time_left_in_half_sq       -2.4798      0.052    -47.297      0.000      -2.583      -2.377\n",
      "half                       -0.1320      0.013    -10.198      0.000      -0.157      -0.107\n",
      "current_score_diff          0.0241      0.042      0.575      0.565      -0.058       0.106\n",
      "current_score_total        -0.4517      0.047     -9.711      0.000      -0.543      -0.361\n",
      "cur_spread                  0.0839      0.031      2.667      0.008       0.022       0.146\n",
      "cur_over_under             -2.0951      0.055    -38.093      0.000      -2.203      -1.987\n",
      "home_timeouts_remaining     0.3938      0.021     18.980      0.000       0.353       0.434\n",
      "away_timeouts_remaining     0.2718      0.020     13.563      0.000       0.233       0.311\n",
      "punt                       10.7758      0.301     35.767      0.000      10.185      11.366\n",
      "field_goal_attempt        -65.7602   2.88e+13  -2.29e-12      1.000   -5.64e+13    5.64e+13\n",
      "home_team_has_ball         -0.0789      0.008     -9.822      0.000      -0.095      -0.063\n",
      "down_2                      0.0970      0.173      0.561      0.575      -0.242       0.436\n",
      "down_3                     -0.2245      0.180     -1.250      0.211      -0.577       0.127\n",
      "down_4                     -2.5975      0.999     -2.601      0.009      -4.554      -0.640\n",
      "down_ytg_1                  3.2968      0.747      4.413      0.000       1.833       4.761\n",
      "down_ytg_2                  3.8362      0.197     19.484      0.000       3.450       4.222\n",
      "down_ytg_3                  5.4548      0.229     23.825      0.000       5.006       5.904\n",
      "down_ytg_4                -10.8651      1.892     -5.743      0.000     -14.573      -7.157\n",
      "down_yd_from_goal_1        17.9452      0.248     72.245      0.000      17.458      18.432\n",
      "down_yd_from_goal_2        19.5199      0.270     72.234      0.000      18.990      20.050\n",
      "down_yd_from_goal_3        22.9882      0.324     70.897      0.000      22.353      23.624\n",
      "down_yd_from_goal_4        28.3260      3.438      8.238      0.000      21.587      35.065\n",
      "down_ytg_1_sq              -2.2809      0.984     -2.319      0.020      -4.209      -0.353\n",
      "down_ytg_2_sq              -2.7219      0.386     -7.050      0.000      -3.479      -1.965\n",
      "down_ytg_3_sq              -4.8784      0.512     -9.526      0.000      -5.882      -3.875\n",
      "down_ytg_4_sq              14.4550      3.375      4.282      0.000       7.839      21.071\n",
      "down_yd_from_goal_1_sq    -10.4716      0.191    -54.874      0.000     -10.846     -10.098\n",
      "down_yd_from_goal_2_sq    -11.9031      0.214    -55.604      0.000     -12.323     -11.484\n",
      "down_yd_from_goal_3_sq    -14.8524      0.265    -56.139      0.000     -15.371     -14.334\n",
      "down_yd_from_goal_4_sq    -20.7577      2.936     -7.069      0.000     -26.513     -15.003\n",
      "const                      -8.1022      0.158    -51.362      0.000      -8.411      -7.793\n",
      "===========================================================================================\n"
     ]
    },
    {
     "name": "stderr",
     "output_type": "stream",
     "text": [
      "/Users/lucashaupt/Documents/GitHub/nfl-live-win-probability/venv/lib/python3.9/site-packages/statsmodels/discrete/discrete_model.py:1819: RuntimeWarning: overflow encountered in exp\n",
      "  return 1/(1+np.exp(-X))\n",
      "/Users/lucashaupt/Documents/GitHub/nfl-live-win-probability/venv/lib/python3.9/site-packages/statsmodels/discrete/discrete_model.py:1872: RuntimeWarning: divide by zero encountered in log\n",
      "  return np.sum(np.log(self.cdf(q*np.dot(X,params))))\n",
      "/Users/lucashaupt/Documents/GitHub/nfl-live-win-probability/venv/lib/python3.9/site-packages/statsmodels/base/model.py:604: ConvergenceWarning: Maximum Likelihood optimization failed to converge. Check mle_retvals\n",
      "  warnings.warn(\"Maximum Likelihood optimization failed to \"\n"
     ]
    },
    {
     "name": "stdout",
     "output_type": "stream",
     "text": [
      "Warning: Maximum number of iterations has been exceeded.\n",
      "         Current function value: inf\n",
      "         Iterations: 35\n"
     ]
    },
    {
     "name": "stderr",
     "output_type": "stream",
     "text": [
      "/Users/lucashaupt/Documents/GitHub/nfl-live-win-probability/venv/lib/python3.9/site-packages/statsmodels/base/model.py:592: HessianInversionWarning: Inverting hessian failed, no bse or cov_params available\n",
      "  warnings.warn('Inverting hessian failed, no bse or cov_params '\n",
      "/Users/lucashaupt/Documents/GitHub/nfl-live-win-probability/venv/lib/python3.9/site-packages/statsmodels/base/model.py:592: HessianInversionWarning: Inverting hessian failed, no bse or cov_params available\n",
      "  warnings.warn('Inverting hessian failed, no bse or cov_params '\n"
     ]
    },
    {
     "name": "stdout",
     "output_type": "stream",
     "text": [
      "                           Logit Regression Results                           \n",
      "==============================================================================\n",
      "Dep. Variable:                 safety   No. Observations:               446615\n",
      "Model:                          Logit   Df Residuals:                   446583\n",
      "Method:                           MLE   Df Model:                           31\n",
      "Date:                Thu, 14 Apr 2022   Pseudo R-squ.:                     inf\n",
      "Time:                        12:47:34   Log-Likelihood:                   -inf\n",
      "converged:                      False   LL-Null:                        0.0000\n",
      "Covariance Type:            nonrobust   LLR p-value:                     1.000\n",
      "===========================================================================================\n",
      "                              coef    std err          z      P>|z|      [0.025      0.975]\n",
      "-------------------------------------------------------------------------------------------\n",
      "time_left_in_half           0.1237      0.722      0.171      0.864      -1.291       1.539\n",
      "time_left_in_half_sq        0.1973      0.673      0.293      0.769      -1.122       1.517\n",
      "half                        0.1034      0.151      0.684      0.494      -0.193       0.400\n",
      "current_score_diff          0.2741      0.488      0.561      0.575      -0.683       1.231\n",
      "current_score_total         0.4003      0.519      0.772      0.440      -0.616       1.417\n",
      "cur_spread                 -0.3807      0.384     -0.991      0.322      -1.134       0.372\n",
      "cur_over_under             -0.4918      0.648     -0.759      0.448      -1.762       0.779\n",
      "home_timeouts_remaining    -0.2028      0.216     -0.940      0.347      -0.626       0.220\n",
      "away_timeouts_remaining    -0.3950      0.208     -1.900      0.057      -0.802       0.012\n",
      "punt                       -3.2573      0.383     -8.495      0.000      -4.009      -2.506\n",
      "field_goal_attempt         -7.2293    155.556     -0.046      0.963    -312.113     297.654\n",
      "home_team_has_ball         -0.3907      0.098     -3.977      0.000      -0.583      -0.198\n",
      "down_2                      2.9498      5.625      0.524      0.600      -8.075      13.974\n",
      "down_3                      3.8366      5.626      0.682      0.495      -7.190      14.863\n",
      "down_4                     -3.0295      8.926     -0.339      0.734     -20.523      14.464\n",
      "down_ytg_1                 14.6485     11.724      1.249      0.212      -8.330      37.627\n",
      "down_ytg_2                  7.3035      4.199      1.740      0.082      -0.926      15.532\n",
      "down_ytg_3                  0.1744      3.508      0.050      0.960      -6.700       7.049\n",
      "down_ytg_4                  6.2946      5.508      1.143      0.253      -4.502      17.091\n",
      "down_yd_from_goal_1        -8.8380     10.100     -0.875      0.382     -28.634      10.958\n",
      "down_yd_from_goal_2       -10.8586      7.083     -1.533      0.125     -24.741       3.024\n",
      "down_yd_from_goal_3        -8.9280      7.317     -1.220      0.222     -23.268       5.412\n",
      "down_yd_from_goal_4        19.8110     18.816      1.053      0.292     -17.067      56.689\n",
      "down_ytg_1_sq             -17.8900     16.222     -1.103      0.270     -49.685      13.905\n",
      "down_ytg_2_sq             -12.6140      6.975     -1.809      0.071     -26.284       1.056\n",
      "down_ytg_3_sq              -3.6789      6.497     -0.566      0.571     -16.413       9.056\n",
      "down_ytg_4_sq             -14.0530     10.819     -1.299      0.194     -35.259       7.153\n",
      "down_yd_from_goal_1_sq     18.5120      5.812      3.185      0.001       7.121      29.903\n",
      "down_yd_from_goal_2_sq     19.3326      4.292      4.504      0.000      10.921      27.745\n",
      "down_yd_from_goal_3_sq     17.6091      4.572      3.852      0.000       8.649      26.570\n",
      "down_yd_from_goal_4_sq     -4.0471     11.624     -0.348      0.728     -26.830      18.736\n",
      "const                     -13.9358      4.788     -2.911      0.004     -23.320      -4.551\n",
      "===========================================================================================\n",
      "\n",
      "Possibly complete quasi-separation: A fraction 0.68 of observations can be\n",
      "perfectly predicted. This might indicate that there is complete\n",
      "quasi-separation. In this case some parameters will not be identified.\n"
     ]
    },
    {
     "name": "stderr",
     "output_type": "stream",
     "text": [
      "/Users/lucashaupt/Documents/GitHub/nfl-live-win-probability/venv/lib/python3.9/site-packages/statsmodels/discrete/discrete_model.py:1819: RuntimeWarning: overflow encountered in exp\n",
      "  return 1/(1+np.exp(-X))\n",
      "/Users/lucashaupt/Documents/GitHub/nfl-live-win-probability/venv/lib/python3.9/site-packages/statsmodels/discrete/discrete_model.py:1872: RuntimeWarning: divide by zero encountered in log\n",
      "  return np.sum(np.log(self.cdf(q*np.dot(X,params))))\n"
     ]
    },
    {
     "name": "stdout",
     "output_type": "stream",
     "text": [
      "Optimization terminated successfully.\n",
      "         Current function value: inf\n",
      "         Iterations 14\n"
     ]
    },
    {
     "name": "stderr",
     "output_type": "stream",
     "text": [
      "/Users/lucashaupt/Documents/GitHub/nfl-live-win-probability/venv/lib/python3.9/site-packages/statsmodels/base/model.py:592: HessianInversionWarning: Inverting hessian failed, no bse or cov_params available\n",
      "  warnings.warn('Inverting hessian failed, no bse or cov_params '\n",
      "/Users/lucashaupt/Documents/GitHub/nfl-live-win-probability/venv/lib/python3.9/site-packages/statsmodels/base/model.py:592: HessianInversionWarning: Inverting hessian failed, no bse or cov_params available\n",
      "  warnings.warn('Inverting hessian failed, no bse or cov_params '\n"
     ]
    },
    {
     "name": "stdout",
     "output_type": "stream",
     "text": [
      "                           Logit Regression Results                           \n",
      "==============================================================================\n",
      "Dep. Variable:             touch_down   No. Observations:               446615\n",
      "Model:                          Logit   Df Residuals:                   446583\n",
      "Method:                           MLE   Df Model:                           31\n",
      "Date:                Thu, 14 Apr 2022   Pseudo R-squ.:                     inf\n",
      "Time:                        12:47:37   Log-Likelihood:                   -inf\n",
      "converged:                       True   LL-Null:                        0.0000\n",
      "Covariance Type:            nonrobust   LLR p-value:                     1.000\n",
      "===========================================================================================\n",
      "                              coef    std err          z      P>|z|      [0.025      0.975]\n",
      "-------------------------------------------------------------------------------------------\n",
      "time_left_in_half           1.4867      0.056     26.536      0.000       1.377       1.596\n",
      "time_left_in_half_sq       -1.2176      0.052    -23.616      0.000      -1.319      -1.117\n",
      "half                       -0.0709      0.012     -5.716      0.000      -0.095      -0.047\n",
      "current_score_diff          0.1542      0.039      3.921      0.000       0.077       0.231\n",
      "current_score_total         0.3523      0.044      8.083      0.000       0.267       0.438\n",
      "cur_spread                 -0.0665      0.030     -2.209      0.027      -0.125      -0.007\n",
      "cur_over_under              2.3917      0.052     45.942      0.000       2.290       2.494\n",
      "home_timeouts_remaining     0.3001      0.019     15.681      0.000       0.263       0.338\n",
      "away_timeouts_remaining     0.3194      0.019     17.106      0.000       0.283       0.356\n",
      "punt                       -8.6130      1.002     -8.592      0.000     -10.578      -6.648\n",
      "field_goal_attempt         -8.6396      1.001     -8.631      0.000     -10.602      -6.678\n",
      "home_team_has_ball          0.1172      0.008     15.271      0.000       0.102       0.132\n",
      "down_2                     -0.9283      0.054    -17.211      0.000      -1.034      -0.823\n",
      "down_3                     -1.5701      0.057    -27.729      0.000      -1.681      -1.459\n",
      "down_4                     -1.6765      0.091    -18.337      0.000      -1.856      -1.497\n",
      "down_ytg_1                 -7.1253      0.339    -21.004      0.000      -7.790      -6.460\n",
      "down_ytg_2                 -3.5907      0.192    -18.720      0.000      -3.967      -3.215\n",
      "down_ytg_3                 -5.3645      0.293    -18.305      0.000      -5.939      -4.790\n",
      "down_ytg_4                 -3.5517      0.944     -3.764      0.000      -5.401      -1.702\n",
      "down_yd_from_goal_1        -3.4961      0.108    -32.293      0.000      -3.708      -3.284\n",
      "down_yd_from_goal_2        -3.8839      0.106    -36.537      0.000      -4.092      -3.676\n",
      "down_yd_from_goal_3        -2.8601      0.143    -20.010      0.000      -3.140      -2.580\n",
      "down_yd_from_goal_4        -4.0616      0.437     -9.304      0.000      -4.917      -3.206\n",
      "down_ytg_1_sq               7.7608      0.517     15.004      0.000       6.747       8.775\n",
      "down_ytg_2_sq               2.5645      0.435      5.901      0.000       1.713       3.416\n",
      "down_ytg_3_sq               2.5497      0.828      3.078      0.002       0.926       4.173\n",
      "down_ytg_4_sq               1.6031      2.666      0.601      0.548      -3.621       6.828\n",
      "down_yd_from_goal_1_sq      0.9063      0.106      8.577      0.000       0.699       1.113\n",
      "down_yd_from_goal_2_sq      1.3260      0.113     11.736      0.000       1.105       1.547\n",
      "down_yd_from_goal_3_sq      0.4910      0.161      3.054      0.002       0.176       0.806\n",
      "down_yd_from_goal_4_sq      2.6642      0.584      4.564      0.000       1.520       3.808\n",
      "const                      -0.6817      0.067    -10.142      0.000      -0.813      -0.550\n",
      "===========================================================================================\n"
     ]
    },
    {
     "name": "stderr",
     "output_type": "stream",
     "text": [
      "/Users/lucashaupt/Documents/GitHub/nfl-live-win-probability/venv/lib/python3.9/site-packages/statsmodels/discrete/discrete_model.py:1819: RuntimeWarning: overflow encountered in exp\n",
      "  return 1/(1+np.exp(-X))\n",
      "/Users/lucashaupt/Documents/GitHub/nfl-live-win-probability/venv/lib/python3.9/site-packages/statsmodels/discrete/discrete_model.py:1872: RuntimeWarning: divide by zero encountered in log\n",
      "  return np.sum(np.log(self.cdf(q*np.dot(X,params))))\n",
      "/Users/lucashaupt/Documents/GitHub/nfl-live-win-probability/venv/lib/python3.9/site-packages/statsmodels/base/model.py:604: ConvergenceWarning: Maximum Likelihood optimization failed to converge. Check mle_retvals\n",
      "  warnings.warn(\"Maximum Likelihood optimization failed to \"\n"
     ]
    },
    {
     "name": "stdout",
     "output_type": "stream",
     "text": [
      "Warning: Maximum number of iterations has been exceeded.\n",
      "         Current function value: inf\n",
      "         Iterations: 35\n"
     ]
    },
    {
     "name": "stderr",
     "output_type": "stream",
     "text": [
      "/Users/lucashaupt/Documents/GitHub/nfl-live-win-probability/venv/lib/python3.9/site-packages/statsmodels/base/model.py:592: HessianInversionWarning: Inverting hessian failed, no bse or cov_params available\n",
      "  warnings.warn('Inverting hessian failed, no bse or cov_params '\n",
      "/Users/lucashaupt/Documents/GitHub/nfl-live-win-probability/venv/lib/python3.9/site-packages/statsmodels/base/model.py:592: HessianInversionWarning: Inverting hessian failed, no bse or cov_params available\n",
      "  warnings.warn('Inverting hessian failed, no bse or cov_params '\n"
     ]
    },
    {
     "name": "stdout",
     "output_type": "stream",
     "text": [
      "                           Logit Regression Results                           \n",
      "==============================================================================\n",
      "Dep. Variable:               turnover   No. Observations:               446615\n",
      "Model:                          Logit   Df Residuals:                   446583\n",
      "Method:                           MLE   Df Model:                           31\n",
      "Date:                Thu, 14 Apr 2022   Pseudo R-squ.:                     inf\n",
      "Time:                        12:47:44   Log-Likelihood:                   -inf\n",
      "converged:                      False   LL-Null:                        0.0000\n",
      "Covariance Type:            nonrobust   LLR p-value:                     1.000\n",
      "===========================================================================================\n",
      "                              coef    std err          z      P>|z|      [0.025      0.975]\n",
      "-------------------------------------------------------------------------------------------\n",
      "time_left_in_half          -0.5468      0.076     -7.205      0.000      -0.696      -0.398\n",
      "time_left_in_half_sq        0.3162      0.070      4.533      0.000       0.179       0.453\n",
      "half                        0.1854      0.017     11.089      0.000       0.153       0.218\n",
      "current_score_diff         -0.0791      0.053     -1.485      0.137      -0.183       0.025\n",
      "current_score_total         0.0918      0.058      1.577      0.115      -0.022       0.206\n",
      "cur_spread                 -0.0365      0.042     -0.873      0.383      -0.119       0.046\n",
      "cur_over_under             -0.1401      0.072     -1.943      0.052      -0.282       0.001\n",
      "home_timeouts_remaining    -0.0582      0.025     -2.344      0.019      -0.107      -0.010\n",
      "away_timeouts_remaining     0.0791      0.025      3.229      0.001       0.031       0.127\n",
      "punt                       -8.3703      1.003     -8.348      0.000     -10.336      -6.405\n",
      "field_goal_attempt        -20.9876   1208.110     -0.017      0.986   -2388.840    2346.865\n",
      "home_team_has_ball         -0.0268      0.011     -2.516      0.012      -0.048      -0.006\n",
      "down_2                      0.3467      0.105      3.309      0.001       0.141       0.552\n",
      "down_3                      0.2106      0.112      1.880      0.060      -0.009       0.430\n",
      "down_4                      0.3484      0.179      1.942      0.052      -0.003       0.700\n",
      "down_ytg_1                  2.6921      0.633      4.253      0.000       1.452       3.933\n",
      "down_ytg_2                 -0.4551      0.266     -1.712      0.087      -0.976       0.066\n",
      "down_ytg_3                 -0.4188      0.386     -1.085      0.278      -1.176       0.338\n",
      "down_ytg_4                  1.2221      1.000      1.222      0.222      -0.739       3.183\n",
      "down_yd_from_goal_1         3.2257      0.166     19.407      0.000       2.900       3.552\n",
      "down_yd_from_goal_2         3.5152      0.176     20.018      0.000       3.171       3.859\n",
      "down_yd_from_goal_3         3.2261      0.242     13.341      0.000       2.752       3.700\n",
      "down_yd_from_goal_4         2.2206      0.687      3.232      0.001       0.874       3.567\n",
      "down_ytg_1_sq              -4.0565      0.919     -4.416      0.000      -5.857      -2.256\n",
      "down_ytg_2_sq              -0.5912      0.564     -1.048      0.295      -1.697       0.515\n",
      "down_ytg_3_sq              -2.6455      0.971     -2.725      0.006      -4.548      -0.743\n",
      "down_ytg_4_sq              -1.2465      2.201     -0.566      0.571      -5.561       3.067\n",
      "down_yd_from_goal_1_sq     -2.0661      0.149    -13.843      0.000      -2.359      -1.774\n",
      "down_yd_from_goal_2_sq     -2.3610      0.167    -14.174      0.000      -2.688      -2.035\n",
      "down_yd_from_goal_3_sq     -2.2949      0.236     -9.724      0.000      -2.757      -1.832\n",
      "down_yd_from_goal_4_sq     -0.8370      0.750     -1.117      0.264      -2.306       0.632\n",
      "const                      -3.3403      0.114    -29.351      0.000      -3.563      -3.117\n",
      "===========================================================================================\n"
     ]
    },
    {
     "name": "stderr",
     "output_type": "stream",
     "text": [
      "/Users/lucashaupt/Documents/GitHub/nfl-live-win-probability/venv/lib/python3.9/site-packages/statsmodels/discrete/discrete_model.py:1819: RuntimeWarning: overflow encountered in exp\n",
      "  return 1/(1+np.exp(-X))\n",
      "/Users/lucashaupt/Documents/GitHub/nfl-live-win-probability/venv/lib/python3.9/site-packages/statsmodels/discrete/discrete_model.py:1872: RuntimeWarning: divide by zero encountered in log\n",
      "  return np.sum(np.log(self.cdf(q*np.dot(X,params))))\n"
     ]
    },
    {
     "name": "stdout",
     "output_type": "stream",
     "text": [
      "Warning: Maximum number of iterations has been exceeded.\n",
      "         Current function value: inf\n",
      "         Iterations: 35\n"
     ]
    },
    {
     "ename": "LinAlgError",
     "evalue": "Singular matrix",
     "output_type": "error",
     "traceback": [
      "\u001b[0;31m---------------------------------------------------------------------------\u001b[0m",
      "\u001b[0;31mLinAlgError\u001b[0m                               Traceback (most recent call last)",
      "\u001b[0;32m/var/folders/dq/tcxv3s4j7y585_4jhfbdvrx00000gn/T/ipykernel_65739/1138701045.py\u001b[0m in \u001b[0;36m<module>\u001b[0;34m\u001b[0m\n\u001b[1;32m      5\u001b[0m     \u001b[0my\u001b[0m \u001b[0;34m=\u001b[0m \u001b[0mpd\u001b[0m\u001b[0;34m.\u001b[0m\u001b[0mget_dummies\u001b[0m\u001b[0;34m(\u001b[0m\u001b[0my_train\u001b[0m\u001b[0;34m)\u001b[0m\u001b[0;34m[\u001b[0m\u001b[0mcol\u001b[0m\u001b[0;34m]\u001b[0m\u001b[0;34m\u001b[0m\u001b[0;34m\u001b[0m\u001b[0m\n\u001b[1;32m      6\u001b[0m     \u001b[0mlogit_drive_outcome_advanced_dict\u001b[0m\u001b[0;34m[\u001b[0m\u001b[0mcol\u001b[0m\u001b[0;34m]\u001b[0m \u001b[0;34m=\u001b[0m \u001b[0msm\u001b[0m\u001b[0;34m.\u001b[0m\u001b[0mLogit\u001b[0m\u001b[0;34m(\u001b[0m\u001b[0my\u001b[0m\u001b[0;34m,\u001b[0m \u001b[0mX\u001b[0m\u001b[0;34m)\u001b[0m\u001b[0;34m\u001b[0m\u001b[0;34m\u001b[0m\u001b[0m\n\u001b[0;32m----> 7\u001b[0;31m     \u001b[0mlogit_drive_outcome_advanced_dict\u001b[0m\u001b[0;34m[\u001b[0m\u001b[0mcol\u001b[0m\u001b[0;34m+\u001b[0m\u001b[0;34m\"_fit\"\u001b[0m\u001b[0;34m]\u001b[0m \u001b[0;34m=\u001b[0m \u001b[0mlogit_drive_outcome_advanced_dict\u001b[0m\u001b[0;34m[\u001b[0m\u001b[0mcol\u001b[0m\u001b[0;34m]\u001b[0m\u001b[0;34m.\u001b[0m\u001b[0mfit\u001b[0m\u001b[0;34m(\u001b[0m\u001b[0;34m)\u001b[0m\u001b[0;34m\u001b[0m\u001b[0;34m\u001b[0m\u001b[0m\n\u001b[0m\u001b[1;32m      8\u001b[0m     \u001b[0mprint\u001b[0m\u001b[0;34m(\u001b[0m\u001b[0mlogit_drive_outcome_advanced_dict\u001b[0m\u001b[0;34m[\u001b[0m\u001b[0mcol\u001b[0m\u001b[0;34m+\u001b[0m\u001b[0;34m\"_fit\"\u001b[0m\u001b[0;34m]\u001b[0m\u001b[0;34m.\u001b[0m\u001b[0msummary\u001b[0m\u001b[0;34m(\u001b[0m\u001b[0;34m)\u001b[0m\u001b[0;34m)\u001b[0m\u001b[0;34m\u001b[0m\u001b[0;34m\u001b[0m\u001b[0m\n\u001b[1;32m      9\u001b[0m \u001b[0;34m\u001b[0m\u001b[0m\n",
      "\u001b[0;32m~/Documents/GitHub/nfl-live-win-probability/venv/lib/python3.9/site-packages/statsmodels/discrete/discrete_model.py\u001b[0m in \u001b[0;36mfit\u001b[0;34m(self, start_params, method, maxiter, full_output, disp, callback, **kwargs)\u001b[0m\n\u001b[1;32m   1981\u001b[0m     def fit(self, start_params=None, method='newton', maxiter=35,\n\u001b[1;32m   1982\u001b[0m             full_output=1, disp=1, callback=None, **kwargs):\n\u001b[0;32m-> 1983\u001b[0;31m         bnryfit = super().fit(start_params=start_params,\n\u001b[0m\u001b[1;32m   1984\u001b[0m                               \u001b[0mmethod\u001b[0m\u001b[0;34m=\u001b[0m\u001b[0mmethod\u001b[0m\u001b[0;34m,\u001b[0m\u001b[0;34m\u001b[0m\u001b[0;34m\u001b[0m\u001b[0m\n\u001b[1;32m   1985\u001b[0m                               \u001b[0mmaxiter\u001b[0m\u001b[0;34m=\u001b[0m\u001b[0mmaxiter\u001b[0m\u001b[0;34m,\u001b[0m\u001b[0;34m\u001b[0m\u001b[0;34m\u001b[0m\u001b[0m\n",
      "\u001b[0;32m~/Documents/GitHub/nfl-live-win-probability/venv/lib/python3.9/site-packages/statsmodels/discrete/discrete_model.py\u001b[0m in \u001b[0;36mfit\u001b[0;34m(self, start_params, method, maxiter, full_output, disp, callback, **kwargs)\u001b[0m\n\u001b[1;32m    228\u001b[0m             \u001b[0;32mpass\u001b[0m  \u001b[0;31m# TODO: make a function factory to have multiple call-backs\u001b[0m\u001b[0;34m\u001b[0m\u001b[0;34m\u001b[0m\u001b[0m\n\u001b[1;32m    229\u001b[0m \u001b[0;34m\u001b[0m\u001b[0m\n\u001b[0;32m--> 230\u001b[0;31m         mlefit = super().fit(start_params=start_params,\n\u001b[0m\u001b[1;32m    231\u001b[0m                              \u001b[0mmethod\u001b[0m\u001b[0;34m=\u001b[0m\u001b[0mmethod\u001b[0m\u001b[0;34m,\u001b[0m\u001b[0;34m\u001b[0m\u001b[0;34m\u001b[0m\u001b[0m\n\u001b[1;32m    232\u001b[0m                              \u001b[0mmaxiter\u001b[0m\u001b[0;34m=\u001b[0m\u001b[0mmaxiter\u001b[0m\u001b[0;34m,\u001b[0m\u001b[0;34m\u001b[0m\u001b[0;34m\u001b[0m\u001b[0m\n",
      "\u001b[0;32m~/Documents/GitHub/nfl-live-win-probability/venv/lib/python3.9/site-packages/statsmodels/base/model.py\u001b[0m in \u001b[0;36mfit\u001b[0;34m(self, start_params, method, maxiter, full_output, disp, fargs, callback, retall, skip_hessian, **kwargs)\u001b[0m\n\u001b[1;32m    577\u001b[0m             \u001b[0mHinv\u001b[0m \u001b[0;34m=\u001b[0m \u001b[0mcov_params_func\u001b[0m\u001b[0;34m(\u001b[0m\u001b[0mself\u001b[0m\u001b[0;34m,\u001b[0m \u001b[0mxopt\u001b[0m\u001b[0;34m,\u001b[0m \u001b[0mretvals\u001b[0m\u001b[0;34m)\u001b[0m\u001b[0;34m\u001b[0m\u001b[0;34m\u001b[0m\u001b[0m\n\u001b[1;32m    578\u001b[0m         \u001b[0;32melif\u001b[0m \u001b[0mmethod\u001b[0m \u001b[0;34m==\u001b[0m \u001b[0;34m'newton'\u001b[0m \u001b[0;32mand\u001b[0m \u001b[0mfull_output\u001b[0m\u001b[0;34m:\u001b[0m\u001b[0;34m\u001b[0m\u001b[0;34m\u001b[0m\u001b[0m\n\u001b[0;32m--> 579\u001b[0;31m             \u001b[0mHinv\u001b[0m \u001b[0;34m=\u001b[0m \u001b[0mnp\u001b[0m\u001b[0;34m.\u001b[0m\u001b[0mlinalg\u001b[0m\u001b[0;34m.\u001b[0m\u001b[0minv\u001b[0m\u001b[0;34m(\u001b[0m\u001b[0;34m-\u001b[0m\u001b[0mretvals\u001b[0m\u001b[0;34m[\u001b[0m\u001b[0;34m'Hessian'\u001b[0m\u001b[0;34m]\u001b[0m\u001b[0;34m)\u001b[0m \u001b[0;34m/\u001b[0m \u001b[0mnobs\u001b[0m\u001b[0;34m\u001b[0m\u001b[0;34m\u001b[0m\u001b[0m\n\u001b[0m\u001b[1;32m    580\u001b[0m         \u001b[0;32melif\u001b[0m \u001b[0;32mnot\u001b[0m \u001b[0mskip_hessian\u001b[0m\u001b[0;34m:\u001b[0m\u001b[0;34m\u001b[0m\u001b[0;34m\u001b[0m\u001b[0m\n\u001b[1;32m    581\u001b[0m             \u001b[0mH\u001b[0m \u001b[0;34m=\u001b[0m \u001b[0;34m-\u001b[0m\u001b[0;36m1\u001b[0m \u001b[0;34m*\u001b[0m \u001b[0mself\u001b[0m\u001b[0;34m.\u001b[0m\u001b[0mhessian\u001b[0m\u001b[0;34m(\u001b[0m\u001b[0mxopt\u001b[0m\u001b[0;34m)\u001b[0m\u001b[0;34m\u001b[0m\u001b[0;34m\u001b[0m\u001b[0m\n",
      "\u001b[0;32m<__array_function__ internals>\u001b[0m in \u001b[0;36minv\u001b[0;34m(*args, **kwargs)\u001b[0m\n",
      "\u001b[0;32m~/Documents/GitHub/nfl-live-win-probability/venv/lib/python3.9/site-packages/numpy/linalg/linalg.py\u001b[0m in \u001b[0;36minv\u001b[0;34m(a)\u001b[0m\n\u001b[1;32m    543\u001b[0m     \u001b[0msignature\u001b[0m \u001b[0;34m=\u001b[0m \u001b[0;34m'D->D'\u001b[0m \u001b[0;32mif\u001b[0m \u001b[0misComplexType\u001b[0m\u001b[0;34m(\u001b[0m\u001b[0mt\u001b[0m\u001b[0;34m)\u001b[0m \u001b[0;32melse\u001b[0m \u001b[0;34m'd->d'\u001b[0m\u001b[0;34m\u001b[0m\u001b[0;34m\u001b[0m\u001b[0m\n\u001b[1;32m    544\u001b[0m     \u001b[0mextobj\u001b[0m \u001b[0;34m=\u001b[0m \u001b[0mget_linalg_error_extobj\u001b[0m\u001b[0;34m(\u001b[0m\u001b[0m_raise_linalgerror_singular\u001b[0m\u001b[0;34m)\u001b[0m\u001b[0;34m\u001b[0m\u001b[0;34m\u001b[0m\u001b[0m\n\u001b[0;32m--> 545\u001b[0;31m     \u001b[0mainv\u001b[0m \u001b[0;34m=\u001b[0m \u001b[0m_umath_linalg\u001b[0m\u001b[0;34m.\u001b[0m\u001b[0minv\u001b[0m\u001b[0;34m(\u001b[0m\u001b[0ma\u001b[0m\u001b[0;34m,\u001b[0m \u001b[0msignature\u001b[0m\u001b[0;34m=\u001b[0m\u001b[0msignature\u001b[0m\u001b[0;34m,\u001b[0m \u001b[0mextobj\u001b[0m\u001b[0;34m=\u001b[0m\u001b[0mextobj\u001b[0m\u001b[0;34m)\u001b[0m\u001b[0;34m\u001b[0m\u001b[0;34m\u001b[0m\u001b[0m\n\u001b[0m\u001b[1;32m    546\u001b[0m     \u001b[0;32mreturn\u001b[0m \u001b[0mwrap\u001b[0m\u001b[0;34m(\u001b[0m\u001b[0mainv\u001b[0m\u001b[0;34m.\u001b[0m\u001b[0mastype\u001b[0m\u001b[0;34m(\u001b[0m\u001b[0mresult_t\u001b[0m\u001b[0;34m,\u001b[0m \u001b[0mcopy\u001b[0m\u001b[0;34m=\u001b[0m\u001b[0;32mFalse\u001b[0m\u001b[0;34m)\u001b[0m\u001b[0;34m)\u001b[0m\u001b[0;34m\u001b[0m\u001b[0;34m\u001b[0m\u001b[0m\n\u001b[1;32m    547\u001b[0m \u001b[0;34m\u001b[0m\u001b[0m\n",
      "\u001b[0;32m~/Documents/GitHub/nfl-live-win-probability/venv/lib/python3.9/site-packages/numpy/linalg/linalg.py\u001b[0m in \u001b[0;36m_raise_linalgerror_singular\u001b[0;34m(err, flag)\u001b[0m\n\u001b[1;32m     86\u001b[0m \u001b[0;34m\u001b[0m\u001b[0m\n\u001b[1;32m     87\u001b[0m \u001b[0;32mdef\u001b[0m \u001b[0m_raise_linalgerror_singular\u001b[0m\u001b[0;34m(\u001b[0m\u001b[0merr\u001b[0m\u001b[0;34m,\u001b[0m \u001b[0mflag\u001b[0m\u001b[0;34m)\u001b[0m\u001b[0;34m:\u001b[0m\u001b[0;34m\u001b[0m\u001b[0;34m\u001b[0m\u001b[0m\n\u001b[0;32m---> 88\u001b[0;31m     \u001b[0;32mraise\u001b[0m \u001b[0mLinAlgError\u001b[0m\u001b[0;34m(\u001b[0m\u001b[0;34m\"Singular matrix\"\u001b[0m\u001b[0;34m)\u001b[0m\u001b[0;34m\u001b[0m\u001b[0;34m\u001b[0m\u001b[0m\n\u001b[0m\u001b[1;32m     89\u001b[0m \u001b[0;34m\u001b[0m\u001b[0m\n\u001b[1;32m     90\u001b[0m \u001b[0;32mdef\u001b[0m \u001b[0m_raise_linalgerror_nonposdef\u001b[0m\u001b[0;34m(\u001b[0m\u001b[0merr\u001b[0m\u001b[0;34m,\u001b[0m \u001b[0mflag\u001b[0m\u001b[0;34m)\u001b[0m\u001b[0;34m:\u001b[0m\u001b[0;34m\u001b[0m\u001b[0;34m\u001b[0m\u001b[0m\n",
      "\u001b[0;31mLinAlgError\u001b[0m: Singular matrix"
     ]
    }
   ],
   "source": [
    "# import statsmodels.api as sm\n",
    "# X = sm.add_constant(X_train, prepend=False)\n",
    "# logit_drive_outcome_advanced_dict = {}\n",
    "# for col in pd.get_dummies(y_train).columns:\n",
    "#     y = pd.get_dummies(y_train)[col]\n",
    "#     logit_drive_outcome_advanced_dict[col] = sm.Logit(y, X)\n",
    "#     logit_drive_outcome_advanced_dict[col+\"_fit\"] = logit_drive_outcome_advanced_dict[col].fit()\n",
    "#     print(logit_drive_outcome_advanced_dict[col+\"_fit\"].summary())\n",
    "\n"
   ]
  },
  {
   "cell_type": "code",
   "execution_count": 34,
   "metadata": {},
   "outputs": [
    {
     "data": {
      "text/html": [
       "<div>\n",
       "<style scoped>\n",
       "    .dataframe tbody tr th:only-of-type {\n",
       "        vertical-align: middle;\n",
       "    }\n",
       "\n",
       "    .dataframe tbody tr th {\n",
       "        vertical-align: top;\n",
       "    }\n",
       "\n",
       "    .dataframe thead th {\n",
       "        text-align: right;\n",
       "    }\n",
       "</style>\n",
       "<table border=\"1\" class=\"dataframe\">\n",
       "  <thead>\n",
       "    <tr style=\"text-align: right;\">\n",
       "      <th></th>\n",
       "      <th>yd_from_goal_bin</th>\n",
       "      <th>yd_from_goal</th>\n",
       "      <th>fieldgoal_made</th>\n",
       "    </tr>\n",
       "  </thead>\n",
       "  <tbody>\n",
       "    <tr>\n",
       "      <th>0</th>\n",
       "      <td>5.0</td>\n",
       "      <td>2.770718</td>\n",
       "      <td>0.987109</td>\n",
       "    </tr>\n",
       "    <tr>\n",
       "      <th>1</th>\n",
       "      <td>10.0</td>\n",
       "      <td>7.534747</td>\n",
       "      <td>0.972473</td>\n",
       "    </tr>\n",
       "    <tr>\n",
       "      <th>2</th>\n",
       "      <td>15.0</td>\n",
       "      <td>12.493976</td>\n",
       "      <td>0.942930</td>\n",
       "    </tr>\n",
       "    <tr>\n",
       "      <th>3</th>\n",
       "      <td>20.0</td>\n",
       "      <td>17.551617</td>\n",
       "      <td>0.885080</td>\n",
       "    </tr>\n",
       "    <tr>\n",
       "      <th>4</th>\n",
       "      <td>25.0</td>\n",
       "      <td>22.500000</td>\n",
       "      <td>0.840554</td>\n",
       "    </tr>\n",
       "    <tr>\n",
       "      <th>5</th>\n",
       "      <td>30.0</td>\n",
       "      <td>27.550889</td>\n",
       "      <td>0.752932</td>\n",
       "    </tr>\n",
       "    <tr>\n",
       "      <th>6</th>\n",
       "      <td>35.0</td>\n",
       "      <td>32.410328</td>\n",
       "      <td>0.678995</td>\n",
       "    </tr>\n",
       "    <tr>\n",
       "      <th>7</th>\n",
       "      <td>40.0</td>\n",
       "      <td>36.437500</td>\n",
       "      <td>0.606360</td>\n",
       "    </tr>\n",
       "    <tr>\n",
       "      <th>8</th>\n",
       "      <td>45.0</td>\n",
       "      <td>42.257143</td>\n",
       "      <td>0.400000</td>\n",
       "    </tr>\n",
       "    <tr>\n",
       "      <th>9</th>\n",
       "      <td>50.0</td>\n",
       "      <td>46.406250</td>\n",
       "      <td>0.187500</td>\n",
       "    </tr>\n",
       "    <tr>\n",
       "      <th>10</th>\n",
       "      <td>55.0</td>\n",
       "      <td>52.000000</td>\n",
       "      <td>0.000000</td>\n",
       "    </tr>\n",
       "    <tr>\n",
       "      <th>11</th>\n",
       "      <td>60.0</td>\n",
       "      <td>58.333333</td>\n",
       "      <td>0.000000</td>\n",
       "    </tr>\n",
       "    <tr>\n",
       "      <th>12</th>\n",
       "      <td>65.0</td>\n",
       "      <td>61.000000</td>\n",
       "      <td>0.000000</td>\n",
       "    </tr>\n",
       "  </tbody>\n",
       "</table>\n",
       "</div>"
      ],
      "text/plain": [
       "    yd_from_goal_bin  yd_from_goal  fieldgoal_made\n",
       "0                5.0      2.770718        0.987109\n",
       "1               10.0      7.534747        0.972473\n",
       "2               15.0     12.493976        0.942930\n",
       "3               20.0     17.551617        0.885080\n",
       "4               25.0     22.500000        0.840554\n",
       "5               30.0     27.550889        0.752932\n",
       "6               35.0     32.410328        0.678995\n",
       "7               40.0     36.437500        0.606360\n",
       "8               45.0     42.257143        0.400000\n",
       "9               50.0     46.406250        0.187500\n",
       "10              55.0     52.000000        0.000000\n",
       "11              60.0     58.333333        0.000000\n",
       "12              65.0     61.000000        0.000000"
      ]
     },
     "execution_count": 34,
     "metadata": {},
     "output_type": "execute_result"
    }
   ],
   "source": [
    "model_df[\"yd_from_goal_bin\"] = round((model_df[\"yd_from_goal\"]+2.5)/ 5) * 5\n",
    "model_df[mask_model&(model_df.field_goal_attempt==1)].groupby([\"yd_from_goal_bin\"], as_index=False).mean()[[\"yd_from_goal_bin\", \"yd_from_goal\", \"fieldgoal_made\"]]\n"
   ]
  },
  {
   "cell_type": "code",
   "execution_count": null,
   "metadata": {},
   "outputs": [],
   "source": []
  },
  {
   "cell_type": "code",
   "execution_count": 38,
   "metadata": {},
   "outputs": [
    {
     "name": "stderr",
     "output_type": "stream",
     "text": [
      "[Parallel(n_jobs=8)]: Using backend ThreadingBackend with 8 concurrent workers.\n",
      "[Parallel(n_jobs=8)]: Done  34 tasks      | elapsed:    0.8s\n",
      "[Parallel(n_jobs=8)]: Done 184 tasks      | elapsed:    3.3s\n",
      "[Parallel(n_jobs=8)]: Done 300 out of 300 | elapsed:    5.4s finished\n"
     ]
    },
    {
     "data": {
      "text/plain": [
       "0"
      ]
     },
     "execution_count": 38,
     "metadata": {},
     "output_type": "execute_result"
    }
   ],
   "source": [
    "for play_outcome in model_df[mask_model][\"play_outcome\"].drop_duplicates().sort_values():\n",
    "    model_df[play_outcome + \"_naive\"] = pd.DataFrame(model_df[mask_model][\"play_outcome\"].value_counts())[pd.DataFrame(model_df[mask_model][\"play_outcome\"].value_counts()).index==play_outcome].values[0][0]/model_df[mask_model][\"play_outcome\"].count()\n",
    "for drive_outcome in model_df[mask_model][\"drive_outcome_desc_basic\"].drop_duplicates().sort_values():\n",
    "    model_df[drive_outcome + \"_naive\"] = pd.DataFrame(model_df[mask_model][\"drive_outcome_desc_basic\"].value_counts())[pd.DataFrame(model_df[mask_model][\"drive_outcome_desc_basic\"].value_counts()).index==drive_outcome].values[0][0]/model_df[mask_model][\"drive_outcome_desc_basic\"].count()\n",
    "\n",
    "\n",
    "rf_play_class_names = [\"rf_play_\" + x for x in rf_play_outcome.classes_]\n",
    "search_rf_play_class_names = [\"search_rf_play_\" + x for x in search_rf_play_outcome.classes_]\n",
    "mlp_play_class_names = [\"mlp_play_\" + x for x in mlp_play_outcome.classes_]\n",
    "rf_drive_class_names = [\"rf_drive_\" + x for x in rf_drive_outcome.classes_]\n",
    "mlp_drive_class_names = [\"mlp_drive_\" + x for x in mlp_drive_outcome.classes_]\n",
    "logit_play_basic_class_names = [\"logit_basic_play_\" + x for x in logit_play_outcome_basic.classes_]\n",
    "logit_drive_basic_class_names = [\"logit_basic_drive_\" + x for x in logit_drive_outcome_basic.classes_]\n",
    "logit_play_advanced_class_names = [\"logit_advanced_play_\" + x for x in logit_play_outcome_advanced.classes_]\n",
    "logit_drive_advanced_class_names = [\"logit_advanced_drive_\" + x for x in logit_drive_outcome_advanced.classes_]\n",
    "naive_play_class_names = [x + \"_naive\" for x in model_df[mask_model][\"play_outcome\"].drop_duplicates().sort_values()]\n",
    "naive_drive_class_names = [x + \"_naive\" for x in model_df[mask_model][\"drive_outcome_desc_basic\"].drop_duplicates().sort_values()]\n",
    "predict_df = normalize_df(model_df[mask_model][input_names], model_df[mask_model&(model_df.season<2020)])\n",
    "predict_advanced_df = normalize_df(model_df[mask_model][input_names_advanced], model_df[mask_model&(model_df.season<2020)])\n",
    "rf_play_outcome.verbose=0\n",
    "rf_drive_outcome.verbose=0\n",
    "search_rf_play_outcome.verbose=0\n",
    "x_view = pd.concat([\n",
    "    deepcopy(model_df[mask_model].reset_index()), \n",
    "    pd.DataFrame(logit_play_outcome_basic.predict_proba(predict_df), columns=logit_play_basic_class_names),\n",
    "    pd.DataFrame(logit_play_outcome_advanced.predict_proba(predict_advanced_df), columns=logit_play_advanced_class_names),\n",
    "    pd.DataFrame(mlp_play_outcome.predict_proba(predict_df), columns=mlp_play_class_names),\n",
    "    pd.DataFrame(rf_play_outcome.predict_proba(predict_df), columns=rf_play_class_names),\n",
    "    pd.DataFrame(search_rf_play_outcome.predict_proba(predict_df), columns=search_rf_play_class_names),\n",
    "    pd.DataFrame(logit_drive_outcome_basic.predict_proba(predict_df), columns=logit_drive_basic_class_names),\n",
    "    pd.DataFrame(logit_drive_outcome_advanced.predict_proba(predict_advanced_df), columns=logit_drive_advanced_class_names),\n",
    "    pd.DataFrame(mlp_drive_outcome.predict_proba(predict_df), columns=mlp_drive_class_names),\n",
    "    pd.DataFrame(rf_drive_outcome.predict_proba(predict_df), columns=rf_drive_class_names),\n",
    "\n",
    "    ], axis=1\n",
    ")\n",
    "\n",
    "os.system('say \"done\"')\n",
    "\n"
   ]
  },
  {
   "cell_type": "code",
   "execution_count": 50,
   "metadata": {},
   "outputs": [
    {
     "data": {
      "text/plain": [
       "<matplotlib.collections.PathCollection at 0x7fdbb4a85670>"
      ]
     },
     "execution_count": 50,
     "metadata": {},
     "output_type": "execute_result"
    },
    {
     "data": {
      "image/png": "[encoded data removed]",
      "text/plain": [
       "<Figure size 432x288 with 1 Axes>"
      ]
     },
     "metadata": {
      "needs_background": "light"
     },
     "output_type": "display_data"
    }
   ],
   "source": [
    "plt.scatter(x_view[\"search_rf_play_field_goal_made\"], x_view[\"logit_advanced_play_field_goal_made\"])"
   ]
  },
  {
   "cell_type": "code",
   "execution_count": 47,
   "metadata": {},
   "outputs": [
    {
     "data": {
      "text/html": [
       "<div>\n",
       "<style scoped>\n",
       "    .dataframe tbody tr th:only-of-type {\n",
       "        vertical-align: middle;\n",
       "    }\n",
       "\n",
       "    .dataframe tbody tr th {\n",
       "        vertical-align: top;\n",
       "    }\n",
       "\n",
       "    .dataframe thead th {\n",
       "        text-align: right;\n",
       "    }\n",
       "</style>\n",
       "<table border=\"1\" class=\"dataframe\">\n",
       "  <thead>\n",
       "    <tr style=\"text-align: right;\">\n",
       "      <th></th>\n",
       "      <th>search_rf_play_defensive_touchdown</th>\n",
       "      <th>search_rf_play_field_goal_made</th>\n",
       "      <th>search_rf_play_first_down</th>\n",
       "      <th>search_rf_play_none</th>\n",
       "      <th>search_rf_play_offensive_touchdown</th>\n",
       "      <th>search_rf_play_turnover</th>\n",
       "    </tr>\n",
       "  </thead>\n",
       "  <tbody>\n",
       "    <tr>\n",
       "      <th>0</th>\n",
       "      <td>0.001985</td>\n",
       "      <td>2.118150e-07</td>\n",
       "      <td>0.180415</td>\n",
       "      <td>0.795288</td>\n",
       "      <td>0.007304</td>\n",
       "      <td>0.015007</td>\n",
       "    </tr>\n",
       "    <tr>\n",
       "      <th>1</th>\n",
       "      <td>0.002428</td>\n",
       "      <td>6.785287e-06</td>\n",
       "      <td>0.273053</td>\n",
       "      <td>0.699233</td>\n",
       "      <td>0.007378</td>\n",
       "      <td>0.017901</td>\n",
       "    </tr>\n",
       "    <tr>\n",
       "      <th>2</th>\n",
       "      <td>0.004831</td>\n",
       "      <td>5.230060e-06</td>\n",
       "      <td>0.348653</td>\n",
       "      <td>0.605294</td>\n",
       "      <td>0.009271</td>\n",
       "      <td>0.031946</td>\n",
       "    </tr>\n",
       "    <tr>\n",
       "      <th>3</th>\n",
       "      <td>0.001417</td>\n",
       "      <td>3.634286e-06</td>\n",
       "      <td>0.188023</td>\n",
       "      <td>0.786307</td>\n",
       "      <td>0.009668</td>\n",
       "      <td>0.014581</td>\n",
       "    </tr>\n",
       "    <tr>\n",
       "      <th>4</th>\n",
       "      <td>0.002085</td>\n",
       "      <td>1.254329e-05</td>\n",
       "      <td>0.292889</td>\n",
       "      <td>0.676476</td>\n",
       "      <td>0.009845</td>\n",
       "      <td>0.018692</td>\n",
       "    </tr>\n",
       "    <tr>\n",
       "      <th>...</th>\n",
       "      <td>...</td>\n",
       "      <td>...</td>\n",
       "      <td>...</td>\n",
       "      <td>...</td>\n",
       "      <td>...</td>\n",
       "      <td>...</td>\n",
       "    </tr>\n",
       "    <tr>\n",
       "      <th>523058</th>\n",
       "      <td>0.002267</td>\n",
       "      <td>8.142821e-05</td>\n",
       "      <td>0.221391</td>\n",
       "      <td>0.747861</td>\n",
       "      <td>0.008911</td>\n",
       "      <td>0.019488</td>\n",
       "    </tr>\n",
       "    <tr>\n",
       "      <th>523059</th>\n",
       "      <td>0.001914</td>\n",
       "      <td>1.521764e-04</td>\n",
       "      <td>0.602674</td>\n",
       "      <td>0.358675</td>\n",
       "      <td>0.017838</td>\n",
       "      <td>0.018746</td>\n",
       "    </tr>\n",
       "    <tr>\n",
       "      <th>523060</th>\n",
       "      <td>0.001978</td>\n",
       "      <td>7.010172e-06</td>\n",
       "      <td>0.626609</td>\n",
       "      <td>0.328941</td>\n",
       "      <td>0.021520</td>\n",
       "      <td>0.020944</td>\n",
       "    </tr>\n",
       "    <tr>\n",
       "      <th>523061</th>\n",
       "      <td>0.003169</td>\n",
       "      <td>3.275785e-04</td>\n",
       "      <td>0.619333</td>\n",
       "      <td>0.322870</td>\n",
       "      <td>0.022240</td>\n",
       "      <td>0.032061</td>\n",
       "    </tr>\n",
       "    <tr>\n",
       "      <th>523062</th>\n",
       "      <td>0.001792</td>\n",
       "      <td>2.667090e-05</td>\n",
       "      <td>0.195416</td>\n",
       "      <td>0.777104</td>\n",
       "      <td>0.008276</td>\n",
       "      <td>0.017385</td>\n",
       "    </tr>\n",
       "  </tbody>\n",
       "</table>\n",
       "<p>523063 rows × 6 columns</p>\n",
       "</div>"
      ],
      "text/plain": [
       "        search_rf_play_defensive_touchdown  search_rf_play_field_goal_made  \\\n",
       "0                                 0.001985                    2.118150e-07   \n",
       "1                                 0.002428                    6.785287e-06   \n",
       "2                                 0.004831                    5.230060e-06   \n",
       "3                                 0.001417                    3.634286e-06   \n",
       "4                                 0.002085                    1.254329e-05   \n",
       "...                                    ...                             ...   \n",
       "523058                            0.002267                    8.142821e-05   \n",
       "523059                            0.001914                    1.521764e-04   \n",
       "523060                            0.001978                    7.010172e-06   \n",
       "523061                            0.003169                    3.275785e-04   \n",
       "523062                            0.001792                    2.667090e-05   \n",
       "\n",
       "        search_rf_play_first_down  search_rf_play_none  \\\n",
       "0                        0.180415             0.795288   \n",
       "1                        0.273053             0.699233   \n",
       "2                        0.348653             0.605294   \n",
       "3                        0.188023             0.786307   \n",
       "4                        0.292889             0.676476   \n",
       "...                           ...                  ...   \n",
       "523058                   0.221391             0.747861   \n",
       "523059                   0.602674             0.358675   \n",
       "523060                   0.626609             0.328941   \n",
       "523061                   0.619333             0.322870   \n",
       "523062                   0.195416             0.777104   \n",
       "\n",
       "        search_rf_play_offensive_touchdown  search_rf_play_turnover  \n",
       "0                                 0.007304                 0.015007  \n",
       "1                                 0.007378                 0.017901  \n",
       "2                                 0.009271                 0.031946  \n",
       "3                                 0.009668                 0.014581  \n",
       "4                                 0.009845                 0.018692  \n",
       "...                                    ...                      ...  \n",
       "523058                            0.008911                 0.019488  \n",
       "523059                            0.017838                 0.018746  \n",
       "523060                            0.021520                 0.020944  \n",
       "523061                            0.022240                 0.032061  \n",
       "523062                            0.008276                 0.017385  \n",
       "\n",
       "[523063 rows x 6 columns]"
      ]
     },
     "execution_count": 47,
     "metadata": {},
     "output_type": "execute_result"
    }
   ],
   "source": [
    "x_view[search_rf_play_class_names]"
   ]
  },
  {
   "cell_type": "code",
   "execution_count": 52,
   "metadata": {},
   "outputs": [],
   "source": [
    "\n",
    "log_loss_scores = {\n",
    "    \"play_outcome\": {},\n",
    "    \"drive_outcome\": {},\n",
    "}\n",
    "output_name = \"play_outcome\"\n",
    "log_loss_scores[output_name][\"naive\"] = {\n",
    "    \"train\": log_loss(x_view[x_view[\"season\"]<2020][output_name], x_view[x_view[\"season\"]<2020][naive_play_class_names]),\n",
    "    \"val\": log_loss(x_view[x_view[\"season\"]==2020][output_name], x_view[x_view[\"season\"]==2020][naive_play_class_names]),\n",
    "}\n",
    "log_loss_scores[output_name][\"logit_basic\"] = {\n",
    "    \"train\": log_loss(x_view[x_view[\"season\"]<2020][output_name], x_view[x_view[\"season\"]<2020][logit_play_basic_class_names]),\n",
    "    \"val\": log_loss(x_view[x_view[\"season\"]==2020][output_name], x_view[x_view[\"season\"]==2020][logit_play_basic_class_names]),\n",
    "}\n",
    "log_loss_scores[output_name][\"logit_advanced\"] = {\n",
    "    \"train\": log_loss(x_view[x_view[\"season\"]<2020][output_name], x_view[x_view[\"season\"]<2020][logit_play_advanced_class_names]),\n",
    "    \"val\": log_loss(x_view[x_view[\"season\"]==2020][output_name], x_view[x_view[\"season\"]==2020][logit_play_advanced_class_names]),\n",
    "}\n",
    "log_loss_scores[output_name][\"mlp\"] = {\n",
    "    \"train\": log_loss(x_view[x_view[\"season\"]<2020][output_name], x_view[x_view[\"season\"]<2020][mlp_play_class_names]),\n",
    "    \"val\": log_loss(x_view[x_view[\"season\"]==2020][output_name], x_view[x_view[\"season\"]==2020][mlp_play_class_names]),\n",
    "}\n",
    "log_loss_scores[output_name][\"rf\"] = {\n",
    "    \"train\": log_loss(x_view[x_view[\"season\"]<2020][output_name], x_view[x_view[\"season\"]<2020][rf_play_class_names]),\n",
    "    \"val\": log_loss(x_view[x_view[\"season\"]==2020][output_name], x_view[x_view[\"season\"]==2020][rf_play_class_names]),\n",
    "}\n",
    "log_loss_scores[output_name][\"search_rf\"] = {\n",
    "    \"train\": log_loss(x_view[x_view[\"season\"]<2020][output_name], x_view[x_view[\"season\"]<2020][search_rf_play_class_names]),\n",
    "    \"val\": log_loss(x_view[x_view[\"season\"]==2020][output_name], x_view[x_view[\"season\"]==2020][search_rf_play_class_names]),\n",
    "}\n",
    "output_name = \"drive_outcome_desc_basic\"\n",
    "log_loss_scores[\"drive_outcome\"][\"naive\"] = {\n",
    "    \"train\": log_loss(x_view[x_view[\"season\"]<2020][output_name], x_view[x_view[\"season\"]<2020][naive_drive_class_names]),\n",
    "    \"val\": log_loss(x_view[x_view[\"season\"]==2020][output_name], x_view[x_view[\"season\"]==2020][naive_drive_class_names]),\n",
    "}\n",
    "log_loss_scores[\"drive_outcome\"][\"logit_basic\"] = {\n",
    "    \"train\": log_loss(x_view[x_view[\"season\"]<2020][output_name], x_view[x_view[\"season\"]<2020][logit_drive_basic_class_names]),\n",
    "    \"val\": log_loss(x_view[x_view[\"season\"]==2020][output_name], x_view[x_view[\"season\"]==2020][logit_drive_basic_class_names]),\n",
    "}\n",
    "log_loss_scores[\"drive_outcome\"][\"logit_advanced\"] = {\n",
    "    \"train\": log_loss(x_view[x_view[\"season\"]<2020][output_name], x_view[x_view[\"season\"]<2020][logit_drive_advanced_class_names]),\n",
    "    \"val\": log_loss(x_view[x_view[\"season\"]==2020][output_name], x_view[x_view[\"season\"]==2020][logit_drive_advanced_class_names]),\n",
    "}\n",
    "log_loss_scores[\"drive_outcome\"][\"mlp\"] = {\n",
    "    \"train\": log_loss(x_view[x_view[\"season\"]<2020][output_name], x_view[x_view[\"season\"]<2020][mlp_drive_class_names]),\n",
    "    \"val\": log_loss(x_view[x_view[\"season\"]==2020][output_name], x_view[x_view[\"season\"]==2020][mlp_drive_class_names]),\n",
    "}\n",
    "log_loss_scores[\"drive_outcome\"][\"rf\"] = {\n",
    "    \"train\": log_loss(x_view[x_view[\"season\"]<2020][output_name], x_view[x_view[\"season\"]<2020][rf_drive_class_names]),\n",
    "    \"val\": log_loss(x_view[x_view[\"season\"]==2020][output_name], x_view[x_view[\"season\"]==2020][rf_drive_class_names]),\n",
    "}\n",
    "log_loss_scores[\"play_outcomes_individual\"] = {\n",
    "    x: {\n",
    "        \"naive\": {\n",
    "            \"train\": log_loss(pd.get_dummies(x_view[\"play_outcome\"])[x_view.season<2020][x], x_view[x_view.season<2020][x + \"_naive\"]),\n",
    "            \"val\": log_loss(pd.get_dummies(x_view[\"play_outcome\"])[x_view.season==2020][x], x_view[x_view.season==2020][x + \"_naive\"]),\n",
    "        },\n",
    "        \"logit_basic\": {\n",
    "            \"train\": log_loss(pd.get_dummies(x_view[\"play_outcome\"])[x_view.season<2020][x], x_view[x_view.season<2020][\"logit_basic_play_\" + x]),\n",
    "            \"val\": log_loss(pd.get_dummies(x_view[\"play_outcome\"])[x_view.season==2020][x], x_view[x_view.season==2020][\"logit_basic_play_\" + x]),\n",
    "        },\n",
    "        \"logit_advanced\": {\n",
    "            \"train\": log_loss(pd.get_dummies(x_view[\"play_outcome\"])[x_view.season<2020][x], x_view[x_view.season<2020][\"logit_advanced_play_\" + x]),\n",
    "            \"val\": log_loss(pd.get_dummies(x_view[\"play_outcome\"])[x_view.season==2020][x], x_view[x_view.season==2020][\"logit_advanced_play_\" + x]),\n",
    "        },\n",
    "        \"mlp\": {\n",
    "            \"train\": log_loss(pd.get_dummies(x_view[\"play_outcome\"])[x_view.season<2020][x], x_view[x_view.season<2020][\"mlp_play_\" + x]),\n",
    "            \"val\": log_loss(pd.get_dummies(x_view[\"play_outcome\"])[x_view.season==2020][x], x_view[x_view.season==2020][\"mlp_play_\" + x]),\n",
    "        },\n",
    "        \"rf\": {\n",
    "            \"train\": log_loss(pd.get_dummies(x_view[\"play_outcome\"])[x_view.season<2020][x], x_view[x_view.season<2020][\"rf_play_\" + x]),\n",
    "            \"val\": log_loss(pd.get_dummies(x_view[\"play_outcome\"])[x_view.season==2020][x], x_view[x_view.season==2020][\"rf_play_\" + x]),\n",
    "        },        \n",
    "        \"search_rf\": {\n",
    "            \"train\": log_loss(pd.get_dummies(x_view[\"play_outcome\"])[x_view.season<2020][x], x_view[x_view.season<2020][\"search_rf_play_\" + x]),\n",
    "            \"val\": log_loss(pd.get_dummies(x_view[\"play_outcome\"])[x_view.season==2020][x], x_view[x_view.season==2020][\"search_rf_play_\" + x]),\n",
    "        },        \n",
    "    } for x in x_view[\"play_outcome\"].drop_duplicates().sort_values()\n",
    "}\n",
    "log_loss_scores[\"drive_outcomes_individual\"] = {\n",
    "    x: {\n",
    "        \"naive\": {\n",
    "            \"train\": log_loss(pd.get_dummies(x_view[\"drive_outcome_desc_basic\"])[x_view.season<2020][x], x_view[x_view.season<2020][x + \"_naive\"]),\n",
    "            \"val\": log_loss(pd.get_dummies(x_view[\"drive_outcome_desc_basic\"])[x_view.season==2020][x], x_view[x_view.season==2020][x + \"_naive\"]),\n",
    "        },\n",
    "        \"logit_basic\": {\n",
    "            \"train\": log_loss(pd.get_dummies(x_view[\"drive_outcome_desc_basic\"])[x_view.season<2020][x], x_view[x_view.season<2020][\"logit_basic_drive_\" + x]),\n",
    "            \"val\": log_loss(pd.get_dummies(x_view[\"drive_outcome_desc_basic\"])[x_view.season==2020][x], x_view[x_view.season==2020][\"logit_basic_drive_\" + x]),\n",
    "        },\n",
    "        \"logit_advanced\": {\n",
    "            \"train\": log_loss(pd.get_dummies(x_view[\"drive_outcome_desc_basic\"])[x_view.season<2020][x], x_view[x_view.season<2020][\"logit_advanced_drive_\" + x]),\n",
    "            \"val\": log_loss(pd.get_dummies(x_view[\"drive_outcome_desc_basic\"])[x_view.season==2020][x], x_view[x_view.season==2020][\"logit_advanced_drive_\" + x]),\n",
    "        },\n",
    "        \"mlp\": {\n",
    "            \"train\": log_loss(pd.get_dummies(x_view[\"drive_outcome_desc_basic\"])[x_view.season<2020][x], x_view[x_view.season<2020][\"mlp_drive_\" + x]),\n",
    "            \"val\": log_loss(pd.get_dummies(x_view[\"drive_outcome_desc_basic\"])[x_view.season==2020][x], x_view[x_view.season==2020][\"mlp_drive_\" + x]),\n",
    "        },\n",
    "        \"rf\": {\n",
    "            \"train\": log_loss(pd.get_dummies(x_view[\"drive_outcome_desc_basic\"])[x_view.season<2020][x], x_view[x_view.season<2020][\"rf_drive_\" + x]),\n",
    "            \"val\": log_loss(pd.get_dummies(x_view[\"drive_outcome_desc_basic\"])[x_view.season==2020][x], x_view[x_view.season==2020][\"rf_drive_\" + x]),\n",
    "        },        \n",
    "    } for x in x_view[\"drive_outcome_desc_basic\"].drop_duplicates().sort_values()\n",
    "}\n",
    "with open(os.path.join(data_dir, 'log_loss_scores_play_drive_predictions.json'), 'w') as f:\n",
    "    json.dump(log_loss_scores, f)\n"
   ]
  },
  {
   "cell_type": "code",
   "execution_count": 109,
   "metadata": {},
   "outputs": [],
   "source": [
    "brier_scores = {\n",
    "    \"play_outcomes_individual\": {},\n",
    "    \"drive_outcomes_individual\": {},\n",
    "}\n",
    "\n",
    "brier_scores[\"play_outcomes_individual\"] = {\n",
    "    x: {\n",
    "        \"naive\": {\n",
    "            \"train\": brier_score_loss(pd.get_dummies(x_view[\"play_outcome\"])[x_view.season<2020][x], x_view[x_view.season<2020][x + \"_naive\"]),\n",
    "            \"val\": brier_score_loss(pd.get_dummies(x_view[\"play_outcome\"])[x_view.season==2020][x], x_view[x_view.season==2020][x + \"_naive\"]),\n",
    "        },\n",
    "        \"logit_basic\": {\n",
    "            \"train\": brier_score_loss(pd.get_dummies(x_view[\"play_outcome\"])[x_view.season<2020][x], x_view[x_view.season<2020][\"logit_basic_play_\" + x]),\n",
    "            \"val\": brier_score_loss(pd.get_dummies(x_view[\"play_outcome\"])[x_view.season==2020][x], x_view[x_view.season==2020][\"logit_basic_play_\" + x]),\n",
    "        },\n",
    "        \"logit_advanced\": {\n",
    "            \"train\": brier_score_loss(pd.get_dummies(x_view[\"play_outcome\"])[x_view.season<2020][x], x_view[x_view.season<2020][\"logit_advanced_play_\" + x]),\n",
    "            \"val\": brier_score_loss(pd.get_dummies(x_view[\"play_outcome\"])[x_view.season==2020][x], x_view[x_view.season==2020][\"logit_advanced_play_\" + x]),\n",
    "        },\n",
    "        \"mlp\": {\n",
    "            \"train\": brier_score_loss(pd.get_dummies(x_view[\"play_outcome\"])[x_view.season<2020][x], x_view[x_view.season<2020][\"mlp_play_\" + x]),\n",
    "            \"val\": brier_score_loss(pd.get_dummies(x_view[\"play_outcome\"])[x_view.season==2020][x], x_view[x_view.season==2020][\"mlp_play_\" + x]),\n",
    "        },\n",
    "        \"rf\": {\n",
    "            \"train\": brier_score_loss(pd.get_dummies(x_view[\"play_outcome\"])[x_view.season<2020][x], x_view[x_view.season<2020][\"rf_play_\" + x]),\n",
    "            \"val\": brier_score_loss(pd.get_dummies(x_view[\"play_outcome\"])[x_view.season==2020][x], x_view[x_view.season==2020][\"rf_play_\" + x]),\n",
    "        },        \n",
    "    } for x in x_view[\"play_outcome\"].drop_duplicates().sort_values()\n",
    "}\n",
    "brier_scores[\"drive_outcomes_individual\"] = {\n",
    "    x: {\n",
    "        \"naive\": {\n",
    "            \"train\": brier_score_loss(pd.get_dummies(x_view[\"drive_outcome_desc_basic\"])[x_view.season<2020][x], x_view[x_view.season<2020][x + \"_naive\"]),\n",
    "            \"val\": brier_score_loss(pd.get_dummies(x_view[\"drive_outcome_desc_basic\"])[x_view.season==2020][x], x_view[x_view.season==2020][x + \"_naive\"]),\n",
    "        },\n",
    "        \"logit_basic\": {\n",
    "            \"train\": brier_score_loss(pd.get_dummies(x_view[\"drive_outcome_desc_basic\"])[x_view.season<2020][x], x_view[x_view.season<2020][\"logit_basic_drive_\" + x]),\n",
    "            \"val\": brier_score_loss(pd.get_dummies(x_view[\"drive_outcome_desc_basic\"])[x_view.season==2020][x], x_view[x_view.season==2020][\"logit_basic_drive_\" + x]),\n",
    "        },\n",
    "        \"logit_advanced\": {\n",
    "            \"train\": brier_score_loss(pd.get_dummies(x_view[\"drive_outcome_desc_basic\"])[x_view.season<2020][x], x_view[x_view.season<2020][\"logit_advanced_drive_\" + x]),\n",
    "            \"val\": brier_score_loss(pd.get_dummies(x_view[\"drive_outcome_desc_basic\"])[x_view.season==2020][x], x_view[x_view.season==2020][\"logit_advanced_drive_\" + x]),\n",
    "        },\n",
    "        \"mlp\": {\n",
    "            \"train\": brier_score_loss(pd.get_dummies(x_view[\"drive_outcome_desc_basic\"])[x_view.season<2020][x], x_view[x_view.season<2020][\"mlp_drive_\" + x]),\n",
    "            \"val\": brier_score_loss(pd.get_dummies(x_view[\"drive_outcome_desc_basic\"])[x_view.season==2020][x], x_view[x_view.season==2020][\"mlp_drive_\" + x]),\n",
    "        },\n",
    "        \"rf\": {\n",
    "            \"train\": brier_score_loss(pd.get_dummies(x_view[\"drive_outcome_desc_basic\"])[x_view.season<2020][x], x_view[x_view.season<2020][\"rf_drive_\" + x]),\n",
    "            \"val\": brier_score_loss(pd.get_dummies(x_view[\"drive_outcome_desc_basic\"])[x_view.season==2020][x], x_view[x_view.season==2020][\"rf_drive_\" + x]),\n",
    "        },        \n",
    "    } for x in x_view[\"drive_outcome_desc_basic\"].drop_duplicates().sort_values()\n",
    "}\n",
    "with open(os.path.join(data_dir, 'brier_scores_play_drive_predictions.json'), 'w') as f:\n",
    "    json.dump(brier_scores, f)\n",
    "\n"
   ]
  },
  {
   "cell_type": "code",
   "execution_count": null,
   "metadata": {},
   "outputs": [],
   "source": [
    "brier_scores[\"drive_outcomes_individual\"]"
   ]
  },
  {
   "cell_type": "code",
   "execution_count": 110,
   "metadata": {},
   "outputs": [
    {
     "data": {
      "text/plain": [
       "<matplotlib.legend.Legend at 0x7f7dc587bcd0>"
      ]
     },
     "execution_count": 110,
     "metadata": {},
     "output_type": "execute_result"
    },
    {
     "data": {
      "image/png": "[encoded data removed]",
      "text/plain": [
       "<Figure size 432x288 with 1 Axes>"
      ]
     },
     "metadata": {
      "needs_background": "light"
     },
     "output_type": "display_data"
    }
   ],
   "source": [
    "some_model_keys = [\"naive\", \"logit_basic\", \"logit_advanced\", \"mlp\", \"rf\"]\n",
    "width = 1 / len(some_model_keys) - .01\n",
    "play_outcome_bar = \"offensive_touchdown\"\n",
    "i=1\n",
    "for key in some_model_keys:\n",
    "    bar_positions = np.arange(len(log_loss_scores[\"play_outcome\"][key])) + i * width\n",
    "    plt.bar(bar_positions, log_loss_scores[\"play_outcome\"][key].values(), width=width)\n",
    "    i+=1\n",
    "plt.title(\"Log Loss Play Outcomes\")\n",
    "plt.xticks([width * i / 2, 1 + width * i / 2],[\"train\", \"val\"])\n",
    "# plt.xti()\n",
    "\n",
    "# bar_col+=1\n",
    "\n",
    "# fig.suptitle(\"Play Outcomes Log Loss Scores\")\n",
    "plt.legend(some_model_keys, loc=\"lower center\")\n",
    "\n"
   ]
  },
  {
   "cell_type": "code",
   "execution_count": 111,
   "metadata": {},
   "outputs": [
    {
     "data": {
      "text/plain": [
       "<matplotlib.legend.Legend at 0x7f7d7ccdad30>"
      ]
     },
     "execution_count": 111,
     "metadata": {},
     "output_type": "execute_result"
    },
    {
     "data": {
      "image/png": "[encoded data removed]",
      "text/plain": [
       "<Figure size 432x288 with 1 Axes>"
      ]
     },
     "metadata": {
      "needs_background": "light"
     },
     "output_type": "display_data"
    }
   ],
   "source": [
    "some_model_keys = [\"naive\", \"logit_basic\", \"logit_advanced\", \"mlp\", \"rf\"]\n",
    "width = 1 / len(some_model_keys) - .01\n",
    "i=1\n",
    "for key in some_model_keys:\n",
    "    bar_positions = np.arange(len(log_loss_scores[\"drive_outcome\"][key])) + i * width\n",
    "    plt.bar(bar_positions, log_loss_scores[\"drive_outcome\"][key].values(), width=width)\n",
    "    i+=1\n",
    "plt.title(\"Log Loss Drive Outcomes\")\n",
    "plt.xticks([width * i / 2, 1 + width * i / 2],[\"train\", \"val\"])\n",
    "# plt.xti()\n",
    "\n",
    "# bar_col+=1\n",
    "\n",
    "# fig.suptitle(\"Play Outcomes Log Loss Scores\")\n",
    "plt.legend(some_model_keys, loc=\"lower center\")\n",
    "\n"
   ]
  },
  {
   "cell_type": "code",
   "execution_count": 112,
   "metadata": {},
   "outputs": [
    {
     "data": {
      "text/plain": [
       "<matplotlib.legend.Legend at 0x7f7d7cefd7c0>"
      ]
     },
     "execution_count": 112,
     "metadata": {},
     "output_type": "execute_result"
    },
    {
     "data": {
      "image/png": "[encoded data removed]",
      "text/plain": [
       "<Figure size 1440x720 with 6 Axes>"
      ]
     },
     "metadata": {
      "needs_background": "light"
     },
     "output_type": "display_data"
    }
   ],
   "source": [
    "import math\n",
    "\n",
    "some_model_keys = [\"naive\", \"logit_basic\", \"logit_advanced\", \"mlp\", \"rf\"]\n",
    "width = 1 / len(some_model_keys) - .01\n",
    "play_outcome_bar = \"offensive_touchdown\"\n",
    "fig, ax = plt.subplots(2, math.ceil(len(log_loss_scores[\"play_outcomes_individual\"])/2), figsize=(20, 10))\n",
    "bar_col = 0\n",
    "bar_row = 0\n",
    "for play_outcome in log_loss_scores[\"play_outcomes_individual\"].keys():\n",
    "    i = 1\n",
    "    if bar_col == math.ceil(len(log_loss_scores[\"play_outcomes_individual\"])/2):\n",
    "        bar_row+=1\n",
    "        bar_col=0\n",
    "    for key in some_model_keys:\n",
    "        bar_positions = np.arange(len(log_loss_scores[\"play_outcomes_individual\"][play_outcome][key])) + i * width\n",
    "        ax[bar_row, bar_col].bar(bar_positions, log_loss_scores[\"play_outcomes_individual\"][play_outcome][key].values(), width=width)\n",
    "        i+=1\n",
    "    ax[bar_row, bar_col].set_title(play_outcome)\n",
    "    ax[bar_row, bar_col].set_xticks([width * i / 2, 1 + width * i / 2])\n",
    "    ax[bar_row, bar_col].set_xticklabels([\"train\", \"val\"])\n",
    "\n",
    "    bar_col+=1\n",
    "    \n",
    "fig.suptitle(\"Play Outcomes Log Loss Scores\")\n",
    "fig.legend(some_model_keys, loc=\"lower center\")\n",
    "\n"
   ]
  },
  {
   "cell_type": "code",
   "execution_count": 113,
   "metadata": {},
   "outputs": [
    {
     "data": {
      "text/plain": [
       "<matplotlib.legend.Legend at 0x7f7d7d8910d0>"
      ]
     },
     "execution_count": 113,
     "metadata": {},
     "output_type": "execute_result"
    },
    {
     "data": {
      "image/png": "[encoded data removed]",
      "text/plain": [
       "<Figure size 1440x720 with 6 Axes>"
      ]
     },
     "metadata": {
      "needs_background": "light"
     },
     "output_type": "display_data"
    }
   ],
   "source": [
    "import math\n",
    "\n",
    "some_model_keys = [\"naive\", \"mlp\", \"logit_basic\", \"logit_advanced\", \"rf\"]\n",
    "width = 1 / len(some_model_keys) - .01\n",
    "play_outcome_bar = \"offensive_touchdown\"\n",
    "fig, ax = plt.subplots(2, math.ceil(len(brier_scores[\"play_outcomes_individual\"])/2), figsize=(20, 10))\n",
    "bar_col = 0\n",
    "bar_row = 0\n",
    "for play_outcome in brier_scores[\"play_outcomes_individual\"].keys():\n",
    "    i = 1\n",
    "    if bar_col == math.ceil(len(brier_scores[\"play_outcomes_individual\"])/2):\n",
    "        bar_row+=1\n",
    "        bar_col=0\n",
    "    for key in some_model_keys:\n",
    "        bar_positions = np.arange(len(brier_scores[\"play_outcomes_individual\"][play_outcome][key])) + i * width\n",
    "        ax[bar_row, bar_col].bar(bar_positions, brier_scores[\"play_outcomes_individual\"][play_outcome][key].values(), width=width)\n",
    "        i+=1\n",
    "    ax[bar_row, bar_col].set_title(play_outcome)\n",
    "    ax[bar_row, bar_col].set_xticks([width * i / 2, 1 + width * i / 2])\n",
    "    ax[bar_row, bar_col].set_xticklabels([\"train\", \"val\"])\n",
    "\n",
    "    bar_col+=1\n",
    "# ax[0, 0].set_ylim([0.0014115, 0.001414])\n",
    "fig.suptitle(\"Play Outcomes Brier Scores\")\n",
    "fig.legend(some_model_keys, loc=\"lower center\")\n"
   ]
  },
  {
   "cell_type": "code",
   "execution_count": 114,
   "metadata": {},
   "outputs": [
    {
     "data": {
      "text/plain": [
       "<matplotlib.legend.Legend at 0x7f7d7e2182e0>"
      ]
     },
     "execution_count": 114,
     "metadata": {},
     "output_type": "execute_result"
    },
    {
     "data": {
      "image/png": "[encoded data removed]",
      "text/plain": [
       "<Figure size 1440x720 with 8 Axes>"
      ]
     },
     "metadata": {
      "needs_background": "light"
     },
     "output_type": "display_data"
    }
   ],
   "source": [
    "import math\n",
    "\n",
    "some_model_keys = [\"naive\", \"logit_basic\", \"logit_advanced\", \"mlp\", \"rf\"]\n",
    "width = 1 / len(some_model_keys) - .01\n",
    "drive_outcome_bar = \"offensive_touchdown\"\n",
    "fig, ax = plt.subplots(2, math.ceil(len(log_loss_scores[\"drive_outcomes_individual\"])/2), figsize=(20, 10))\n",
    "bar_col = 0\n",
    "bar_row = 0\n",
    "for drive_outcome in log_loss_scores[\"drive_outcomes_individual\"].keys():\n",
    "    i = 1\n",
    "    if bar_col == math.ceil(len(log_loss_scores[\"drive_outcomes_individual\"])/2):\n",
    "        bar_row+=1\n",
    "        bar_col=0\n",
    "    for key in some_model_keys:\n",
    "        bar_positions = np.arange(len(log_loss_scores[\"drive_outcomes_individual\"][drive_outcome][key])) + i * width\n",
    "        ax[bar_row, bar_col].bar(bar_positions, log_loss_scores[\"drive_outcomes_individual\"][drive_outcome][key].values(), width=width)\n",
    "        i+=1\n",
    "    ax[bar_row, bar_col].set_title(drive_outcome)\n",
    "    ax[bar_row, bar_col].set_xticks([width * i / 2, 1 + width * i / 2])\n",
    "    ax[bar_row, bar_col].set_xticklabels([\"train\", \"val\"])\n",
    "\n",
    "    bar_col+=1\n",
    "    \n",
    "fig.suptitle(\"Drive Outcomes Log Loss Scores\")\n",
    "fig.legend(some_model_keys, loc=\"lower center\")\n",
    "\n",
    "\n"
   ]
  },
  {
   "cell_type": "code",
   "execution_count": 115,
   "metadata": {},
   "outputs": [
    {
     "name": "stdout",
     "output_type": "stream",
     "text": [
      "5\n"
     ]
    },
    {
     "data": {
      "text/plain": [
       "<matplotlib.legend.Legend at 0x7f7d7e57fa30>"
      ]
     },
     "execution_count": 115,
     "metadata": {},
     "output_type": "execute_result"
    },
    {
     "data": {
      "image/png": "[encoded data removed]",
      "text/plain": [
       "<Figure size 1440x720 with 8 Axes>"
      ]
     },
     "metadata": {
      "needs_background": "light"
     },
     "output_type": "display_data"
    }
   ],
   "source": [
    "import math\n",
    "print(int(math.ceil(4.2)))\n",
    "some_model_keys = [\"naive\", \"logit_basic\", \"logit_advanced\", \"mlp\", \"rf\"]\n",
    "width = 1 / len(some_model_keys) - .01\n",
    "drive_outcome_bar = \"offensive_touchdown\"\n",
    "fig, ax = plt.subplots(2, math.ceil(len(brier_scores[\"drive_outcomes_individual\"])/2), figsize=(20, 10))\n",
    "bar_col = 0\n",
    "bar_row = 0\n",
    "for drive_outcome in brier_scores[\"drive_outcomes_individual\"].keys():\n",
    "    i = 1\n",
    "    if bar_col == math.ceil(len(brier_scores[\"drive_outcomes_individual\"])/2):\n",
    "        bar_row+=1\n",
    "        bar_col=0\n",
    "    for key in some_model_keys:\n",
    "        bar_positions = np.arange(len(brier_scores[\"drive_outcomes_individual\"][drive_outcome][key])) + i * width\n",
    "        ax[bar_row, bar_col].bar(bar_positions, brier_scores[\"drive_outcomes_individual\"][drive_outcome][key].values(), width=width)\n",
    "        i+=1\n",
    "    ax[bar_row, bar_col].set_title(drive_outcome)\n",
    "    ax[bar_row, bar_col].set_xticks([width * i / 2, 1 + width * i / 2])\n",
    "    ax[bar_row, bar_col].set_xticklabels([\"train\", \"val\"])\n",
    "\n",
    "    bar_col+=1\n",
    "    \n",
    "fig.suptitle(\"Drive Outcomes Brier Scores\")\n",
    "fig.legend(some_model_keys, loc=\"lower center\")\n",
    "\n"
   ]
  },
  {
   "cell_type": "code",
   "execution_count": 116,
   "metadata": {},
   "outputs": [
    {
     "data": {
      "text/plain": [
       "[<matplotlib.lines.Line2D at 0x7f7d4026e370>]"
      ]
     },
     "execution_count": 116,
     "metadata": {},
     "output_type": "execute_result"
    },
    {
     "data": {
      "image/png": "[encoded data removed]",
      "text/plain": [
       "<Figure size 432x288 with 1 Axes>"
      ]
     },
     "metadata": {
      "needs_background": "light"
     },
     "output_type": "display_data"
    }
   ],
   "source": [
    "output_name = \"play_outcome\"\n",
    "\n",
    "from sklearn.preprocessing import OneHotEncoder\n",
    "enc = OneHotEncoder()\n",
    "\n",
    "output_one_hot = enc.fit(x_view[[output_name]])\n",
    "\n",
    "x_view[enc.categories_[0]] = pd.DataFrame(enc.transform(x_view[[output_name]]).toarray(), columns=enc.categories_[0])\n",
    "\n",
    "calb_df = x_view[x_view[\"season\"]==2020]\n",
    "for x in enc.categories_[0]:\n",
    "    calb = calibration.calibration_curve(calb_df[x], calb_df[\"rf_play_\"+x], n_bins=10, strategy=\"quantile\")\n",
    "    plt.plot(calb[1], calb[0], marker = \"o\", label=x)\n",
    "\n",
    "\n",
    "plt.xlabel(\"predicted\")\n",
    "plt.ylabel(\"actual\")\n",
    "plt.legend()\n",
    "plt.plot([0, 1], [0, 1])"
   ]
  },
  {
   "cell_type": "code",
   "execution_count": 117,
   "metadata": {},
   "outputs": [
    {
     "data": {
      "text/plain": [
       "[<matplotlib.lines.Line2D at 0x7f7d402b9370>]"
      ]
     },
     "execution_count": 117,
     "metadata": {},
     "output_type": "execute_result"
    },
    {
     "data": {
      "image/png": "[encoded data removed]",
      "text/plain": [
       "<Figure size 432x288 with 1 Axes>"
      ]
     },
     "metadata": {
      "needs_background": "light"
     },
     "output_type": "display_data"
    }
   ],
   "source": [
    "output_name = \"play_outcome\"\n",
    "\n",
    "from sklearn.preprocessing import OneHotEncoder\n",
    "enc = OneHotEncoder()\n",
    "\n",
    "output_one_hot = enc.fit(x_view[[output_name]])\n",
    "\n",
    "x_view[enc.categories_[0]] = pd.DataFrame(enc.transform(x_view[[output_name]]).toarray(), columns=enc.categories_[0])\n",
    "\n",
    "calb_df = x_view[x_view[\"season\"]==2020]\n",
    "for x in enc.categories_[0]:\n",
    "    calb = calibration.calibration_curve(calb_df[x], calb_df[\"mlp_play_\"+x], n_bins=10, strategy=\"quantile\")\n",
    "    plt.plot(calb[1], calb[0], marker = \"o\", label=x)\n",
    "\n",
    "\n",
    "plt.xlabel(\"predicted\")\n",
    "plt.ylabel(\"actual\")\n",
    "plt.legend()\n",
    "plt.plot([0, 1], [0, 1])"
   ]
  },
  {
   "cell_type": "code",
   "execution_count": null,
   "metadata": {},
   "outputs": [],
   "source": [
    "output_name = \"drive_outcome_desc_basic\"\n",
    "\n",
    "from sklearn.preprocessing import OneHotEncoder\n",
    "enc = OneHotEncoder()\n",
    "\n",
    "output_one_hot = enc.fit(x_view[[output_name]])\n",
    "\n",
    "x_view[enc.categories_[0]] = pd.DataFrame(enc.transform(x_view[[output_name]]).toarray(), columns=enc.categories_[0])\n",
    "\n",
    "calb_df = x_view[x_view[\"season\"]<2020]\n",
    "for x in enc.categories_[0]:\n",
    "    calb = calibration.calibration_curve(calb_df[x], calb_df[\"rf_drive_\"+x], n_bins=5, strategy=\"quantile\")\n",
    "    plt.plot(calb[1], calb[0], marker = \"o\", label=x)\n",
    "\n",
    "\n",
    "plt.xlabel(\"predicted\")\n",
    "plt.ylabel(\"actual\")\n",
    "plt.legend()\n",
    "plt.plot([0, 1], [0, 1])"
   ]
  },
  {
   "cell_type": "code",
   "execution_count": 121,
   "metadata": {},
   "outputs": [
    {
     "data": {
      "text/plain": [
       "[<matplotlib.lines.Line2D at 0x7f802f2c8940>]"
      ]
     },
     "execution_count": 121,
     "metadata": {},
     "output_type": "execute_result"
    },
    {
     "data": {
      "image/png": "[encoded data removed]",
      "text/plain": [
       "<Figure size 432x288 with 1 Axes>"
      ]
     },
     "metadata": {
      "needs_background": "light"
     },
     "output_type": "display_data"
    }
   ],
   "source": [
    "output_name = \"play_outcome\"\n",
    "\n",
    "from sklearn.preprocessing import OneHotEncoder\n",
    "enc = OneHotEncoder()\n",
    "\n",
    "output_one_hot = enc.fit(x_view[[output_name]])\n",
    "\n",
    "x_view[enc.categories_[0]] = pd.DataFrame(enc.transform(x_view[[output_name]]).toarray(), columns=enc.categories_[0])\n",
    "\n",
    "calb_df = x_view[x_view[\"season\"]==2020]\n",
    "for x in enc.categories_[0]:\n",
    "    calb = calibration.calibration_curve(calb_df[x], calb_df[\"logit_basic_play_\"+x], n_bins=10, strategy=\"quantile\")\n",
    "    plt.plot(calb[1], calb[0], marker = \"o\", label=x)\n",
    "\n",
    "\n",
    "plt.xlabel(\"predicted\")\n",
    "plt.ylabel(\"actual\")\n",
    "plt.legend()\n",
    "plt.plot([0, 1], [0, 1])"
   ]
  },
  {
   "cell_type": "code",
   "execution_count": 122,
   "metadata": {},
   "outputs": [
    {
     "data": {
      "text/plain": [
       "[<matplotlib.lines.Line2D at 0x7f7d3f50ae20>]"
      ]
     },
     "execution_count": 122,
     "metadata": {},
     "output_type": "execute_result"
    },
    {
     "data": {
      "image/png": "[encoded data removed]",
      "text/plain": [
       "<Figure size 432x288 with 1 Axes>"
      ]
     },
     "metadata": {
      "needs_background": "light"
     },
     "output_type": "display_data"
    }
   ],
   "source": [
    "output_name = \"play_outcome\"\n",
    "\n",
    "from sklearn.preprocessing import OneHotEncoder\n",
    "enc = OneHotEncoder()\n",
    "\n",
    "output_one_hot = enc.fit(x_view[[output_name]])\n",
    "\n",
    "x_view[enc.categories_[0]] = pd.DataFrame(enc.transform(x_view[[output_name]]).toarray(), columns=enc.categories_[0])\n",
    "\n",
    "calb_df = x_view[x_view[\"season\"]==2020]\n",
    "for x in enc.categories_[0]:\n",
    "    calb = calibration.calibration_curve(calb_df[x], calb_df[\"logit_advanced_play_\"+x], n_bins=10, strategy=\"quantile\")\n",
    "    plt.plot(calb[1], calb[0], marker = \"o\", label=x)\n",
    "\n",
    "\n",
    "plt.xlabel(\"predicted\")\n",
    "plt.ylabel(\"actual\")\n",
    "plt.legend()\n",
    "plt.plot([0, 1], [0, 1])"
   ]
  },
  {
   "cell_type": "code",
   "execution_count": 128,
   "metadata": {},
   "outputs": [
    {
     "data": {
      "text/plain": [
       "[<matplotlib.lines.Line2D at 0x7f7d2783b6a0>]"
      ]
     },
     "execution_count": 128,
     "metadata": {},
     "output_type": "execute_result"
    },
    {
     "data": {
      "image/png": "[encoded data removed]",
      "text/plain": [
       "<Figure size 432x288 with 1 Axes>"
      ]
     },
     "metadata": {
      "needs_background": "light"
     },
     "output_type": "display_data"
    }
   ],
   "source": [
    "output_name = \"drive_outcome_desc_basic\"\n",
    "\n",
    "from sklearn.preprocessing import OneHotEncoder\n",
    "enc = OneHotEncoder()\n",
    "\n",
    "output_one_hot = enc.fit(x_view[[output_name]])\n",
    "\n",
    "x_view[enc.categories_[0]] = pd.DataFrame(enc.transform(x_view[[output_name]]).toarray(), columns=enc.categories_[0])\n",
    "\n",
    "calb_df = x_view[x_view[\"season\"]==2020]\n",
    "for x in enc.categories_[0]:\n",
    "    calb = calibration.calibration_curve(calb_df[x], calb_df[\"logit_basic_drive_\"+x], n_bins=5, strategy=\"quantile\")\n",
    "    plt.plot(calb[1], calb[0], marker = \"o\", label=x)\n",
    "\n",
    "\n",
    "plt.xlabel(\"predicted\")\n",
    "plt.ylabel(\"actual\")\n",
    "plt.legend()\n",
    "plt.plot([0, 1], [0, 1])"
   ]
  },
  {
   "cell_type": "code",
   "execution_count": 129,
   "metadata": {},
   "outputs": [
    {
     "data": {
      "text/plain": [
       "[<matplotlib.lines.Line2D at 0x7f7d253bd940>]"
      ]
     },
     "execution_count": 129,
     "metadata": {},
     "output_type": "execute_result"
    },
    {
     "data": {
      "image/png": "[encoded data removed]",
      "text/plain": [
       "<Figure size 432x288 with 1 Axes>"
      ]
     },
     "metadata": {
      "needs_background": "light"
     },
     "output_type": "display_data"
    }
   ],
   "source": [
    "output_name = \"drive_outcome_desc_basic\"\n",
    "\n",
    "from sklearn.preprocessing import OneHotEncoder\n",
    "enc = OneHotEncoder()\n",
    "\n",
    "output_one_hot = enc.fit(x_view[[output_name]])\n",
    "\n",
    "x_view[enc.categories_[0]] = pd.DataFrame(enc.transform(x_view[[output_name]]).toarray(), columns=enc.categories_[0])\n",
    "\n",
    "calb_df = x_view[x_view[\"season\"]==2020]\n",
    "for x in enc.categories_[0]:\n",
    "    calb = calibration.calibration_curve(calb_df[x], calb_df[\"logit_advanced_drive_\"+x], n_bins=5, strategy=\"quantile\")\n",
    "    plt.plot(calb[1], calb[0], marker = \"o\", label=x)\n",
    "\n",
    "\n",
    "plt.xlabel(\"predicted\")\n",
    "plt.ylabel(\"actual\")\n",
    "plt.legend()\n",
    "plt.plot([0, 1], [0, 1])"
   ]
  },
  {
   "cell_type": "code",
   "execution_count": 123,
   "metadata": {},
   "outputs": [
    {
     "data": {
      "text/plain": [
       "[<matplotlib.lines.Line2D at 0x7f7d24a91e50>]"
      ]
     },
     "execution_count": 123,
     "metadata": {},
     "output_type": "execute_result"
    },
    {
     "data": {
      "image/png": "[encoded data removed]",
      "text/plain": [
       "<Figure size 432x288 with 1 Axes>"
      ]
     },
     "metadata": {
      "needs_background": "light"
     },
     "output_type": "display_data"
    }
   ],
   "source": [
    "output_name = \"drive_outcome_desc_basic\"\n",
    "\n",
    "from sklearn.preprocessing import OneHotEncoder\n",
    "enc = OneHotEncoder()\n",
    "\n",
    "output_one_hot = enc.fit(x_view[[output_name]])\n",
    "\n",
    "x_view[enc.categories_[0]] = pd.DataFrame(enc.transform(x_view[[output_name]]).toarray(), columns=enc.categories_[0])\n",
    "\n",
    "calb_df = x_view[x_view[\"season\"]==2020]\n",
    "for x in enc.categories_[0]:\n",
    "    calb = calibration.calibration_curve(calb_df[x], calb_df[\"mlp_drive_\"+x], n_bins=5, strategy=\"quantile\")\n",
    "    plt.plot(calb[1], calb[0], marker = \"o\", label=x)\n",
    "\n",
    "\n",
    "plt.xlabel(\"predicted\")\n",
    "plt.ylabel(\"actual\")\n",
    "plt.legend()\n",
    "plt.plot([0, 1], [0, 1])"
   ]
  },
  {
   "cell_type": "code",
   "execution_count": 130,
   "metadata": {},
   "outputs": [
    {
     "ename": "ValueError",
     "evalue": "Input contains NaN, infinity or a value too large for dtype('float32').",
     "output_type": "error",
     "traceback": [
      "\u001b[0;31m---------------------------------------------------------------------------\u001b[0m",
      "\u001b[0;31mValueError\u001b[0m                                Traceback (most recent call last)",
      "\u001b[0;32m/var/folders/dq/tcxv3s4j7y585_4jhfbdvrx00000gn/T/ipykernel_65739/3642989655.py\u001b[0m in \u001b[0;36m<module>\u001b[0;34m\u001b[0m\n\u001b[0;32m----> 1\u001b[0;31m \u001b[0mpred_output_rf_play\u001b[0m \u001b[0;34m=\u001b[0m \u001b[0mrf_play_outcome\u001b[0m\u001b[0;34m.\u001b[0m\u001b[0mpredict_proba\u001b[0m\u001b[0;34m(\u001b[0m\u001b[0mpd\u001b[0m\u001b[0;34m.\u001b[0m\u001b[0mDataFrame\u001b[0m\u001b[0;34m(\u001b[0m\u001b[0mX_train\u001b[0m\u001b[0;34m.\u001b[0m\u001b[0miloc\u001b[0m\u001b[0;34m[\u001b[0m\u001b[0;36m0\u001b[0m\u001b[0;34m:\u001b[0m\u001b[0;36m1\u001b[0m\u001b[0;34m,\u001b[0m \u001b[0;34m:\u001b[0m\u001b[0;34m]\u001b[0m\u001b[0;34m,\u001b[0m \u001b[0mcolumns\u001b[0m \u001b[0;34m=\u001b[0m \u001b[0minput_names\u001b[0m\u001b[0;34m)\u001b[0m\u001b[0;34m)\u001b[0m\u001b[0;34m\u001b[0m\u001b[0;34m\u001b[0m\u001b[0m\n\u001b[0m\u001b[1;32m      2\u001b[0m \u001b[0;34m[\u001b[0m\u001b[0mround\u001b[0m\u001b[0;34m(\u001b[0m\u001b[0mx\u001b[0m\u001b[0;34m,\u001b[0m \u001b[0;36m4\u001b[0m\u001b[0;34m)\u001b[0m \u001b[0;32mfor\u001b[0m \u001b[0mx\u001b[0m \u001b[0;32min\u001b[0m \u001b[0mpred_output_rf_play\u001b[0m\u001b[0;34m[\u001b[0m\u001b[0;36m0\u001b[0m\u001b[0;34m]\u001b[0m\u001b[0;34m]\u001b[0m\u001b[0;34m\u001b[0m\u001b[0;34m\u001b[0m\u001b[0m\n\u001b[1;32m      3\u001b[0m \u001b[0mnp\u001b[0m\u001b[0;34m.\u001b[0m\u001b[0marray\u001b[0m\u001b[0;34m(\u001b[0m\u001b[0;34m[\u001b[0m\u001b[0mround\u001b[0m\u001b[0;34m(\u001b[0m\u001b[0mx\u001b[0m\u001b[0;34m,\u001b[0m \u001b[0;36m4\u001b[0m\u001b[0;34m)\u001b[0m \u001b[0;32mfor\u001b[0m \u001b[0mx\u001b[0m \u001b[0;32min\u001b[0m \u001b[0mpred_output_rf_play\u001b[0m\u001b[0;34m[\u001b[0m\u001b[0;36m0\u001b[0m\u001b[0;34m]\u001b[0m\u001b[0;34m]\u001b[0m\u001b[0;34m)\u001b[0m\u001b[0;34m\u001b[0m\u001b[0;34m\u001b[0m\u001b[0m\n\u001b[1;32m      4\u001b[0m \u001b[0mpd\u001b[0m\u001b[0;34m.\u001b[0m\u001b[0mDataFrame\u001b[0m\u001b[0;34m(\u001b[0m\u001b[0;34m[\u001b[0m\u001b[0;34m[\u001b[0m\u001b[0mround\u001b[0m\u001b[0;34m(\u001b[0m\u001b[0mx\u001b[0m\u001b[0;34m,\u001b[0m \u001b[0;36m4\u001b[0m\u001b[0;34m)\u001b[0m \u001b[0;32mfor\u001b[0m \u001b[0mx\u001b[0m \u001b[0;32min\u001b[0m \u001b[0mpred_output_rf_play\u001b[0m\u001b[0;34m[\u001b[0m\u001b[0;36m0\u001b[0m\u001b[0;34m]\u001b[0m\u001b[0;34m]\u001b[0m\u001b[0;34m]\u001b[0m\u001b[0;34m,\u001b[0m \u001b[0mcolumns\u001b[0m\u001b[0;34m=\u001b[0m\u001b[0mmlp_play_outcome\u001b[0m\u001b[0;34m.\u001b[0m\u001b[0mclasses_\u001b[0m\u001b[0;34m)\u001b[0m\u001b[0;34m\u001b[0m\u001b[0;34m\u001b[0m\u001b[0m\n",
      "\u001b[0;32m~/Documents/GitHub/nfl-live-win-probability/venv/lib/python3.9/site-packages/sklearn/ensemble/_forest.py\u001b[0m in \u001b[0;36mpredict_proba\u001b[0;34m(self, X)\u001b[0m\n\u001b[1;32m    838\u001b[0m         \u001b[0mcheck_is_fitted\u001b[0m\u001b[0;34m(\u001b[0m\u001b[0mself\u001b[0m\u001b[0;34m)\u001b[0m\u001b[0;34m\u001b[0m\u001b[0;34m\u001b[0m\u001b[0m\n\u001b[1;32m    839\u001b[0m         \u001b[0;31m# Check data\u001b[0m\u001b[0;34m\u001b[0m\u001b[0;34m\u001b[0m\u001b[0;34m\u001b[0m\u001b[0m\n\u001b[0;32m--> 840\u001b[0;31m         \u001b[0mX\u001b[0m \u001b[0;34m=\u001b[0m \u001b[0mself\u001b[0m\u001b[0;34m.\u001b[0m\u001b[0m_validate_X_predict\u001b[0m\u001b[0;34m(\u001b[0m\u001b[0mX\u001b[0m\u001b[0;34m)\u001b[0m\u001b[0;34m\u001b[0m\u001b[0;34m\u001b[0m\u001b[0m\n\u001b[0m\u001b[1;32m    841\u001b[0m \u001b[0;34m\u001b[0m\u001b[0m\n\u001b[1;32m    842\u001b[0m         \u001b[0;31m# Assign chunk of trees to jobs\u001b[0m\u001b[0;34m\u001b[0m\u001b[0;34m\u001b[0m\u001b[0;34m\u001b[0m\u001b[0m\n",
      "\u001b[0;32m~/Documents/GitHub/nfl-live-win-probability/venv/lib/python3.9/site-packages/sklearn/ensemble/_forest.py\u001b[0m in \u001b[0;36m_validate_X_predict\u001b[0;34m(self, X)\u001b[0m\n\u001b[1;32m    567\u001b[0m         Validate X whenever one tries to predict, apply, predict_proba.\"\"\"\n\u001b[1;32m    568\u001b[0m         \u001b[0mcheck_is_fitted\u001b[0m\u001b[0;34m(\u001b[0m\u001b[0mself\u001b[0m\u001b[0;34m)\u001b[0m\u001b[0;34m\u001b[0m\u001b[0;34m\u001b[0m\u001b[0m\n\u001b[0;32m--> 569\u001b[0;31m         \u001b[0mX\u001b[0m \u001b[0;34m=\u001b[0m \u001b[0mself\u001b[0m\u001b[0;34m.\u001b[0m\u001b[0m_validate_data\u001b[0m\u001b[0;34m(\u001b[0m\u001b[0mX\u001b[0m\u001b[0;34m,\u001b[0m \u001b[0mdtype\u001b[0m\u001b[0;34m=\u001b[0m\u001b[0mDTYPE\u001b[0m\u001b[0;34m,\u001b[0m \u001b[0maccept_sparse\u001b[0m\u001b[0;34m=\u001b[0m\u001b[0;34m\"csr\"\u001b[0m\u001b[0;34m,\u001b[0m \u001b[0mreset\u001b[0m\u001b[0;34m=\u001b[0m\u001b[0;32mFalse\u001b[0m\u001b[0;34m)\u001b[0m\u001b[0;34m\u001b[0m\u001b[0;34m\u001b[0m\u001b[0m\n\u001b[0m\u001b[1;32m    570\u001b[0m         \u001b[0;32mif\u001b[0m \u001b[0missparse\u001b[0m\u001b[0;34m(\u001b[0m\u001b[0mX\u001b[0m\u001b[0;34m)\u001b[0m \u001b[0;32mand\u001b[0m \u001b[0;34m(\u001b[0m\u001b[0mX\u001b[0m\u001b[0;34m.\u001b[0m\u001b[0mindices\u001b[0m\u001b[0;34m.\u001b[0m\u001b[0mdtype\u001b[0m \u001b[0;34m!=\u001b[0m \u001b[0mnp\u001b[0m\u001b[0;34m.\u001b[0m\u001b[0mintc\u001b[0m \u001b[0;32mor\u001b[0m \u001b[0mX\u001b[0m\u001b[0;34m.\u001b[0m\u001b[0mindptr\u001b[0m\u001b[0;34m.\u001b[0m\u001b[0mdtype\u001b[0m \u001b[0;34m!=\u001b[0m \u001b[0mnp\u001b[0m\u001b[0;34m.\u001b[0m\u001b[0mintc\u001b[0m\u001b[0;34m)\u001b[0m\u001b[0;34m:\u001b[0m\u001b[0;34m\u001b[0m\u001b[0;34m\u001b[0m\u001b[0m\n\u001b[1;32m    571\u001b[0m             \u001b[0;32mraise\u001b[0m \u001b[0mValueError\u001b[0m\u001b[0;34m(\u001b[0m\u001b[0;34m\"No support for np.int64 index based sparse matrices\"\u001b[0m\u001b[0;34m)\u001b[0m\u001b[0;34m\u001b[0m\u001b[0;34m\u001b[0m\u001b[0m\n",
      "\u001b[0;32m~/Documents/GitHub/nfl-live-win-probability/venv/lib/python3.9/site-packages/sklearn/base.py\u001b[0m in \u001b[0;36m_validate_data\u001b[0;34m(self, X, y, reset, validate_separately, **check_params)\u001b[0m\n\u001b[1;32m    559\u001b[0m             \u001b[0;32mraise\u001b[0m \u001b[0mValueError\u001b[0m\u001b[0;34m(\u001b[0m\u001b[0;34m\"Validation should be done on X, y or both.\"\u001b[0m\u001b[0;34m)\u001b[0m\u001b[0;34m\u001b[0m\u001b[0;34m\u001b[0m\u001b[0m\n\u001b[1;32m    560\u001b[0m         \u001b[0;32melif\u001b[0m \u001b[0;32mnot\u001b[0m \u001b[0mno_val_X\u001b[0m \u001b[0;32mand\u001b[0m \u001b[0mno_val_y\u001b[0m\u001b[0;34m:\u001b[0m\u001b[0;34m\u001b[0m\u001b[0;34m\u001b[0m\u001b[0m\n\u001b[0;32m--> 561\u001b[0;31m             \u001b[0mX\u001b[0m \u001b[0;34m=\u001b[0m \u001b[0mcheck_array\u001b[0m\u001b[0;34m(\u001b[0m\u001b[0mX\u001b[0m\u001b[0;34m,\u001b[0m \u001b[0;34m**\u001b[0m\u001b[0mcheck_params\u001b[0m\u001b[0;34m)\u001b[0m\u001b[0;34m\u001b[0m\u001b[0;34m\u001b[0m\u001b[0m\n\u001b[0m\u001b[1;32m    562\u001b[0m             \u001b[0mout\u001b[0m \u001b[0;34m=\u001b[0m \u001b[0mX\u001b[0m\u001b[0;34m\u001b[0m\u001b[0;34m\u001b[0m\u001b[0m\n\u001b[1;32m    563\u001b[0m         \u001b[0;32melif\u001b[0m \u001b[0mno_val_X\u001b[0m \u001b[0;32mand\u001b[0m \u001b[0;32mnot\u001b[0m \u001b[0mno_val_y\u001b[0m\u001b[0;34m:\u001b[0m\u001b[0;34m\u001b[0m\u001b[0;34m\u001b[0m\u001b[0m\n",
      "\u001b[0;32m~/Documents/GitHub/nfl-live-win-probability/venv/lib/python3.9/site-packages/sklearn/utils/validation.py\u001b[0m in \u001b[0;36mcheck_array\u001b[0;34m(array, accept_sparse, accept_large_sparse, dtype, order, copy, force_all_finite, ensure_2d, allow_nd, ensure_min_samples, ensure_min_features, estimator)\u001b[0m\n\u001b[1;32m    790\u001b[0m \u001b[0;34m\u001b[0m\u001b[0m\n\u001b[1;32m    791\u001b[0m         \u001b[0;32mif\u001b[0m \u001b[0mforce_all_finite\u001b[0m\u001b[0;34m:\u001b[0m\u001b[0;34m\u001b[0m\u001b[0;34m\u001b[0m\u001b[0m\n\u001b[0;32m--> 792\u001b[0;31m             \u001b[0m_assert_all_finite\u001b[0m\u001b[0;34m(\u001b[0m\u001b[0marray\u001b[0m\u001b[0;34m,\u001b[0m \u001b[0mallow_nan\u001b[0m\u001b[0;34m=\u001b[0m\u001b[0mforce_all_finite\u001b[0m \u001b[0;34m==\u001b[0m \u001b[0;34m\"allow-nan\"\u001b[0m\u001b[0;34m)\u001b[0m\u001b[0;34m\u001b[0m\u001b[0;34m\u001b[0m\u001b[0m\n\u001b[0m\u001b[1;32m    793\u001b[0m \u001b[0;34m\u001b[0m\u001b[0m\n\u001b[1;32m    794\u001b[0m     \u001b[0;32mif\u001b[0m \u001b[0mensure_min_samples\u001b[0m \u001b[0;34m>\u001b[0m \u001b[0;36m0\u001b[0m\u001b[0;34m:\u001b[0m\u001b[0;34m\u001b[0m\u001b[0;34m\u001b[0m\u001b[0m\n",
      "\u001b[0;32m~/Documents/GitHub/nfl-live-win-probability/venv/lib/python3.9/site-packages/sklearn/utils/validation.py\u001b[0m in \u001b[0;36m_assert_all_finite\u001b[0;34m(X, allow_nan, msg_dtype)\u001b[0m\n\u001b[1;32m    112\u001b[0m         ):\n\u001b[1;32m    113\u001b[0m             \u001b[0mtype_err\u001b[0m \u001b[0;34m=\u001b[0m \u001b[0;34m\"infinity\"\u001b[0m \u001b[0;32mif\u001b[0m \u001b[0mallow_nan\u001b[0m \u001b[0;32melse\u001b[0m \u001b[0;34m\"NaN, infinity\"\u001b[0m\u001b[0;34m\u001b[0m\u001b[0;34m\u001b[0m\u001b[0m\n\u001b[0;32m--> 114\u001b[0;31m             raise ValueError(\n\u001b[0m\u001b[1;32m    115\u001b[0m                 msg_err.format(\n\u001b[1;32m    116\u001b[0m                     \u001b[0mtype_err\u001b[0m\u001b[0;34m,\u001b[0m \u001b[0mmsg_dtype\u001b[0m \u001b[0;32mif\u001b[0m \u001b[0mmsg_dtype\u001b[0m \u001b[0;32mis\u001b[0m \u001b[0;32mnot\u001b[0m \u001b[0;32mNone\u001b[0m \u001b[0;32melse\u001b[0m \u001b[0mX\u001b[0m\u001b[0;34m.\u001b[0m\u001b[0mdtype\u001b[0m\u001b[0;34m\u001b[0m\u001b[0;34m\u001b[0m\u001b[0m\n",
      "\u001b[0;31mValueError\u001b[0m: Input contains NaN, infinity or a value too large for dtype('float32')."
     ]
    }
   ],
   "source": [
    "pred_output_rf_play = rf_play_outcome.predict_proba(pd.DataFrame(X_train.iloc[0:1, :], columns = input_names))\n",
    "[round(x, 4) for x in pred_output_rf_play[0]]\n",
    "np.array([round(x, 4) for x in pred_output_rf_play[0]])\n",
    "pd.DataFrame([[round(x, 4) for x in pred_output_rf_play[0]]], columns=mlp_play_outcome.classes_)"
   ]
  },
  {
   "cell_type": "code",
   "execution_count": null,
   "metadata": {},
   "outputs": [],
   "source": [
    "input_names_advanced"
   ]
  },
  {
   "cell_type": "code",
   "execution_count": 139,
   "metadata": {},
   "outputs": [
    {
     "data": {
      "application/vnd.jupyter.widget-view+json": {
       "model_id": "f7e1b3e45e53479b807e66129e8995fe",
       "version_major": 2,
       "version_minor": 0
      },
      "text/plain": [
       "interactive(children=(IntSlider(value=30, description='time_left_in_half', layout=Layout(width='450px'), max=3…"
      ]
     },
     "metadata": {},
     "output_type": "display_data"
    }
   ],
   "source": [
    "from ipywidgets import interact, interactive, fixed, interact_manual, Layout\n",
    "rf_drive_outcome.verbose=0\n",
    "rf_play_outcome.verbose=0\n",
    "\n",
    "def plot_model_probabilities(model, input_feature, input_feature_advance):\n",
    "    fig, axs = plt.subplots(1, 1, figsize=(15,5)) \n",
    "    pred_output_logit_basic_play = logit_play_outcome_basic.predict_proba(pd.DataFrame(input_feature, columns = input_names))\n",
    "    pred_output_logit_advanced_play = logit_play_outcome_advanced.predict_proba(pd.DataFrame(input_feature_advance, columns = input_names_advanced))\n",
    "    pred_output_logit_basic_drive = logit_drive_outcome_basic.predict_proba(pd.DataFrame(input_feature, columns = input_names))\n",
    "    pred_output_logit_advanced_drive = logit_drive_outcome_advanced.predict_proba(pd.DataFrame(input_feature_advance, columns = input_names_advanced))\n",
    "    pred_output_mlp_play = mlp_play_outcome.predict_proba(pd.DataFrame(input_feature, columns = input_names))\n",
    "    pred_output_mlp_drive = mlp_drive_outcome.predict_proba(pd.DataFrame(input_feature, columns = input_names))\n",
    "    pred_output_rf_play = rf_play_outcome.predict_proba(pd.DataFrame(input_feature, columns = input_names))\n",
    "    pred_output_rf_drive = rf_drive_outcome.predict_proba(pd.DataFrame(input_feature, columns = input_names))\n",
    "    # print(pd.DataFrame(input_feature, columns = input_names))\n",
    "    if model == \"mlp_play\":\n",
    "        # np.set_printoptions(suppress=True,linewidth=np.nan)\n",
    "        # print(pd.DataFrame([[round(x, 6) for x in pred_output_mlp_play[0]]], columns=mlp_play_outcome.classes_).T)\n",
    "        axs.bar(mlp_play_outcome.classes_, pred_output_mlp_play[0])\n",
    "    elif model == \"rf_play\":\n",
    "        # print(pd.DataFrame([[round(x, 6) for x in pred_output_rf_play[0]]], columns=rf_play_outcome.classes_).T)\n",
    "        axs.bar(rf_play_outcome.classes_, pred_output_rf_play[0])\n",
    "    elif model == \"logit_basic_play\":\n",
    "        # print(pd.DataFrame([[round(x, 6) for x in pred_output_logit_basic_play[0]]], columns=logit_play_outcome_basic.classes_).T)\n",
    "        axs.bar(logit_play_outcome_basic.classes_, pred_output_logit_basic_play[0])\n",
    "    elif model == \"logit_basic_drive\":\n",
    "        # print(pd.DataFrame([[round(x, 6) for x in pred_output_logit_basic_drive[0]]], columns=logit_drive_outcome_basic.classes_).T)\n",
    "        axs.bar(logit_drive_outcome_basic.classes_, pred_output_logit_basic_drive[0])\n",
    "    elif model == \"logit_advanced_play\":\n",
    "        # print(pd.DataFrame([[round(x, 6) for x in pred_output_logit_advanced_play[0]]], columns=logit_play_outcome_advanced.classes_).T)\n",
    "        axs.bar(logit_play_outcome_advanced.classes_, pred_output_logit_advanced_play[0])\n",
    "    elif model == \"logit_advanced_drive\":\n",
    "        # print(pd.DataFrame([[round(x, 6) for x in pred_output_logit_advanced_drive[0]]], columns=logit_drive_outcome_advanced.classes_).T)\n",
    "        axs.bar(logit_drive_outcome_advanced.classes_, pred_output_logit_advanced_drive[0])\n",
    "    elif model == \"mlp_drive\":\n",
    "        # print(pd.DataFrame([[round(x, 6) for x in pred_output_mlp_drive[0]]], columns=mlp_drive_outcome.classes_))\n",
    "        axs.bar(mlp_drive_outcome.classes_, pred_output_mlp_drive[0])\n",
    "    elif model == \"rf_drive\":\n",
    "        # print(pd.DataFrame([[round(x, 6) for x in pred_output_rf_drive[0]]], columns=rf_drive_outcome.classes_))\n",
    "        axs.bar(rf_drive_outcome.classes_, pred_output_rf_drive[0])\n",
    "\n",
    "    play_outcome_matrix = pd.concat([\n",
    "        pd.DataFrame([[round(x, 6) for x in pred_output_logit_basic_play[0]]], columns=logit_play_outcome_basic.classes_, index=[\"logit_basic\"]).T,\n",
    "        pd.DataFrame([[round(x, 6) for x in pred_output_logit_advanced_play[0]]], columns=logit_play_outcome_advanced.classes_, index=[\"logit_advanced\"]).T,\n",
    "        pd.DataFrame([[round(x, 6) for x in pred_output_mlp_play[0]]], columns=mlp_play_outcome.classes_, index=[\"mlp\"]).T,\n",
    "        pd.DataFrame([[round(x, 6) for x in pred_output_rf_play[0]]], columns=rf_play_outcome.classes_, index=[\"rf\"]).T,\n",
    "    ], axis=1)\n",
    "    drive_outcome_matrix = pd.concat([\n",
    "        pd.DataFrame([[round(x, 6) for x in pred_output_logit_basic_drive[0]]], columns=logit_drive_outcome_basic.classes_, index=[\"logit_basic\"]).T,\n",
    "        pd.DataFrame([[round(x, 6) for x in pred_output_logit_advanced_drive[0]]], columns=logit_drive_outcome_advanced.classes_, index=[\"logit_advanced\"]).T,\n",
    "        pd.DataFrame([[round(x, 6) for x in pred_output_mlp_drive[0]]], columns=mlp_drive_outcome.classes_, index=[\"mlp\"]).T,\n",
    "        pd.DataFrame([[round(x, 6) for x in pred_output_rf_drive[0]]], columns=rf_drive_outcome.classes_, index=[\"rf\"]).T,\n",
    "    ], axis=1)\n",
    "\n",
    "    print(play_outcome_matrix)\n",
    "    print(drive_outcome_matrix)\n",
    "    axs.set_ylim([0, 1])\n",
    "    axs.set_yticks(np.arange(0, 1.1, .1))\n",
    "    axs.grid(axis=\"y\")\n",
    "    plt.savefig(\"example.png\")\n",
    "\n",
    "style = {'description_width': '200px'}\n",
    "layout = Layout(width='450px')\n",
    "@interact(\n",
    "    time_left_in_half=widgets.IntSlider(min=0, max=30, step=1, value=100, style=style, layout=layout),\n",
    "    half=widgets.IntSlider(min=1, max=2, step=1, value=1, style=style, layout=layout),\n",
    "    current_score_diff=widgets.IntSlider(min=-30, max=30, step=1, value=0, style=style, layout=layout),\n",
    "    current_score_total=widgets.IntSlider(min=0, max=80, step=1, value=0, style=style, layout=layout),\n",
    "    cur_spread=widgets.IntSlider(min=-20, max=20, step=1, value=-3, style=style, layout=layout),\n",
    "    cur_over_under=widgets.IntSlider(min=30, max=60, step=1, value=45, style=style, layout=layout),\n",
    "    home_timeouts_remaining=widgets.IntSlider(min=0, max=3, step=1, value=3, style=style, layout=layout),\n",
    "    away_timeouts_remaining=widgets.IntSlider(min=0, max=3, step=1, value=3, style=style, layout=layout),\n",
    "    ytg=widgets.IntSlider(min=1, max=30, step=1, value=10, style=style, layout=layout),\n",
    "    yd_from_goal=widgets.IntSlider(min=1, max=100, step=1, value=75, style=style, layout=layout),\n",
    "    down=widgets.IntSlider(min=1, max=4, step=1, value=1, style=style, layout=layout),\n",
    "    model=widgets.Dropdown(options=[\"logit_basic_play\", \"logit_basic_drive\", \"logit_advanced_play\", \"logit_advanced_drive\", \"mlp_play\", \"mlp_drive\", \"rf_play\", \"rf_drive\"], value=\"mlp_play\"),\n",
    "    punt=False,\n",
    "    field_goal_attempt=False,\n",
    "    home_team_has_ball=True,\n",
    ")\n",
    "def g(\n",
    "    time_left_in_half,\n",
    "    half,\n",
    "    current_score_diff,\n",
    "    current_score_total,\n",
    "    cur_spread,\n",
    "    cur_over_under,\n",
    "    home_timeouts_remaining,\n",
    "    away_timeouts_remaining,\n",
    "    ytg,\n",
    "    yd_from_goal,\n",
    "    down,\n",
    "    punt,\n",
    "    field_goal_attempt,\n",
    "    home_team_has_ball,\n",
    "    model\n",
    "):\n",
    "    ytg_adj = np.where(yd_from_goal < ytg, yd_from_goal, ytg)\n",
    "    input_feature = pd.DataFrame(np.array(\n",
    "        [\n",
    "            time_left_in_half * 60,\n",
    "            half,\n",
    "            current_score_diff,\n",
    "            current_score_total,\n",
    "            cur_spread,\n",
    "            cur_over_under,\n",
    "            home_timeouts_remaining,\n",
    "            away_timeouts_remaining,\n",
    "            punt,\n",
    "            field_goal_attempt,\n",
    "            ytg_adj,\n",
    "            yd_from_goal,\n",
    "            down,\n",
    "            home_team_has_ball,\n",
    "        ],\n",
    "    ).reshape(1, -1), columns=input_names)\n",
    "    input_feature = normalize_df(input_feature, model_df[mask_model][input_names])\n",
    "    print(input_feature)\n",
    "\n",
    "    input_feature_advance = pd.DataFrame(np.array(\n",
    "        [\n",
    "            time_left_in_half * 60,\n",
    "            (time_left_in_half * 60)**2,\n",
    "            half,\n",
    "            current_score_diff,\n",
    "            current_score_total,\n",
    "            cur_spread,\n",
    "            cur_over_under,\n",
    "            home_timeouts_remaining,\n",
    "            away_timeouts_remaining,\n",
    "            punt,\n",
    "            field_goal_attempt,\n",
    "            home_team_has_ball,\n",
    "            np.where(down==2, 1, 0),\n",
    "            np.where(down==3, 1, 0),\n",
    "            np.where(down==4, 1, 0),\n",
    "            np.where(down==1, ytg_adj, 0),\n",
    "            np.where(down==2, ytg_adj, 0),\n",
    "            np.where(down==3, ytg_adj, 0),\n",
    "            np.where(down==4, ytg_adj, 0),\n",
    "            np.where(down==1, yd_from_goal, 0),\n",
    "            np.where(down==2, yd_from_goal, 0),\n",
    "            np.where(down==3, yd_from_goal, 0),\n",
    "            np.where(down==4, yd_from_goal, 0),\n",
    "            np.where(down==1, ytg_adj, 0)**2,\n",
    "            np.where(down==2, ytg_adj, 0)**2,\n",
    "            np.where(down==3, ytg_adj, 0)**2,\n",
    "            np.where(down==4, ytg_adj, 0)**2,\n",
    "            np.where(down==1, yd_from_goal, 0)**2,\n",
    "            np.where(down==2, yd_from_goal, 0)**2,\n",
    "            np.where(down==3, yd_from_goal, 0)**2,\n",
    "            np.where(down==4, yd_from_goal, 0)**2,\n",
    "        ],\n",
    "    ).reshape(1, -1), columns=input_names_advanced)\n",
    "    input_feature_advance = normalize_df(input_feature_advance, model_df[mask_model][input_names_advanced])\n",
    "\n",
    "    # print(pd.DataFrame(input_feature, columns=mlp_play_outcome.feature_names_in_))\n",
    "    plot_model_probabilities(model, input_feature, input_feature_advance)\n",
    "    "
   ]
  },
  {
   "cell_type": "code",
   "execution_count": null,
   "metadata": {},
   "outputs": [],
   "source": [
    "normalize_df(model_df[mask_model][input_names],model_df[mask_model][input_names])"
   ]
  },
  {
   "cell_type": "code",
   "execution_count": null,
   "metadata": {},
   "outputs": [],
   "source": [
    "input_feature = [300, 1]\n",
    "   \n",
    "pd.DataFrame(input_feature)"
   ]
  },
  {
   "cell_type": "code",
   "execution_count": null,
   "metadata": {},
   "outputs": [],
   "source": [
    "input_names_advanced"
   ]
  },
  {
   "cell_type": "code",
   "execution_count": null,
   "metadata": {},
   "outputs": [],
   "source": [
    "import itertools as it\n",
    "\n",
    "\n",
    "play_possibilities = {\n",
    "    \"time_left_in_half\": [1800],\n",
    "    \"half\": [1],\n",
    "    \"current_score_diff\": [0],\n",
    "    \"current_score_total\": [0],\n",
    "    \"cur_spread\": [-3],\n",
    "    \"cur_over_under\": [45],\n",
    "    \"home_timeouts_remaining\": [3],\n",
    "    \"away_timeouts_remaining\": [3],\n",
    "    \"ytg\": range(1, 11),\n",
    "    \"yd_from_goal\": range(1, 101),\n",
    "    \"down\": range(1, 5),\n",
    "    \"punt\": [0],\n",
    "    \"field_goal_attempt\": [0],\n",
    "    \"home_team_has_ball\": [1],\n",
    "}\n",
    "\n",
    "play_possibilities_df = pd.DataFrame(it.product(*(play_possibilities[Name] for Name in play_possibilities)), columns=play_possibilities)\n",
    "\n",
    "play_possibilities_df[mlp_play_class_names] = mlp_play_outcome.predict_proba(play_possibilities_df[input_names])\n",
    "play_possibilities_df[mlp_drive_class_names] = mlp_drive_outcome.predict_proba(play_possibilities_df[input_names])\n",
    "play_possibilities_df[rf_play_class_names] = rf_play_outcome.predict_proba(play_possibilities_df[input_names])\n",
    "play_possibilities_df[rf_drive_class_names] = rf_drive_outcome.predict_proba(play_possibilities_df[input_names])\n",
    "print(mlp_drive_class_names, mlp_play_class_names)\n",
    "for ytg in range(1, 5):\n",
    "    plot_input = play_possibilities_df[\n",
    "        (play_possibilities_df.ytg == 10) &\n",
    "        # (play_possibilities_df.yd_from_goal == ytg * 10)&\n",
    "        (play_possibilities_df.down == ytg)\n",
    "    ]\n",
    "    plt.plot(plot_input[\"yd_from_goal\"], plot_input[\"rf_drive_TD\"], label=ytg)\n",
    "    plt.ylim([0, 1])\n",
    "    plt.legend()"
   ]
  },
  {
   "cell_type": "code",
   "execution_count": null,
   "metadata": {},
   "outputs": [],
   "source": [
    "plot_input"
   ]
  },
  {
   "cell_type": "code",
   "execution_count": null,
   "metadata": {},
   "outputs": [],
   "source": [
    "event_df[(event_df[\"field_goal_attempt\"]==1)&event_df[\"touchdown_in_drive\"]==1]"
   ]
  },
  {
   "cell_type": "code",
   "execution_count": null,
   "metadata": {},
   "outputs": [],
   "source": [
    "test = event_df\n",
    "all_play_drive_predictions = rf_play_class_names + mlp_play_class_names + rf_drive_class_names + mlp_drive_class_names\n",
    "test[all_play_drive_predictions] = test.merge(x_view[[\"index\"] + all_play_drive_predictions], how=\"left\", left_index=True, right_on=\"index\")[all_play_drive_predictions]\n",
    "test"
   ]
  },
  {
   "cell_type": "code",
   "execution_count": null,
   "metadata": {},
   "outputs": [],
   "source": [
    "event_df[all_play_drive_predictions] = event_df[all_play_drive_predictions].fillna(0)"
   ]
  },
  {
   "cell_type": "code",
   "execution_count": null,
   "metadata": {},
   "outputs": [],
   "source": [
    "# game_df = event_df.groupby([\"game_code\"], as_index=False).max()[[\"game_code\", \"quarter\"]]\n",
    "# event_df[\"end_of_regulation_score_diff\"] = np.where(event_df.merge(game_df, on=\"game_code\", how=\"left\")[\"quarter_y\"]>4, 0, event_df[\"final_score_diff\"])"
   ]
  },
  {
   "cell_type": "code",
   "execution_count": null,
   "metadata": {},
   "outputs": [],
   "source": [
    "from sklearn.model_selection import GridSearchCV\n",
    "max_away_score = np.max(event_df[\"away_final_score\"])\n",
    "max_home_score = np.max(event_df[\"home_final_score\"])\n",
    "\n",
    "event_df[\"cur_spread\"].fillna((event_df[\"cur_spread\"].mean()), inplace=True)\n",
    "event_df[\"cur_over_under\"].fillna((event_df[\"cur_over_under\"].mean()), inplace=True)\n",
    "event_df['remaining_exact_score'] = event_df[\"away_rest_of_game_score\"] + (max_away_score + 1) * event_df['home_rest_of_game_score']\n",
    "# event_df['remaining_score_diff_change'] = event_df[\"final_score_diff\"] - event_df[\"current_score_diff\"]\n",
    "# event_df['end_of_regulation_score_diff_change'] = event_df[\"end_of_regulation_score_diff\"] - event_df[\"current_score_diff\"]\n",
    "\n",
    "\n",
    "mask_train = (event_df.season<=2019)&(event_df.continuation==0)&(event_df.overtime==0)\n",
    "mask_test = (event_df.season==2021)&(event_df.continuation==0)&(event_df.overtime==0)\n",
    "mask_val = (event_df.season==2020)&(event_df.continuation==0)&(event_df.overtime==0)\n",
    "train_groups = event_df[mask_train][\"game_code\"]\n",
    "# event_df[\"home_odds_fixed\"] = event_df[\"home_odds\"].fillna(np.mean(event_df[\"home_odds\"]))\n",
    "input_names_vegas_mlp_score_predictor = [\"time_left_in_game\", \"current_score_diff\", \"current_score_total\", \"cur_spread\", \"cur_over_under\", 'home_timeouts_remaining', 'away_timeouts_remaining']\n",
    "output_name_score_diff = \"end_of_regulation_score_diff_change\"\n",
    "score_change_columns = [\n",
    "    \"rf_play_offensive_touchdown\",\n",
    "    \"rf_drive_offensive_touchdown\",\n",
    "    \"rf_play_turnover\",\n",
    "    \"rf_drive_turnover\",\n",
    "]\n",
    "\n",
    "model_df = deepcopy(event_df[input_names_vegas_mlp_score_predictor + score_change_columns + ['kick_off', 'season', 'game_code', 'punt', 'point_after_kick', 'continuation', 'two_point_attempt', 'field_goal_attempt', output_name_score_diff]])\n",
    "model_df[\"from_scrimmage\"] = np.where(event_df[\"event_id\"].isin([22, 52, 53, 55, 47, 54, 56]), 0, event_df[\"from_scrimmage\"])\n",
    "model_df[\"ytg\"] = np.where(model_df[\"from_scrimmage\"] == 0, -1, event_df[\"ytg\"])\n",
    "model_df[\"down\"] = np.where(model_df[\"from_scrimmage\"] == 0, 0, event_df[\"down\"])\n",
    "from sklearn.preprocessing import OneHotEncoder\n",
    "enc = OneHotEncoder()\n",
    "enc.fit(model_df[[\"down\"]])\n",
    "down_one_hot_cols = [\"down_\" + str(x) for x in enc.categories_[0]]\n",
    "model_df[down_one_hot_cols] = pd.DataFrame(enc.transform(model_df[[\"down\"]]).toarray(), columns=enc.categories_)\n",
    "\n",
    "model_df[\"home_team_has_ball\"] = np.where(event_df[\"event_id\"].isin([5]), 1 - event_df[\"home_team_has_ball\"], event_df[\"home_team_has_ball\"])\n",
    "model_df[\"yd_from_goal\"] = np.where(model_df[\"from_scrimmage\"] == 0, -1, event_df[\"yd_from_goal\"])\n",
    "input_names_vegas_mlp_score_diff=[\n",
    "    'time_left_in_game',\n",
    "    'current_score_diff',\n",
    "    'current_score_total',\n",
    "    'cur_spread',\n",
    "    'cur_over_under',\n",
    "    'home_timeouts_remaining',\n",
    "    'away_timeouts_remaining',\n",
    "    'kick_off',\n",
    "    'punt',\n",
    "    'point_after_kick',\n",
    "    'two_point_attempt',\n",
    "    'field_goal_attempt',\n",
    "    # 'from_scrimmage',\n",
    "    'ytg',\n",
    "    'yd_from_goal',\n",
    "    'down',\n",
    "    'home_team_has_ball'\n",
    " ] + score_change_columns\n",
    "mask_model = (model_df[input_names_vegas_mlp_score_diff+[output_name_score_diff]].notna().all(axis=1))&(event_df[\"overtime\"]==0)\n",
    "X_train, y_train, group_train, X_test, y_test, group_test, X_val, y_val, group_val = create_train_test_val_df(model_df[mask_model], input_names_vegas_mlp_score_diff, output_name_score_diff)\n",
    "\n",
    "\n",
    "mlp_score_diff = MLPClassifier(hidden_layer_sizes=[100], verbose=True, random_state=1, early_stopping=True, n_iter_no_change=5)\n",
    "mlp_score_diff.fit(X_train.values, y_train)\n",
    "rf_score_diff = RandomForestClassifier(n_estimators=500, max_depth=15, verbose=1, n_jobs=-1)\n",
    "rf_score_diff.fit(X_train, y_train)\n"
   ]
  },
  {
   "cell_type": "code",
   "execution_count": null,
   "metadata": {},
   "outputs": [],
   "source": [
    "model_df = deepcopy(event_df[input_names_vegas_mlp_score_predictor + score_change_columns + ['kick_off', 'season', 'game_code', 'punt', 'point_after_kick', 'continuation', 'two_point_attempt', 'field_goal_attempt', output_name_score_diff]])\n",
    "model_df[\"from_scrimmage\"] = np.where(event_df[\"event_id\"].isin([22, 52, 53, 55, 47, 54, 56]), 0, event_df[\"from_scrimmage\"])\n",
    "model_df[\"ytg\"] = np.where(model_df[\"from_scrimmage\"] == 0, -1, event_df[\"ytg\"])\n",
    "model_df[\"down\"] = np.where(model_df[\"from_scrimmage\"] == 0, 0, event_df[\"down\"])\n",
    "from sklearn.preprocessing import OneHotEncoder\n",
    "enc = OneHotEncoder()\n",
    "enc.fit(model_df[[\"down\"]])\n",
    "down_one_hot_cols = [\"down_\" + str(x) for x in enc.categories_[0]]\n",
    "model_df[down_one_hot_cols] = pd.DataFrame(enc.transform(model_df[[\"down\"]]).toarray(), columns=enc.categories_)\n",
    "\n",
    "model_df[\"home_team_has_ball\"] = np.where(event_df[\"event_id\"].isin([5]), 1 - event_df[\"home_team_has_ball\"], event_df[\"home_team_has_ball\"])\n",
    "model_df[\"yd_from_goal\"] = np.where(model_df[\"from_scrimmage\"] == 0, -1, event_df[\"yd_from_goal\"])\n",
    "input_names_vegas_mlp_score_diff=[\n",
    "    'time_left_in_game',\n",
    "    'current_score_diff',\n",
    "    'current_score_total',\n",
    "    'cur_spread',\n",
    "    'cur_over_under',\n",
    "    'home_timeouts_remaining',\n",
    "    'away_timeouts_remaining',\n",
    "    'kick_off',\n",
    "    'punt',\n",
    "    'point_after_kick',\n",
    "    'two_point_attempt',\n",
    "    'field_goal_attempt',\n",
    "    # 'from_scrimmage',\n",
    "    'ytg',\n",
    "    'yd_from_goal',\n",
    "    'down',\n",
    "    'home_team_has_ball'\n",
    " ] + score_change_columns\n",
    "# model_df = model_df[(model_df[input_names_vegas_mlp_score_diff+[output_name_score_diff]].notna().all(axis=1))&(event_df[\"overtime\"]==0)]\n",
    "\n",
    "model_df"
   ]
  },
  {
   "cell_type": "code",
   "execution_count": null,
   "metadata": {},
   "outputs": [],
   "source": [
    "event_df[\"xhome_win_score_diff_mlp\"]"
   ]
  },
  {
   "cell_type": "code",
   "execution_count": null,
   "metadata": {},
   "outputs": [],
   "source": [
    "score_diff_preds = mlp_score_diff.predict_proba(model_df[input_names_vegas_mlp_score_diff].fillna(0))\n",
    "score_diff_change_list = mlp_score_diff.classes_\n",
    "score_probability_matrix = np.zeros((score_diff_preds.shape))\n",
    "outcomes_dict = {\n",
    "    \"xhome_win\": {},\n",
    "    \"xdraw\": {},\n",
    "    \"xaway_win\": {},\n",
    "    \"xscore_diff_end_of_regulation\": {},\n",
    "}\n",
    "for x in range(len(event_df)):\n",
    "    if round(x/100000) == x/100000:\n",
    "        print(x)\n",
    "    score_probability_matrix[x] = event_df[\"current_score_diff\"][x] + score_diff_change_list\n",
    "    outcomes_dict[\"xhome_win\"][x] = np.sum(score_diff_preds[x][score_probability_matrix[x]>0])\n",
    "    outcomes_dict[\"xdraw\"][x] = np.sum(score_diff_preds[x][score_probability_matrix[x]==0])\n",
    "    outcomes_dict[\"xaway_win\"][x] = np.sum(score_diff_preds[x][score_probability_matrix[x]<0])\n",
    "    outcomes_dict[\"xscore_diff_end_of_regulation\"][x] = np.sum(score_probability_matrix[x] * score_diff_preds[x])\n",
    "\n",
    "event_df[\"xhome_win_score_diff_mlp\"] = outcomes_dict[\"xhome_win\"].values()\n",
    "event_df[\"xdraw_score_diff_mlp\"] = outcomes_dict[\"xdraw\"].values()\n",
    "event_df[\"xaway_win_score_diff_mlp\"] = outcomes_dict[\"xaway_win\"].values()\n",
    "event_df[\"xscore_diff_end_of_regulation_mlp\"] = outcomes_dict[\"xscore_diff_end_of_regulation\"].values()\n"
   ]
  },
  {
   "cell_type": "code",
   "execution_count": null,
   "metadata": {},
   "outputs": [],
   "source": [
    "\n",
    "score_diff_preds = rf_score_diff.predict_proba(model_df[input_names_vegas_mlp_score_diff].fillna(0))\n",
    "score_diff_change_list = rf_score_diff.classes_\n",
    "score_probability_matrix = np.zeros((score_diff_preds.shape))\n",
    "outcomes_dict = {\n",
    "    \"xhome_win\": {},\n",
    "    \"xdraw\": {},\n",
    "    \"xaway_win\": {},\n",
    "    \"xscore_diff_end_of_regulation\": {},\n",
    "}\n",
    "for x in range(len(event_df)):\n",
    "    if round(x/100000) == x/100000:\n",
    "        print(x)\n",
    "    score_probability_matrix[x] = event_df[\"current_score_diff\"][x] + score_diff_change_list\n",
    "    outcomes_dict[\"xhome_win\"][x] = np.sum(score_diff_preds[x][score_probability_matrix[x]>0])\n",
    "    outcomes_dict[\"xdraw\"][x] = np.sum(score_diff_preds[x][score_probability_matrix[x]==0])\n",
    "    outcomes_dict[\"xaway_win\"][x] = np.sum(score_diff_preds[x][score_probability_matrix[x]<0])\n",
    "    outcomes_dict[\"xscore_diff_end_of_regulation\"][x] = np.sum(score_probability_matrix[x] * score_diff_preds[x])\n",
    "event_df[\"xhome_win_score_diff_rf\"] = outcomes_dict[\"xhome_win\"].values()\n",
    "event_df[\"xdraw_score_diff_rf\"] = outcomes_dict[\"xdraw\"].values()\n",
    "event_df[\"xaway_win_score_diff_rf\"] = outcomes_dict[\"xaway_win\"].values()\n",
    "event_df[\"xscore_diff_end_of_regulation_rf\"] = outcomes_dict[\"xscore_diff_end_of_regulation\"].values()\n"
   ]
  },
  {
   "cell_type": "code",
   "execution_count": null,
   "metadata": {},
   "outputs": [],
   "source": [
    "pd.DataFrame(rf_score_diff.feature_importances_, index=rf_score_diff.feature_names_in_)\n"
   ]
  },
  {
   "cell_type": "code",
   "execution_count": null,
   "metadata": {},
   "outputs": [],
   "source": [
    "event_df[\"game_info\"] = (\n",
    "    event_df[\"home_team\"]\n",
    "    + \" \"\n",
    "    + event_df[\"away_team\"]\n",
    "    + \" \"\n",
    "    + event_df[\"game_date\"].apply(lambda x: x.strftime(\"%Y-%m-%d\"))\n",
    "    + \" \"\n",
    "    + event_df[\"season\"].apply(str)\n",
    "    + \" (\"\n",
    "    + (event_df[\"game_code\"]).apply(str)\n",
    "    + \")\"\n",
    ")\n",
    "def ordinaltg(n):\n",
    "    return n.replace({1: \"1st\", 2: \"2nd\", 3: \"3rd\", 4: \"4th\", 5: \"5th\", 6: \"6th\"})\n",
    "\n",
    "event_df[\"absolute_score_diff\"] = abs(event_df[\"home_start_score\"] - event_df[\"away_start_score\"])\n",
    "\n",
    "event_df[\"minutes\"] = (event_df[\"play_start_time\"] // 60).fillna(0).apply(int)\n",
    "event_df[\"seconds\"] = (event_df[\"play_start_time\"] - (event_df[\"play_start_time\"] // 60) * 60).fillna(0).apply(\n",
    "    int\n",
    ")\n",
    "event_df[\"seconds_str\"] = np.where(\n",
    "    event_df[\"seconds\"] >= 10, event_df[\"seconds\"].apply(str), \"0\" + event_df[\"seconds\"].apply(str)\n",
    ")\n",
    "event_df[\"time_str\"] = event_df[\"minutes\"].apply(str) + \":\" + event_df[\"seconds_str\"]\n",
    "\n",
    "event_df[\"team_score_desc\"] = np.where(\n",
    "    event_df[\"home_team_has_ball\"] == 1,\n",
    "    np.where(\n",
    "        event_df[\"home_start_score\"] > event_df[\"away_start_score\"],\n",
    "        \"Up by \" + event_df[\"absolute_score_diff\"].apply(str),\n",
    "        np.where(\n",
    "            event_df[\"home_start_score\"] < event_df[\"away_start_score\"],\n",
    "            \"Down by \" + event_df[\"absolute_score_diff\"].apply(str),\n",
    "            \"Tied\",\n",
    "        ),\n",
    "    ),\n",
    "    np.where(\n",
    "        event_df[\"home_start_score\"] < event_df[\"away_start_score\"],\n",
    "        \"Up by \" + event_df[\"absolute_score_diff\"].apply(str),\n",
    "        np.where(\n",
    "            event_df[\"home_start_score\"] > event_df[\"away_start_score\"],\n",
    "            \"Down by \" + event_df[\"absolute_score_diff\"].apply(str),\n",
    "            \"Tied\",\n",
    "        ),\n",
    "    ),\n",
    ")\n",
    "event_df[\"play_description\"] = (\n",
    "    ordinaltg(event_df[\"quarter\"])\n",
    "    + \" Qtr \"\n",
    "    + event_df[\"minutes\"].apply(str)\n",
    "    + \":\"\n",
    "    + event_df[\"seconds_str\"]\n",
    "    + \", \"\n",
    "    + event_df[\"team_score_desc\"]\n",
    "    + \", \"\n",
    "    + ordinaltg(event_df[\"down\"]).apply(str)\n",
    "    + \" & \"\n",
    "    + event_df[\"ytg\"].apply(str)\n",
    "    + \", \"\n",
    "    + event_df[\"yd_from_goal\"].apply(str)\n",
    "    + \" Yards From Goal, \"\n",
    "    + np.where(\n",
    "        event_df[\"home_team_has_ball\"] == 1,\n",
    "        event_df[\"home_team\"],\n",
    "        event_df[\"away_team\"],\n",
    "    )\n",
    "    + \" has ball, \"\n",
    "    + \"Off TO: \"\n",
    "    + np.where(\n",
    "        event_df[\"home_team_has_ball\"] == 1,\n",
    "        event_df[\"home_timeouts_remaining\"],\n",
    "        event_df[\"away_timeouts_remaining\"],\n",
    "    ).astype(str)\n",
    "    + \", Def TO: \"\n",
    "    + np.where(\n",
    "        event_df[\"home_team_has_ball\"] == 0,\n",
    "        event_df[\"home_timeouts_remaining\"],\n",
    "        event_df[\"away_timeouts_remaining\"],\n",
    "    ).astype(str)\n",
    "    + \" (\"\n",
    "    + event_df[\"nevent\"].apply(str)\n",
    "    + \")\"\n",
    ")\n",
    "\n"
   ]
  },
  {
   "cell_type": "code",
   "execution_count": null,
   "metadata": {},
   "outputs": [],
   "source": [
    "import plotly\n",
    "import plotly.graph_objects as go\n",
    "from plotly.offline import iplot\n",
    "from plotly.subplots import make_subplots\n",
    "import math\n",
    "\n",
    "\n",
    "plotly.offline.init_notebook_mode()\n",
    "event_df[\"home_team_has_ball_fixed\"] = model_df[\"home_team_has_ball\"]\n",
    "def plot_game_lwp(game_info, model, width):\n",
    "    game_df = deepcopy(event_df[(event_df[\"game_info\"] == game_info)&(event_df[\"event_id\"].isin([1,2,3,4,5,7,9,12,14,17,18,22,35,41,47,52,53,54,55,56]))&(event_df[\"continuation\"]==0)&(event_df[\"overtime\"]==0)])\n",
    "    # print(game_df)\n",
    "    fig = make_subplots(specs=[[{\"secondary_y\": True}]])\n",
    "    if model ==\"mlp\":\n",
    "        y=[\"xhome_win_score_diff_mlp\", \"xaway_win_score_diff_mlp\", \"xdraw_score_diff_mlp\"]\n",
    "        y1=\"xscore_diff_end_of_regulation_mlp\"\n",
    "    elif model ==\"rf\":\n",
    "        y=[\"xhome_win_score_diff_rf\", \"xaway_win_score_diff_rf\", \"xdraw_score_diff_rf\"]\n",
    "        y1=\"xscore_diff_end_of_regulation_rf\"\n",
    "    # elif model == \"loglin_basic\":\n",
    "    #     y=['xhome_win_basic_loglin', 'xhome_no_win_basic_loglin']\n",
    "    # elif model == \"loglin_by_minute\":\n",
    "    #     y=['xhome_win_loglin_minute', 'xhome_no_win_loglin_minute']\n",
    "    # elif model == \"mlp_basic\":\n",
    "    #     y=['xhome_win_basic_mlp', 'xhome_no_win_basic_mlp']\n",
    "    # elif model ==\"rf_old\":\n",
    "    #     y=[\"xhome_win\", \"xaway_win\", \"xdraw\"]\n",
    "    # elif model ==\"mlp_old\":\n",
    "    #     y=[\"xhome_team_win_mlp\", \"xaway_team_win_mlp\", \"xdraw_mlp\"]\n",
    "    colors = [\"darkkhaki\", \"skyblue\", \"gray\"]\n",
    "    game_df[\"yards_description\"] = (\n",
    "        game_df[\"event_name\"]\n",
    "        + \" for \"\n",
    "        + game_df[\"yards_gained\"].fillna(0).apply(int).apply(str)\n",
    "        + \" yards\"\n",
    "    )\n",
    "    v = pd.DataFrame(game_df[[\"quarter\", \"nevent\"]]).reset_index(drop=True)\n",
    "    mask_ticks = v[\"quarter\"][1:].reset_index(drop=True) == v[\"quarter\"][\n",
    "        :-1\n",
    "    ].reset_index(drop=True)\n",
    "    ticks_idx = [min(v[\"nevent\"])] + list(v[:-1][~mask_ticks][\"nevent\"] + 1)\n",
    "    if len(ticks_idx) == 4:\n",
    "        ticks_values = [1, 2, 3, 4]\n",
    "    else:\n",
    "        ticks_values = [1, 2, 3, 4, \"OT\"]\n",
    "    fig.add_trace(\n",
    "        go.Scatter(\n",
    "            x=game_df[\"nevent\"],\n",
    "            y=game_df[y[0]],\n",
    "            customdata=game_df[[\"yards_description\", \"play_description\", \"cur_spread\"]],\n",
    "            stackgroup=\"one\",\n",
    "            mode=\"lines\",\n",
    "            line=dict(width=0.5, color=colors[0]),\n",
    "            name=game_df[\"home_team\"].tolist()[0],\n",
    "            hovertemplate=\"<br>\".join(\n",
    "                [\n",
    "                    \"%{y}\",\n",
    "                    \"%{customdata[0]}\",\n",
    "                    \"%{customdata[1]}\",\n",
    "                    \"%{customdata[2]}\",\n",
    "                ]\n",
    "            ),\n",
    "        )\n",
    "    )\n",
    "    try:\n",
    "        fig.add_trace(go.Scatter(\n",
    "            x=game_df[\"nevent\"],\n",
    "            y=game_df[y[2]],\n",
    "            # hovertext=game_df[hover_values],\n",
    "            stackgroup=\"one\",\n",
    "            mode=\"lines\",\n",
    "            line=dict(width=0.5, color=colors[2]),\n",
    "            name=\"Overtime\",\n",
    "        ))\n",
    "    except:\n",
    "        pass\n",
    "    fig.add_trace(go.Scatter(\n",
    "        x=game_df[\"nevent\"],\n",
    "        y=game_df[y[1]],\n",
    "        # hovertext=game_df[hover_values],\n",
    "        stackgroup=\"one\",\n",
    "        mode=\"lines\",\n",
    "        line=dict(width=0.5, color=colors[1]),\n",
    "        name=game_df[\"away_team\"].tolist()[0],\n",
    "    ))\n",
    "    try:\n",
    "        fig.add_trace(go.Scatter(\n",
    "            x=game_df[\"nevent\"],\n",
    "            y=game_df[y1],\n",
    "            # hovertext=game_df[hover_values],\n",
    "            # stackgroup=\"one\",\n",
    "            mode=\"lines\",\n",
    "            line=dict(width=0.5, color=\"black\", dash='dash'),\n",
    "            name=\"xfinal_score_diff\",\n",
    "        ), secondary_y=True)\n",
    "    except:\n",
    "        pass\n",
    "    # fig.add_trace(go.Scatter(\n",
    "    #     x=game_df[\"nevent\"],\n",
    "    #     y=game_df[\"current_score_diff\"],\n",
    "    #     # hovertext=game_df[hover_values],\n",
    "    #     # stackgroup=\"one\",\n",
    "    #     mode=\"lines\",\n",
    "    #     line=dict(width=0.5, color=\"red\"),\n",
    "    #     name=\"xfinal_score_diff\",\n",
    "    # ), secondary_y=True)\n",
    "    # game_df[input_names_vegas_mlp_score_diff + y].to_clipboard()\n",
    "    \n",
    "    fig.update_xaxes(range=[1, np.max(game_df[\"nevent\"])])\n",
    "    fig.update_yaxes(range=[0, 1], secondary_y=False)\n",
    "    fig.update_yaxes(range=[-20, 20], secondary_y=True, showgrid=False)\n",
    "    # x_range = [-math.ceil(np.max(abs(game_df[\"xscore_diff_end_of_regulation\"]))/10) * 10, math.ceil(np.max(abs(game_df[\"xscore_diff_end_of_regulation\"]))/10) *10]\n",
    "    # print(x_range)\n",
    "    # fig.update_yaxes(range=x_range, secondary_y=True)\n",
    "    # fig.update_yaxes(range=[-30, 30], secondary_y=True, showgrid=False)\n",
    "\n",
    "    # iplot([fig1, fig2, fig3])\n",
    "    \n",
    "    fig.update_layout(\n",
    "        title = game_df[\"game_info\"].tolist()[0] + \" (\" + model + \" model)\",\n",
    "        hovermode=\"x unified\",\n",
    "        width=width,\n",
    "        xaxis=dict(\n",
    "            tickvals=ticks_idx, ticktext=ticks_values, gridwidth=2\n",
    "        ),\n",
    "        yaxis=dict(tick0=0, dtick=0.25),\n",
    "        # yaxis=dict(tick0=-30, dtick=30, gridcolor=\"black\", gridwidth=2),\n",
    "    )\n",
    "    game_df[\"score_change\"] = game_df[\"home_score_added\"] + game_df[\"away_score_added\"]\n",
    "    game_df[\"score_str\"] = (\n",
    "        (game_df[\"away_score_added\"] + game_df[\"away_start_score\"]).apply(str)\n",
    "        + \"-\"\n",
    "        + (game_df[\"home_score_added\"] + game_df[\"home_start_score\"]).apply(str)\n",
    "    )\n",
    "    scores_idx_home = game_df[game_df[\"home_score_added\"] >= 3][\"nevent\"].tolist()\n",
    "    score_y_home = game_df[game_df[\"home_score_added\"] >= 3][y[0]].tolist()\n",
    "    score_home_value = game_df[game_df[\"home_score_added\"] >= 3][\"home_score_added\"]\n",
    "    score_home_str = np.where(score_home_value == 3, \" FG\", \" TD\")\n",
    "    score_display_home = game_df[game_df[\"home_score_added\"] >= 3][\"score_str\"].tolist()\n",
    "    scores_idx_away = game_df[game_df[\"away_score_added\"] >= 3][\"nevent\"].tolist()\n",
    "    score_y_away = (game_df[game_df[\"away_score_added\"] >= 3][y[0]]).tolist()\n",
    "    score_away_value = game_df[game_df[\"away_score_added\"] >= 3][\"away_score_added\"]\n",
    "    score_away_str = np.where(score_away_value == 3, \" FG\", \" TD\")\n",
    "    score_display_away = game_df[game_df[\"away_score_added\"] >= 3][\"score_str\"].tolist()\n",
    "    mask_poss_change = (game_df[\"home_team_has_ball_fixed\"].shift(-1)!=game_df[\"home_team_has_ball_fixed\"])&(game_df[\"score_change\"]==0)&(game_df[\"score_change\"].shift(-1)==0)\n",
    "    ball_change_idx = game_df[mask_poss_change][\"nevent\"].tolist()\n",
    "    ball_change_y = (game_df[mask_poss_change][y[0]]).tolist()\n",
    "    print(ball_change_idx)\n",
    "    print(ball_change_y)\n",
    "    for x in range(len(scores_idx_home)):\n",
    "        fig.add_annotation(\n",
    "            x=scores_idx_home[x],\n",
    "            y=score_y_home[x],\n",
    "            text=game_df[\"home_team\"].tolist()[0]\n",
    "            + score_home_str[x]\n",
    "            + \" \"\n",
    "            + score_display_home[x],\n",
    "            showarrow=True,\n",
    "        )\n",
    "    for x in range(len(scores_idx_away)):\n",
    "        fig.add_annotation(\n",
    "            x=scores_idx_away[x],\n",
    "            y=score_y_away[x],\n",
    "            text=game_df[\"home_team\"].tolist()[0]\n",
    "            + score_away_str[x]\n",
    "            + \" \"\n",
    "            + score_display_away[x],\n",
    "            showarrow=True,\n",
    "        )\n",
    "    fig.add_trace(go.Scatter(\n",
    "        x=ball_change_idx,\n",
    "        y=ball_change_y,\n",
    "        mode=\"markers\",\n",
    "        name=\"Possession Change\",\n",
    "        textposition=\"bottom center\",\n",
    "        marker=dict(color=\"blue\")\n",
    "    ))\n",
    "\n",
    "    # for x in range(len(ball_change_idx)):\n",
    "    #     fig.add_annotation(\n",
    "    #         x=ball_change_idx[x],\n",
    "    #         y=ball_change_y[x],\n",
    "    #         # text=\"Poss Change\",\n",
    "    #         showarrow=False,\n",
    "    #         # align=\"right\",\n",
    "\n",
    "    #     )\n",
    "    iplot(fig)\n",
    "    # print(game_df.loc[814476, \"play_description\"])\n",
    "\n",
    "    # return(fig)\n",
    "    # plt.plot(sample_game_df[\"nevent\"], sample_game_df[\"xhome_win\"])\n",
    "# @interact(\n",
    "#     game_info=widgets.Dropdown(options=list(event_df.sort_values(\"game_date\", ascending=False)[\"game_info\"].drop_duplicates()), value=\"Cincinnati Bengals Los Angeles Rams 2022-02-13 2021 (2337728)\"),\n",
    "\n",
    "# )\n",
    "# def g(game_info):\n",
    "#     plot_game_lwp(game_info)\n",
    "interact(plot_game_lwp, \n",
    "game_info=widgets.Dropdown(options=list(event_df.sort_values(\"game_date\", ascending=False)[\"game_info\"].drop_duplicates()), value=\"Cincinnati Bengals Los Angeles Rams 2022-02-13 2021 (2337728)\"),\n",
    "model=widgets.Dropdown(options=[\"mlp\", \"rf\"], value=\"mlp\"),\n",
    "width=widgets.IntSlider(min=500, max=1500, step=50, value=1200))\n",
    "    # return ()"
   ]
  }
 ],
 "metadata": {
  "interpreter": {
   "hash": "c210bdd9963c1aa1618116687e93168b57777aaa4e8daa5b14b88c49789f4e2c"
  },
  "kernelspec": {
   "display_name": "Python 3.8.10 ('venv': venv)",
   "language": "python",
   "name": "python3"
  },
  "language_info": {
   "codemirror_mode": {
    "name": "ipython",
    "version": 3
   },
   "file_extension": ".py",
   "mimetype": "text/x-python",
   "name": "python",
   "nbconvert_exporter": "python",
   "pygments_lexer": "ipython3",
   "version": "3.9.5"
  },
  "orig_nbformat": 4
 },
 "nbformat": 4,
 "nbformat_minor": 2
}
