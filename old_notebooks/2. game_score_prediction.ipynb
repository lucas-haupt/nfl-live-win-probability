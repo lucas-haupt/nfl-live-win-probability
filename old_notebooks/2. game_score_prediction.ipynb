{
 "cells": [
  {
   "cell_type": "code",
   "execution_count": 1,
   "metadata": {},
   "outputs": [],
   "source": [
    "import os\n",
    "# os.chdir('/Users/lucashaupt/Documents/GitHub/nfl-live-win-probability')\n",
    "import json\n",
    "import datetime\n",
    "import numpy as np\n",
    "import pandas as pd\n",
    "import matplotlib.pyplot as plt\n",
    "import ipywidgets as widgets\n",
    "from sklearn.linear_model import LogisticRegression\n",
    "from sklearn.neural_network import MLPClassifier\n",
    "from catboost import CatBoostClassifier, Pool, CatBoostRegressor\n",
    "from sklearn.metrics import log_loss\n",
    "from IPython.display import display, HTML\n",
    "from src.generate_data import get_game_data, get_odds_data, get_event_data\n",
    "\n",
    "%matplotlib notebook\n",
    "\n",
    "notebook_dir = os.getcwd()\n",
    "os.chdir(os.path.join(notebook_dir, '..'))\n",
    "root_dir = os.path.abspath(os.path.join(notebook_dir, '..'))\n",
    "root_dir = notebook_dir\n",
    "data_dir = os.path.join(root_dir, 'data')"
   ]
  },
  {
   "cell_type": "code",
   "execution_count": 2,
   "metadata": {},
   "outputs": [
    {
     "name": "stdout",
     "output_type": "stream",
     "text": [
      "Running get_game_data... \n",
      "\n",
      "get_game_data is returning cached df\n",
      "get_game_data done in 0 sec.\n"
     ]
    },
    {
     "data": {
      "text/html": [
       "<table border=\"1\" class=\"dataframe\">\n",
       "  <thead>\n",
       "    <tr style=\"text-align: right;\">\n",
       "      <th>game_code</th>\n",
       "      <th>game_date</th>\n",
       "      <th>home_team_id</th>\n",
       "      <th>away_team_id</th>\n",
       "      <th>season</th>\n",
       "      <th>home_team_abbrev</th>\n",
       "      <th>away_team_abbrev</th>\n",
       "      <th>week</th>\n",
       "      <th>home_score</th>\n",
       "      <th>away_score</th>\n",
       "      <th>status</th>\n",
       "      <th>game_state_id</th>\n",
       "    </tr>\n",
       "  </thead>\n",
       "  <tbody>\n",
       "    <tr>\n",
       "      <td>2337709</td>\n",
       "      <td>2022-01-09 14:25:00</td>\n",
       "      <td>355</td>\n",
       "      <td>361</td>\n",
       "      <td>2021</td>\n",
       "      <td>Ari</td>\n",
       "      <td>Sea</td>\n",
       "      <td>18</td>\n",
       "      <td>0</td>\n",
       "      <td>0</td>\n",
       "      <td>Pre-Game</td>\n",
       "      <td>1</td>\n",
       "    </tr>\n",
       "    <tr>\n",
       "      <td>2337493</td>\n",
       "      <td>2022-01-09 14:25:00</td>\n",
       "      <td>332</td>\n",
       "      <td>339</td>\n",
       "      <td>2021</td>\n",
       "      <td>Den</td>\n",
       "      <td>KC</td>\n",
       "      <td>18</td>\n",
       "      <td>0</td>\n",
       "      <td>0</td>\n",
       "      <td>Pre-Game</td>\n",
       "      <td>1</td>\n",
       "    </tr>\n",
       "    <tr>\n",
       "      <td>2337706</td>\n",
       "      <td>2022-01-09 13:25:00</td>\n",
       "      <td>343</td>\n",
       "      <td>359</td>\n",
       "      <td>2021</td>\n",
       "      <td>LAR</td>\n",
       "      <td>SF</td>\n",
       "      <td>18</td>\n",
       "      <td>0</td>\n",
       "      <td>0</td>\n",
       "      <td>Pre-Game</td>\n",
       "      <td>1</td>\n",
       "    </tr>\n",
       "  </tbody>\n",
       "</table>"
      ],
      "text/plain": [
       "<IPython.core.display.HTML object>"
      ]
     },
     "metadata": {},
     "output_type": "display_data"
    },
    {
     "name": "stdout",
     "output_type": "stream",
     "text": [
      "Games in sample: 3745\n"
     ]
    }
   ],
   "source": [
    "cache=True\n",
    "game_df = get_game_data(cache=cache)\n",
    "game_df = game_df.sort_values(by='game_date', ascending=False).reset_index(drop=True)\n",
    "game_codes = game_df.game_code.values\n",
    "test_game_codes = game_df.loc[(game_df.season == 2021) & (game_df.game_state_id == 11), 'game_code'].values\n",
    "sim_game_codes = game_df.loc[game_df.season == 2021, 'game_code'].values\n",
    "played_game_codes = game_df.loc[game_df.game_state_id == 11, 'game_code'].values\n",
    "unplayed_game_codes = game_df.loc[game_df.game_state_id != 11, 'game_code'].values\n",
    "assert game_df.loc[~game_df.game_code.isin(unplayed_game_codes)].isna().sum().sum() == 0, 'Unexpected NaN values found in game data frame'\n",
    "display(HTML(game_df.head(3).to_html(index=False)))\n",
    "print('Games in sample: {0:d}'.format(game_codes.size))"
   ]
  },
  {
   "cell_type": "code",
   "execution_count": 3,
   "metadata": {},
   "outputs": [],
   "source": [
    "# market_df = get_odds_data(cache=cache)\n",
    "# prior_df = market_df.drop_duplicates(\"game_code\")\n",
    "# prior_df = game_df[['game_code',\n",
    "#                     'game_date',\n",
    "#                     'home_team_abbrev',\n",
    "#                     'home_team_id',\n",
    "#                     'away_team_abbrev',\n",
    "#                     'away_team_id']].merge(right=prior_df, how='left', on='game_code')\n",
    "# prior_df = prior_df.set_index('game_code').loc[game_codes].reset_index()\n",
    "# display(HTML(prior_df.tail(5).to_html(index=False)))\n",
    "# mask = prior_df.isna().sum(axis=1).values == 0\n",
    "# print('Market data found for {0:d} games (out of {1:d})'.format(mask.sum(), mask.size))"
   ]
  },
  {
   "cell_type": "code",
   "execution_count": 4,
   "metadata": {},
   "outputs": [],
   "source": [
    "prior_df = pd.read_csv(\"data/game_priors.csv\")"
   ]
  },
  {
   "cell_type": "code",
   "execution_count": null,
   "metadata": {},
   "outputs": [],
   "source": [
    "events_df.group_by(\"event_id\")"
   ]
  },
  {
   "cell_type": "code",
   "execution_count": 5,
   "metadata": {},
   "outputs": [
    {
     "name": "stdout",
     "output_type": "stream",
     "text": [
      "Running get_event_data... \n",
      "\n",
      "get_event_data is returning cached df\n",
      "get_event_data done in 1 sec.\n"
     ]
    }
   ],
   "source": [
    "max_away_score = np.max(game_df[\"away_score\"])\n",
    "max_home_score = np.max(game_df[\"home_score\"])\n",
    "input_names = ['prior_home', 'prior_away','home_team_has_ball', 'home_start_score', 'away_start_score', 'quarter', 'play_start_time', 'yd_from_goal', 'down', 'ytg']\n",
    "output_name = 'remaining_exact_score'\n",
    "events_df = get_event_data(cache=cache)\n",
    "events_df['remaining_exact_score'] = events_df[\"away_rest_of_game_score\"] + \\\n",
    "                                     (max_away_score + 1) * events_df['home_rest_of_game_score']\n"
   ]
  },
  {
   "cell_type": "code",
   "execution_count": 6,
   "metadata": {},
   "outputs": [],
   "source": [
    "full_df = events_df.merge(prior_df, on=\"game_code\")\n",
    "full_df = full_df[full_df[input_names+[output_name]].notna().all(axis=1)]\n"
   ]
  },
  {
   "cell_type": "code",
   "execution_count": 7,
   "metadata": {},
   "outputs": [],
   "source": [
    "test_game_codes = game_df.loc[(game_df.season == 2021) & (game_df.game_state_id == 11), 'game_code'].values\n",
    "sim_game_codes = game_df.loc[game_df.season == 2021, 'game_code'].values\n",
    "mask_test = full_df.game_code.isin(test_game_codes)\n"
   ]
  },
  {
   "cell_type": "code",
   "execution_count": null,
   "metadata": {},
   "outputs": [],
   "source": []
  },
  {
   "cell_type": "code",
   "execution_count": 8,
   "metadata": {},
   "outputs": [],
   "source": [
    "X_train = full_df.loc[~mask_test, input_names]\n",
    "y_train = full_df.loc[~mask_test, output_name]\n",
    "X_test = full_df.loc[mask_test, input_names].values\n",
    "y_test = full_df.loc[mask_test, output_name].values\n",
    "n_categories = (max_home_score + 1) * (max_away_score + 1)\n"
   ]
  },
  {
   "cell_type": "code",
   "execution_count": 9,
   "metadata": {},
   "outputs": [],
   "source": [
    "sample = full_df[input_names]"
   ]
  },
  {
   "cell_type": "code",
   "execution_count": 12,
   "metadata": {
    "scrolled": true
   },
   "outputs": [
    {
     "name": "stdout",
     "output_type": "stream",
     "text": [
      "Iteration 1, loss = 5.42015643\n"
     ]
    },
    {
     "name": "stderr",
     "output_type": "stream",
     "text": [
      "/Users/lucashaupt/Documents/GitHub/nfl-live-win-probability/venv/lib/python3.9/site-packages/sklearn/base.py:445: UserWarning: X does not have valid feature names, but MLPClassifier was fitted with feature names\n",
      "  warnings.warn(\n"
     ]
    },
    {
     "name": "stdout",
     "output_type": "stream",
     "text": [
      "Validation score: 0.101449\n",
      "Iteration 2, loss = 5.17272574\n"
     ]
    },
    {
     "name": "stderr",
     "output_type": "stream",
     "text": [
      "/Users/lucashaupt/Documents/GitHub/nfl-live-win-probability/venv/lib/python3.9/site-packages/sklearn/base.py:445: UserWarning: X does not have valid feature names, but MLPClassifier was fitted with feature names\n",
      "  warnings.warn(\n"
     ]
    },
    {
     "name": "stdout",
     "output_type": "stream",
     "text": [
      "Validation score: 0.103613\n",
      "Iteration 3, loss = 5.13312210\n"
     ]
    },
    {
     "name": "stderr",
     "output_type": "stream",
     "text": [
      "/Users/lucashaupt/Documents/GitHub/nfl-live-win-probability/venv/lib/python3.9/site-packages/sklearn/base.py:445: UserWarning: X does not have valid feature names, but MLPClassifier was fitted with feature names\n",
      "  warnings.warn(\n"
     ]
    },
    {
     "name": "stdout",
     "output_type": "stream",
     "text": [
      "Validation score: 0.103772\n",
      "Iteration 4, loss = 5.11148813\n"
     ]
    },
    {
     "name": "stderr",
     "output_type": "stream",
     "text": [
      "/Users/lucashaupt/Documents/GitHub/nfl-live-win-probability/venv/lib/python3.9/site-packages/sklearn/base.py:445: UserWarning: X does not have valid feature names, but MLPClassifier was fitted with feature names\n",
      "  warnings.warn(\n"
     ]
    },
    {
     "name": "stdout",
     "output_type": "stream",
     "text": [
      "Validation score: 0.103527\n",
      "Iteration 5, loss = 5.10450908\n"
     ]
    },
    {
     "name": "stderr",
     "output_type": "stream",
     "text": [
      "/Users/lucashaupt/Documents/GitHub/nfl-live-win-probability/venv/lib/python3.9/site-packages/sklearn/base.py:445: UserWarning: X does not have valid feature names, but MLPClassifier was fitted with feature names\n",
      "  warnings.warn(\n"
     ]
    },
    {
     "name": "stdout",
     "output_type": "stream",
     "text": [
      "Validation score: 0.103080\n",
      "Iteration 6, loss = 5.10121420\n"
     ]
    },
    {
     "name": "stderr",
     "output_type": "stream",
     "text": [
      "/Users/lucashaupt/Documents/GitHub/nfl-live-win-probability/venv/lib/python3.9/site-packages/sklearn/base.py:445: UserWarning: X does not have valid feature names, but MLPClassifier was fitted with feature names\n",
      "  warnings.warn(\n"
     ]
    },
    {
     "name": "stdout",
     "output_type": "stream",
     "text": [
      "Validation score: 0.104840\n",
      "Iteration 7, loss = 5.09935586\n"
     ]
    },
    {
     "name": "stderr",
     "output_type": "stream",
     "text": [
      "/Users/lucashaupt/Documents/GitHub/nfl-live-win-probability/venv/lib/python3.9/site-packages/sklearn/base.py:445: UserWarning: X does not have valid feature names, but MLPClassifier was fitted with feature names\n",
      "  warnings.warn(\n"
     ]
    },
    {
     "name": "stdout",
     "output_type": "stream",
     "text": [
      "Validation score: 0.104450\n",
      "Iteration 8, loss = 5.09766096\n"
     ]
    },
    {
     "name": "stderr",
     "output_type": "stream",
     "text": [
      "/Users/lucashaupt/Documents/GitHub/nfl-live-win-probability/venv/lib/python3.9/site-packages/sklearn/base.py:445: UserWarning: X does not have valid feature names, but MLPClassifier was fitted with feature names\n",
      "  warnings.warn(\n"
     ]
    },
    {
     "name": "stdout",
     "output_type": "stream",
     "text": [
      "Validation score: 0.104927\n",
      "Iteration 9, loss = 5.09475742\n"
     ]
    },
    {
     "name": "stderr",
     "output_type": "stream",
     "text": [
      "/Users/lucashaupt/Documents/GitHub/nfl-live-win-probability/venv/lib/python3.9/site-packages/sklearn/base.py:445: UserWarning: X does not have valid feature names, but MLPClassifier was fitted with feature names\n",
      "  warnings.warn(\n"
     ]
    },
    {
     "name": "stdout",
     "output_type": "stream",
     "text": [
      "Validation score: 0.105345\n",
      "Iteration 10, loss = 5.09197088\n"
     ]
    },
    {
     "name": "stderr",
     "output_type": "stream",
     "text": [
      "/Users/lucashaupt/Documents/GitHub/nfl-live-win-probability/venv/lib/python3.9/site-packages/sklearn/base.py:445: UserWarning: X does not have valid feature names, but MLPClassifier was fitted with feature names\n",
      "  warnings.warn(\n"
     ]
    },
    {
     "name": "stdout",
     "output_type": "stream",
     "text": [
      "Validation score: 0.103585\n",
      "Iteration 11, loss = 5.08807605\n"
     ]
    },
    {
     "name": "stderr",
     "output_type": "stream",
     "text": [
      "/Users/lucashaupt/Documents/GitHub/nfl-live-win-probability/venv/lib/python3.9/site-packages/sklearn/base.py:445: UserWarning: X does not have valid feature names, but MLPClassifier was fitted with feature names\n",
      "  warnings.warn(\n"
     ]
    },
    {
     "name": "stdout",
     "output_type": "stream",
     "text": [
      "Validation score: 0.106139\n",
      "Iteration 12, loss = 5.08452276\n"
     ]
    },
    {
     "name": "stderr",
     "output_type": "stream",
     "text": [
      "/Users/lucashaupt/Documents/GitHub/nfl-live-win-probability/venv/lib/python3.9/site-packages/sklearn/base.py:445: UserWarning: X does not have valid feature names, but MLPClassifier was fitted with feature names\n",
      "  warnings.warn(\n"
     ]
    },
    {
     "name": "stdout",
     "output_type": "stream",
     "text": [
      "Validation score: 0.104768\n",
      "Iteration 13, loss = 5.07794967\n"
     ]
    },
    {
     "name": "stderr",
     "output_type": "stream",
     "text": [
      "/Users/lucashaupt/Documents/GitHub/nfl-live-win-probability/venv/lib/python3.9/site-packages/sklearn/base.py:445: UserWarning: X does not have valid feature names, but MLPClassifier was fitted with feature names\n",
      "  warnings.warn(\n"
     ]
    },
    {
     "name": "stdout",
     "output_type": "stream",
     "text": [
      "Validation score: 0.105461\n",
      "Iteration 14, loss = 5.07432339\n"
     ]
    },
    {
     "name": "stderr",
     "output_type": "stream",
     "text": [
      "/Users/lucashaupt/Documents/GitHub/nfl-live-win-probability/venv/lib/python3.9/site-packages/sklearn/base.py:445: UserWarning: X does not have valid feature names, but MLPClassifier was fitted with feature names\n",
      "  warnings.warn(\n"
     ]
    },
    {
     "name": "stdout",
     "output_type": "stream",
     "text": [
      "Validation score: 0.102574\n",
      "Iteration 15, loss = 5.06947974\n"
     ]
    },
    {
     "name": "stderr",
     "output_type": "stream",
     "text": [
      "/Users/lucashaupt/Documents/GitHub/nfl-live-win-probability/venv/lib/python3.9/site-packages/sklearn/base.py:445: UserWarning: X does not have valid feature names, but MLPClassifier was fitted with feature names\n",
      "  warnings.warn(\n"
     ]
    },
    {
     "name": "stdout",
     "output_type": "stream",
     "text": [
      "Validation score: 0.105836\n",
      "Iteration 16, loss = 5.06461321\n"
     ]
    },
    {
     "name": "stderr",
     "output_type": "stream",
     "text": [
      "/Users/lucashaupt/Documents/GitHub/nfl-live-win-probability/venv/lib/python3.9/site-packages/sklearn/base.py:445: UserWarning: X does not have valid feature names, but MLPClassifier was fitted with feature names\n",
      "  warnings.warn(\n"
     ]
    },
    {
     "name": "stdout",
     "output_type": "stream",
     "text": [
      "Validation score: 0.105489\n",
      "Iteration 17, loss = 5.06065259\n"
     ]
    },
    {
     "name": "stderr",
     "output_type": "stream",
     "text": [
      "/Users/lucashaupt/Documents/GitHub/nfl-live-win-probability/venv/lib/python3.9/site-packages/sklearn/base.py:445: UserWarning: X does not have valid feature names, but MLPClassifier was fitted with feature names\n",
      "  warnings.warn(\n"
     ]
    },
    {
     "name": "stdout",
     "output_type": "stream",
     "text": [
      "Validation score: 0.106384\n",
      "Iteration 18, loss = 5.05620426\n"
     ]
    },
    {
     "name": "stderr",
     "output_type": "stream",
     "text": [
      "/Users/lucashaupt/Documents/GitHub/nfl-live-win-probability/venv/lib/python3.9/site-packages/sklearn/base.py:445: UserWarning: X does not have valid feature names, but MLPClassifier was fitted with feature names\n",
      "  warnings.warn(\n"
     ]
    },
    {
     "name": "stdout",
     "output_type": "stream",
     "text": [
      "Validation score: 0.105417\n",
      "Iteration 19, loss = 5.05475853\n"
     ]
    },
    {
     "name": "stderr",
     "output_type": "stream",
     "text": [
      "/Users/lucashaupt/Documents/GitHub/nfl-live-win-probability/venv/lib/python3.9/site-packages/sklearn/base.py:445: UserWarning: X does not have valid feature names, but MLPClassifier was fitted with feature names\n",
      "  warnings.warn(\n"
     ]
    },
    {
     "name": "stdout",
     "output_type": "stream",
     "text": [
      "Validation score: 0.105937\n",
      "Iteration 20, loss = 5.04964353\n"
     ]
    },
    {
     "name": "stderr",
     "output_type": "stream",
     "text": [
      "/Users/lucashaupt/Documents/GitHub/nfl-live-win-probability/venv/lib/python3.9/site-packages/sklearn/base.py:445: UserWarning: X does not have valid feature names, but MLPClassifier was fitted with feature names\n",
      "  warnings.warn(\n"
     ]
    },
    {
     "name": "stdout",
     "output_type": "stream",
     "text": [
      "Validation score: 0.107019\n",
      "Iteration 21, loss = 5.04731108\n"
     ]
    },
    {
     "name": "stderr",
     "output_type": "stream",
     "text": [
      "/Users/lucashaupt/Documents/GitHub/nfl-live-win-probability/venv/lib/python3.9/site-packages/sklearn/base.py:445: UserWarning: X does not have valid feature names, but MLPClassifier was fitted with feature names\n",
      "  warnings.warn(\n"
     ]
    },
    {
     "name": "stdout",
     "output_type": "stream",
     "text": [
      "Validation score: 0.106471\n",
      "Iteration 22, loss = 5.04405781\n"
     ]
    },
    {
     "name": "stderr",
     "output_type": "stream",
     "text": [
      "/Users/lucashaupt/Documents/GitHub/nfl-live-win-probability/venv/lib/python3.9/site-packages/sklearn/base.py:445: UserWarning: X does not have valid feature names, but MLPClassifier was fitted with feature names\n",
      "  warnings.warn(\n"
     ]
    },
    {
     "name": "stdout",
     "output_type": "stream",
     "text": [
      "Validation score: 0.106240\n",
      "Iteration 23, loss = 5.04221653\n"
     ]
    },
    {
     "name": "stderr",
     "output_type": "stream",
     "text": [
      "/Users/lucashaupt/Documents/GitHub/nfl-live-win-probability/venv/lib/python3.9/site-packages/sklearn/base.py:445: UserWarning: X does not have valid feature names, but MLPClassifier was fitted with feature names\n",
      "  warnings.warn(\n"
     ]
    },
    {
     "name": "stdout",
     "output_type": "stream",
     "text": [
      "Validation score: 0.105951\n",
      "Iteration 24, loss = 5.03954527\n"
     ]
    },
    {
     "name": "stderr",
     "output_type": "stream",
     "text": [
      "/Users/lucashaupt/Documents/GitHub/nfl-live-win-probability/venv/lib/python3.9/site-packages/sklearn/base.py:445: UserWarning: X does not have valid feature names, but MLPClassifier was fitted with feature names\n",
      "  warnings.warn(\n"
     ]
    },
    {
     "name": "stdout",
     "output_type": "stream",
     "text": [
      "Validation score: 0.106225\n",
      "Iteration 25, loss = 5.03403651\n"
     ]
    },
    {
     "name": "stderr",
     "output_type": "stream",
     "text": [
      "/Users/lucashaupt/Documents/GitHub/nfl-live-win-probability/venv/lib/python3.9/site-packages/sklearn/base.py:445: UserWarning: X does not have valid feature names, but MLPClassifier was fitted with feature names\n",
      "  warnings.warn(\n"
     ]
    },
    {
     "name": "stdout",
     "output_type": "stream",
     "text": [
      "Validation score: 0.105648\n",
      "Iteration 26, loss = 5.02419499\n"
     ]
    },
    {
     "name": "stderr",
     "output_type": "stream",
     "text": [
      "/Users/lucashaupt/Documents/GitHub/nfl-live-win-probability/venv/lib/python3.9/site-packages/sklearn/base.py:445: UserWarning: X does not have valid feature names, but MLPClassifier was fitted with feature names\n",
      "  warnings.warn(\n"
     ]
    },
    {
     "name": "stdout",
     "output_type": "stream",
     "text": [
      "Validation score: 0.107005\n",
      "Validation score did not improve more than tol=0.000100 for 5 consecutive epochs. Stopping.\n"
     ]
    }
   ],
   "source": [
    "COMPUTE_PARAMS = (\n",
    "    {\"thread_count\": -1}\n",
    ")\n",
    "clf = MLPClassifier(\n",
    "    hidden_layer_sizes=[10,5],\n",
    "    activation='relu',\n",
    "    solver='adam',\n",
    "    alpha=0.0001,  # L2 regularization parameter\n",
    "    learning_rate_init=0.001,\n",
    "    batch_size=128,\n",
    "    random_state=1,\n",
    "    max_iter=50, #50\n",
    "    early_stopping=True,\n",
    "    validation_fraction=0.1,\n",
    "    n_iter_no_change=5,\n",
    "    verbose=True).fit(X_train, y_train)\n"
   ]
  },
  {
   "cell_type": "code",
   "execution_count": null,
   "metadata": {
    "scrolled": true
   },
   "outputs": [],
   "source": [
    "# test_pool = Pool(X_test, y_test)\n",
    "# FIT_PARAMS = {\n",
    "#     \"verbose\": 1,\n",
    "#     \"early_stopping_rounds\": 5,\n",
    "#     \"use_best_model\": True,\n",
    "# }\n",
    "# COMPUTE_PARAMS = (\n",
    "#     {\"devices\": \"0:1\", \"thread_count\": -1}\n",
    "# )\n",
    "# PARAMS = {\n",
    "#     # \"n_estimators\": 10,\n",
    "#     \"num_trees\": 1,\n",
    "#     \"auto_class_weights\": \"Balanced\",\n",
    "#     # \"loss_function\": JITRmseObjective(),\n",
    "#     # \"eval_metric\": JITRmseMetric(),\n",
    "#     **COMPUTE_PARAMS,\n",
    "# }\n",
    "# clf = CatBoostClassifier(\n",
    "#             random_state=42,\n",
    "#             **PARAMS,\n",
    "# ).fit(X_train, y_train, **FIT_PARAMS)\n"
   ]
  },
  {
   "cell_type": "code",
   "execution_count": 13,
   "metadata": {},
   "outputs": [
    {
     "data": {
      "text/plain": [
       "0"
      ]
     },
     "execution_count": 13,
     "metadata": {},
     "output_type": "execute_result"
    }
   ],
   "source": [
    "os.system('say \"done\"')"
   ]
  },
  {
   "cell_type": "code",
   "execution_count": 16,
   "metadata": {},
   "outputs": [],
   "source": [
    "def get_model_outputs(model, input_data, running_scores):\n",
    "    raw_output = model.predict_proba(input_data)\n",
    "    # Exact score outputs    \n",
    "    score_probs = np.zeros((input_data.shape[0], n_categories))\n",
    "    score_probs[:, clf.classes_] = raw_output\n",
    "    # 1X2 prediction & team score outputs\n",
    "    outcome_probs = np.zeros((input_data.shape[0], 3))\n",
    "    home_score_probs = np.zeros((input_data.shape[0], max_home_score + 1))\n",
    "    away_score_probs = np.zeros((input_data.shape[0], max_away_score + 1))\n",
    "    for home_score in range(max_home_score + 1):\n",
    "        ft_home_score = home_score + running_scores[:, 0]\n",
    "        for away_score in range(max_away_score + 1):            \n",
    "            ft_away_score = away_score + running_scores[:, 1]\n",
    "            remaining_prob = score_probs[:, away_score + (max_away_score + 1) * home_score]\n",
    "            # 1X2 - Home win\n",
    "            outcome_probs[:, 0] = np.where(ft_home_score > ft_away_score,\n",
    "                                           outcome_probs[:, 0] + remaining_prob,\n",
    "                                           outcome_probs[:, 0])\n",
    "            # 1X2 - Draw\n",
    "            outcome_probs[:, 1] = np.where(ft_home_score == ft_away_score,\n",
    "                                           outcome_probs[:, 1] + remaining_prob,\n",
    "                                           outcome_probs[:, 1])\n",
    "            # 1X2 - Away win\n",
    "            outcome_probs[:, 2] = np.where(ft_home_score < ft_away_score,\n",
    "                                           outcome_probs[:, 2] + remaining_prob,\n",
    "                                           outcome_probs[:, 2])\n",
    "            # Team scores\n",
    "            home_score_probs[:, home_score] += remaining_prob\n",
    "            away_score_probs[:, away_score] += remaining_prob\n",
    "    return {\n",
    "        'remaining_score': score_probs,\n",
    "        'home_score': home_score_probs,\n",
    "        'away_score': away_score_probs,\n",
    "        'ft_outcome': outcome_probs\n",
    "    }"
   ]
  },
  {
   "cell_type": "code",
   "execution_count": 19,
   "metadata": {},
   "outputs": [
    {
     "name": "stdout",
     "output_type": "stream",
     "text": [
      "\n",
      "Example input data:\n"
     ]
    },
    {
     "name": "stderr",
     "output_type": "stream",
     "text": [
      "/Users/lucashaupt/Documents/GitHub/nfl-live-win-probability/venv/lib/python3.9/site-packages/sklearn/base.py:445: UserWarning: X does not have valid feature names, but MLPClassifier was fitted with feature names\n",
      "  warnings.warn(\n"
     ]
    },
    {
     "data": {
      "text/html": [
       "<table border=\"1\" class=\"dataframe\">\n",
       "  <thead>\n",
       "    <tr style=\"text-align: right;\">\n",
       "      <th>prior_home</th>\n",
       "      <th>prior_away</th>\n",
       "      <th>home_team_has_ball</th>\n",
       "      <th>home_start_score</th>\n",
       "      <th>away_start_score</th>\n",
       "      <th>quarter</th>\n",
       "      <th>play_start_time</th>\n",
       "      <th>yd_from_goal</th>\n",
       "      <th>down</th>\n",
       "      <th>ytg</th>\n",
       "    </tr>\n",
       "  </thead>\n",
       "  <tbody>\n",
       "    <tr>\n",
       "      <td>0.433583</td>\n",
       "      <td>0.564432</td>\n",
       "      <td>0.0</td>\n",
       "      <td>0.0</td>\n",
       "      <td>0.0</td>\n",
       "      <td>1.0</td>\n",
       "      <td>900.0</td>\n",
       "      <td>65.0</td>\n",
       "      <td>0.0</td>\n",
       "      <td>-1.0</td>\n",
       "    </tr>\n",
       "    <tr>\n",
       "      <td>0.433583</td>\n",
       "      <td>0.564432</td>\n",
       "      <td>1.0</td>\n",
       "      <td>0.0</td>\n",
       "      <td>0.0</td>\n",
       "      <td>1.0</td>\n",
       "      <td>900.0</td>\n",
       "      <td>92.0</td>\n",
       "      <td>0.0</td>\n",
       "      <td>-1.0</td>\n",
       "    </tr>\n",
       "    <tr>\n",
       "      <td>0.433583</td>\n",
       "      <td>0.564432</td>\n",
       "      <td>1.0</td>\n",
       "      <td>16.0</td>\n",
       "      <td>41.0</td>\n",
       "      <td>4.0</td>\n",
       "      <td>23.0</td>\n",
       "      <td>63.0</td>\n",
       "      <td>2.0</td>\n",
       "      <td>8.0</td>\n",
       "    </tr>\n",
       "    <tr>\n",
       "      <td>0.433583</td>\n",
       "      <td>0.564432</td>\n",
       "      <td>1.0</td>\n",
       "      <td>16.0</td>\n",
       "      <td>41.0</td>\n",
       "      <td>4.0</td>\n",
       "      <td>0.0</td>\n",
       "      <td>54.0</td>\n",
       "      <td>1.0</td>\n",
       "      <td>-1.0</td>\n",
       "    </tr>\n",
       "  </tbody>\n",
       "</table>"
      ],
      "text/plain": [
       "<IPython.core.display.HTML object>"
      ]
     },
     "metadata": {},
     "output_type": "display_data"
    },
    {
     "name": "stdout",
     "output_type": "stream",
     "text": [
      "\n",
      "Example outputs (home team score):\n"
     ]
    },
    {
     "data": {
      "text/html": [
       "<table border=\"1\" class=\"dataframe\">\n",
       "  <thead>\n",
       "    <tr style=\"text-align: right;\">\n",
       "      <th>0</th>\n",
       "      <th>1</th>\n",
       "      <th>2</th>\n",
       "      <th>3</th>\n",
       "      <th>4</th>\n",
       "      <th>5</th>\n",
       "      <th>6</th>\n",
       "      <th>7</th>\n",
       "      <th>8</th>\n",
       "      <th>9</th>\n",
       "      <th>10</th>\n",
       "      <th>11</th>\n",
       "      <th>12</th>\n",
       "      <th>13</th>\n",
       "      <th>14</th>\n",
       "      <th>15</th>\n",
       "      <th>16</th>\n",
       "      <th>17</th>\n",
       "      <th>18</th>\n",
       "      <th>19</th>\n",
       "      <th>20</th>\n",
       "      <th>21</th>\n",
       "      <th>22</th>\n",
       "      <th>23</th>\n",
       "      <th>24</th>\n",
       "      <th>25</th>\n",
       "      <th>26</th>\n",
       "      <th>27</th>\n",
       "      <th>28</th>\n",
       "      <th>29</th>\n",
       "      <th>30</th>\n",
       "      <th>31</th>\n",
       "      <th>32</th>\n",
       "      <th>33</th>\n",
       "      <th>34</th>\n",
       "      <th>35</th>\n",
       "      <th>36</th>\n",
       "      <th>37</th>\n",
       "      <th>38</th>\n",
       "      <th>39</th>\n",
       "      <th>40</th>\n",
       "      <th>41</th>\n",
       "      <th>42</th>\n",
       "      <th>43</th>\n",
       "      <th>44</th>\n",
       "      <th>45</th>\n",
       "      <th>46</th>\n",
       "      <th>47</th>\n",
       "      <th>48</th>\n",
       "      <th>49</th>\n",
       "      <th>50</th>\n",
       "      <th>51</th>\n",
       "      <th>52</th>\n",
       "      <th>53</th>\n",
       "      <th>54</th>\n",
       "      <th>55</th>\n",
       "      <th>56</th>\n",
       "      <th>57</th>\n",
       "      <th>58</th>\n",
       "      <th>59</th>\n",
       "      <th>60</th>\n",
       "      <th>61</th>\n",
       "      <th>62</th>\n",
       "    </tr>\n",
       "  </thead>\n",
       "  <tbody>\n",
       "    <tr>\n",
       "      <td>0.008568</td>\n",
       "      <td>0.000004</td>\n",
       "      <td>0.000269</td>\n",
       "      <td>0.015337</td>\n",
       "      <td>0.000006</td>\n",
       "      <td>0.000415</td>\n",
       "      <td>0.015037</td>\n",
       "      <td>0.022512</td>\n",
       "      <td>0.003081</td>\n",
       "      <td>0.011634</td>\n",
       "      <td>0.039997</td>\n",
       "      <td>0.004027</td>\n",
       "      <td>0.009801</td>\n",
       "      <td>0.039213</td>\n",
       "      <td>0.031609</td>\n",
       "      <td>0.009789</td>\n",
       "      <td>0.038300</td>\n",
       "      <td>0.068450</td>\n",
       "      <td>0.009330</td>\n",
       "      <td>0.022085</td>\n",
       "      <td>0.068069</td>\n",
       "      <td>0.035756</td>\n",
       "      <td>0.014018</td>\n",
       "      <td>0.051902</td>\n",
       "      <td>0.065661</td>\n",
       "      <td>0.011914</td>\n",
       "      <td>2.474631e-02</td>\n",
       "      <td>0.055066</td>\n",
       "      <td>0.031021</td>\n",
       "      <td>1.379509e-02</td>\n",
       "      <td>3.434880e-02</td>\n",
       "      <td>4.893808e-02</td>\n",
       "      <td>8.443529e-03</td>\n",
       "      <td>1.562196e-02</td>\n",
       "      <td>0.034774</td>\n",
       "      <td>2.061137e-02</td>\n",
       "      <td>7.017763e-03</td>\n",
       "      <td>1.514830e-02</td>\n",
       "      <td>2.560310e-02</td>\n",
       "      <td>3.547837e-03</td>\n",
       "      <td>6.990522e-03</td>\n",
       "      <td>1.079314e-02</td>\n",
       "      <td>7.874559e-03</td>\n",
       "      <td>4.819867e-03</td>\n",
       "      <td>4.565581e-03</td>\n",
       "      <td>9.374703e-03</td>\n",
       "      <td>1.440949e-03</td>\n",
       "      <td>2.241958e-03</td>\n",
       "      <td>4.045171e-03</td>\n",
       "      <td>4.232313e-03</td>\n",
       "      <td>3.441699e-04</td>\n",
       "      <td>1.961029e-03</td>\n",
       "      <td>1.806555e-03</td>\n",
       "      <td>4.734868e-04</td>\n",
       "      <td>4.249371e-04</td>\n",
       "      <td>1.516080e-03</td>\n",
       "      <td>5.288199e-04</td>\n",
       "      <td>1.072742e-04</td>\n",
       "      <td>2.189869e-04</td>\n",
       "      <td>5.204773e-04</td>\n",
       "      <td>4.619103e-11</td>\n",
       "      <td>0.0</td>\n",
       "      <td>2.500571e-04</td>\n",
       "    </tr>\n",
       "    <tr>\n",
       "      <td>0.007183</td>\n",
       "      <td>0.000002</td>\n",
       "      <td>0.000218</td>\n",
       "      <td>0.013242</td>\n",
       "      <td>0.000002</td>\n",
       "      <td>0.000315</td>\n",
       "      <td>0.013624</td>\n",
       "      <td>0.019161</td>\n",
       "      <td>0.002543</td>\n",
       "      <td>0.010462</td>\n",
       "      <td>0.036252</td>\n",
       "      <td>0.003272</td>\n",
       "      <td>0.009236</td>\n",
       "      <td>0.038363</td>\n",
       "      <td>0.028416</td>\n",
       "      <td>0.008370</td>\n",
       "      <td>0.037840</td>\n",
       "      <td>0.067727</td>\n",
       "      <td>0.007944</td>\n",
       "      <td>0.022286</td>\n",
       "      <td>0.071728</td>\n",
       "      <td>0.034138</td>\n",
       "      <td>0.012980</td>\n",
       "      <td>0.056041</td>\n",
       "      <td>0.069617</td>\n",
       "      <td>0.010731</td>\n",
       "      <td>2.620463e-02</td>\n",
       "      <td>0.059614</td>\n",
       "      <td>0.030120</td>\n",
       "      <td>1.355590e-02</td>\n",
       "      <td>3.730866e-02</td>\n",
       "      <td>5.362086e-02</td>\n",
       "      <td>8.067711e-03</td>\n",
       "      <td>1.561272e-02</td>\n",
       "      <td>0.037680</td>\n",
       "      <td>2.062983e-02</td>\n",
       "      <td>6.822425e-03</td>\n",
       "      <td>1.511547e-02</td>\n",
       "      <td>2.697941e-02</td>\n",
       "      <td>3.182318e-03</td>\n",
       "      <td>6.799183e-03</td>\n",
       "      <td>1.102432e-02</td>\n",
       "      <td>7.816188e-03</td>\n",
       "      <td>4.701165e-03</td>\n",
       "      <td>4.504399e-03</td>\n",
       "      <td>9.778294e-03</td>\n",
       "      <td>1.322443e-03</td>\n",
       "      <td>2.252139e-03</td>\n",
       "      <td>3.892757e-03</td>\n",
       "      <td>4.135312e-03</td>\n",
       "      <td>3.006409e-04</td>\n",
       "      <td>1.807531e-03</td>\n",
       "      <td>1.671064e-03</td>\n",
       "      <td>4.238294e-04</td>\n",
       "      <td>3.782125e-04</td>\n",
       "      <td>1.467607e-03</td>\n",
       "      <td>4.972522e-04</td>\n",
       "      <td>9.084677e-05</td>\n",
       "      <td>2.109514e-04</td>\n",
       "      <td>4.754863e-04</td>\n",
       "      <td>4.945179e-11</td>\n",
       "      <td>0.0</td>\n",
       "      <td>2.433293e-04</td>\n",
       "    </tr>\n",
       "    <tr>\n",
       "      <td>0.896229</td>\n",
       "      <td>0.000005</td>\n",
       "      <td>0.001790</td>\n",
       "      <td>0.007403</td>\n",
       "      <td>0.000002</td>\n",
       "      <td>0.000049</td>\n",
       "      <td>0.010339</td>\n",
       "      <td>0.060057</td>\n",
       "      <td>0.018468</td>\n",
       "      <td>0.000294</td>\n",
       "      <td>0.001283</td>\n",
       "      <td>0.000884</td>\n",
       "      <td>0.000054</td>\n",
       "      <td>0.000526</td>\n",
       "      <td>0.001742</td>\n",
       "      <td>0.000444</td>\n",
       "      <td>0.000082</td>\n",
       "      <td>0.000076</td>\n",
       "      <td>0.000147</td>\n",
       "      <td>0.000004</td>\n",
       "      <td>0.000026</td>\n",
       "      <td>0.000045</td>\n",
       "      <td>0.000010</td>\n",
       "      <td>0.000004</td>\n",
       "      <td>0.000015</td>\n",
       "      <td>0.000010</td>\n",
       "      <td>8.825651e-07</td>\n",
       "      <td>0.000002</td>\n",
       "      <td>0.000005</td>\n",
       "      <td>3.949471e-07</td>\n",
       "      <td>4.760831e-07</td>\n",
       "      <td>6.617504e-08</td>\n",
       "      <td>9.487706e-07</td>\n",
       "      <td>3.518253e-08</td>\n",
       "      <td>0.000002</td>\n",
       "      <td>3.012434e-07</td>\n",
       "      <td>7.224356e-07</td>\n",
       "      <td>1.368013e-07</td>\n",
       "      <td>1.239348e-08</td>\n",
       "      <td>4.594063e-08</td>\n",
       "      <td>8.177519e-08</td>\n",
       "      <td>1.341449e-09</td>\n",
       "      <td>2.139265e-07</td>\n",
       "      <td>3.577418e-09</td>\n",
       "      <td>5.658360e-11</td>\n",
       "      <td>2.286257e-10</td>\n",
       "      <td>2.713273e-10</td>\n",
       "      <td>2.900092e-14</td>\n",
       "      <td>1.052837e-08</td>\n",
       "      <td>7.538657e-09</td>\n",
       "      <td>1.146084e-13</td>\n",
       "      <td>1.739045e-07</td>\n",
       "      <td>3.930568e-09</td>\n",
       "      <td>1.075340e-13</td>\n",
       "      <td>4.589137e-23</td>\n",
       "      <td>1.498908e-13</td>\n",
       "      <td>5.808416e-10</td>\n",
       "      <td>2.146531e-10</td>\n",
       "      <td>3.523738e-25</td>\n",
       "      <td>5.278344e-14</td>\n",
       "      <td>6.860108e-14</td>\n",
       "      <td>0.0</td>\n",
       "      <td>6.832750e-10</td>\n",
       "    </tr>\n",
       "    <tr>\n",
       "      <td>0.887443</td>\n",
       "      <td>0.000005</td>\n",
       "      <td>0.001921</td>\n",
       "      <td>0.007998</td>\n",
       "      <td>0.000003</td>\n",
       "      <td>0.000056</td>\n",
       "      <td>0.011193</td>\n",
       "      <td>0.064864</td>\n",
       "      <td>0.019951</td>\n",
       "      <td>0.000340</td>\n",
       "      <td>0.001474</td>\n",
       "      <td>0.001007</td>\n",
       "      <td>0.000065</td>\n",
       "      <td>0.000614</td>\n",
       "      <td>0.002021</td>\n",
       "      <td>0.000520</td>\n",
       "      <td>0.000099</td>\n",
       "      <td>0.000093</td>\n",
       "      <td>0.000176</td>\n",
       "      <td>0.000004</td>\n",
       "      <td>0.000032</td>\n",
       "      <td>0.000055</td>\n",
       "      <td>0.000013</td>\n",
       "      <td>0.000005</td>\n",
       "      <td>0.000019</td>\n",
       "      <td>0.000012</td>\n",
       "      <td>1.144884e-06</td>\n",
       "      <td>0.000002</td>\n",
       "      <td>0.000006</td>\n",
       "      <td>5.069325e-07</td>\n",
       "      <td>6.171262e-07</td>\n",
       "      <td>8.762713e-08</td>\n",
       "      <td>1.186074e-06</td>\n",
       "      <td>5.146070e-08</td>\n",
       "      <td>0.000003</td>\n",
       "      <td>3.964154e-07</td>\n",
       "      <td>8.917572e-07</td>\n",
       "      <td>1.806153e-07</td>\n",
       "      <td>1.665009e-08</td>\n",
       "      <td>6.019322e-08</td>\n",
       "      <td>1.126452e-07</td>\n",
       "      <td>1.851502e-09</td>\n",
       "      <td>2.862796e-07</td>\n",
       "      <td>4.995280e-09</td>\n",
       "      <td>8.689791e-11</td>\n",
       "      <td>3.214962e-10</td>\n",
       "      <td>3.810458e-10</td>\n",
       "      <td>4.303224e-14</td>\n",
       "      <td>1.399113e-08</td>\n",
       "      <td>1.067444e-08</td>\n",
       "      <td>1.669548e-13</td>\n",
       "      <td>2.372280e-07</td>\n",
       "      <td>5.689576e-09</td>\n",
       "      <td>1.588557e-13</td>\n",
       "      <td>9.321057e-23</td>\n",
       "      <td>2.304688e-13</td>\n",
       "      <td>8.694609e-10</td>\n",
       "      <td>2.828702e-10</td>\n",
       "      <td>7.572052e-25</td>\n",
       "      <td>7.768422e-14</td>\n",
       "      <td>8.543863e-14</td>\n",
       "      <td>0.0</td>\n",
       "      <td>8.717294e-10</td>\n",
       "    </tr>\n",
       "  </tbody>\n",
       "</table>"
      ],
      "text/plain": [
       "<IPython.core.display.HTML object>"
      ]
     },
     "metadata": {},
     "output_type": "display_data"
    },
    {
     "name": "stdout",
     "output_type": "stream",
     "text": [
      "\n",
      "Example outputs (away team score):\n"
     ]
    },
    {
     "data": {
      "text/html": [
       "<table border=\"1\" class=\"dataframe\">\n",
       "  <thead>\n",
       "    <tr style=\"text-align: right;\">\n",
       "      <th>0</th>\n",
       "      <th>1</th>\n",
       "      <th>2</th>\n",
       "      <th>3</th>\n",
       "      <th>4</th>\n",
       "      <th>5</th>\n",
       "      <th>6</th>\n",
       "      <th>7</th>\n",
       "      <th>8</th>\n",
       "      <th>9</th>\n",
       "      <th>10</th>\n",
       "      <th>11</th>\n",
       "      <th>12</th>\n",
       "      <th>13</th>\n",
       "      <th>14</th>\n",
       "      <th>15</th>\n",
       "      <th>16</th>\n",
       "      <th>17</th>\n",
       "      <th>18</th>\n",
       "      <th>19</th>\n",
       "      <th>20</th>\n",
       "      <th>21</th>\n",
       "      <th>22</th>\n",
       "      <th>23</th>\n",
       "      <th>24</th>\n",
       "      <th>25</th>\n",
       "      <th>26</th>\n",
       "      <th>27</th>\n",
       "      <th>28</th>\n",
       "      <th>29</th>\n",
       "      <th>30</th>\n",
       "      <th>31</th>\n",
       "      <th>32</th>\n",
       "      <th>33</th>\n",
       "      <th>34</th>\n",
       "      <th>35</th>\n",
       "      <th>36</th>\n",
       "      <th>37</th>\n",
       "      <th>38</th>\n",
       "      <th>39</th>\n",
       "      <th>40</th>\n",
       "      <th>41</th>\n",
       "      <th>42</th>\n",
       "      <th>43</th>\n",
       "      <th>44</th>\n",
       "      <th>45</th>\n",
       "      <th>46</th>\n",
       "      <th>47</th>\n",
       "      <th>48</th>\n",
       "      <th>49</th>\n",
       "      <th>50</th>\n",
       "      <th>51</th>\n",
       "      <th>52</th>\n",
       "      <th>53</th>\n",
       "      <th>54</th>\n",
       "      <th>55</th>\n",
       "      <th>56</th>\n",
       "      <th>57</th>\n",
       "      <th>58</th>\n",
       "      <th>59</th>\n",
       "    </tr>\n",
       "  </thead>\n",
       "  <tbody>\n",
       "    <tr>\n",
       "      <td>0.016227</td>\n",
       "      <td>0.000009</td>\n",
       "      <td>0.000501</td>\n",
       "      <td>0.021149</td>\n",
       "      <td>0.000016</td>\n",
       "      <td>0.001281</td>\n",
       "      <td>0.018469</td>\n",
       "      <td>0.033921</td>\n",
       "      <td>0.002805</td>\n",
       "      <td>0.017214</td>\n",
       "      <td>0.056764</td>\n",
       "      <td>0.003520</td>\n",
       "      <td>0.012926</td>\n",
       "      <td>0.052930</td>\n",
       "      <td>0.044995</td>\n",
       "      <td>0.008780</td>\n",
       "      <td>0.038192</td>\n",
       "      <td>0.085230</td>\n",
       "      <td>0.009939</td>\n",
       "      <td>0.020719</td>\n",
       "      <td>0.067905</td>\n",
       "      <td>0.038910</td>\n",
       "      <td>1.241898e-02</td>\n",
       "      <td>4.695581e-02</td>\n",
       "      <td>0.063665</td>\n",
       "      <td>1.196590e-02</td>\n",
       "      <td>2.590577e-02</td>\n",
       "      <td>4.772915e-02</td>\n",
       "      <td>2.749574e-02</td>\n",
       "      <td>9.491749e-03</td>\n",
       "      <td>2.401628e-02</td>\n",
       "      <td>3.743517e-02</td>\n",
       "      <td>7.986714e-03</td>\n",
       "      <td>1.373180e-02</td>\n",
       "      <td>2.839169e-02</td>\n",
       "      <td>1.413044e-02</td>\n",
       "      <td>6.280175e-03</td>\n",
       "      <td>1.237129e-02</td>\n",
       "      <td>1.720219e-02</td>\n",
       "      <td>2.544056e-03</td>\n",
       "      <td>4.055499e-03</td>\n",
       "      <td>1.227830e-02</td>\n",
       "      <td>5.972298e-03</td>\n",
       "      <td>1.788493e-03</td>\n",
       "      <td>2.681140e-03</td>\n",
       "      <td>3.892907e-03</td>\n",
       "      <td>6.358602e-04</td>\n",
       "      <td>6.243263e-04</td>\n",
       "      <td>2.102751e-03</td>\n",
       "      <td>1.638983e-03</td>\n",
       "      <td>1.342839e-04</td>\n",
       "      <td>1.368059e-03</td>\n",
       "      <td>3.428874e-04</td>\n",
       "      <td>7.010563e-07</td>\n",
       "      <td>4.755927e-08</td>\n",
       "      <td>9.746980e-05</td>\n",
       "      <td>1.976334e-05</td>\n",
       "      <td>0.0</td>\n",
       "      <td>0.0</td>\n",
       "      <td>2.465022e-04</td>\n",
       "    </tr>\n",
       "    <tr>\n",
       "      <td>0.016267</td>\n",
       "      <td>0.000004</td>\n",
       "      <td>0.000412</td>\n",
       "      <td>0.022046</td>\n",
       "      <td>0.000008</td>\n",
       "      <td>0.001115</td>\n",
       "      <td>0.018534</td>\n",
       "      <td>0.034311</td>\n",
       "      <td>0.002371</td>\n",
       "      <td>0.017256</td>\n",
       "      <td>0.059783</td>\n",
       "      <td>0.002903</td>\n",
       "      <td>0.012837</td>\n",
       "      <td>0.055165</td>\n",
       "      <td>0.044556</td>\n",
       "      <td>0.007972</td>\n",
       "      <td>0.038111</td>\n",
       "      <td>0.089083</td>\n",
       "      <td>0.008748</td>\n",
       "      <td>0.020122</td>\n",
       "      <td>0.071106</td>\n",
       "      <td>0.037968</td>\n",
       "      <td>1.139105e-02</td>\n",
       "      <td>4.850943e-02</td>\n",
       "      <td>0.065586</td>\n",
       "      <td>1.074228e-02</td>\n",
       "      <td>2.557850e-02</td>\n",
       "      <td>4.842288e-02</td>\n",
       "      <td>2.640267e-02</td>\n",
       "      <td>8.581727e-03</td>\n",
       "      <td>2.369005e-02</td>\n",
       "      <td>3.703653e-02</td>\n",
       "      <td>7.264791e-03</td>\n",
       "      <td>1.282311e-02</td>\n",
       "      <td>2.829598e-02</td>\n",
       "      <td>1.314787e-02</td>\n",
       "      <td>5.766289e-03</td>\n",
       "      <td>1.196347e-02</td>\n",
       "      <td>1.675297e-02</td>\n",
       "      <td>2.297415e-03</td>\n",
       "      <td>3.867979e-03</td>\n",
       "      <td>1.160843e-02</td>\n",
       "      <td>5.552262e-03</td>\n",
       "      <td>1.597793e-03</td>\n",
       "      <td>2.405236e-03</td>\n",
       "      <td>3.524093e-03</td>\n",
       "      <td>5.561680e-04</td>\n",
       "      <td>5.389173e-04</td>\n",
       "      <td>1.932883e-03</td>\n",
       "      <td>1.514551e-03</td>\n",
       "      <td>1.165543e-04</td>\n",
       "      <td>1.248410e-03</td>\n",
       "      <td>2.934302e-04</td>\n",
       "      <td>3.359258e-07</td>\n",
       "      <td>1.960897e-08</td>\n",
       "      <td>8.193909e-05</td>\n",
       "      <td>1.492177e-05</td>\n",
       "      <td>0.0</td>\n",
       "      <td>0.0</td>\n",
       "      <td>2.138420e-04</td>\n",
       "    </tr>\n",
       "    <tr>\n",
       "      <td>0.892329</td>\n",
       "      <td>0.000012</td>\n",
       "      <td>0.001269</td>\n",
       "      <td>0.058314</td>\n",
       "      <td>0.000014</td>\n",
       "      <td>0.000156</td>\n",
       "      <td>0.004822</td>\n",
       "      <td>0.035104</td>\n",
       "      <td>0.002191</td>\n",
       "      <td>0.000267</td>\n",
       "      <td>0.002750</td>\n",
       "      <td>0.000243</td>\n",
       "      <td>0.000024</td>\n",
       "      <td>0.000213</td>\n",
       "      <td>0.001976</td>\n",
       "      <td>0.000045</td>\n",
       "      <td>0.000010</td>\n",
       "      <td>0.000149</td>\n",
       "      <td>0.000013</td>\n",
       "      <td>0.000006</td>\n",
       "      <td>0.000007</td>\n",
       "      <td>0.000077</td>\n",
       "      <td>9.861170e-07</td>\n",
       "      <td>3.536274e-07</td>\n",
       "      <td>0.000004</td>\n",
       "      <td>1.220678e-07</td>\n",
       "      <td>1.107086e-08</td>\n",
       "      <td>3.066513e-07</td>\n",
       "      <td>8.216549e-07</td>\n",
       "      <td>1.533802e-07</td>\n",
       "      <td>1.668794e-07</td>\n",
       "      <td>2.367922e-07</td>\n",
       "      <td>3.564226e-09</td>\n",
       "      <td>4.368079e-08</td>\n",
       "      <td>2.505581e-08</td>\n",
       "      <td>2.281100e-08</td>\n",
       "      <td>1.897852e-08</td>\n",
       "      <td>1.626224e-09</td>\n",
       "      <td>2.867967e-08</td>\n",
       "      <td>2.975844e-12</td>\n",
       "      <td>2.379029e-12</td>\n",
       "      <td>2.492987e-08</td>\n",
       "      <td>1.316438e-09</td>\n",
       "      <td>3.031461e-13</td>\n",
       "      <td>2.797714e-11</td>\n",
       "      <td>1.156266e-09</td>\n",
       "      <td>7.893890e-14</td>\n",
       "      <td>5.944018e-14</td>\n",
       "      <td>7.323465e-11</td>\n",
       "      <td>9.265850e-14</td>\n",
       "      <td>3.412426e-14</td>\n",
       "      <td>2.731366e-14</td>\n",
       "      <td>6.155868e-16</td>\n",
       "      <td>1.668324e-13</td>\n",
       "      <td>6.832066e-10</td>\n",
       "      <td>2.696174e-07</td>\n",
       "      <td>6.367023e-18</td>\n",
       "      <td>0.0</td>\n",
       "      <td>0.0</td>\n",
       "      <td>1.423904e-17</td>\n",
       "    </tr>\n",
       "    <tr>\n",
       "      <td>0.883744</td>\n",
       "      <td>0.000014</td>\n",
       "      <td>0.001382</td>\n",
       "      <td>0.062171</td>\n",
       "      <td>0.000016</td>\n",
       "      <td>0.000178</td>\n",
       "      <td>0.005362</td>\n",
       "      <td>0.038040</td>\n",
       "      <td>0.002406</td>\n",
       "      <td>0.000312</td>\n",
       "      <td>0.003173</td>\n",
       "      <td>0.000281</td>\n",
       "      <td>0.000028</td>\n",
       "      <td>0.000254</td>\n",
       "      <td>0.002259</td>\n",
       "      <td>0.000053</td>\n",
       "      <td>0.000012</td>\n",
       "      <td>0.000178</td>\n",
       "      <td>0.000016</td>\n",
       "      <td>0.000007</td>\n",
       "      <td>0.000009</td>\n",
       "      <td>0.000093</td>\n",
       "      <td>1.260833e-06</td>\n",
       "      <td>4.589395e-07</td>\n",
       "      <td>0.000005</td>\n",
       "      <td>1.604924e-07</td>\n",
       "      <td>1.487047e-08</td>\n",
       "      <td>4.022707e-07</td>\n",
       "      <td>1.042815e-06</td>\n",
       "      <td>2.038242e-07</td>\n",
       "      <td>2.151149e-07</td>\n",
       "      <td>3.081083e-07</td>\n",
       "      <td>4.703606e-09</td>\n",
       "      <td>5.997979e-08</td>\n",
       "      <td>3.483130e-08</td>\n",
       "      <td>3.018945e-08</td>\n",
       "      <td>2.604742e-08</td>\n",
       "      <td>2.197814e-09</td>\n",
       "      <td>3.798960e-08</td>\n",
       "      <td>4.619842e-12</td>\n",
       "      <td>3.427580e-12</td>\n",
       "      <td>3.341530e-08</td>\n",
       "      <td>1.872513e-09</td>\n",
       "      <td>4.306171e-13</td>\n",
       "      <td>4.154345e-11</td>\n",
       "      <td>1.640774e-09</td>\n",
       "      <td>1.164532e-13</td>\n",
       "      <td>8.715527e-14</td>\n",
       "      <td>1.145060e-10</td>\n",
       "      <td>1.361609e-13</td>\n",
       "      <td>5.036249e-14</td>\n",
       "      <td>4.045590e-14</td>\n",
       "      <td>9.962304e-16</td>\n",
       "      <td>2.443862e-13</td>\n",
       "      <td>8.716443e-10</td>\n",
       "      <td>3.201684e-07</td>\n",
       "      <td>1.076320e-17</td>\n",
       "      <td>0.0</td>\n",
       "      <td>0.0</td>\n",
       "      <td>2.380978e-17</td>\n",
       "    </tr>\n",
       "  </tbody>\n",
       "</table>"
      ],
      "text/plain": [
       "<IPython.core.display.HTML object>"
      ]
     },
     "metadata": {},
     "output_type": "display_data"
    },
    {
     "name": "stdout",
     "output_type": "stream",
     "text": [
      "\n",
      "Example outputs (1X2):\n"
     ]
    },
    {
     "data": {
      "text/html": [
       "<table border=\"1\" class=\"dataframe\">\n",
       "  <thead>\n",
       "    <tr style=\"text-align: right;\">\n",
       "      <th>home win</th>\n",
       "      <th>draw</th>\n",
       "      <th>away win</th>\n",
       "    </tr>\n",
       "  </thead>\n",
       "  <tbody>\n",
       "    <tr>\n",
       "      <td>0.561813</td>\n",
       "      <td>0.027462</td>\n",
       "      <td>0.410725</td>\n",
       "    </tr>\n",
       "    <tr>\n",
       "      <td>0.583585</td>\n",
       "      <td>0.026634</td>\n",
       "      <td>0.389780</td>\n",
       "    </tr>\n",
       "    <tr>\n",
       "      <td>0.000003</td>\n",
       "      <td>0.000002</td>\n",
       "      <td>0.999995</td>\n",
       "    </tr>\n",
       "    <tr>\n",
       "      <td>0.000004</td>\n",
       "      <td>0.000003</td>\n",
       "      <td>0.999994</td>\n",
       "    </tr>\n",
       "  </tbody>\n",
       "</table>"
      ],
      "text/plain": [
       "<IPython.core.display.HTML object>"
      ]
     },
     "metadata": {},
     "output_type": "display_data"
    }
   ],
   "source": [
    "example_game_code = np.random.choice(test_game_codes)\n",
    "example_indices = [0, 1, -2, -1]\n",
    "example_input = full_df.loc[full_df.game_code == example_game_code, input_names].values[example_indices]\n",
    "full_df = full_df.sort_values([\"game_code\", \"nevent\"], ascending=True)\n",
    "example_running_score = full_df.loc[full_df.game_code == example_game_code,\n",
    "                                    ['home_start_score', 'away_start_score']].values[example_indices]\n",
    "example_output = get_model_outputs(clf, example_input, example_running_score)\n",
    "print('\\nExample input data:')\n",
    "display(HTML(pd.DataFrame(data=example_input, columns=input_names).to_html(index=False)))\n",
    "\n",
    "# print('\\nExample outputs (exact score):')\n",
    "# print(example_output['remaining_score'][0][0:10])\n",
    "# print(example_output['remaining_score'][0][10:20])\n",
    "# print(example_output['remaining_score'][0][20:30])\n",
    "\n",
    "print('\\nExample outputs (home team score):')\n",
    "display(HTML(pd.DataFrame(data=example_output['home_score'], columns=np.arange(max_home_score + 1)).to_html(index=False)))\n",
    "\n",
    "print('\\nExample outputs (away team score):')\n",
    "display(HTML(pd.DataFrame(data=example_output['away_score'], columns=np.arange(max_away_score + 1)).to_html(index=False)))\n",
    "\n",
    "print('\\nExample outputs (1X2):')\n",
    "display(HTML(pd.DataFrame(data=example_output['ft_outcome'], columns=['home win', 'draw', 'away win']).to_html(index=False)))"
   ]
  },
  {
   "cell_type": "code",
   "execution_count": 23,
   "metadata": {},
   "outputs": [],
   "source": [
    "import pickle\n",
    "\n",
    "pickle.dump(clf, open(\"models/game_score.sav\", 'wb'))"
   ]
  },
  {
   "cell_type": "code",
   "execution_count": 21,
   "metadata": {},
   "outputs": [
    {
     "name": "stderr",
     "output_type": "stream",
     "text": [
      "/var/folders/dq/tcxv3s4j7y585_4jhfbdvrx00000gn/T/ipykernel_55444/2551031834.py:3: SettingWithCopyWarning: \n",
      "A value is trying to be set on a copy of a slice from a DataFrame.\n",
      "Try using .loc[row_indexer,col_indexer] = value instead\n",
      "\n",
      "See the caveats in the documentation: https://pandas.pydata.org/pandas-docs/stable/user_guide/indexing.html#returning-a-view-versus-a-copy\n",
      "  game_info_df['game_description'] = ['{0} {1} v {2}'.format(i.game_date, i.home_team_abbrev, i.away_team_abbrev) for _, i in game_info_df.iterrows()]\n"
     ]
    },
    {
     "data": {
      "application/vnd.jupyter.widget-view+json": {
       "model_id": "5b79da8d193f489983c2945c7868af3f",
       "version_major": 2,
       "version_minor": 0
      },
      "text/plain": [
       "VBox(children=(HBox(children=(Dropdown(description='Match', options=('2021-12-06 20:15:00 Buf v NE', '2021-12-…"
      ]
     },
     "metadata": {},
     "output_type": "display_data"
    },
    {
     "data": {
      "application/javascript": "/* Put everything inside the global mpl namespace */\n/* global mpl */\nwindow.mpl = {};\n\nmpl.get_websocket_type = function () {\n    if (typeof WebSocket !== 'undefined') {\n        return WebSocket;\n    } else if (typeof MozWebSocket !== 'undefined') {\n        return MozWebSocket;\n    } else {\n        alert(\n            'Your browser does not have WebSocket support. ' +\n                'Please try Chrome, Safari or Firefox ≥ 6. ' +\n                'Firefox 4 and 5 are also supported but you ' +\n                'have to enable WebSockets in about:config.'\n        );\n    }\n};\n\nmpl.figure = function (figure_id, websocket, ondownload, parent_element) {\n    this.id = figure_id;\n\n    this.ws = websocket;\n\n    this.supports_binary = this.ws.binaryType !== undefined;\n\n    if (!this.supports_binary) {\n        var warnings = document.getElementById('mpl-warnings');\n        if (warnings) {\n            warnings.style.display = 'block';\n            warnings.textContent =\n                'This browser does not support binary websocket messages. ' +\n                'Performance may be slow.';\n        }\n    }\n\n    this.imageObj = new Image();\n\n    this.context = undefined;\n    this.message = undefined;\n    this.canvas = undefined;\n    this.rubberband_canvas = undefined;\n    this.rubberband_context = undefined;\n    this.format_dropdown = undefined;\n\n    this.image_mode = 'full';\n\n    this.root = document.createElement('div');\n    this.root.setAttribute('style', 'display: inline-block');\n    this._root_extra_style(this.root);\n\n    parent_element.appendChild(this.root);\n\n    this._init_header(this);\n    this._init_canvas(this);\n    this._init_toolbar(this);\n\n    var fig = this;\n\n    this.waiting = false;\n\n    this.ws.onopen = function () {\n        fig.send_message('supports_binary', { value: fig.supports_binary });\n        fig.send_message('send_image_mode', {});\n        if (fig.ratio !== 1) {\n            fig.send_message('set_dpi_ratio', { dpi_ratio: fig.ratio });\n        }\n        fig.send_message('refresh', {});\n    };\n\n    this.imageObj.onload = function () {\n        if (fig.image_mode === 'full') {\n            // Full images could contain transparency (where diff images\n            // almost always do), so we need to clear the canvas so that\n            // there is no ghosting.\n            fig.context.clearRect(0, 0, fig.canvas.width, fig.canvas.height);\n        }\n        fig.context.drawImage(fig.imageObj, 0, 0);\n    };\n\n    this.imageObj.onunload = function () {\n        fig.ws.close();\n    };\n\n    this.ws.onmessage = this._make_on_message_function(this);\n\n    this.ondownload = ondownload;\n};\n\nmpl.figure.prototype._init_header = function () {\n    var titlebar = document.createElement('div');\n    titlebar.classList =\n        'ui-dialog-titlebar ui-widget-header ui-corner-all ui-helper-clearfix';\n    var titletext = document.createElement('div');\n    titletext.classList = 'ui-dialog-title';\n    titletext.setAttribute(\n        'style',\n        'width: 100%; text-align: center; padding: 3px;'\n    );\n    titlebar.appendChild(titletext);\n    this.root.appendChild(titlebar);\n    this.header = titletext;\n};\n\nmpl.figure.prototype._canvas_extra_style = function (_canvas_div) {};\n\nmpl.figure.prototype._root_extra_style = function (_canvas_div) {};\n\nmpl.figure.prototype._init_canvas = function () {\n    var fig = this;\n\n    var canvas_div = (this.canvas_div = document.createElement('div'));\n    canvas_div.setAttribute(\n        'style',\n        'border: 1px solid #ddd;' +\n            'box-sizing: content-box;' +\n            'clear: both;' +\n            'min-height: 1px;' +\n            'min-width: 1px;' +\n            'outline: 0;' +\n            'overflow: hidden;' +\n            'position: relative;' +\n            'resize: both;'\n    );\n\n    function on_keyboard_event_closure(name) {\n        return function (event) {\n            return fig.key_event(event, name);\n        };\n    }\n\n    canvas_div.addEventListener(\n        'keydown',\n        on_keyboard_event_closure('key_press')\n    );\n    canvas_div.addEventListener(\n        'keyup',\n        on_keyboard_event_closure('key_release')\n    );\n\n    this._canvas_extra_style(canvas_div);\n    this.root.appendChild(canvas_div);\n\n    var canvas = (this.canvas = document.createElement('canvas'));\n    canvas.classList.add('mpl-canvas');\n    canvas.setAttribute('style', 'box-sizing: content-box;');\n\n    this.context = canvas.getContext('2d');\n\n    var backingStore =\n        this.context.backingStorePixelRatio ||\n        this.context.webkitBackingStorePixelRatio ||\n        this.context.mozBackingStorePixelRatio ||\n        this.context.msBackingStorePixelRatio ||\n        this.context.oBackingStorePixelRatio ||\n        this.context.backingStorePixelRatio ||\n        1;\n\n    this.ratio = (window.devicePixelRatio || 1) / backingStore;\n\n    var rubberband_canvas = (this.rubberband_canvas = document.createElement(\n        'canvas'\n    ));\n    rubberband_canvas.setAttribute(\n        'style',\n        'box-sizing: content-box; position: absolute; left: 0; top: 0; z-index: 1;'\n    );\n\n    // Apply a ponyfill if ResizeObserver is not implemented by browser.\n    if (this.ResizeObserver === undefined) {\n        if (window.ResizeObserver !== undefined) {\n            this.ResizeObserver = window.ResizeObserver;\n        } else {\n            var obs = _JSXTOOLS_RESIZE_OBSERVER({});\n            this.ResizeObserver = obs.ResizeObserver;\n        }\n    }\n\n    this.resizeObserverInstance = new this.ResizeObserver(function (entries) {\n        var nentries = entries.length;\n        for (var i = 0; i < nentries; i++) {\n            var entry = entries[i];\n            var width, height;\n            if (entry.contentBoxSize) {\n                if (entry.contentBoxSize instanceof Array) {\n                    // Chrome 84 implements new version of spec.\n                    width = entry.contentBoxSize[0].inlineSize;\n                    height = entry.contentBoxSize[0].blockSize;\n                } else {\n                    // Firefox implements old version of spec.\n                    width = entry.contentBoxSize.inlineSize;\n                    height = entry.contentBoxSize.blockSize;\n                }\n            } else {\n                // Chrome <84 implements even older version of spec.\n                width = entry.contentRect.width;\n                height = entry.contentRect.height;\n            }\n\n            // Keep the size of the canvas and rubber band canvas in sync with\n            // the canvas container.\n            if (entry.devicePixelContentBoxSize) {\n                // Chrome 84 implements new version of spec.\n                canvas.setAttribute(\n                    'width',\n                    entry.devicePixelContentBoxSize[0].inlineSize\n                );\n                canvas.setAttribute(\n                    'height',\n                    entry.devicePixelContentBoxSize[0].blockSize\n                );\n            } else {\n                canvas.setAttribute('width', width * fig.ratio);\n                canvas.setAttribute('height', height * fig.ratio);\n            }\n            canvas.setAttribute(\n                'style',\n                'width: ' + width + 'px; height: ' + height + 'px;'\n            );\n\n            rubberband_canvas.setAttribute('width', width);\n            rubberband_canvas.setAttribute('height', height);\n\n            // And update the size in Python. We ignore the initial 0/0 size\n            // that occurs as the element is placed into the DOM, which should\n            // otherwise not happen due to the minimum size styling.\n            if (fig.ws.readyState == 1 && width != 0 && height != 0) {\n                fig.request_resize(width, height);\n            }\n        }\n    });\n    this.resizeObserverInstance.observe(canvas_div);\n\n    function on_mouse_event_closure(name) {\n        return function (event) {\n            return fig.mouse_event(event, name);\n        };\n    }\n\n    rubberband_canvas.addEventListener(\n        'mousedown',\n        on_mouse_event_closure('button_press')\n    );\n    rubberband_canvas.addEventListener(\n        'mouseup',\n        on_mouse_event_closure('button_release')\n    );\n    rubberband_canvas.addEventListener(\n        'dblclick',\n        on_mouse_event_closure('dblclick')\n    );\n    // Throttle sequential mouse events to 1 every 20ms.\n    rubberband_canvas.addEventListener(\n        'mousemove',\n        on_mouse_event_closure('motion_notify')\n    );\n\n    rubberband_canvas.addEventListener(\n        'mouseenter',\n        on_mouse_event_closure('figure_enter')\n    );\n    rubberband_canvas.addEventListener(\n        'mouseleave',\n        on_mouse_event_closure('figure_leave')\n    );\n\n    canvas_div.addEventListener('wheel', function (event) {\n        if (event.deltaY < 0) {\n            event.step = 1;\n        } else {\n            event.step = -1;\n        }\n        on_mouse_event_closure('scroll')(event);\n    });\n\n    canvas_div.appendChild(canvas);\n    canvas_div.appendChild(rubberband_canvas);\n\n    this.rubberband_context = rubberband_canvas.getContext('2d');\n    this.rubberband_context.strokeStyle = '#000000';\n\n    this._resize_canvas = function (width, height, forward) {\n        if (forward) {\n            canvas_div.style.width = width + 'px';\n            canvas_div.style.height = height + 'px';\n        }\n    };\n\n    // Disable right mouse context menu.\n    this.rubberband_canvas.addEventListener('contextmenu', function (_e) {\n        event.preventDefault();\n        return false;\n    });\n\n    function set_focus() {\n        canvas.focus();\n        canvas_div.focus();\n    }\n\n    window.setTimeout(set_focus, 100);\n};\n\nmpl.figure.prototype._init_toolbar = function () {\n    var fig = this;\n\n    var toolbar = document.createElement('div');\n    toolbar.classList = 'mpl-toolbar';\n    this.root.appendChild(toolbar);\n\n    function on_click_closure(name) {\n        return function (_event) {\n            return fig.toolbar_button_onclick(name);\n        };\n    }\n\n    function on_mouseover_closure(tooltip) {\n        return function (event) {\n            if (!event.currentTarget.disabled) {\n                return fig.toolbar_button_onmouseover(tooltip);\n            }\n        };\n    }\n\n    fig.buttons = {};\n    var buttonGroup = document.createElement('div');\n    buttonGroup.classList = 'mpl-button-group';\n    for (var toolbar_ind in mpl.toolbar_items) {\n        var name = mpl.toolbar_items[toolbar_ind][0];\n        var tooltip = mpl.toolbar_items[toolbar_ind][1];\n        var image = mpl.toolbar_items[toolbar_ind][2];\n        var method_name = mpl.toolbar_items[toolbar_ind][3];\n\n        if (!name) {\n            /* Instead of a spacer, we start a new button group. */\n            if (buttonGroup.hasChildNodes()) {\n                toolbar.appendChild(buttonGroup);\n            }\n            buttonGroup = document.createElement('div');\n            buttonGroup.classList = 'mpl-button-group';\n            continue;\n        }\n\n        var button = (fig.buttons[name] = document.createElement('button'));\n        button.classList = 'mpl-widget';\n        button.setAttribute('role', 'button');\n        button.setAttribute('aria-disabled', 'false');\n        button.addEventListener('click', on_click_closure(method_name));\n        button.addEventListener('mouseover', on_mouseover_closure(tooltip));\n\n        var icon_img = document.createElement('img');\n        icon_img.src = '_images/' + image + '.png';\n        icon_img.srcset = '_images/' + image + '_large.png 2x';\n        icon_img.alt = tooltip;\n        button.appendChild(icon_img);\n\n        buttonGroup.appendChild(button);\n    }\n\n    if (buttonGroup.hasChildNodes()) {\n        toolbar.appendChild(buttonGroup);\n    }\n\n    var fmt_picker = document.createElement('select');\n    fmt_picker.classList = 'mpl-widget';\n    toolbar.appendChild(fmt_picker);\n    this.format_dropdown = fmt_picker;\n\n    for (var ind in mpl.extensions) {\n        var fmt = mpl.extensions[ind];\n        var option = document.createElement('option');\n        option.selected = fmt === mpl.default_extension;\n        option.innerHTML = fmt;\n        fmt_picker.appendChild(option);\n    }\n\n    var status_bar = document.createElement('span');\n    status_bar.classList = 'mpl-message';\n    toolbar.appendChild(status_bar);\n    this.message = status_bar;\n};\n\nmpl.figure.prototype.request_resize = function (x_pixels, y_pixels) {\n    // Request matplotlib to resize the figure. Matplotlib will then trigger a resize in the client,\n    // which will in turn request a refresh of the image.\n    this.send_message('resize', { width: x_pixels, height: y_pixels });\n};\n\nmpl.figure.prototype.send_message = function (type, properties) {\n    properties['type'] = type;\n    properties['figure_id'] = this.id;\n    this.ws.send(JSON.stringify(properties));\n};\n\nmpl.figure.prototype.send_draw_message = function () {\n    if (!this.waiting) {\n        this.waiting = true;\n        this.ws.send(JSON.stringify({ type: 'draw', figure_id: this.id }));\n    }\n};\n\nmpl.figure.prototype.handle_save = function (fig, _msg) {\n    var format_dropdown = fig.format_dropdown;\n    var format = format_dropdown.options[format_dropdown.selectedIndex].value;\n    fig.ondownload(fig, format);\n};\n\nmpl.figure.prototype.handle_resize = function (fig, msg) {\n    var size = msg['size'];\n    if (size[0] !== fig.canvas.width || size[1] !== fig.canvas.height) {\n        fig._resize_canvas(size[0], size[1], msg['forward']);\n        fig.send_message('refresh', {});\n    }\n};\n\nmpl.figure.prototype.handle_rubberband = function (fig, msg) {\n    var x0 = msg['x0'] / fig.ratio;\n    var y0 = (fig.canvas.height - msg['y0']) / fig.ratio;\n    var x1 = msg['x1'] / fig.ratio;\n    var y1 = (fig.canvas.height - msg['y1']) / fig.ratio;\n    x0 = Math.floor(x0) + 0.5;\n    y0 = Math.floor(y0) + 0.5;\n    x1 = Math.floor(x1) + 0.5;\n    y1 = Math.floor(y1) + 0.5;\n    var min_x = Math.min(x0, x1);\n    var min_y = Math.min(y0, y1);\n    var width = Math.abs(x1 - x0);\n    var height = Math.abs(y1 - y0);\n\n    fig.rubberband_context.clearRect(\n        0,\n        0,\n        fig.canvas.width / fig.ratio,\n        fig.canvas.height / fig.ratio\n    );\n\n    fig.rubberband_context.strokeRect(min_x, min_y, width, height);\n};\n\nmpl.figure.prototype.handle_figure_label = function (fig, msg) {\n    // Updates the figure title.\n    fig.header.textContent = msg['label'];\n};\n\nmpl.figure.prototype.handle_cursor = function (fig, msg) {\n    var cursor = msg['cursor'];\n    switch (cursor) {\n        case 0:\n            cursor = 'pointer';\n            break;\n        case 1:\n            cursor = 'default';\n            break;\n        case 2:\n            cursor = 'crosshair';\n            break;\n        case 3:\n            cursor = 'move';\n            break;\n    }\n    fig.rubberband_canvas.style.cursor = cursor;\n};\n\nmpl.figure.prototype.handle_message = function (fig, msg) {\n    fig.message.textContent = msg['message'];\n};\n\nmpl.figure.prototype.handle_draw = function (fig, _msg) {\n    // Request the server to send over a new figure.\n    fig.send_draw_message();\n};\n\nmpl.figure.prototype.handle_image_mode = function (fig, msg) {\n    fig.image_mode = msg['mode'];\n};\n\nmpl.figure.prototype.handle_history_buttons = function (fig, msg) {\n    for (var key in msg) {\n        if (!(key in fig.buttons)) {\n            continue;\n        }\n        fig.buttons[key].disabled = !msg[key];\n        fig.buttons[key].setAttribute('aria-disabled', !msg[key]);\n    }\n};\n\nmpl.figure.prototype.handle_navigate_mode = function (fig, msg) {\n    if (msg['mode'] === 'PAN') {\n        fig.buttons['Pan'].classList.add('active');\n        fig.buttons['Zoom'].classList.remove('active');\n    } else if (msg['mode'] === 'ZOOM') {\n        fig.buttons['Pan'].classList.remove('active');\n        fig.buttons['Zoom'].classList.add('active');\n    } else {\n        fig.buttons['Pan'].classList.remove('active');\n        fig.buttons['Zoom'].classList.remove('active');\n    }\n};\n\nmpl.figure.prototype.updated_canvas_event = function () {\n    // Called whenever the canvas gets updated.\n    this.send_message('ack', {});\n};\n\n// A function to construct a web socket function for onmessage handling.\n// Called in the figure constructor.\nmpl.figure.prototype._make_on_message_function = function (fig) {\n    return function socket_on_message(evt) {\n        if (evt.data instanceof Blob) {\n            var img = evt.data;\n            if (img.type !== 'image/png') {\n                /* FIXME: We get \"Resource interpreted as Image but\n                 * transferred with MIME type text/plain:\" errors on\n                 * Chrome.  But how to set the MIME type?  It doesn't seem\n                 * to be part of the websocket stream */\n                img.type = 'image/png';\n            }\n\n            /* Free the memory for the previous frames */\n            if (fig.imageObj.src) {\n                (window.URL || window.webkitURL).revokeObjectURL(\n                    fig.imageObj.src\n                );\n            }\n\n            fig.imageObj.src = (window.URL || window.webkitURL).createObjectURL(\n                img\n            );\n            fig.updated_canvas_event();\n            fig.waiting = false;\n            return;\n        } else if (\n            typeof evt.data === 'string' &&\n            evt.data.slice(0, 21) === 'data:image/png;base64'\n        ) {\n            fig.imageObj.src = evt.data;\n            fig.updated_canvas_event();\n            fig.waiting = false;\n            return;\n        }\n\n        var msg = JSON.parse(evt.data);\n        var msg_type = msg['type'];\n\n        // Call the  \"handle_{type}\" callback, which takes\n        // the figure and JSON message as its only arguments.\n        try {\n            var callback = fig['handle_' + msg_type];\n        } catch (e) {\n            console.log(\n                \"No handler for the '\" + msg_type + \"' message type: \",\n                msg\n            );\n            return;\n        }\n\n        if (callback) {\n            try {\n                // console.log(\"Handling '\" + msg_type + \"' message: \", msg);\n                callback(fig, msg);\n            } catch (e) {\n                console.log(\n                    \"Exception inside the 'handler_\" + msg_type + \"' callback:\",\n                    e,\n                    e.stack,\n                    msg\n                );\n            }\n        }\n    };\n};\n\n// from http://stackoverflow.com/questions/1114465/getting-mouse-location-in-canvas\nmpl.findpos = function (e) {\n    //this section is from http://www.quirksmode.org/js/events_properties.html\n    var targ;\n    if (!e) {\n        e = window.event;\n    }\n    if (e.target) {\n        targ = e.target;\n    } else if (e.srcElement) {\n        targ = e.srcElement;\n    }\n    if (targ.nodeType === 3) {\n        // defeat Safari bug\n        targ = targ.parentNode;\n    }\n\n    // pageX,Y are the mouse positions relative to the document\n    var boundingRect = targ.getBoundingClientRect();\n    var x = e.pageX - (boundingRect.left + document.body.scrollLeft);\n    var y = e.pageY - (boundingRect.top + document.body.scrollTop);\n\n    return { x: x, y: y };\n};\n\n/*\n * return a copy of an object with only non-object keys\n * we need this to avoid circular references\n * http://stackoverflow.com/a/24161582/3208463\n */\nfunction simpleKeys(original) {\n    return Object.keys(original).reduce(function (obj, key) {\n        if (typeof original[key] !== 'object') {\n            obj[key] = original[key];\n        }\n        return obj;\n    }, {});\n}\n\nmpl.figure.prototype.mouse_event = function (event, name) {\n    var canvas_pos = mpl.findpos(event);\n\n    if (name === 'button_press') {\n        this.canvas.focus();\n        this.canvas_div.focus();\n    }\n\n    var x = canvas_pos.x * this.ratio;\n    var y = canvas_pos.y * this.ratio;\n\n    this.send_message(name, {\n        x: x,\n        y: y,\n        button: event.button,\n        step: event.step,\n        guiEvent: simpleKeys(event),\n    });\n\n    /* This prevents the web browser from automatically changing to\n     * the text insertion cursor when the button is pressed.  We want\n     * to control all of the cursor setting manually through the\n     * 'cursor' event from matplotlib */\n    event.preventDefault();\n    return false;\n};\n\nmpl.figure.prototype._key_event_extra = function (_event, _name) {\n    // Handle any extra behaviour associated with a key event\n};\n\nmpl.figure.prototype.key_event = function (event, name) {\n    // Prevent repeat events\n    if (name === 'key_press') {\n        if (event.key === this._key) {\n            return;\n        } else {\n            this._key = event.key;\n        }\n    }\n    if (name === 'key_release') {\n        this._key = null;\n    }\n\n    var value = '';\n    if (event.ctrlKey && event.key !== 'Control') {\n        value += 'ctrl+';\n    }\n    else if (event.altKey && event.key !== 'Alt') {\n        value += 'alt+';\n    }\n    else if (event.shiftKey && event.key !== 'Shift') {\n        value += 'shift+';\n    }\n\n    value += 'k' + event.key;\n\n    this._key_event_extra(event, name);\n\n    this.send_message(name, { key: value, guiEvent: simpleKeys(event) });\n    return false;\n};\n\nmpl.figure.prototype.toolbar_button_onclick = function (name) {\n    if (name === 'download') {\n        this.handle_save(this, null);\n    } else {\n        this.send_message('toolbar_button', { name: name });\n    }\n};\n\nmpl.figure.prototype.toolbar_button_onmouseover = function (tooltip) {\n    this.message.textContent = tooltip;\n};\n\n///////////////// REMAINING CONTENT GENERATED BY embed_js.py /////////////////\n// prettier-ignore\nvar _JSXTOOLS_RESIZE_OBSERVER=function(A){var t,i=new WeakMap,n=new WeakMap,a=new WeakMap,r=new WeakMap,o=new Set;function s(e){if(!(this instanceof s))throw new TypeError(\"Constructor requires 'new' operator\");i.set(this,e)}function h(){throw new TypeError(\"Function is not a constructor\")}function c(e,t,i,n){e=0 in arguments?Number(arguments[0]):0,t=1 in arguments?Number(arguments[1]):0,i=2 in arguments?Number(arguments[2]):0,n=3 in arguments?Number(arguments[3]):0,this.right=(this.x=this.left=e)+(this.width=i),this.bottom=(this.y=this.top=t)+(this.height=n),Object.freeze(this)}function d(){t=requestAnimationFrame(d);var s=new WeakMap,p=new Set;o.forEach((function(t){r.get(t).forEach((function(i){var r=t instanceof window.SVGElement,o=a.get(t),d=r?0:parseFloat(o.paddingTop),f=r?0:parseFloat(o.paddingRight),l=r?0:parseFloat(o.paddingBottom),u=r?0:parseFloat(o.paddingLeft),g=r?0:parseFloat(o.borderTopWidth),m=r?0:parseFloat(o.borderRightWidth),w=r?0:parseFloat(o.borderBottomWidth),b=u+f,F=d+l,v=(r?0:parseFloat(o.borderLeftWidth))+m,W=g+w,y=r?0:t.offsetHeight-W-t.clientHeight,E=r?0:t.offsetWidth-v-t.clientWidth,R=b+v,z=F+W,M=r?t.width:parseFloat(o.width)-R-E,O=r?t.height:parseFloat(o.height)-z-y;if(n.has(t)){var k=n.get(t);if(k[0]===M&&k[1]===O)return}n.set(t,[M,O]);var S=Object.create(h.prototype);S.target=t,S.contentRect=new c(u,d,M,O),s.has(i)||(s.set(i,[]),p.add(i)),s.get(i).push(S)}))})),p.forEach((function(e){i.get(e).call(e,s.get(e),e)}))}return s.prototype.observe=function(i){if(i instanceof window.Element){r.has(i)||(r.set(i,new Set),o.add(i),a.set(i,window.getComputedStyle(i)));var n=r.get(i);n.has(this)||n.add(this),cancelAnimationFrame(t),t=requestAnimationFrame(d)}},s.prototype.unobserve=function(i){if(i instanceof window.Element&&r.has(i)){var n=r.get(i);n.has(this)&&(n.delete(this),n.size||(r.delete(i),o.delete(i))),n.size||r.delete(i),o.size||cancelAnimationFrame(t)}},A.DOMRectReadOnly=c,A.ResizeObserver=s,A.ResizeObserverEntry=h,A}; // eslint-disable-line\nmpl.toolbar_items = [[\"Home\", \"Reset original view\", \"fa fa-home icon-home\", \"home\"], [\"Back\", \"Back to previous view\", \"fa fa-arrow-left icon-arrow-left\", \"back\"], [\"Forward\", \"Forward to next view\", \"fa fa-arrow-right icon-arrow-right\", \"forward\"], [\"\", \"\", \"\", \"\"], [\"Pan\", \"Left button pans, Right button zooms\\nx/y fixes axis, CTRL fixes aspect\", \"fa fa-arrows icon-move\", \"pan\"], [\"Zoom\", \"Zoom to rectangle\\nx/y fixes axis, CTRL fixes aspect\", \"fa fa-square-o icon-check-empty\", \"zoom\"], [\"\", \"\", \"\", \"\"], [\"Download\", \"Download plot\", \"fa fa-floppy-o icon-save\", \"download\"]];\n\nmpl.extensions = [\"eps\", \"jpeg\", \"pgf\", \"pdf\", \"png\", \"ps\", \"raw\", \"svg\", \"tif\"];\n\nmpl.default_extension = \"png\";/* global mpl */\n\nvar comm_websocket_adapter = function (comm) {\n    // Create a \"websocket\"-like object which calls the given IPython comm\n    // object with the appropriate methods. Currently this is a non binary\n    // socket, so there is still some room for performance tuning.\n    var ws = {};\n\n    ws.binaryType = comm.kernel.ws.binaryType;\n    ws.readyState = comm.kernel.ws.readyState;\n    function updateReadyState(_event) {\n        if (comm.kernel.ws) {\n            ws.readyState = comm.kernel.ws.readyState;\n        } else {\n            ws.readyState = 3; // Closed state.\n        }\n    }\n    comm.kernel.ws.addEventListener('open', updateReadyState);\n    comm.kernel.ws.addEventListener('close', updateReadyState);\n    comm.kernel.ws.addEventListener('error', updateReadyState);\n\n    ws.close = function () {\n        comm.close();\n    };\n    ws.send = function (m) {\n        //console.log('sending', m);\n        comm.send(m);\n    };\n    // Register the callback with on_msg.\n    comm.on_msg(function (msg) {\n        //console.log('receiving', msg['content']['data'], msg);\n        var data = msg['content']['data'];\n        if (data['blob'] !== undefined) {\n            data = {\n                data: new Blob(msg['buffers'], { type: data['blob'] }),\n            };\n        }\n        // Pass the mpl event to the overridden (by mpl) onmessage function.\n        ws.onmessage(data);\n    });\n    return ws;\n};\n\nmpl.mpl_figure_comm = function (comm, msg) {\n    // This is the function which gets called when the mpl process\n    // starts-up an IPython Comm through the \"matplotlib\" channel.\n\n    var id = msg.content.data.id;\n    // Get hold of the div created by the display call when the Comm\n    // socket was opened in Python.\n    var element = document.getElementById(id);\n    var ws_proxy = comm_websocket_adapter(comm);\n\n    function ondownload(figure, _format) {\n        window.open(figure.canvas.toDataURL());\n    }\n\n    var fig = new mpl.figure(id, ws_proxy, ondownload, element);\n\n    // Call onopen now - mpl needs it, as it is assuming we've passed it a real\n    // web socket which is closed, not our websocket->open comm proxy.\n    ws_proxy.onopen();\n\n    fig.parent_element = element;\n    fig.cell_info = mpl.find_output_cell(\"<div id='\" + id + \"'></div>\");\n    if (!fig.cell_info) {\n        console.error('Failed to find cell for figure', id, fig);\n        return;\n    }\n    fig.cell_info[0].output_area.element.on(\n        'cleared',\n        { fig: fig },\n        fig._remove_fig_handler\n    );\n};\n\nmpl.figure.prototype.handle_close = function (fig, msg) {\n    var width = fig.canvas.width / fig.ratio;\n    fig.cell_info[0].output_area.element.off(\n        'cleared',\n        fig._remove_fig_handler\n    );\n    fig.resizeObserverInstance.unobserve(fig.canvas_div);\n\n    // Update the output cell to use the data from the current canvas.\n    fig.push_to_output();\n    var dataURL = fig.canvas.toDataURL();\n    // Re-enable the keyboard manager in IPython - without this line, in FF,\n    // the notebook keyboard shortcuts fail.\n    IPython.keyboard_manager.enable();\n    fig.parent_element.innerHTML =\n        '<img src=\"' + dataURL + '\" width=\"' + width + '\">';\n    fig.close_ws(fig, msg);\n};\n\nmpl.figure.prototype.close_ws = function (fig, msg) {\n    fig.send_message('closing', msg);\n    // fig.ws.close()\n};\n\nmpl.figure.prototype.push_to_output = function (_remove_interactive) {\n    // Turn the data on the canvas into data in the output cell.\n    var width = this.canvas.width / this.ratio;\n    var dataURL = this.canvas.toDataURL();\n    this.cell_info[1]['text/html'] =\n        '<img src=\"' + dataURL + '\" width=\"' + width + '\">';\n};\n\nmpl.figure.prototype.updated_canvas_event = function () {\n    // Tell IPython that the notebook contents must change.\n    IPython.notebook.set_dirty(true);\n    this.send_message('ack', {});\n    var fig = this;\n    // Wait a second, then push the new image to the DOM so\n    // that it is saved nicely (might be nice to debounce this).\n    setTimeout(function () {\n        fig.push_to_output();\n    }, 1000);\n};\n\nmpl.figure.prototype._init_toolbar = function () {\n    var fig = this;\n\n    var toolbar = document.createElement('div');\n    toolbar.classList = 'btn-toolbar';\n    this.root.appendChild(toolbar);\n\n    function on_click_closure(name) {\n        return function (_event) {\n            return fig.toolbar_button_onclick(name);\n        };\n    }\n\n    function on_mouseover_closure(tooltip) {\n        return function (event) {\n            if (!event.currentTarget.disabled) {\n                return fig.toolbar_button_onmouseover(tooltip);\n            }\n        };\n    }\n\n    fig.buttons = {};\n    var buttonGroup = document.createElement('div');\n    buttonGroup.classList = 'btn-group';\n    var button;\n    for (var toolbar_ind in mpl.toolbar_items) {\n        var name = mpl.toolbar_items[toolbar_ind][0];\n        var tooltip = mpl.toolbar_items[toolbar_ind][1];\n        var image = mpl.toolbar_items[toolbar_ind][2];\n        var method_name = mpl.toolbar_items[toolbar_ind][3];\n\n        if (!name) {\n            /* Instead of a spacer, we start a new button group. */\n            if (buttonGroup.hasChildNodes()) {\n                toolbar.appendChild(buttonGroup);\n            }\n            buttonGroup = document.createElement('div');\n            buttonGroup.classList = 'btn-group';\n            continue;\n        }\n\n        button = fig.buttons[name] = document.createElement('button');\n        button.classList = 'btn btn-default';\n        button.href = '#';\n        button.title = name;\n        button.innerHTML = '<i class=\"fa ' + image + ' fa-lg\"></i>';\n        button.addEventListener('click', on_click_closure(method_name));\n        button.addEventListener('mouseover', on_mouseover_closure(tooltip));\n        buttonGroup.appendChild(button);\n    }\n\n    if (buttonGroup.hasChildNodes()) {\n        toolbar.appendChild(buttonGroup);\n    }\n\n    // Add the status bar.\n    var status_bar = document.createElement('span');\n    status_bar.classList = 'mpl-message pull-right';\n    toolbar.appendChild(status_bar);\n    this.message = status_bar;\n\n    // Add the close button to the window.\n    var buttongrp = document.createElement('div');\n    buttongrp.classList = 'btn-group inline pull-right';\n    button = document.createElement('button');\n    button.classList = 'btn btn-mini btn-primary';\n    button.href = '#';\n    button.title = 'Stop Interaction';\n    button.innerHTML = '<i class=\"fa fa-power-off icon-remove icon-large\"></i>';\n    button.addEventListener('click', function (_evt) {\n        fig.handle_close(fig, {});\n    });\n    button.addEventListener(\n        'mouseover',\n        on_mouseover_closure('Stop Interaction')\n    );\n    buttongrp.appendChild(button);\n    var titlebar = this.root.querySelector('.ui-dialog-titlebar');\n    titlebar.insertBefore(buttongrp, titlebar.firstChild);\n};\n\nmpl.figure.prototype._remove_fig_handler = function (event) {\n    var fig = event.data.fig;\n    if (event.target !== this) {\n        // Ignore bubbled events from children.\n        return;\n    }\n    fig.close_ws(fig, {});\n};\n\nmpl.figure.prototype._root_extra_style = function (el) {\n    el.style.boxSizing = 'content-box'; // override notebook setting of border-box.\n};\n\nmpl.figure.prototype._canvas_extra_style = function (el) {\n    // this is important to make the div 'focusable\n    el.setAttribute('tabindex', 0);\n    // reach out to IPython and tell the keyboard manager to turn it's self\n    // off when our div gets focus\n\n    // location in version 3\n    if (IPython.notebook.keyboard_manager) {\n        IPython.notebook.keyboard_manager.register_events(el);\n    } else {\n        // location in version 2\n        IPython.keyboard_manager.register_events(el);\n    }\n};\n\nmpl.figure.prototype._key_event_extra = function (event, _name) {\n    var manager = IPython.notebook.keyboard_manager;\n    if (!manager) {\n        manager = IPython.keyboard_manager;\n    }\n\n    // Check for shift+enter\n    if (event.shiftKey && event.which === 13) {\n        this.canvas_div.blur();\n        // select the cell after this one\n        var index = IPython.notebook.find_cell_index(this.cell_info[0]);\n        IPython.notebook.select(index + 1);\n    }\n};\n\nmpl.figure.prototype.handle_save = function (fig, _msg) {\n    fig.ondownload(fig, null);\n};\n\nmpl.find_output_cell = function (html_output) {\n    // Return the cell and output element which can be found *uniquely* in the notebook.\n    // Note - this is a bit hacky, but it is done because the \"notebook_saving.Notebook\"\n    // IPython event is triggered only after the cells have been serialised, which for\n    // our purposes (turning an active figure into a static one), is too late.\n    var cells = IPython.notebook.get_cells();\n    var ncells = cells.length;\n    for (var i = 0; i < ncells; i++) {\n        var cell = cells[i];\n        if (cell.cell_type === 'code') {\n            for (var j = 0; j < cell.output_area.outputs.length; j++) {\n                var data = cell.output_area.outputs[j];\n                if (data.data) {\n                    // IPython >= 3 moved mimebundle to data attribute of output\n                    data = data.data;\n                }\n                if (data['text/html'] === html_output) {\n                    return [cell, data, j];\n                }\n            }\n        }\n    }\n};\n\n// Register the function which deals with the matplotlib target/channel.\n// The kernel may be null if the page has been refreshed.\nif (IPython.notebook.kernel !== null) {\n    IPython.notebook.kernel.comm_manager.register_target(\n        'matplotlib',\n        mpl.mpl_figure_comm\n    );\n}\n",
      "text/plain": [
       "<IPython.core.display.Javascript object>"
      ]
     },
     "metadata": {},
     "output_type": "display_data"
    },
    {
     "data": {
      "text/html": [
       "<img src=\"data:image/png;base64,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\" width=\"900\">"
      ],
      "text/plain": [
       "<IPython.core.display.HTML object>"
      ]
     },
     "metadata": {},
     "output_type": "display_data"
    },
    {
     "name": "stderr",
     "output_type": "stream",
     "text": [
      "/Users/lucashaupt/Documents/GitHub/nfl-live-win-probability/venv/lib/python3.9/site-packages/sklearn/base.py:445: UserWarning: X does not have valid feature names, but MLPClassifier was fitted with feature names\n",
      "  warnings.warn(\n",
      "/var/folders/dq/tcxv3s4j7y585_4jhfbdvrx00000gn/T/ipykernel_55444/2551031834.py:73: UserWarning: color is redundantly defined by the 'color' keyword argument and the fmt string \"-k\" (-> color='k'). The keyword argument will take precedence.\n",
      "  h_ax_twin.plot(plot_x, plot_home_score, '-k', linewidth=1, zorder=10, color='darkgoldenrod', label='home score')\n",
      "/var/folders/dq/tcxv3s4j7y585_4jhfbdvrx00000gn/T/ipykernel_55444/2551031834.py:78: UserWarning: color is redundantly defined by the 'color' keyword argument and the fmt string \"-k\" (-> color='k'). The keyword argument will take precedence.\n",
      "  h_ax_twin.plot(plot_x, plot_away_score, '-k', linewidth=1, zorder=10, color='dodgerblue', label='away score')\n",
      "/Users/lucashaupt/Documents/GitHub/nfl-live-win-probability/venv/lib/python3.9/site-packages/sklearn/base.py:445: UserWarning: X does not have valid feature names, but MLPClassifier was fitted with feature names\n",
      "  warnings.warn(\n",
      "/var/folders/dq/tcxv3s4j7y585_4jhfbdvrx00000gn/T/ipykernel_55444/2551031834.py:73: UserWarning: color is redundantly defined by the 'color' keyword argument and the fmt string \"-k\" (-> color='k'). The keyword argument will take precedence.\n",
      "  h_ax_twin.plot(plot_x, plot_home_score, '-k', linewidth=1, zorder=10, color='darkgoldenrod', label='home score')\n",
      "/var/folders/dq/tcxv3s4j7y585_4jhfbdvrx00000gn/T/ipykernel_55444/2551031834.py:78: UserWarning: color is redundantly defined by the 'color' keyword argument and the fmt string \"-k\" (-> color='k'). The keyword argument will take precedence.\n",
      "  h_ax_twin.plot(plot_x, plot_away_score, '-k', linewidth=1, zorder=10, color='dodgerblue', label='away score')\n",
      "/Users/lucashaupt/Documents/GitHub/nfl-live-win-probability/venv/lib/python3.9/site-packages/sklearn/base.py:445: UserWarning: X does not have valid feature names, but MLPClassifier was fitted with feature names\n",
      "  warnings.warn(\n",
      "/var/folders/dq/tcxv3s4j7y585_4jhfbdvrx00000gn/T/ipykernel_55444/2551031834.py:73: UserWarning: color is redundantly defined by the 'color' keyword argument and the fmt string \"-k\" (-> color='k'). The keyword argument will take precedence.\n",
      "  h_ax_twin.plot(plot_x, plot_home_score, '-k', linewidth=1, zorder=10, color='darkgoldenrod', label='home score')\n",
      "/var/folders/dq/tcxv3s4j7y585_4jhfbdvrx00000gn/T/ipykernel_55444/2551031834.py:78: UserWarning: color is redundantly defined by the 'color' keyword argument and the fmt string \"-k\" (-> color='k'). The keyword argument will take precedence.\n",
      "  h_ax_twin.plot(plot_x, plot_away_score, '-k', linewidth=1, zorder=10, color='dodgerblue', label='away score')\n",
      "/Users/lucashaupt/Documents/GitHub/nfl-live-win-probability/venv/lib/python3.9/site-packages/sklearn/base.py:445: UserWarning: X does not have valid feature names, but MLPClassifier was fitted with feature names\n",
      "  warnings.warn(\n",
      "/var/folders/dq/tcxv3s4j7y585_4jhfbdvrx00000gn/T/ipykernel_55444/2551031834.py:73: UserWarning: color is redundantly defined by the 'color' keyword argument and the fmt string \"-k\" (-> color='k'). The keyword argument will take precedence.\n",
      "  h_ax_twin.plot(plot_x, plot_home_score, '-k', linewidth=1, zorder=10, color='darkgoldenrod', label='home score')\n",
      "/var/folders/dq/tcxv3s4j7y585_4jhfbdvrx00000gn/T/ipykernel_55444/2551031834.py:78: UserWarning: color is redundantly defined by the 'color' keyword argument and the fmt string \"-k\" (-> color='k'). The keyword argument will take precedence.\n",
      "  h_ax_twin.plot(plot_x, plot_away_score, '-k', linewidth=1, zorder=10, color='dodgerblue', label='away score')\n"
     ]
    }
   ],
   "source": [
    "# game_info_df = pd.read_csv(os.path.join(data_dir, 'opta_game_list.csv'), usecols=['game_code', 'game_date', 'home_team_name', 'away_team_name'])\n",
    "game_info_df = game_df[['game_code', 'game_date', 'home_team_id', 'away_team_id', 'season', 'home_team_abbrev', 'away_team_abbrev']]\n",
    "game_info_df['game_description'] = ['{0} {1} v {2}'.format(i.game_date, i.home_team_abbrev, i.away_team_abbrev) for _, i in game_info_df.iterrows()]\n",
    "game_info_df = game_info_df.loc[game_info_df.game_code.isin(test_game_codes), ['game_code', 'game_description']]\n",
    "game_info_df['ft_score'] = str(game_df.set_index('game_code').loc[game_info_df.game_code.values, 'away_score'].values) + \"-\" + str(game_df.set_index('game_code').loc[game_info_df.game_code.values, 'home_score'].values)\n",
    "\n",
    "h_f = None\n",
    "h_ax = None\n",
    "h_ax_twin = None\n",
    "\n",
    "def update_dashboard(change):\n",
    "    global info_textbox\n",
    "    info_textbox.value = ''\n",
    "    if h_ax is not None:\n",
    "        h_ax.cla()\n",
    "        h_ax_twin.cla()\n",
    "    plot()\n",
    "    \n",
    "def print_to_textbox(string, textbox_handle, clear_textbox=False):\n",
    "    if textbox_handle is None:\n",
    "        print(string)\n",
    "    else:\n",
    "        if clear_textbox or (textbox_handle.value == ''):\n",
    "            textbox_handle.value = string\n",
    "        else:\n",
    "            textbox_handle.value += '<br>' + string\n",
    "\n",
    "def plot():\n",
    "    global h_f, h_ax, h_ax_twin\n",
    "    if h_f is None:\n",
    "        h_f, h_ax = plt.subplots(1, figsize=(9, 4))\n",
    "        \n",
    "    plot_game_code = game_info_df.set_index('game_description').loc[match_picker.value, 'game_code']\n",
    "    plot_time = full_df.loc[full_df.game_code == plot_game_code, ['quarter', 'play_start_time']]\n",
    "    plot_time = ((900 - plot_time.play_start_time) + \\\n",
    "                 (plot_time.quarter - 1 ) * 900).values\n",
    "                 \n",
    "    plot_input = full_df.loc[full_df.game_code == plot_game_code, input_names].values\n",
    "    plot_running_score = full_df.loc[full_df.game_code == plot_game_code, ['home_start_score', 'away_start_score']].values\n",
    "    plot_output = get_model_outputs(clf, plot_input, plot_running_score)    \n",
    "    print_to_textbox('{0:d} prediction samples found'.format(plot_input.shape[0]), info_textbox)\n",
    "    \n",
    "    # Main axis (1X2 prediction)\n",
    "    plot_x = np.append(np.vstack((plot_time[:-1], plot_time[1:])).flatten(order='F'), plot_time[-1])\n",
    "    plot_y1 = np.vstack((plot_output['ft_outcome'][:, 0], plot_output['ft_outcome'][:, 0])).flatten(order='F')[:-1]\n",
    "    plot_y2 = np.vstack((plot_output['ft_outcome'][:, 1], plot_output['ft_outcome'][:, 1])).flatten(order='F')[:-1]\n",
    "    plot_y3 = np.vstack((plot_output['ft_outcome'][:, 2], plot_output['ft_outcome'][:, 2])).flatten(order='F')[:-1]\n",
    "    h_ax.stackplot(plot_x, plot_y1, plot_y2, plot_y3,\n",
    "                   labels=['home','draw','away'],\n",
    "                   colors=['khaki', 'lightgray', 'lightskyblue'],\n",
    "                   zorder=0)\n",
    "    h_ax.legend(loc='upper left')\n",
    "\n",
    "    x_tick_pos = (60 * np.arange(0, 61, 15)).tolist() + (60 * (np.arange(70, 71, 10))).tolist()\n",
    "    x_tick_str = np.arange(0, 61, 15).astype(str).tolist() + (np.arange(70, 71, 10)).astype(str).tolist()\n",
    "    h_ax.set_xticks(x_tick_pos)\n",
    "    h_ax.set_xticklabels(x_tick_str)\n",
    "    h_ax.set_xlabel('Match time')\n",
    "    h_ax.set_xlim(0, plot_x.max())\n",
    "    h_ax.set_ylim(0, 1)\n",
    "    h_ax.set_yticks(np.arange(0, 1.01, 0.25))\n",
    "    h_ax.set_yticklabels(['{0:.0f}%'.format(100 * i) for i in np.arange(0, 1.01, 0.25)])    \n",
    "    h_ax.set_ylabel('Probability')\n",
    "    h_ax.set_title('{0}'.format(*game_info_df.set_index('game_code').loc[plot_game_code, ['game_description']].tolist()))\n",
    "    \n",
    "    # Twin axis (score prediction)\n",
    "    if h_ax_twin is None:\n",
    "        h_ax_twin = h_ax.twinx()\n",
    "    # Home\n",
    "    plot_home_score = plot_running_score[:, 0] + \\\n",
    "        np.sum(plot_output['home_score'] * np.tile(np.arange(max_home_score + 1), (plot_input.shape[0], 1)), axis=1)\n",
    "    plot_home_score = np.vstack((plot_home_score, plot_home_score)).flatten(order='F')[:-1]\n",
    "    h_ax_twin.plot(plot_x, plot_home_score, '-k', linewidth=1, zorder=10, color='darkgoldenrod', label='home score')\n",
    "    # Away\n",
    "    plot_away_score = plot_running_score[:, 1] + \\\n",
    "        np.sum(plot_output['away_score'] * np.tile(np.arange(max_away_score + 1), (plot_input.shape[0], 1)), axis=1)\n",
    "    plot_away_score = np.vstack((plot_away_score, plot_away_score)).flatten(order='F')[:-1]\n",
    "    h_ax_twin.plot(plot_x, plot_away_score, '-k', linewidth=1, zorder=10, color='dodgerblue', label='away score')\n",
    "    \n",
    "    max_score = int(np.ceil(np.append(plot_home_score, plot_away_score).max()))\n",
    "    h_ax_twin.set_ylim(0, max_score)\n",
    "    h_ax_twin.set_yticks(np.arange(0, max_score + 0.5))\n",
    "    h_ax_twin.set_ylabel('Predicted score')\n",
    "    \n",
    "    h_f.tight_layout()\n",
    "    \n",
    "match_picker = widgets.Dropdown(\n",
    "    options=game_info_df.game_description.values,\n",
    "    description='Match'\n",
    ")\n",
    "run_btn = widgets.Button(\n",
    "    description='Plot'\n",
    ")\n",
    "info_textbox = widgets.HTML(value=\"\")\n",
    "\n",
    "display(widgets.VBox([\n",
    "    widgets.HBox([match_picker, run_btn]),\n",
    "    info_textbox\n",
    "]))\n",
    "run_btn.on_click(update_dashboard)"
   ]
  },
  {
   "cell_type": "code",
   "execution_count": null,
   "metadata": {},
   "outputs": [],
   "source": [
    "plot_input =full_df[full_df[\"game_code\"]==2337537][input_names].iloc[85:87].values\n",
    "plot_running_score = full_df.loc[full_df.game_code == 2337537, ['home_start_score', 'away_start_score']].iloc[85:87].values\n",
    "model_out = get_model_outputs(clf, plot_input, plot_running_score)\n",
    "for elements in model_out:\n",
    "    model_out[elements] = model_out[elements].tolist()"
   ]
  },
  {
   "cell_type": "code",
   "execution_count": null,
   "metadata": {},
   "outputs": [],
   "source": [
    "with open(os.path.join(data_dir, 'model_outputs.json'), 'w') as f:\n",
    "    json.dump(model_out, f)"
   ]
  },
  {
   "cell_type": "code",
   "execution_count": null,
   "metadata": {},
   "outputs": [],
   "source": [
    "full_df[full_df.game_code ==2337702]"
   ]
  },
  {
   "cell_type": "code",
   "execution_count": null,
   "metadata": {},
   "outputs": [],
   "source": [
    "np.max(game_df[\"away_score\"])"
   ]
  },
  {
   "cell_type": "code",
   "execution_count": null,
   "metadata": {},
   "outputs": [],
   "source": [
    "full_df[[\"nevent\", \"play_start_time\"]]"
   ]
  },
  {
   "cell_type": "code",
   "execution_count": null,
   "metadata": {},
   "outputs": [],
   "source": [
    "os.system('say \"done notebook\"')\n"
   ]
  },
  {
   "cell_type": "code",
   "execution_count": null,
   "metadata": {},
   "outputs": [],
   "source": []
  },
  {
   "cell_type": "code",
   "execution_count": null,
   "metadata": {},
   "outputs": [],
   "source": []
  }
 ],
 "metadata": {
  "interpreter": {
   "hash": "f6c5c0c69c1e48657661a596cadc74240e1a54a645d9f5ac259274dfdfc1bdd8"
  },
  "kernelspec": {
   "display_name": "Python 3 (ipykernel)",
   "language": "python",
   "name": "python3"
  },
  "language_info": {
   "codemirror_mode": {
    "name": "ipython",
    "version": 3
   },
   "file_extension": ".py",
   "mimetype": "text/x-python",
   "name": "python",
   "nbconvert_exporter": "python",
   "pygments_lexer": "ipython3",
   "version": "3.9.5"
  }
 },
 "nbformat": 4,
 "nbformat_minor": 2
}
