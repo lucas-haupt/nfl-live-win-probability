{
 "cells": [
  {
   "cell_type": "code",
   "execution_count": 2,
   "metadata": {},
   "outputs": [
    {
     "ename": "AttributeError",
     "evalue": "module 'matplotlib' has no attribute 'get_data_path'",
     "output_type": "error",
     "traceback": [
      "\u001b[0;31m---------------------------------------------------------------------------\u001b[0m",
      "\u001b[0;31mAttributeError\u001b[0m                            Traceback (most recent call last)",
      "\u001b[0;32m/var/folders/dq/tcxv3s4j7y585_4jhfbdvrx00000gn/T/ipykernel_26924/1934843770.py\u001b[0m in \u001b[0;36m<module>\u001b[0;34m\u001b[0m\n\u001b[1;32m      1\u001b[0m \u001b[0;32mimport\u001b[0m \u001b[0mpandas\u001b[0m \u001b[0;32mas\u001b[0m \u001b[0mpd\u001b[0m\u001b[0;34m\u001b[0m\u001b[0;34m\u001b[0m\u001b[0m\n\u001b[0;32m----> 2\u001b[0;31m \u001b[0;32mimport\u001b[0m \u001b[0mmatplotlib\u001b[0m\u001b[0;34m.\u001b[0m\u001b[0mpyplot\u001b[0m \u001b[0;32mas\u001b[0m \u001b[0mplt\u001b[0m\u001b[0;34m\u001b[0m\u001b[0;34m\u001b[0m\u001b[0m\n\u001b[0m\u001b[1;32m      3\u001b[0m \u001b[0;32mfrom\u001b[0m \u001b[0msklearn\u001b[0m \u001b[0;32mimport\u001b[0m \u001b[0mcalibration\u001b[0m\u001b[0;34m\u001b[0m\u001b[0;34m\u001b[0m\u001b[0m\n\u001b[1;32m      4\u001b[0m \u001b[0;32mimport\u001b[0m \u001b[0msklearn\u001b[0m\u001b[0;34m.\u001b[0m\u001b[0mlinear_model\u001b[0m\u001b[0;34m\u001b[0m\u001b[0;34m\u001b[0m\u001b[0m\n\u001b[1;32m      5\u001b[0m \u001b[0;32mfrom\u001b[0m \u001b[0mcatboost\u001b[0m \u001b[0;32mimport\u001b[0m \u001b[0mCatBoostClassifier\u001b[0m\u001b[0;34m,\u001b[0m \u001b[0mPool\u001b[0m\u001b[0;34m,\u001b[0m \u001b[0mCatBoostRegressor\u001b[0m\u001b[0;34m\u001b[0m\u001b[0;34m\u001b[0m\u001b[0m\n",
      "\u001b[0;32m~/Documents/GitHub/nfl-live-win-probability/venv/lib/python3.9/site-packages/matplotlib/__init__.py\u001b[0m in \u001b[0;36m<module>\u001b[0;34m\u001b[0m\n\u001b[1;32m    821\u001b[0m \u001b[0;31m# triggering resolution of _auto_backend_sentinel.\u001b[0m\u001b[0;34m\u001b[0m\u001b[0;34m\u001b[0m\u001b[0;34m\u001b[0m\u001b[0m\n\u001b[1;32m    822\u001b[0m rcParamsDefault = _rc_params_in_file(\n\u001b[0;32m--> 823\u001b[0;31m     \u001b[0mcbook\u001b[0m\u001b[0;34m.\u001b[0m\u001b[0m_get_data_path\u001b[0m\u001b[0;34m(\u001b[0m\u001b[0;34m\"matplotlibrc\"\u001b[0m\u001b[0;34m)\u001b[0m\u001b[0;34m,\u001b[0m\u001b[0;34m\u001b[0m\u001b[0;34m\u001b[0m\u001b[0m\n\u001b[0m\u001b[1;32m    824\u001b[0m     \u001b[0;31m# Strip leading comment.\u001b[0m\u001b[0;34m\u001b[0m\u001b[0;34m\u001b[0m\u001b[0;34m\u001b[0m\u001b[0m\n\u001b[1;32m    825\u001b[0m     \u001b[0mtransform\u001b[0m\u001b[0;34m=\u001b[0m\u001b[0;32mlambda\u001b[0m \u001b[0mline\u001b[0m\u001b[0;34m:\u001b[0m \u001b[0mline\u001b[0m\u001b[0;34m[\u001b[0m\u001b[0;36m1\u001b[0m\u001b[0;34m:\u001b[0m\u001b[0;34m]\u001b[0m \u001b[0;32mif\u001b[0m \u001b[0mline\u001b[0m\u001b[0;34m.\u001b[0m\u001b[0mstartswith\u001b[0m\u001b[0;34m(\u001b[0m\u001b[0;34m\"#\"\u001b[0m\u001b[0;34m)\u001b[0m \u001b[0;32melse\u001b[0m \u001b[0mline\u001b[0m\u001b[0;34m,\u001b[0m\u001b[0;34m\u001b[0m\u001b[0;34m\u001b[0m\u001b[0m\n",
      "\u001b[0;32m~/Documents/GitHub/nfl-live-win-probability/venv/lib/python3.9/site-packages/matplotlib/cbook/__init__.py\u001b[0m in \u001b[0;36m_get_data_path\u001b[0;34m(*args)\u001b[0m\n\u001b[1;32m    532\u001b[0m     \u001b[0;31m`\u001b[0m\u001b[0;31m`\u001b[0m\u001b[0;34m*\u001b[0m\u001b[0margs\u001b[0m\u001b[0;31m`\u001b[0m\u001b[0;31m`\u001b[0m \u001b[0mspecify\u001b[0m \u001b[0ma\u001b[0m \u001b[0mpath\u001b[0m \u001b[0mrelative\u001b[0m \u001b[0mto\u001b[0m \u001b[0mthe\u001b[0m \u001b[0mbase\u001b[0m \u001b[0mdata\u001b[0m \u001b[0mpath\u001b[0m\u001b[0;34m.\u001b[0m\u001b[0;34m\u001b[0m\u001b[0;34m\u001b[0m\u001b[0m\n\u001b[1;32m    533\u001b[0m     \"\"\"\n\u001b[0;32m--> 534\u001b[0;31m     \u001b[0;32mreturn\u001b[0m \u001b[0mPath\u001b[0m\u001b[0;34m(\u001b[0m\u001b[0mmatplotlib\u001b[0m\u001b[0;34m.\u001b[0m\u001b[0mget_data_path\u001b[0m\u001b[0;34m(\u001b[0m\u001b[0;34m)\u001b[0m\u001b[0;34m,\u001b[0m \u001b[0;34m*\u001b[0m\u001b[0margs\u001b[0m\u001b[0;34m)\u001b[0m\u001b[0;34m\u001b[0m\u001b[0;34m\u001b[0m\u001b[0m\n\u001b[0m\u001b[1;32m    535\u001b[0m \u001b[0;34m\u001b[0m\u001b[0m\n\u001b[1;32m    536\u001b[0m \u001b[0;34m\u001b[0m\u001b[0m\n",
      "\u001b[0;31mAttributeError\u001b[0m: module 'matplotlib' has no attribute 'get_data_path'"
     ]
    }
   ],
   "source": [
    "import pandas as pd\n",
    "import matplotlib.pyplot as plt\n",
    "from sklearn import calibration\n",
    "import sklearn.linear_model\n",
    "from catboost import CatBoostClassifier, Pool, CatBoostRegressor\n",
    "from sklearn.model_selection import GroupKFold, RandomizedSearchCV\n",
    "import numpy as np\n",
    "import scipy.stats\n",
    "from sklearn.base import clone\n",
    "from sklearn.model_selection._search import ParameterSampler\n",
    "from sklearn.metrics import brier_score_loss, make_scorer, log_loss, mean_squared_error\n",
    "import os\n",
    "notebook_dir = os.getcwd()\n",
    "os.chdir(os.path.join(notebook_dir, '..'))\n",
    "root_dir = os.path.abspath(os.path.join(notebook_dir, '..'))\n",
    "# os.chdir('/Users/lucashaupt/Documents/GitHub/nfl-live-win-probability')\n",
    "from src.generate_data import get_game_data, get_division_data, get_odds_data, get_schedule_data\n",
    "import statsmodels.api as sm"
   ]
  },
  {
   "cell_type": "code",
   "execution_count": null,
   "metadata": {},
   "outputs": [],
   "source": []
  },
  {
   "cell_type": "code",
   "execution_count": null,
   "metadata": {},
   "outputs": [],
   "source": [
    "df = pd.read_csv(\"data/yards_gained_all_seasons.csv\")\n",
    "cache = True\n",
    "game_data = get_game_data(cache=cache)\n",
    "game_data = game_data.drop_duplicates(\"game_code\")\n",
    "division_data = get_division_data(cache=cache)\n",
    "combined_df = df.merge(game_data, on=[\"game_code\", \"season\"], how=\"left\", copy=False)\n"
   ]
  },
  {
   "cell_type": "code",
   "execution_count": null,
   "metadata": {},
   "outputs": [],
   "source": [
    "division_data.groupby([\"season\", \"league_id\"], as_index=False).count()"
   ]
  },
  {
   "cell_type": "code",
   "execution_count": null,
   "metadata": {},
   "outputs": [],
   "source": [
    "def get_rolling_value(df, freq=16, min_periods=1, shift=1):\n",
    "    cols = [\"total_expected_yards_gained\", \"total_yards_gained\", \"total_yards_added\", \"play_count\"]\n",
    "    df2 = df.rolling(freq, on=\"game_date\", min_periods=min_periods)[cols].mean().shift(shift)\n",
    "    df4 = pd.concat([df[[\"game_code\", \"season\", \"game_date\", \"offense_team\", \"defense_team\", \"home_team_id\", \"away_team_id\"]],\n",
    "                     df2[[\"total_expected_yards_gained\", \"total_yards_gained\", \"total_yards_added\", \"play_count\"]]], axis=1)\n",
    "    return df4\n"
   ]
  },
  {
   "cell_type": "code",
   "execution_count": null,
   "metadata": {},
   "outputs": [],
   "source": [
    "aggregate_values = [\"total_expected_yards_gained\", \"total_yards_gained\", \"total_yards_added\", \"play_count\"]\n",
    "group_values = [\"game_code\", \"season\", \"game_date\", \"offense_team\", \"defense_team\", \"home_team_id\", \"away_team_id\"]\n",
    "game_yards = combined_df[group_values + aggregate_values].groupby(group_values, as_index=False).sum()"
   ]
  },
  {
   "cell_type": "code",
   "execution_count": null,
   "metadata": {},
   "outputs": [],
   "source": [
    "rolling_offense = game_yards.sort_values(\"game_date\").groupby(\"offense_team\", as_index=False).apply(get_rolling_value)"
   ]
  },
  {
   "cell_type": "code",
   "execution_count": null,
   "metadata": {},
   "outputs": [],
   "source": [
    "rolling_defense = game_yards.sort_values(\"game_date\").groupby(\"defense_team\", as_index=False).apply(get_rolling_value)"
   ]
  },
  {
   "cell_type": "code",
   "execution_count": null,
   "metadata": {},
   "outputs": [],
   "source": [
    "game_codes = combined_df[[\"game_code\", \"home_team_id\", \"away_team_id\", \"home_team_abbrev\", \"away_team_abbrev\", \"home_score\", \"away_score\", \"game_date\", \"season\"]].drop_duplicates()"
   ]
  },
  {
   "cell_type": "code",
   "execution_count": null,
   "metadata": {},
   "outputs": [],
   "source": [
    "game_codes.columns"
   ]
  },
  {
   "cell_type": "code",
   "execution_count": null,
   "metadata": {},
   "outputs": [],
   "source": [
    "rolling_offense.columns"
   ]
  },
  {
   "cell_type": "code",
   "execution_count": null,
   "metadata": {},
   "outputs": [],
   "source": []
  },
  {
   "cell_type": "code",
   "execution_count": null,
   "metadata": {},
   "outputs": [],
   "source": [
    "yards_values = ['total_expected_yards_gained', 'total_yards_gained', 'total_yards_added', 'play_count']\n",
    "games_home_team = game_codes.merge(rolling_offense[[\"game_code\", \"offense_team\"] + yards_values], left_on=[\"game_code\", \"home_team_id\"], right_on=[\"game_code\", \"offense_team\"], suffixes=[\"\", \"_offense\"])\n",
    "games_home_team = games_home_team.merge(rolling_defense[[\"game_code\", \"defense_team\"] + yards_values], left_on=[\"game_code\", \"home_team_id\"], right_on=[\"game_code\", \"defense_team\"], suffixes=[\"_offense\", \"_defense\"])\n"
   ]
  },
  {
   "cell_type": "code",
   "execution_count": null,
   "metadata": {},
   "outputs": [],
   "source": [
    "yards_values = ['total_expected_yards_gained', 'total_yards_gained', 'total_yards_added', 'play_count']\n",
    "games_away_team = game_codes.merge(rolling_offense[[\"game_code\", \"offense_team\"] + yards_values], left_on=[\"game_code\", \"away_team_id\"], right_on=[\"game_code\", \"offense_team\"], suffixes=[\"\", \"_offense\"])\n",
    "games_away_team = games_away_team.merge(rolling_defense[[\"game_code\", \"defense_team\"] + yards_values], left_on=[\"game_code\", \"away_team_id\"], right_on=[\"game_code\", \"defense_team\"], suffixes=[\"_offense\", \"_defense\"])"
   ]
  },
  {
   "cell_type": "code",
   "execution_count": null,
   "metadata": {},
   "outputs": [],
   "source": [
    "games = games_home_team.merge(games_away_team, on=['game_code', 'season', 'home_team_id', 'away_team_id', 'home_team_abbrev', 'away_team_abbrev', 'home_score', 'away_score', 'game_date'], suffixes=[\"_home\", \"_away\"])\n",
    "games = games[games[\"season\"]>=2009]\n"
   ]
  },
  {
   "cell_type": "code",
   "execution_count": null,
   "metadata": {},
   "outputs": [],
   "source": []
  },
  {
   "cell_type": "code",
   "execution_count": null,
   "metadata": {},
   "outputs": [],
   "source": [
    "features = [\"total_yards_added_offense_home\",\n",
    "            \"total_yards_added_defense_home\",\n",
    "            \"total_yards_added_offense_away\",\n",
    "            \"total_yards_added_defense_away\",]\n",
    "target = [\"home_score\",\"away_score\"]"
   ]
  },
  {
   "cell_type": "code",
   "execution_count": null,
   "metadata": {},
   "outputs": [],
   "source": [
    "games[features]"
   ]
  },
  {
   "cell_type": "code",
   "execution_count": null,
   "metadata": {},
   "outputs": [],
   "source": [
    "ridge_model_home = sklearn.linear_model.RidgeCV(alphas=(0.1, 1.0, 10.0))\n",
    "ridge_model_home.fit(games[features], games[\"home_score\"])\n",
    "ridge_model_home.score(games[features], games[\"home_score\"])\n",
    "games[\"x_home_score\"] = ridge_model_home.predict(games[features])"
   ]
  },
  {
   "cell_type": "code",
   "execution_count": null,
   "metadata": {},
   "outputs": [],
   "source": [
    "ridge_model_away = sklearn.linear_model.RidgeCV(alphas=(0.1, 1.0, 10.0))\n",
    "ridge_model_away.fit(games[features], games[\"away_score\"])\n",
    "ridge_model_away.score(games[features], games[\"away_score\"])\n",
    "games[\"x_away_score\"] = ridge_model_away.predict(games[features])"
   ]
  },
  {
   "cell_type": "code",
   "execution_count": null,
   "metadata": {},
   "outputs": [],
   "source": [
    "plt.scatter(games[\"x_home_score\"], games[\"home_score\"])\n",
    "plt.plot([0,60], [0,60])"
   ]
  },
  {
   "cell_type": "code",
   "execution_count": null,
   "metadata": {},
   "outputs": [],
   "source": [
    "plt.scatter(games[\"x_away_score\"], games[\"away_score\"])\n",
    "plt.plot([0,60], [0,60])"
   ]
  },
  {
   "cell_type": "code",
   "execution_count": null,
   "metadata": {},
   "outputs": [],
   "source": [
    "\n",
    "X2 = sm.add_constant(games[features])\n",
    "est = sm.OLS(games[\"home_score\"], X2)\n",
    "results_new = []\n",
    "results_fu = est.fit()\n",
    "for x in np.arange(0.005, 0.25, 0.005).tolist():\n",
    "    est2 = est.fit_regularized(L1_wt=0, alpha=x)\n",
    "    results_fr_fit = sm.regression.linear_model.OLSResults(est, \n",
    "                                                            est2.params, \n",
    "                                                            results_fu.normalized_cov_params)\n",
    "\n",
    "    results_new.append(results_fr_fit.ssr)\n",
    "    # print(est2.model.score(est2.params))\n"
   ]
  },
  {
   "cell_type": "code",
   "execution_count": null,
   "metadata": {},
   "outputs": [],
   "source": [
    "plt.plot(np.arange(0.005, 0.25, 0.005).tolist(), results_new)"
   ]
  },
  {
   "cell_type": "code",
   "execution_count": null,
   "metadata": {},
   "outputs": [],
   "source": [
    "plt.plot(np.arange(0.005, 0.25, 0.005).tolist(), results_new)"
   ]
  },
  {
   "cell_type": "code",
   "execution_count": null,
   "metadata": {},
   "outputs": [],
   "source": [
    "results_fr = est.fit_regularized(L1_wt=0, alpha=0.1, start_params=results_fu.params)\n",
    "final = sm.regression.linear_model.OLSResults(est, \n",
    "                                              results_fr.params, \n",
    "                                              est.normalized_cov_params)\n",
    "\n",
    "print(final.summary())\n"
   ]
  },
  {
   "cell_type": "code",
   "execution_count": null,
   "metadata": {},
   "outputs": [],
   "source": [
    "games.to_clipboard()"
   ]
  },
  {
   "cell_type": "code",
   "execution_count": null,
   "metadata": {},
   "outputs": [],
   "source": [
    "games[\"total_yards_added_offense_home_per_play\"] = games[\"total_yards_added_offense_home\"] / games[\"play_count_offense_home\"] \n",
    "games[\"total_yards_added_defense_home_per_play\"] = games[\"total_yards_added_defense_home\"] / games[\"play_count_defense_home\"] \n",
    "games[\"total_yards_added_offense_away_per_play\"] = games[\"total_yards_added_offense_away\"] / games[\"play_count_offense_away\"] \n",
    "games[\"total_yards_added_defense_away_per_play\"] = games[\"total_yards_added_defense_away\"] / games[\"play_count_defense_away\"] \n"
   ]
  },
  {
   "cell_type": "code",
   "execution_count": null,
   "metadata": {},
   "outputs": [],
   "source": [
    "games.columns"
   ]
  },
  {
   "cell_type": "code",
   "execution_count": null,
   "metadata": {},
   "outputs": [],
   "source": [
    "\n",
    "new_features = [\n",
    "    'total_yards_added_offense_home_per_play',\n",
    "    'total_yards_added_defense_home_per_play',\n",
    "    'total_yards_added_offense_away_per_play',\n",
    "    'total_yards_added_defense_away_per_play',\n",
    "    'play_count_offense_home',\n",
    "    'play_count_defense_home',\n",
    "    'play_count_offense_away', \n",
    "    'play_count_defense_away'\n",
    "\n",
    "       ]\n",
    "X2 = sm.add_constant(games[new_features])\n",
    "est = sm.OLS(games[\"away_score\"], X2)\n",
    "est2 = est.fit()\n",
    "print(est2.summary())\n"
   ]
  },
  {
   "cell_type": "code",
   "execution_count": null,
   "metadata": {},
   "outputs": [],
   "source": [
    "\n",
    "new_features = [\n",
    "    'total_yards_added_offense_home_per_play',\n",
    "    'total_yards_added_defense_home_per_play',\n",
    "    'total_yards_added_offense_away_per_play',\n",
    "    'total_yards_added_defense_away_per_play',\n",
    "    'play_count_offense_home',\n",
    "    'play_count_defense_home',\n",
    "    'play_count_offense_away', \n",
    "    'play_count_defense_away'\n",
    "\n",
    "       ]\n",
    "X2 = sm.add_constant(games[new_features])\n",
    "est = sm.OLS(games[\"home_score\"], X2)\n",
    "est2 = est.fit()\n",
    "print(est2.summary())\n"
   ]
  },
  {
   "cell_type": "code",
   "execution_count": 3,
   "metadata": {},
   "outputs": [
    {
     "ename": "NameError",
     "evalue": "name 'sm' is not defined",
     "output_type": "error",
     "traceback": [
      "\u001b[0;31m---------------------------------------------------------------------------\u001b[0m",
      "\u001b[0;31mNameError\u001b[0m                                 Traceback (most recent call last)",
      "\u001b[0;32m/var/folders/dq/tcxv3s4j7y585_4jhfbdvrx00000gn/T/ipykernel_26924/169092257.py\u001b[0m in \u001b[0;36m<module>\u001b[0;34m\u001b[0m\n\u001b[0;32m----> 1\u001b[0;31m \u001b[0mX2\u001b[0m \u001b[0;34m=\u001b[0m \u001b[0msm\u001b[0m\u001b[0;34m.\u001b[0m\u001b[0madd_constant\u001b[0m\u001b[0;34m(\u001b[0m\u001b[0mgames\u001b[0m\u001b[0;34m[\u001b[0m\u001b[0mfeatures\u001b[0m\u001b[0;34m]\u001b[0m\u001b[0;34m)\u001b[0m\u001b[0;34m\u001b[0m\u001b[0;34m\u001b[0m\u001b[0m\n\u001b[0m\u001b[1;32m      2\u001b[0m \u001b[0mest\u001b[0m \u001b[0;34m=\u001b[0m \u001b[0msm\u001b[0m\u001b[0;34m.\u001b[0m\u001b[0mOLS\u001b[0m\u001b[0;34m(\u001b[0m\u001b[0mgames\u001b[0m\u001b[0;34m[\u001b[0m\u001b[0;34m\"away_score\"\u001b[0m\u001b[0;34m]\u001b[0m\u001b[0;34m,\u001b[0m \u001b[0mX2\u001b[0m\u001b[0;34m)\u001b[0m\u001b[0;34m\u001b[0m\u001b[0;34m\u001b[0m\u001b[0m\n\u001b[1;32m      3\u001b[0m \u001b[0mest2\u001b[0m \u001b[0;34m=\u001b[0m \u001b[0mest\u001b[0m\u001b[0;34m.\u001b[0m\u001b[0mfit\u001b[0m\u001b[0;34m(\u001b[0m\u001b[0;34m)\u001b[0m\u001b[0;34m\u001b[0m\u001b[0;34m\u001b[0m\u001b[0m\n\u001b[1;32m      4\u001b[0m \u001b[0mprint\u001b[0m\u001b[0;34m(\u001b[0m\u001b[0mest2\u001b[0m\u001b[0;34m.\u001b[0m\u001b[0msummary\u001b[0m\u001b[0;34m(\u001b[0m\u001b[0;34m)\u001b[0m\u001b[0;34m)\u001b[0m\u001b[0;34m\u001b[0m\u001b[0;34m\u001b[0m\u001b[0m\n",
      "\u001b[0;31mNameError\u001b[0m: name 'sm' is not defined"
     ]
    }
   ],
   "source": [
    "X2 = sm.add_constant(games[features])\n",
    "est = sm.OLS(games[\"away_score\"], X2)\n",
    "est2 = est.fit()\n",
    "print(est2.summary())\n"
   ]
  },
  {
   "cell_type": "code",
   "execution_count": null,
   "metadata": {},
   "outputs": [],
   "source": [
    "X2 = sm.add_constant(games[features])\n",
    "est = sm.OLS(games[\"home_score\"], X2)\n",
    "est2 = est.fit()\n",
    "print(est2.summary())\n"
   ]
  },
  {
   "cell_type": "code",
   "execution_count": null,
   "metadata": {},
   "outputs": [],
   "source": [
    "games[\"home_team_win\"] = np.where(games[\"home_score\"] > games[\"away_score\"], 1, 0)\n",
    "games[\"away_team_win\"] = np.where(games[\"home_score\"] < games[\"away_score\"], 1, 0)\n",
    "games[\"tie\"] = np.where(games[\"home_score\"] == games[\"away_score\"], 1, 0)"
   ]
  },
  {
   "cell_type": "code",
   "execution_count": null,
   "metadata": {},
   "outputs": [],
   "source": [
    "X2 = sm.add_constant(games[features])\n",
    "est = sm.OLS(games[\"away_score\"], X2)\n",
    "est2 = est.fit()\n",
    "print(est2.summary())\n"
   ]
  },
  {
   "cell_type": "code",
   "execution_count": null,
   "metadata": {},
   "outputs": [],
   "source": [
    "import datetime as dt \n",
    "\n",
    "schedule = get_schedule_data(cache=cache)\n",
    "schedule = schedule[schedule[\"game_date\"].dt.date>np.max(pd.to_datetime(games[\"game_date\"]))]\n"
   ]
  },
  {
   "cell_type": "code",
   "execution_count": null,
   "metadata": {},
   "outputs": [],
   "source": []
  },
  {
   "cell_type": "code",
   "execution_count": null,
   "metadata": {},
   "outputs": [],
   "source": [
    "np.max(pd.to_datetime(games[\"game_date\"]))"
   ]
  },
  {
   "cell_type": "code",
   "execution_count": null,
   "metadata": {},
   "outputs": [],
   "source": [
    "X2 = sm.add_constant(games[features])\n",
    "est = sm.Logit(games[\"tie\"], X2)\n",
    "est2 = est.fit()\n",
    "games[\"x_tie\"] = est2.predict(X2)\n",
    "\n",
    "print(est2.summary())\n"
   ]
  },
  {
   "cell_type": "code",
   "execution_count": null,
   "metadata": {},
   "outputs": [],
   "source": [
    "odds = pd.read_parquet(\"data/odds_data.parquet\")\n",
    "odds = odds.drop_duplicates(\"game_code\")"
   ]
  },
  {
   "cell_type": "code",
   "execution_count": null,
   "metadata": {},
   "outputs": [],
   "source": [
    "games=games.merge(odds[[\"game_code\", \"cur_spread\"]], on=\"game_code\")"
   ]
  },
  {
   "cell_type": "code",
   "execution_count": null,
   "metadata": {},
   "outputs": [],
   "source": [
    "current_values = games_home_team.append(games_away_team).sort_values(\"game_date\", ascending=False).drop_duplicates([\"offense_team\"])\n",
    "current_values = current_values.merge(division_data, left_on=[\"season\", \"offense_team\"], right_on=[\"season\", \"team_id\"])"
   ]
  },
  {
   "cell_type": "code",
   "execution_count": null,
   "metadata": {},
   "outputs": [],
   "source": [
    "predictions = schedule.merge(current_values[['offense_team', 'total_yards_added_offense', 'total_yards_added_defense']], left_on=[\"home_team_id\"], right_on=[\"offense_team\"], suffixes=[\"\", \"_home\"])\n",
    "predictions = predictions.merge(current_values[['offense_team', 'total_yards_added_offense', 'total_yards_added_defense']], left_on=[\"away_team_id\"], right_on=[\"offense_team\"], suffixes=[\"_home\", \"_away\"])"
   ]
  },
  {
   "cell_type": "code",
   "execution_count": null,
   "metadata": {},
   "outputs": [],
   "source": [
    "X2 = sm.add_constant(games[features])\n",
    "est = sm.Logit(games[\"home_team_win\"], X2)\n",
    "est2 = est.fit()\n",
    "games[\"x_home_team_win\"] = est2.predict(X2)\n",
    "predictions[\"x_home_team_win\"] = est2.predict(sm.add_constant(predictions[features]))\n",
    "print(est2.summary())\n"
   ]
  },
  {
   "cell_type": "code",
   "execution_count": null,
   "metadata": {},
   "outputs": [],
   "source": [
    "X2 = sm.add_constant(games[features])\n",
    "est = sm.Logit(games[\"tie\"], X2)\n",
    "est2 = est.fit()\n",
    "games[\"x_tie_calculated\"] = est2.predict(X2)\n",
    "games[\"x_away_team_win\"] = 1 - games[\"x_tie_calculated\"] - games[\"x_home_team_win\"]\n",
    "predictions[\"x_tie_calculated\"] = est2.predict(sm.add_constant(predictions[features]))\n",
    "predictions[\"x_away_team_win\"] = 1 - predictions[\"x_tie_calculated\"] - predictions[\"x_home_team_win\"]\n",
    "\n",
    "print(est2.summary())\n"
   ]
  },
  {
   "cell_type": "code",
   "execution_count": null,
   "metadata": {},
   "outputs": [],
   "source": [
    "predictions[\"x_home_score\"] = ridge_model_home.predict(predictions[features])\n",
    "predictions[\"x_away_score\"] = ridge_model_away.predict(predictions[features])\n",
    "predictions[\"x_line\"] = predictions[\"x_away_score\"] - predictions[\"x_home_score\"]"
   ]
  },
  {
   "cell_type": "code",
   "execution_count": null,
   "metadata": {},
   "outputs": [],
   "source": [
    "models = {}\n",
    "for team_score in range(int(np.max(games[\"home_score\"]+1))):\n",
    "    for opponent_score in range(int(np.max(games[\"away_score\"]+1))):\n",
    "        try:\n",
    "            models[str(team_score) + str(opponent_score)] = sklearn.linear_model.LogisticRegression()\n",
    "            models[str(team_score) + str(opponent_score)].fit(games[features], np.where((games[\"home_score\"]==team_score)&(games[\"away_score\"]==opponent_score), 1, 0))\n",
    "            print(str(team_score) + \" - \" + str(opponent_score), *models[str(team_score) + str(opponent_score)].intercept_, *models[str(team_score) + str(opponent_score)].coef_)\n",
    "        except:\n",
    "            print(str(team_score) + \" - \" + str(opponent_score))\n"
   ]
  },
  {
   "cell_type": "code",
   "execution_count": null,
   "metadata": {},
   "outputs": [],
   "source": [
    "game_prediction_matrix = predictions[[\"game_code\"]+features]\n",
    "game_outcome_matrix = predictions[[\"game_code\"]+features]\n",
    "list_of_scores = []\n",
    "list_of_home_wins = []\n",
    "list_of_ties = []\n",
    "list_of_away_wins = []\n",
    "for team_score in range(int(np.max(games[\"home_score\"]+1))):\n",
    "    for opponent_score in range(int(np.max(games[\"away_score\"]+1))):\n",
    "        try:\n",
    "            game_prediction_matrix[\"score_\" + str(team_score) + \"_\" + str(opponent_score)] = pd.DataFrame(models[str(team_score) + str(opponent_score)].predict_proba(predictions[features]))[1]\n",
    "            print(\"score_\" + str(team_score) + \"_\" + str(opponent_score))\n",
    "            list_of_scores.append(\"score_\" + str(team_score) + \"_\" + str(opponent_score))\n",
    "            if team_score > opponent_score:\n",
    "                list_of_home_wins.append(\"score_\" + str(team_score) + \"_\" + str(opponent_score))\n",
    "            elif team_score == opponent_score:\n",
    "                list_of_ties.append(\"score_\" + str(team_score) + \"_\" + str(opponent_score))\n",
    "            else:\n",
    "                list_of_away_wins.append(\"score_\" + str(team_score) + \"_\" + str(opponent_score))\n",
    "\n",
    "        except:\n",
    "            game_prediction_matrix[\"score_\" + str(team_score) + \"_\" + str(opponent_score)] = 0\n",
    "            list_of_scores.append(\"score_\" + str(team_score) + \"_\" + str(opponent_score))\n",
    "\n"
   ]
  },
  {
   "cell_type": "code",
   "execution_count": null,
   "metadata": {},
   "outputs": [],
   "source": [
    "game_exact_score_predictions = []\n",
    "for game_code in predictions[\"game_code\"]:\n",
    "    game_dict = {\n",
    "        \"game_code\": game_code,\n",
    "        \"home_team_id\": predictions[predictions[\"game_code\"] == game_code][\n",
    "            \"home_team_id\"\n",
    "        ].item(),\n",
    "        \"away_team_id\": predictions[predictions[\"game_code\"] == game_code][\n",
    "            \"away_team_id\"\n",
    "        ].item(),\n",
    "    }\n",
    "    game_prediction = game_prediction_matrix[\n",
    "        game_prediction_matrix[\"game_code\"] == game_code\n",
    "    ][list_of_scores].values[0]\n",
    "    prob_adjustment = np.sum(game_prediction_matrix[game_prediction_matrix[\"game_code\"]==game_code][list_of_scores].values[0])\n",
    "    game_dict[\"pred_exact_score\"] = (game_prediction / np.sum(game_prediction)).tolist()\n",
    "    game_dict[\"pred_outcome\"] = [\n",
    "        np.sum(\n",
    "            game_prediction_matrix[game_prediction_matrix[\"game_code\"] == game_code][\n",
    "                list_of_home_wins\n",
    "            ].values[0]\n",
    "        )\n",
    "        / prob_adjustment,\n",
    "        np.sum(\n",
    "            game_prediction_matrix[game_prediction_matrix[\"game_code\"] == game_code][\n",
    "                list_of_ties\n",
    "            ].values[0]\n",
    "        )\n",
    "        / prob_adjustment,\n",
    "        np.sum(\n",
    "            game_prediction_matrix[game_prediction_matrix[\"game_code\"] == game_code][\n",
    "                list_of_away_wins\n",
    "            ].values[0]\n",
    "        )\n",
    "        / prob_adjustment,\n",
    "    ]\n",
    "\n",
    "    game_dict[\"current_score\"] = [0, 0]\n",
    "    game_exact_score_predictions.append(game_dict)\n"
   ]
  },
  {
   "cell_type": "code",
   "execution_count": null,
   "metadata": {},
   "outputs": [],
   "source": [
    "results_df = games.loc[games.season==2021, [\"game_code\", \"home_team_id\", \"away_team_id\", \"home_score\", \"away_score\"]].to_dict(orient='records')\n"
   ]
  },
  {
   "cell_type": "code",
   "execution_count": null,
   "metadata": {},
   "outputs": [],
   "source": []
  },
  {
   "cell_type": "code",
   "execution_count": null,
   "metadata": {},
   "outputs": [],
   "source": [
    "team_names = games.loc[games.season==2021, [\"home_team_id\", \"home_team_abbrev\"]]\n",
    "current_division_data = current_values[[\"offense_team\", \"conference_id\", \"division_id\"]].rename(columns={'offense_team':'home_team_id'})\n",
    "team_names= team_names.merge(current_division_data)\n",
    "team_names = team_names.rename(columns={'home_team_id': 'id', 'home_team_abbrev': 'name'}).drop_duplicates().to_dict(orient='records')"
   ]
  },
  {
   "cell_type": "code",
   "execution_count": null,
   "metadata": {},
   "outputs": [],
   "source": [
    "sim_data = {\n",
    "    \"teams\": team_names,\n",
    "    \"results\": results_df,\n",
    "    \"predictions\": game_exact_score_predictions,\n",
    "    \"prediction_params\": {\"max_home_score\": 57, \"max_away_score\": 59}\n",
    "\n",
    "}\n",
    "import json\n",
    "data_dir = \"data/\"\n",
    "with open(os.path.join(data_dir, 'simulation_inputs.json'), 'w') as f:\n",
    "    json.dump(sim_data, f)"
   ]
  },
  {
   "cell_type": "code",
   "execution_count": null,
   "metadata": {},
   "outputs": [],
   "source": [
    "sim_data[\"predictions\"][0][\"pred_exact_score\"]"
   ]
  },
  {
   "cell_type": "code",
   "execution_count": null,
   "metadata": {},
   "outputs": [],
   "source": [
    "sim_data[\"teams\"]"
   ]
  },
  {
   "cell_type": "code",
   "execution_count": null,
   "metadata": {},
   "outputs": [],
   "source": [
    "sim_data[\"predictions\"][0]"
   ]
  },
  {
   "cell_type": "code",
   "execution_count": null,
   "metadata": {},
   "outputs": [],
   "source": [
    "home_scores = []\n",
    "away_scores = []\n",
    "\n",
    "for team_score in range(int(np.max(games[\"home_score\"]+1))):\n",
    "    for opponent_score in range(int(np.max(games[\"away_score\"]+1))):\n",
    "        home_scores.append(team_score)\n",
    "        away_scores.append(opponent_score)\n",
    "score_game_example = pd.DataFrame([list_of_scores, (sim_data[\"predictions\"][0][\"pred_exact_score\"]), home_scores, away_scores]).T\n",
    "score_game_example=score_game_example.rename(columns={1: \"probability\", 2: \"home_score\", 3: \"away_score\"})\n",
    "\n"
   ]
  },
  {
   "cell_type": "code",
   "execution_count": null,
   "metadata": {},
   "outputs": [],
   "source": [
    "import seaborn as sns\n",
    "from matplotlib.colors import LogNorm, Normalize\n",
    "data = pd.DataFrame(score_game_example[[\"home_score\", \"away_score\", \"probability\"]], dtype=\"float\")\n",
    "data = data.pivot(\"home_score\", \"away_score\", \"probability\")\n",
    "data.head()\n",
    "\n",
    "sns.heatmap(data, square=True)"
   ]
  },
  {
   "cell_type": "code",
   "execution_count": null,
   "metadata": {},
   "outputs": [],
   "source": [
    "score_game_example_home = score_game_example.groupby(\"home_score\").sum()\n",
    "score_game_example_away = score_game_example.groupby(\"away_score\").sum()\n",
    "plt.plot(score_game_example_home[\"probability\"])\n",
    "plt.plot(score_game_example_away[\"probability\"])\n"
   ]
  },
  {
   "cell_type": "code",
   "execution_count": null,
   "metadata": {},
   "outputs": [],
   "source": [
    "pd.concat([games[[\"game_code\", \"x_home_team_win\", \"x_away_team_win\", \"game_date\"]], predictions[[\"game_code\", \"x_home_team_win\", \"x_away_team_win\", \"game_date\"]]]).rename(columns={\"x_home_team_win\": \"prior_home\", \"x_away_team_win\": \"prior_away\"}).to_csv(\"data/game_priors.csv\")\n",
    "# os.system('say \"done notebook\"')\n"
   ]
  },
  {
   "cell_type": "code",
   "execution_count": null,
   "metadata": {},
   "outputs": [],
   "source": []
  },
  {
   "cell_type": "code",
   "execution_count": null,
   "metadata": {},
   "outputs": [],
   "source": []
  },
  {
   "cell_type": "code",
   "execution_count": null,
   "metadata": {},
   "outputs": [],
   "source": []
  }
 ],
 "metadata": {
  "interpreter": {
   "hash": "f6c5c0c69c1e48657661a596cadc74240e1a54a645d9f5ac259274dfdfc1bdd8"
  },
  "kernelspec": {
   "display_name": "Python 3 (ipykernel)",
   "language": "python",
   "name": "python3"
  },
  "language_info": {
   "codemirror_mode": {
    "name": "ipython",
    "version": 3
   },
   "file_extension": ".py",
   "mimetype": "text/x-python",
   "name": "python",
   "nbconvert_exporter": "python",
   "pygments_lexer": "ipython3",
   "version": "3.9.5"
  }
 },
 "nbformat": 4,
 "nbformat_minor": 2
}
