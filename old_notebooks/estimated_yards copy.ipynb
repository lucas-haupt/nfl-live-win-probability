{
 "cells": [
  {
   "cell_type": "code",
   "execution_count": null,
   "metadata": {},
   "outputs": [],
   "source": [
    "import pandas as pd\n",
    "import matplotlib.pyplot as plt\n",
    "from sklearn import calibration\n",
    "import sklearn.linear_model\n",
    "from catboost import CatBoostClassifier, Pool, CatBoostRegressor\n",
    "from sklearn.model_selection import GroupKFold, RandomizedSearchCV\n",
    "import numpy as np\n",
    "import scipy.stats\n",
    "from sklearn.base import clone\n",
    "from sklearn.model_selection._search import ParameterSampler\n",
    "from sklearn.metrics import brier_score_loss, make_scorer, log_loss, mean_squared_error\n",
    "import os\n",
    "os.chdir('/Users/lucashaupt/Documents/GitHub/nfl-live-win-probability')\n",
    "from src.generate_data import get_game_data, get_division_data, get_odds_data, get_schedule_data\n",
    "import statsmodels.api as sm"
   ]
  },
  {
   "cell_type": "code",
   "execution_count": null,
   "metadata": {},
   "outputs": [],
   "source": [
    "df = pd.read_csv(\"data/yards_gained_all_seasons.csv\")\n",
    "game_data = get_game_data(cache=True)\n",
    "game_data = game_data.drop_duplicates(\"game_code\")\n",
    "division_data = get_division_data(cache=True)\n",
    "combined_df = df.merge(game_data, on=[\"game_code\", \"season\"], how=\"left\", copy=False)\n"
   ]
  },
  {
   "cell_type": "code",
   "execution_count": null,
   "metadata": {},
   "outputs": [],
   "source": [
    "division_data.groupby([\"season\", \"league_id\"], as_index=False).count()"
   ]
  },
  {
   "cell_type": "code",
   "execution_count": null,
   "metadata": {},
   "outputs": [],
   "source": [
    "def get_rolling_value(df, freq=16, min_periods=16, shift=1):\n",
    "    cols = [\"total_expected_yards_gained\", \"total_yards_gained\", \"total_yards_added\", \"play_count\"]\n",
    "    df2 = df.rolling(freq, on=\"game_date\", min_periods=min_periods)[cols].mean().shift(shift)\n",
    "    df4 = pd.concat([df[[\"game_code\", \"season\", \"game_date\", \"offense_team\", \"defense_team\", \"home_team_id\", \"away_team_id\"]],\n",
    "                     df2[[\"total_expected_yards_gained\", \"total_yards_gained\", \"total_yards_added\", \"play_count\"]]], axis=1)\n",
    "    return df4\n"
   ]
  },
  {
   "cell_type": "code",
   "execution_count": null,
   "metadata": {},
   "outputs": [],
   "source": [
    "aggregate_values = [\"total_expected_yards_gained\", \"total_yards_gained\", \"total_yards_added\", \"play_count\"]\n",
    "group_values = [\"game_code\", \"season\", \"game_date\", \"offense_team\", \"defense_team\", \"home_team_id\", \"away_team_id\"]\n",
    "game_yards = combined_df[group_values + aggregate_values].groupby(group_values, as_index=False).sum()"
   ]
  },
  {
   "cell_type": "code",
   "execution_count": null,
   "metadata": {},
   "outputs": [],
   "source": [
    "rolling_offense = game_yards.sort_values(\"game_date\").groupby(\"offense_team\", as_index=False).apply(get_rolling_value)"
   ]
  },
  {
   "cell_type": "code",
   "execution_count": null,
   "metadata": {},
   "outputs": [],
   "source": [
    "rolling_defense = game_yards.sort_values(\"game_date\").groupby(\"defense_team\", as_index=False).apply(get_rolling_value)"
   ]
  },
  {
   "cell_type": "code",
   "execution_count": null,
   "metadata": {},
   "outputs": [],
   "source": [
    "game_codes = combined_df[[\"game_code\", \"home_team_id\", \"away_team_id\", \"home_team_abbrev\", \"away_team_abbrev\", \"home_score\", \"away_score\", \"game_date\", \"season\"]].drop_duplicates()"
   ]
  },
  {
   "cell_type": "code",
   "execution_count": null,
   "metadata": {},
   "outputs": [],
   "source": [
    "game_codes.columns"
   ]
  },
  {
   "cell_type": "code",
   "execution_count": null,
   "metadata": {},
   "outputs": [],
   "source": [
    "rolling_offense.columns"
   ]
  },
  {
   "cell_type": "code",
   "execution_count": null,
   "metadata": {},
   "outputs": [],
   "source": []
  },
  {
   "cell_type": "code",
   "execution_count": null,
   "metadata": {},
   "outputs": [],
   "source": [
    "yards_values = ['total_expected_yards_gained', 'total_yards_gained', 'total_yards_added', 'play_count']\n",
    "games_home_team = game_codes.merge(rolling_offense[[\"game_code\", \"offense_team\"] + yards_values], left_on=[\"game_code\", \"home_team_id\"], right_on=[\"game_code\", \"offense_team\"], suffixes=[\"\", \"_offense\"])\n",
    "games_home_team = games_home_team.merge(rolling_defense[[\"game_code\", \"defense_team\"] + yards_values], left_on=[\"game_code\", \"home_team_id\"], right_on=[\"game_code\", \"defense_team\"], suffixes=[\"_offense\", \"_defense\"])\n"
   ]
  },
  {
   "cell_type": "code",
   "execution_count": null,
   "metadata": {},
   "outputs": [],
   "source": [
    "yards_values = ['total_expected_yards_gained', 'total_yards_gained', 'total_yards_added', 'play_count']\n",
    "games_away_team = game_codes.merge(rolling_offense[[\"game_code\", \"offense_team\"] + yards_values], left_on=[\"game_code\", \"away_team_id\"], right_on=[\"game_code\", \"offense_team\"], suffixes=[\"\", \"_offense\"])\n",
    "games_away_team = games_away_team.merge(rolling_defense[[\"game_code\", \"defense_team\"] + yards_values], left_on=[\"game_code\", \"away_team_id\"], right_on=[\"game_code\", \"defense_team\"], suffixes=[\"_offense\", \"_defense\"])"
   ]
  },
  {
   "cell_type": "code",
   "execution_count": null,
   "metadata": {},
   "outputs": [],
   "source": [
    "games = games_home_team.merge(games_away_team, on=['game_code', 'season', 'home_team_id', 'away_team_id', 'home_team_abbrev', 'away_team_abbrev', 'home_score', 'away_score', 'game_date'], suffixes=[\"_home\", \"_away\"])\n",
    "games = games[games[\"season\"]>=2016]\n"
   ]
  },
  {
   "cell_type": "code",
   "execution_count": null,
   "metadata": {},
   "outputs": [],
   "source": []
  },
  {
   "cell_type": "code",
   "execution_count": null,
   "metadata": {},
   "outputs": [],
   "source": [
    "features = [\"total_yards_added_offense_home\",\n",
    "            \"total_yards_added_defense_home\",\n",
    "            \"total_yards_added_offense_away\",\n",
    "            \"total_yards_added_defense_away\",]\n",
    "target = [\"home_score\",\"away_score\"]"
   ]
  },
  {
   "cell_type": "code",
   "execution_count": null,
   "metadata": {},
   "outputs": [],
   "source": []
  },
  {
   "cell_type": "code",
   "execution_count": null,
   "metadata": {},
   "outputs": [],
   "source": [
    "ridge_model_home = sklearn.linear_model.RidgeCV(alphas=(0.1, 1.0, 10.0))\n",
    "ridge_model_home.fit(games[features], games[\"home_score\"])\n",
    "ridge_model_home.score(games[features], games[\"home_score\"])\n",
    "games[\"x_home_score\"] = ridge_model_home.predict(games[features])"
   ]
  },
  {
   "cell_type": "code",
   "execution_count": null,
   "metadata": {},
   "outputs": [],
   "source": [
    "ridge_model_away = sklearn.linear_model.RidgeCV(alphas=(0.1, 1.0, 10.0))\n",
    "ridge_model_away.fit(games[features], games[\"away_score\"])\n",
    "ridge_model_away.score(games[features], games[\"away_score\"])\n",
    "games[\"x_away_score\"] = ridge_model_away.predict(games[features])"
   ]
  },
  {
   "cell_type": "code",
   "execution_count": null,
   "metadata": {},
   "outputs": [],
   "source": [
    "plt.scatter(games[\"x_home_score\"], games[\"home_score\"])\n",
    "plt.plot([0,60], [0,60])"
   ]
  },
  {
   "cell_type": "code",
   "execution_count": null,
   "metadata": {},
   "outputs": [],
   "source": [
    "plt.scatter(games[\"x_away_score\"], games[\"away_score\"])\n",
    "plt.plot([0,60], [0,60])"
   ]
  },
  {
   "cell_type": "code",
   "execution_count": null,
   "metadata": {},
   "outputs": [],
   "source": [
    "\n",
    "X2 = sm.add_constant(games[features])\n",
    "est = sm.OLS(games[\"home_score\"], X2)\n",
    "results_new = []\n",
    "results_fu = est.fit()\n",
    "for x in np.arange(0.005, 0.25, 0.005).tolist():\n",
    "    est2 = est.fit_regularized(L1_wt=0, alpha=x)\n",
    "    results_fr_fit = sm.regression.linear_model.OLSResults(est, \n",
    "                                                            est2.params, \n",
    "                                                            results_fu.normalized_cov_params)\n",
    "\n",
    "    results_new.append(results_fr_fit.ssr)\n",
    "    # print(est2.model.score(est2.params))\n"
   ]
  },
  {
   "cell_type": "code",
   "execution_count": null,
   "metadata": {},
   "outputs": [],
   "source": [
    "plt.plot(np.arange(0.005, 0.25, 0.005).tolist(), results_new)"
   ]
  },
  {
   "cell_type": "code",
   "execution_count": null,
   "metadata": {},
   "outputs": [],
   "source": [
    "plt.plot(np.arange(0.005, 0.25, 0.005).tolist(), results_new)"
   ]
  },
  {
   "cell_type": "code",
   "execution_count": null,
   "metadata": {},
   "outputs": [],
   "source": [
    "results_fr = est.fit_regularized(L1_wt=0, alpha=0.1, start_params=results_fu.params)\n",
    "final = sm.regression.linear_model.OLSResults(est, \n",
    "                                              results_fr.params, \n",
    "                                              est.normalized_cov_params)\n",
    "\n",
    "print(final.summary())\n"
   ]
  },
  {
   "cell_type": "code",
   "execution_count": null,
   "metadata": {},
   "outputs": [],
   "source": [
    "games.to_clipboard()"
   ]
  },
  {
   "cell_type": "code",
   "execution_count": null,
   "metadata": {},
   "outputs": [],
   "source": [
    "games[\"total_yards_added_offense_home_per_play\"] = games[\"total_yards_added_offense_home\"] / games[\"play_count_offense_home\"] \n",
    "games[\"total_yards_added_defense_home_per_play\"] = games[\"total_yards_added_defense_home\"] / games[\"play_count_defense_home\"] \n",
    "games[\"total_yards_added_offense_away_per_play\"] = games[\"total_yards_added_offense_away\"] / games[\"play_count_offense_away\"] \n",
    "games[\"total_yards_added_defense_away_per_play\"] = games[\"total_yards_added_defense_away\"] / games[\"play_count_defense_away\"] \n"
   ]
  },
  {
   "cell_type": "code",
   "execution_count": null,
   "metadata": {},
   "outputs": [],
   "source": [
    "games.columns"
   ]
  },
  {
   "cell_type": "code",
   "execution_count": null,
   "metadata": {},
   "outputs": [],
   "source": [
    "\n",
    "new_features = [\n",
    "    'total_yards_added_offense_home_per_play',\n",
    "    'total_yards_added_defense_home_per_play',\n",
    "    'total_yards_added_offense_away_per_play',\n",
    "    'total_yards_added_defense_away_per_play',\n",
    "    'play_count_offense_home',\n",
    "    'play_count_defense_home',\n",
    "    'play_count_offense_away', \n",
    "    'play_count_defense_away'\n",
    "\n",
    "       ]\n",
    "X2 = sm.add_constant(games[new_features])\n",
    "est = sm.OLS(games[\"away_score\"], X2)\n",
    "est2 = est.fit()\n",
    "print(est2.summary())\n"
   ]
  },
  {
   "cell_type": "code",
   "execution_count": null,
   "metadata": {},
   "outputs": [],
   "source": [
    "\n",
    "new_features = [\n",
    "    'total_yards_added_offense_home_per_play',\n",
    "    'total_yards_added_defense_home_per_play',\n",
    "    'total_yards_added_offense_away_per_play',\n",
    "    'total_yards_added_defense_away_per_play',\n",
    "    'play_count_offense_home',\n",
    "    'play_count_defense_home',\n",
    "    'play_count_offense_away', \n",
    "    'play_count_defense_away'\n",
    "\n",
    "       ]\n",
    "X2 = sm.add_constant(games[new_features])\n",
    "est = sm.OLS(games[\"home_score\"], X2)\n",
    "est2 = est.fit()\n",
    "print(est2.summary())\n"
   ]
  },
  {
   "cell_type": "code",
   "execution_count": null,
   "metadata": {},
   "outputs": [],
   "source": [
    "X2 = sm.add_constant(games[features])\n",
    "est = sm.OLS(games[\"away_score\"], X2)\n",
    "est2 = est.fit()\n",
    "print(est2.summary())\n"
   ]
  },
  {
   "cell_type": "code",
   "execution_count": null,
   "metadata": {},
   "outputs": [],
   "source": [
    "X2 = sm.add_constant(games[features])\n",
    "est = sm.OLS(games[\"home_score\"], X2)\n",
    "est2 = est.fit()\n",
    "print(est2.summary())\n"
   ]
  },
  {
   "cell_type": "code",
   "execution_count": null,
   "metadata": {},
   "outputs": [],
   "source": [
    "games[\"home_team_win\"] = np.where(games[\"home_score\"] > games[\"away_score\"], 1, 0)\n",
    "games[\"away_team_win\"] = np.where(games[\"home_score\"] < games[\"away_score\"], 1, 0)\n",
    "games[\"tie\"] = np.where(games[\"home_score\"] == games[\"away_score\"], 1, 0)"
   ]
  },
  {
   "cell_type": "code",
   "execution_count": null,
   "metadata": {},
   "outputs": [],
   "source": [
    "X2 = sm.add_constant(games[features])\n",
    "est = sm.OLS(games[\"away_score\"], X2)\n",
    "est2 = est.fit()\n",
    "print(est2.summary())\n"
   ]
  },
  {
   "cell_type": "code",
   "execution_count": null,
   "metadata": {},
   "outputs": [],
   "source": [
    "import datetime\n",
    "schedule = get_schedule_data(cache=True)\n",
    "schedule = schedule[schedule[\"game_date\"]>np.max(pd.to_datetime(games[\"game_date\"]))]\n"
   ]
  },
  {
   "cell_type": "code",
   "execution_count": null,
   "metadata": {},
   "outputs": [],
   "source": [
    "X2 = sm.add_constant(games[features])\n",
    "est = sm.Logit(games[\"tie\"], X2)\n",
    "est2 = est.fit()\n",
    "games[\"x_tie\"] = est2.predict(X2)\n",
    "\n",
    "print(est2.summary())\n"
   ]
  },
  {
   "cell_type": "code",
   "execution_count": null,
   "metadata": {},
   "outputs": [],
   "source": [
    "odds = pd.read_parquet(\"data/odds_data.parquet\")\n",
    "odds = odds.drop_duplicates(\"game_code\")"
   ]
  },
  {
   "cell_type": "code",
   "execution_count": null,
   "metadata": {},
   "outputs": [],
   "source": [
    "games=games.merge(odds[[\"game_code\", \"cur_spread\"]], on=\"game_code\")"
   ]
  },
  {
   "cell_type": "code",
   "execution_count": null,
   "metadata": {},
   "outputs": [],
   "source": [
    "games[\"line_abs_miss\"] = abs(games[\"line\"] - games[\"x_line\"])\n",
    "plt.scatter(abs(games[\"cur_spread\"]), abs(games[\"line\"]), alpha=.2)\n",
    "# np.where(games[\"x_line\"]>0, games[\"x_line\"], -games[\"x_line\"])"
   ]
  },
  {
   "cell_type": "code",
   "execution_count": null,
   "metadata": {},
   "outputs": [],
   "source": [
    "current_values = games_home_team.append(games_away_team).sort_values(\"game_date\", ascending=False).drop_duplicates([\"offense_team\"])\n",
    "current_values = current_values.merge(division_data, left_on=[\"season\", \"offense_team\"], right_on=[\"season\", \"team_id\"])"
   ]
  },
  {
   "cell_type": "code",
   "execution_count": null,
   "metadata": {},
   "outputs": [],
   "source": [
    "predictions = schedule.merge(current_values[['offense_team', 'total_yards_added_offense', 'total_yards_added_defense']], left_on=[\"home_team_id\"], right_on=[\"offense_team\"], suffixes=[\"\", \"_home\"])\n",
    "predictions = predictions.merge(current_values[['offense_team', 'total_yards_added_offense', 'total_yards_added_defense']], left_on=[\"away_team_id\"], right_on=[\"offense_team\"], suffixes=[\"_home\", \"_away\"])"
   ]
  },
  {
   "cell_type": "code",
   "execution_count": null,
   "metadata": {},
   "outputs": [],
   "source": [
    "game_data"
   ]
  },
  {
   "cell_type": "code",
   "execution_count": null,
   "metadata": {},
   "outputs": [],
   "source": [
    "X2 = sm.add_constant(games[features])\n",
    "est = sm.Logit(games[\"home_team_win\"], X2)\n",
    "est2 = est.fit()\n",
    "games[\"x_home_team_win\"] = est2.predict(X2)\n",
    "predictions[\"x_home_team_win\"] = est2.predict(sm.add_constant(predictions[features]))\n",
    "print(est2.summary())\n"
   ]
  },
  {
   "cell_type": "code",
   "execution_count": null,
   "metadata": {},
   "outputs": [],
   "source": [
    "X2 = sm.add_constant(games[features])\n",
    "est = sm.Logit(games[\"tie\"], X2)\n",
    "est2 = est.fit()\n",
    "games[\"x_tie_calculated\"] = est2.predict(X2)\n",
    "games[\"x_away_team_win\"] = 1 - games[\"x_tie_calculated\"] - games[\"x_home_team_win\"]\n",
    "predictions[\"x_tie_calculated\"] = est2.predict(sm.add_constant(predictions[features]))\n",
    "predictions[\"x_away_team_win\"] = 1 - predictions[\"x_tie_calculated\"] - predictions[\"x_home_team_win\"]\n",
    "\n",
    "print(est2.summary())\n"
   ]
  },
  {
   "cell_type": "code",
   "execution_count": null,
   "metadata": {},
   "outputs": [],
   "source": [
    "predictions[\"x_home_score\"] = ridge_model_home.predict(predictions[features])\n",
    "predictions[\"x_away_score\"] = ridge_model_away.predict(predictions[features])\n",
    "predictions[\"x_line\"] = predictions[\"x_away_score\"] - predictions[\"x_home_score\"]"
   ]
  },
  {
   "cell_type": "code",
   "execution_count": null,
   "metadata": {},
   "outputs": [],
   "source": [
    "import itertools\n",
    "import numpy as np\n",
    "score_dicts = {}\n",
    "outcome_dicts = {}\n",
    "import time\n",
    "init_time = time.time()\n",
    "\n",
    "for x in predictions[\"game_code\"]:\n",
    "    print(x)\n",
    "    def simulate_results(pred_mean, pred_std):\n",
    "        randomized_cycle = itertools.cycle(np.random.normal(size=250000))\n",
    "        random_sample = next(randomized_cycle)\n",
    "        score_diff = round(random_sample * pred_std + pred_mean)\n",
    "        return score_diff\n",
    "    score_diffs = []\n",
    "    final_result = []\n",
    "    for simulations in range(1):\n",
    "        pred = int(simulate_results(predictions[predictions[\"game_code\"] == x][\"x_line\"], 13.334230852348464))\n",
    "        score_diffs.append(pred)\n",
    "        final_result.append(np.where(pred<0, 'W', np.where(pred>0, 'L', 'T')))\n",
    "        \n",
    "    outcome_dicts[x] = final_result\n",
    "    score_dicts[x] = score_diffs\n",
    "    print(time.time() - init_time)\n",
    "\n"
   ]
  },
  {
   "cell_type": "code",
   "execution_count": null,
   "metadata": {},
   "outputs": [],
   "source": [
    "home_features_df = games[\n",
    "    [\n",
    "        \"home_team_id\",\n",
    "        \"home_team_abbrev\",\n",
    "        \"home_score\",\n",
    "        \"total_yards_added_offense_home\",\n",
    "        \"total_yards_added_defense_home\",\n",
    "        \"away_team_id\",\n",
    "        \"away_team_abbrev\",\n",
    "        \"away_score\",\n",
    "        \"total_yards_added_offense_away\",\n",
    "        \"total_yards_added_defense_away\",\n",
    "    ]\n",
    "].rename(\n",
    "    columns={\n",
    "        \"home_team_id\": \"team_id\",\n",
    "        \"home_team_abbrev\": \"team_abbrev\",\n",
    "        \"home_score\": \"team_score\",\n",
    "        \"total_yards_added_offense_home\": \"total_yards_added_offense_team\",\n",
    "        \"total_yards_added_defense_home\": \"total_yards_added_defense_team\",\n",
    "        \"away_team_id\": \"opponent_id\",\n",
    "        \"away_team_abbrev\": \"opponent_abbrev\",\n",
    "        \"away_score\": \"opponent_score\",\n",
    "        \"total_yards_added_offense_away\": \"total_yards_added_offense_opponent\",\n",
    "        \"total_yards_added_defense_away\": \"total_yards_added_defense_opponent\",\n",
    "    }\n",
    ")\n",
    "home_features_df[\"is_home_team\"] = 1\n",
    "away_features_df = games[\n",
    "    [\n",
    "        \"away_team_id\",\n",
    "        \"away_team_abbrev\",\n",
    "        \"away_score\",\n",
    "        \"total_yards_added_offense_away\",\n",
    "        \"total_yards_added_defense_away\",\n",
    "        \"home_team_id\",\n",
    "        \"home_team_abbrev\",\n",
    "        \"home_score\",\n",
    "        \"total_yards_added_offense_home\",\n",
    "        \"total_yards_added_defense_home\",\n",
    "    ]\n",
    "].rename(\n",
    "    columns={\n",
    "        \"away_team_id\": \"team_id\",\n",
    "        \"away_team_abbrev\": \"team_abbrev\",\n",
    "        \"away_score\": \"team_score\",\n",
    "        \"total_yards_added_offense_away\": \"total_yards_added_offense_team\",\n",
    "        \"total_yards_added_defense_away\": \"total_yards_added_defense_team\",\n",
    "        \"home_team_id\": \"opponent_id\",\n",
    "        \"home_team_abbrev\": \"opponent_abbrev\",\n",
    "        \"home_score\": \"opponent_score\",\n",
    "        \"total_yards_added_offense_home\": \"total_yards_added_offense_opponent\",\n",
    "        \"total_yards_added_defense_home\": \"total_yards_added_defense_opponent\",\n",
    "    }\n",
    ")\n",
    "away_features_df[\"is_home_team\"] = 0\n"
   ]
  },
  {
   "cell_type": "code",
   "execution_count": null,
   "metadata": {},
   "outputs": [],
   "source": [
    "features_df = pd.concat([home_features_df, away_features_df])"
   ]
  },
  {
   "cell_type": "code",
   "execution_count": null,
   "metadata": {},
   "outputs": [],
   "source": [
    "features_new = [\n",
    "    'total_yards_added_offense_team',\n",
    "    'total_yards_added_defense_team',\n",
    "    'total_yards_added_offense_opponent',\n",
    "    'total_yards_added_defense_opponent',\n",
    "    'is_home_team'\n",
    " ]"
   ]
  },
  {
   "cell_type": "code",
   "execution_count": null,
   "metadata": {},
   "outputs": [],
   "source": [
    "range(int(np.max(games[\"home_score\"]+1)))"
   ]
  },
  {
   "cell_type": "code",
   "execution_count": null,
   "metadata": {},
   "outputs": [],
   "source": [
    "models = {}\n",
    "for team_score in range(int(np.max(games[\"home_score\"]+1))):\n",
    "    for opponent_score in range(int(np.max(games[\"away_score\"]+1))):\n",
    "        try:\n",
    "            models[str(team_score) + str(opponent_score)] = sklearn.linear_model.LogisticRegression()\n",
    "            models[str(team_score) + str(opponent_score)].fit(games[features], np.where((games[\"home_score\"]==team_score)&(games[\"away_score\"]==opponent_score), 1, 0))\n",
    "            print(str(team_score) + \" - \" + str(opponent_score), *models[str(team_score) + str(opponent_score)].intercept_, *models[str(team_score) + str(opponent_score)].coef_)\n",
    "        except:\n",
    "            print(str(team_score) + \" - \" + str(opponent_score))\n"
   ]
  },
  {
   "cell_type": "code",
   "execution_count": null,
   "metadata": {},
   "outputs": [],
   "source": [
    "game_prediction_matrix = predictions[[\"game_code\"]+features]\n",
    "game_outcome_matrix = predictions[[\"game_code\"]+features]\n",
    "list_of_scores = []\n",
    "list_of_home_wins = []\n",
    "list_of_ties = []\n",
    "list_of_away_wins = []\n",
    "for team_score in range(int(np.max(games[\"home_score\"]+1))):\n",
    "    for opponent_score in range(int(np.max(games[\"away_score\"]+1))):\n",
    "        try:\n",
    "            game_prediction_matrix[\"score_\" + str(team_score) + \"_\" + str(opponent_score)] = pd.DataFrame(models[str(team_score) + str(opponent_score)].predict_proba(predictions[features]))[1]\n",
    "            print(\"score_\" + str(team_score) + \"_\" + str(opponent_score))\n",
    "            list_of_scores.append(\"score_\" + str(team_score) + \"_\" + str(opponent_score))\n",
    "            if team_score > opponent_score:\n",
    "                list_of_home_wins.append(\"score_\" + str(team_score) + \"_\" + str(opponent_score))\n",
    "            elif team_score == opponent_score:\n",
    "                list_of_ties.append(\"score_\" + str(team_score) + \"_\" + str(opponent_score))\n",
    "            else:\n",
    "                list_of_away_wins.append(\"score_\" + str(team_score) + \"_\" + str(opponent_score))\n",
    "\n",
    "        except:\n",
    "            game_prediction_matrix[\"score_\" + str(team_score) + \"_\" + str(opponent_score)] = 0\n",
    "            list_of_scores.append(\"score_\" + str(team_score) + \"_\" + str(opponent_score))\n",
    "\n"
   ]
  },
  {
   "cell_type": "code",
   "execution_count": null,
   "metadata": {},
   "outputs": [],
   "source": [
    "game_code = 2337531\n",
    "prob_adjustment = np.sum(game_prediction_matrix[game_prediction_matrix[\"game_code\"]==game_code][list_of_scores].values[0])\n",
    "[predictions[predictions[\"game_code\"] == game_code],\n",
    "    (np.sum(game_prediction_matrix[game_prediction_matrix[\"game_code\"]==game_code][list_of_home_wins].values[0]) / prob_adjustment),\n",
    "    (np.sum(game_prediction_matrix[game_prediction_matrix[\"game_code\"]==game_code][list_of_ties].values[0]) / prob_adjustment),\n",
    "    (np.sum(game_prediction_matrix[game_prediction_matrix[\"game_code\"]==game_code][list_of_away_wins].values[0]) / prob_adjustment)]\n"
   ]
  },
  {
   "cell_type": "code",
   "execution_count": null,
   "metadata": {},
   "outputs": [],
   "source": []
  },
  {
   "cell_type": "code",
   "execution_count": null,
   "metadata": {},
   "outputs": [],
   "source": [
    "game_exact_score_predictions = []\n",
    "for game_code in predictions[\"game_code\"]:\n",
    "    game_dict = {\n",
    "        \"game_code\": game_code,\n",
    "        \"home_team_id\": predictions[predictions[\"game_code\"] == game_code][\n",
    "            \"home_team_id\"\n",
    "        ].item(),\n",
    "        \"away_team_id\": predictions[predictions[\"game_code\"] == game_code][\n",
    "            \"away_team_id\"\n",
    "        ].item(),\n",
    "    }\n",
    "    game_prediction = game_prediction_matrix[\n",
    "        game_prediction_matrix[\"game_code\"] == game_code\n",
    "    ][list_of_scores].values[0]\n",
    "    prob_adjustment = np.sum(game_prediction_matrix[game_prediction_matrix[\"game_code\"]==game_code][list_of_scores].values[0])\n",
    "    game_dict[\"pred_exact_score\"] = (game_prediction / np.sum(game_prediction)).tolist()\n",
    "    game_dict[\"pred_outcome\"] = [\n",
    "        np.sum(\n",
    "            game_prediction_matrix[game_prediction_matrix[\"game_code\"] == game_code][\n",
    "                list_of_home_wins\n",
    "            ].values[0]\n",
    "        )\n",
    "        / prob_adjustment,\n",
    "        np.sum(\n",
    "            game_prediction_matrix[game_prediction_matrix[\"game_code\"] == game_code][\n",
    "                list_of_ties\n",
    "            ].values[0]\n",
    "        )\n",
    "        / prob_adjustment,\n",
    "        np.sum(\n",
    "            game_prediction_matrix[game_prediction_matrix[\"game_code\"] == game_code][\n",
    "                list_of_away_wins\n",
    "            ].values[0]\n",
    "        )\n",
    "        / prob_adjustment,\n",
    "    ]\n",
    "\n",
    "    game_dict[\"current_score\"] = [0, 0]\n",
    "    game_exact_score_predictions.append(game_dict)\n"
   ]
  },
  {
   "cell_type": "code",
   "execution_count": null,
   "metadata": {},
   "outputs": [],
   "source": [
    "game_prediction_matrix[game_prediction_matrix[\"game_code\"]==2337634].to_clipboard()"
   ]
  },
  {
   "cell_type": "code",
   "execution_count": null,
   "metadata": {},
   "outputs": [],
   "source": [
    "game_exact_score_predictions"
   ]
  },
  {
   "cell_type": "code",
   "execution_count": null,
   "metadata": {},
   "outputs": [],
   "source": []
  },
  {
   "cell_type": "code",
   "execution_count": null,
   "metadata": {},
   "outputs": [],
   "source": [
    "results_df = games.loc[games.season==2021, [\"game_code\", \"home_team_id\", \"away_team_id\", \"home_score\", \"away_score\"]].to_dict(orient='records')\n"
   ]
  },
  {
   "cell_type": "code",
   "execution_count": null,
   "metadata": {},
   "outputs": [],
   "source": [
    "predictions"
   ]
  },
  {
   "cell_type": "code",
   "execution_count": null,
   "metadata": {},
   "outputs": [],
   "source": [
    "team_names = games.loc[games.season==2021, [\"home_team_id\", \"home_team_abbrev\"]]\n",
    "team_names = team_names.rename(columns={'home_team_id': 'id', 'home_team_abbrev': 'name'}).drop_duplicates().to_dict(orient='records')"
   ]
  },
  {
   "cell_type": "code",
   "execution_count": null,
   "metadata": {},
   "outputs": [],
   "source": [
    "# for team_score in range(int(np.max(features_df[\"team_score\"]))):\n",
    "#     for opponent_score in range(int(np.max(features_df[\"opponent_score\"]))):\n",
    "#         try:\n",
    "#             print(str(team_score) + \"_\" + str(opponent_score), *models[str(team_score) + str(opponent_score)].intercept_, *models[str(team_score) + str(opponent_score)].coef_)\n",
    "#         except:\n",
    "#             print(str(team_score) + \"_\" + str(opponent_score))\n"
   ]
  },
  {
   "cell_type": "code",
   "execution_count": null,
   "metadata": {},
   "outputs": [],
   "source": [
    "sim_data = {\n",
    "    \"teams\": team_names,\n",
    "    \"results\": results_df,\n",
    "    \"predictions\": game_exact_score_predictions,\n",
    "    \"prediction_params\": {\"max_home_score\": 57, \"max_away_score\": 59}\n",
    "\n",
    "}\n",
    "import json\n",
    "data_dir = \"data/\"\n",
    "with open(os.path.join(data_dir, 'simulation_inputs.json'), 'w') as f:\n",
    "    json.dump(sim_data, f)"
   ]
  },
  {
   "cell_type": "code",
   "execution_count": null,
   "metadata": {},
   "outputs": [],
   "source": [
    "np.max(games[\"away_score\"])"
   ]
  },
  {
   "cell_type": "code",
   "execution_count": null,
   "metadata": {},
   "outputs": [],
   "source": [
    "X2 = sm.add_constant(features_df[features_new])\n",
    "est = sm.OLS(features_df[\"team_score\"], X2)\n",
    "est2 = est.fit()\n",
    "print(est2.summary())\n"
   ]
  },
  {
   "cell_type": "code",
   "execution_count": null,
   "metadata": {},
   "outputs": [],
   "source": [
    "X2 = sm.add_constant(features_df[features_new])\n",
    "est = sm.OLS(features_df[\"opponent_score\"], X2)\n",
    "est2 = est.fit()\n",
    "print(est2.summary())\n"
   ]
  },
  {
   "cell_type": "code",
   "execution_count": null,
   "metadata": {},
   "outputs": [],
   "source": [
    "np.max(features_df[\"opponent_score\"])"
   ]
  },
  {
   "cell_type": "code",
   "execution_count": null,
   "metadata": {},
   "outputs": [],
   "source": [
    "[\"home_team_id\", \"away_team_id\", \"home_team_abbrev\", \"away_team_abbrev\", \"home_score\", \"away_score\"]+features"
   ]
  },
  {
   "cell_type": "code",
   "execution_count": null,
   "metadata": {},
   "outputs": [],
   "source": []
  },
  {
   "cell_type": "code",
   "execution_count": null,
   "metadata": {},
   "outputs": [],
   "source": []
  }
 ],
 "metadata": {
  "interpreter": {
   "hash": "f6c5c0c69c1e48657661a596cadc74240e1a54a645d9f5ac259274dfdfc1bdd8"
  },
  "kernelspec": {
   "display_name": "Python 3.9.5 64-bit ('venv': venv)",
   "name": "python3"
  },
  "language_info": {
   "codemirror_mode": {
    "name": "ipython",
    "version": 3
   },
   "file_extension": ".py",
   "mimetype": "text/x-python",
   "name": "python",
   "nbconvert_exporter": "python",
   "pygments_lexer": "ipython3",
   "version": "3.9.5"
  },
  "orig_nbformat": 4
 },
 "nbformat": 4,
 "nbformat_minor": 2
}
